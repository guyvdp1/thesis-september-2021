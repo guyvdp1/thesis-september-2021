{
  "cells": [
    {
      "cell_type": "code",
      "execution_count": null,
      "metadata": {
        "id": "ejdtQZfT74aN"
      },
      "outputs": [],
      "source": [
        "### This documnent countains the code required to fullfill my master thesis\n",
        "### G. van der Plas"
      ]
    },
    {
      "cell_type": "code",
      "execution_count": 2,
      "metadata": {
        "id": "arjLFmjFpcSD"
      },
      "outputs": [],
      "source": [
        "#import packages\n",
        "import pandas as pd\n",
        "import numpy as np\n",
        "import os\n",
        "from google.colab import drive\n",
        "\n",
        "from shutil import copyfile\n",
        "import shutil\n",
        "import random\n",
        "\n",
        "from tqdm import tqdm\n",
        "import glob \n",
        "\n",
        "\n",
        "import matplotlib.pyplot as plt\n",
        "from sklearn.metrics import mean_absolute_error\n",
        "import math\n",
        "import csv\n",
        "\n",
        "import tensorflow as tf\n",
        "import tensorflow_datasets as tfds\n",
        "from tensorflow.keras.models import Sequential\n",
        "from tensorflow.keras.preprocessing.image import ImageDataGenerator\n",
        "import tensorflow as tf\n",
        "from tensorflow.keras.optimizers import Adam\n",
        "from tensorflow.keras import layers as L\n",
        "from tensorflow.keras.applications.resnet50 import ResNet50\n",
        "from tensorflow.keras.applications.inception_v3 import InceptionV3\n",
        "from tensorflow.keras.callbacks import ReduceLROnPlateau,ModelCheckpoint,EarlyStopping\n",
        "\n",
        "\n",
        "#import PIL\n",
        "#import PIL.Image\n",
        "#import pathlib\n",
        "#from pathlib import Path\n",
        "#import argparse"
      ]
    },
    {
      "cell_type": "code",
      "execution_count": null,
      "metadata": {
        "colab": {
          "base_uri": "https://localhost:8080/"
        },
        "id": "uvxHMDP_6i0O",
        "outputId": "8b998435-3ffc-4446-8d74-0a8e2bc955b5"
      },
      "outputs": [
        {
          "output_type": "stream",
          "name": "stdout",
          "text": [
            "/device:GPU:0\n",
            "Sun Jan  9 16:29:59 2022       \n",
            "+-----------------------------------------------------------------------------+\n",
            "| NVIDIA-SMI 495.44       Driver Version: 460.32.03    CUDA Version: 11.2     |\n",
            "|-------------------------------+----------------------+----------------------+\n",
            "| GPU  Name        Persistence-M| Bus-Id        Disp.A | Volatile Uncorr. ECC |\n",
            "| Fan  Temp  Perf  Pwr:Usage/Cap|         Memory-Usage | GPU-Util  Compute M. |\n",
            "|                               |                      |               MIG M. |\n",
            "|===============================+======================+======================|\n",
            "|   0  Tesla P100-PCIE...  Off  | 00000000:00:04.0 Off |                    0 |\n",
            "| N/A   42C    P0    33W / 250W |    375MiB / 16280MiB |      1%      Default |\n",
            "|                               |                      |                  N/A |\n",
            "+-------------------------------+----------------------+----------------------+\n",
            "                                                                               \n",
            "+-----------------------------------------------------------------------------+\n",
            "| Processes:                                                                  |\n",
            "|  GPU   GI   CI        PID   Type   Process name                  GPU Memory |\n",
            "|        ID   ID                                                   Usage      |\n",
            "|=============================================================================|\n",
            "|  No running processes found                                                 |\n",
            "+-----------------------------------------------------------------------------+\n"
          ]
        }
      ],
      "source": [
        "print(tf.test.gpu_device_name())\n",
        "!nvidia-smi\n",
        "#!cat /proc/cpuinfo\n",
        "# !cat /proc/meminfo"
      ]
    },
    {
      "cell_type": "markdown",
      "metadata": {
        "id": "XaQP86GI1v1S"
      },
      "source": [
        "# **UNZIP data locally in COLAB**"
      ]
    },
    {
      "cell_type": "code",
      "execution_count": null,
      "metadata": {
        "id": "Y8Hv-AnaR4aO"
      },
      "outputs": [],
      "source": [
        "!rm -rf  /content/__MACOSX\n",
        "!rm -rf  /content/femaleset\n",
        "!rm -rf  /content/maleset"
      ]
    },
    {
      "cell_type": "code",
      "execution_count": null,
      "metadata": {
        "id": "zGGvYrHff9ms"
      },
      "outputs": [],
      "source": [
        "!rm -rf  /content/malesetsplit\n",
        "!rm -rf  /content/femalesetsplit\n",
        "!rm -rf  /content/malesetsplit\n",
        "!rm -rf  /content/femalesetsplit\n",
        "!rm -rf  /content/all_labels_male_corrected.csv\n",
        "!rm -rf  /content/all_labels_male_test.csv\n",
        "!rm -rf  /content/all_labels_male_val.csv\n",
        "!rm -rf  /content/all_labels_male_val.csv"
      ]
    },
    {
      "cell_type": "code",
      "execution_count": 3,
      "metadata": {
        "colab": {
          "base_uri": "https://localhost:8080/"
        },
        "id": "HRDItLzWDQ8U",
        "outputId": "bf0af8e8-1e79-48c1-d557-b3e019c93506"
      },
      "outputs": [
        {
          "output_type": "stream",
          "name": "stdout",
          "text": [
            "Mounted at /content/drive/\n"
          ]
        }
      ],
      "source": [
        "#mount drive\n",
        "drive.mount('/content/drive/')"
      ]
    },
    {
      "cell_type": "code",
      "execution_count": null,
      "metadata": {
        "id": "D0Iz0K8XjoE7"
      },
      "outputs": [],
      "source": [
        "#unzip\n",
        "!unzip \"/content/drive/MyDrive/Thesis_sep_2021/femaleset.zip\" > /dev/null\n",
        "!unzip \"/content/drive/MyDrive/Thesis_sep_2021/maleset.zip\"  > /dev/null"
      ]
    },
    {
      "cell_type": "code",
      "execution_count": null,
      "metadata": {
        "colab": {
          "base_uri": "https://localhost:8080/",
          "height": 241
        },
        "id": "z1waw0V3ujPh",
        "outputId": "2dd36152-1695-422d-d69e-7d8b1a8c8776"
      },
      "outputs": [
        {
          "output_type": "execute_result",
          "data": {
            "image/png": "[encoded data removed]",
            "text/plain": [
              "<PIL.PngImagePlugin.PngImageFile image mode=RGB size=224x224 at 0x7FDA6732BA50>"
            ]
          },
          "metadata": {},
          "execution_count": 46
        }
      ],
      "source": [
        "#check if unzip is succesfull\n",
        "imgfemale = tf.keras.preprocessing.image.load_img('/content/femaleset/SPRING0014/SPRING0014-D7-V0-H160.png')\n",
        "imgfemale"
      ]
    },
    {
      "cell_type": "code",
      "execution_count": null,
      "metadata": {
        "colab": {
          "base_uri": "https://localhost:8080/",
          "height": 241
        },
        "id": "fDbw-nZ_qs-9",
        "outputId": "1f8bfb18-b268-475e-9a11-15eded0abaed"
      },
      "outputs": [
        {
          "output_type": "execute_result",
          "data": {
            "image/png": "[encoded data removed]",
            "text/plain": [
              "<PIL.PngImagePlugin.PngImageFile image mode=RGB size=224x224 at 0x7FDA5624C850>"
            ]
          },
          "metadata": {},
          "execution_count": 47
        }
      ],
      "source": [
        "imgmale = tf.keras.preprocessing.image.load_img('/content/maleset/SPRING0007/SPRING0007-D7-V40-H320.png')\n",
        "imgmale"
      ]
    },
    {
      "cell_type": "markdown",
      "metadata": {
        "id": "GHIiuoF4hX5K"
      },
      "source": [
        "## **Separate into train and test**"
      ]
    },
    {
      "cell_type": "code",
      "execution_count": null,
      "metadata": {
        "id": "8cXAV-vphc4F"
      },
      "outputs": [],
      "source": [
        "#list all model names\n",
        "maleimg = os.listdir(\"/content/maleset\")\n",
        "femaleimg = os.listdir(\"/content/femaleset\")"
      ]
    },
    {
      "cell_type": "code",
      "execution_count": null,
      "metadata": {
        "colab": {
          "base_uri": "https://localhost:8080/"
        },
        "id": "l06RnuZd9PRo",
        "outputId": "296f31f5-45d5-4cc8-a021-a444316c8f50"
      },
      "outputs": [
        {
          "output_type": "stream",
          "name": "stdout",
          "text": [
            "model names and lenght of male models:\n",
            "['SPRING0282', 'SPRING1933', 'SPRING1065', 'SPRING2515', 'SPRING2645', 'SPRING1326', 'SPRING2676', 'SPRING0505', 'SPRING0660', 'SPRING1404', 'SPRING2052', 'SPRING2718', 'SPRING1900', 'SPRING4633', 'SPRING1966', 'SPRING0167', 'SPRING4650', 'SPRING1583', 'SPRING0205', 'SPRING4182', 'SPRING0237', 'SPRING0164', 'SPRING1698', 'SPRING0128', 'SPRING2432', 'SPRING1444', 'SPRING4233', 'SPRING2406', 'SPRING1756', 'SPRING0029', 'SPRING0144', 'SPRING1597', 'SPRING0002', 'SPRING1488', 'SPRING0245', 'SPRING2467', 'SPRING0559', 'SPRING4381', 'SPRING0557', 'SPRING0618', 'SPRING4579', 'SPRING2778', 'SPRING2615', 'SPRING4138', 'SPRING1588', 'SPRING4768', 'SPRING4724', 'SPRING2936', 'SPRING4521', 'SPRING4611', 'SPRING4330', 'SPRING1075', 'SPRING4132', 'SPRING4385', 'SPRING1395', 'SPRING0157', 'SPRING4065', 'SPRING0555', 'SPRING2474', 'SPRING1536', 'SPRING4068', 'SPRING1745', 'SPRING2648', 'SPRING1484', 'SPRING2831', 'SPRING1656', 'SPRING0435', 'SPRING4338', 'SPRING4697', 'SPRING1181', 'SPRING1534', 'SPRING4067', 'SPRING0050', 'SPRING2895', 'SPRING4217', 'SPRING4499', 'SPRING2998', 'SPRING4181', 'SPRING0420', 'SPRING2653', 'SPRING0082', 'SPRING2623', 'SPRING1257', 'SPRING0497', 'SPRING4083', 'SPRING4293', 'SPRING2775', 'SPRING1228', 'SPRING2688', 'SPRING1584', 'SPRING2421', 'SPRING4725', 'SPRING2050', 'SPRING1665', 'SPRING1041', 'SPRING1159', 'SPRING4134', 'SPRING4220', 'SPRING0445', 'SPRING4632', 'SPRING0488', 'SPRING0535', 'SPRING0132', 'SPRING2879', 'SPRING4785', 'SPRING1332', 'SPRING1040', 'SPRING4155', 'SPRING2322', 'SPRING1255', 'SPRING0443', 'SPRING0552', 'SPRING2911', 'SPRING2651', 'SPRING0422', 'SPRING4721', 'SPRING1193', 'SPRING1143', 'SPRING2562', 'SPRING0610', 'SPRING4228', 'SPRING1085', 'SPRING4214', 'SPRING0568', 'SPRING4775', 'SPRING2256', 'SPRING1590', 'SPRING0500', 'SPRING1808', 'SPRING2656', 'SPRING1489', 'SPRING4026', 'SPRING2583', 'SPRING2805', 'SPRING4652', 'SPRING0139', 'SPRING4722', 'SPRING1759', 'SPRING0126', 'SPRING1479', 'SPRING1190', 'SPRING0169', 'SPRING4412', 'SPRING0177', 'SPRING1581', 'SPRING0201', 'SPRING4398', 'SPRING4050', 'SPRING0666', 'SPRING4481', 'SPRING4529', 'SPRING0146', 'SPRING0063', 'SPRING1067', 'SPRING2053', 'SPRING0154', 'SPRING4589', 'SPRING4688', 'SPRING0062', 'SPRING1384', 'SPRING4465', 'SPRING0629', 'SPRING2494', 'SPRING0426', 'SPRING2343', 'SPRING1447', 'SPRING4585', 'SPRING1840', 'SPRING2634', 'SPRING2761', 'SPRING2640', 'SPRING4337', 'SPRING4621', 'SPRING4236', 'SPRING1922', 'SPRING2821', 'SPRING0501', 'SPRING2743', 'SPRING4409', 'SPRING1176', 'SPRING4676', 'SPRING2151', 'SPRING0601', 'SPRING4094', 'SPRING4346', 'SPRING0428', 'SPRING4562', 'SPRING1611', 'SPRING1650', 'SPRING0429', 'SPRING4574', 'SPRING4473', 'SPRING1687', 'SPRING2780', 'SPRING1848', 'SPRING0129', 'SPRING1546', 'SPRING2974', 'SPRING4736', 'SPRING2530', 'SPRING1216', 'SPRING0100', 'SPRING1825', 'SPRING1903', 'SPRING1902', 'SPRING1153', 'SPRING0188', 'SPRING1325', 'SPRING4210', 'SPRING2631', 'SPRING4154', 'SPRING1135', 'SPRING1328', 'SPRING0444', 'SPRING4296', 'SPRING4570', 'SPRING1122', 'SPRING0641', 'SPRING1232', 'SPRING0431', 'SPRING2696', 'SPRING2893', 'SPRING1351', 'SPRING1282', 'SPRING0523', 'SPRING1701', 'SPRING4004', 'SPRING4558', 'SPRING1941', 'SPRING0611', 'SPRING1526', 'SPRING2674', 'SPRING0441', 'SPRING1354', 'SPRING0229', 'SPRING1398', 'SPRING1551', 'SPRING2841', 'SPRING2010', 'SPRING2470', 'SPRING3022', 'SPRING1045', 'SPRING4591', 'SPRING2770', 'SPRING1508', 'SPRING4021', 'SPRING4290', 'SPRING4516', 'SPRING2867', 'SPRING4546', 'SPRING1766', 'SPRING0658', 'SPRING1643', 'SPRING2092', 'SPRING1571', 'SPRING1874', 'SPRING2159', 'SPRING4297', 'SPRING4420', 'SPRING2612', 'SPRING1499', 'SPRING2083', 'SPRING4431', 'SPRING1386', 'SPRING1676', 'SPRING2602', 'SPRING1275', 'SPRING0198', 'SPRING4714', 'SPRING2769', 'SPRING1054', 'SPRING1186', 'SPRING4597', 'SPRING2072', 'SPRING1907', 'SPRING4081', 'SPRING2679', 'SPRING2161', 'SPRING1521', 'SPRING0218', 'SPRING4342', 'SPRING4077', 'SPRING2137', 'SPRING1985', 'SPRING0179', 'SPRING4316', 'SPRING4396', 'SPRING0267', 'SPRING1528', 'SPRING1189', 'SPRING4331', 'SPRING0571', 'SPRING0524', 'SPRING0204', 'SPRING1425', 'SPRING1471', 'SPRING4560', 'SPRING4478', 'SPRING1052', 'SPRING2864', 'SPRING1188', 'SPRING2862', 'SPRING1104', 'SPRING0007', 'SPRING4121', 'SPRING4603', 'SPRING1690', 'SPRING4229', 'SPRING0567', 'SPRING4186', 'SPRING1211', 'SPRING2727', 'SPRING2385', 'SPRING1064', 'SPRING4169', 'SPRING0013', 'SPRING4780', 'SPRING1367', 'SPRING2925', 'SPRING0588', 'SPRING4329', 'SPRING1537', 'SPRING0534', 'SPRING4416', 'SPRING1288', 'SPRING0247', 'SPRING2685', 'SPRING2973', 'SPRING4716', 'SPRING2749', 'SPRING1196', 'SPRING2666', 'SPRING2249', 'SPRING1645', 'SPRING1582', 'SPRING1586', 'SPRING4405', 'SPRING1601', 'SPRING2650', 'SPRING2503', 'SPRING4312', 'SPRING4624', 'SPRING0390', 'SPRING4319', 'SPRING4572', 'SPRING2604', 'SPRING4800', 'SPRING4197', 'SPRING1465', 'SPRING0603', 'SPRING4402', 'SPRING2927', 'SPRING0008', 'SPRING4172', 'SPRING0451', 'SPRING1055', 'SPRING0608', 'SPRING1092', 'SPRING1236', 'SPRING4728', 'SPRING1146', 'SPRING2414', 'SPRING2435', 'SPRING2908', 'SPRING0071', 'SPRING1720', 'SPRING4700', 'SPRING0215', 'SPRING4602', 'SPRING0403', 'SPRING1187', 'SPRING0639', 'SPRING0405', 'SPRING0487', 'SPRING1245', 'SPRING4207', 'SPRING4321', 'SPRING0209', 'SPRING1495', 'SPRING4629', 'SPRING4349', 'SPRING0512', 'SPRING1145', 'SPRING4320', 'SPRING2351', 'SPRING1904', 'SPRING4173', 'SPRING4052', 'SPRING4741', 'SPRING0261', 'SPRING4353', 'SPRING2889', 'SPRING4256', 'SPRING0492', 'SPRING0587', 'SPRING2589', 'SPRING1370', 'SPRING2593', 'SPRING2746', 'SPRING2525', 'SPRING2890', 'SPRING4152', 'SPRING0227', 'SPRING4735', 'SPRING4513', 'SPRING2906', 'SPRING2675', 'SPRING1481', 'SPRING1292', 'SPRING1694', 'SPRING0652', 'SPRING1461', 'SPRING1610', 'SPRING4547', 'SPRING1248', 'SPRING4156', 'SPRING1515', 'SPRING2717', 'SPRING4661', 'SPRING4234', 'SPRING4658', 'SPRING0276', 'SPRING1860', 'SPRING4527', 'SPRING1527', 'SPRING4505', 'SPRING2285', 'SPRING0394', 'SPRING4355', 'SPRING2587', 'SPRING0485', 'SPRING1570', 'SPRING0137', 'SPRING2790', 'SPRING1267', 'SPRING0028', 'SPRING0278', 'SPRING0456', 'SPRING1740', 'SPRING2601', 'SPRING1505', 'SPRING1702', 'SPRING1051', 'SPRING4039', 'SPRING4299', 'SPRING1970', 'SPRING0297', 'SPRING2723', 'SPRING1219', 'SPRING0432', 'SPRING4689', 'SPRING4046', 'SPRING1539', 'SPRING0080', 'SPRING0520', 'SPRING4279', 'SPRING4082', 'SPRING4446', 'SPRING1339', 'SPRING4247', 'SPRING1483', 'SPRING1457', 'SPRING1834', 'SPRING1268', 'SPRING0620', 'SPRING1244', 'SPRING1856', 'SPRING4318', 'SPRING0527', 'SPRING2903', 'SPRING1553', 'SPRING2296', 'SPRING4538', 'SPRING4401', 'SPRING0579', 'SPRING2987', 'SPRING2729', 'SPRING4413', 'SPRING2942', 'SPRING4755', 'SPRING4631', 'SPRING1491', 'SPRING4127', 'SPRING0664', 'SPRING4168', 'SPRING1814', 'SPRING1352', 'SPRING2964', 'SPRING3002', 'SPRING2707', 'SPRING4379', 'SPRING0285', 'SPRING2014', 'SPRING1585', 'SPRING0478', 'SPRING2044', 'SPRING2485', 'SPRING1852', 'SPRING0493', 'SPRING0549', 'SPRING0159', 'SPRING0098', 'SPRING4517', 'SPRING2772', 'SPRING0643', 'SPRING1577', 'SPRING4384', 'SPRING1823', 'SPRING2096', 'SPRING4123', 'SPRING4069', 'SPRING1792', 'SPRING4231', 'SPRING4045', 'SPRING1445', 'SPRING3014', 'SPRING0436', 'SPRING1126', 'SPRING4280', 'SPRING1788', 'SPRING4209', 'SPRING1357', 'SPRING4389', 'SPRING4368', 'SPRING0419', 'SPRING4282', 'SPRING4594', 'SPRING4549', 'SPRING1653', 'SPRING4133', 'SPRING1463', 'SPRING0273', 'SPRING0532', 'SPRING4001', 'SPRING0648', 'SPRING1816', 'SPRING1552', 'SPRING0440', 'SPRING1599', 'SPRING0637', 'SPRING2181', 'SPRING1595', 'SPRING1120', 'SPRING1513', 'SPRING4206', 'SPRING2582', 'SPRING4216', 'SPRING4425', 'SPRING0578', 'SPRING4063', 'SPRING2917', 'SPRING4366', 'SPRING2532', 'SPRING1278', 'SPRING0388', 'SPRING1113', 'SPRING2175', 'SPRING2279', 'SPRING1223', 'SPRING1804', 'SPRING0449', 'SPRING2035', 'SPRING4223', 'SPRING1408', 'SPRING0421', 'SPRING1330', 'SPRING2638', 'SPRING2131', 'SPRING1446', 'SPRING0515', 'SPRING4380', 'SPRING4322', 'SPRING1199', 'SPRING0669', 'SPRING1503', 'SPRING2266', 'SPRING1699', 'SPRING0457', 'SPRING4542', 'SPRING2001', 'SPRING1780', 'SPRING0548', 'SPRING1839', 'SPRING4165', 'SPRING4074', 'SPRING1080', 'SPRING4333', 'SPRING4640', 'SPRING1833', 'SPRING0539', 'SPRING0410', 'SPRING2753', 'SPRING0425', 'SPRING2955', 'SPRING1684', 'SPRING4073', 'SPRING4411', 'SPRING4161', 'SPRING0373', 'SPRING4734', 'SPRING4350', 'SPRING4415', 'SPRING4434', 'SPRING1572', 'SPRING2257', 'SPRING0266', 'SPRING0306', 'SPRING4344', 'SPRING0550', 'SPRING1927', 'SPRING2887', 'SPRING1509', 'SPRING1204', 'SPRING2401', 'SPRING2591', 'SPRING4644', 'SPRING2747', 'SPRING0537', 'SPRING2522', 'SPRING4164', 'SPRING2610', 'SPRING4324', 'SPRING4520', 'SPRING2299', 'SPRING1974', 'SPRING2055', 'SPRING0411', 'SPRING1266', 'SPRING2607', 'SPRING2177', 'SPRING4461', 'SPRING4738', 'SPRING1510', 'SPRING0142', 'SPRING0027', 'SPRING1678', 'SPRING0047', 'SPRING0494', 'SPRING1501', 'SPRING0085', 'SPRING0016', 'SPRING2393', 'SPRING4035', 'SPRING4328', 'SPRING0415', 'SPRING0232', 'SPRING2907', 'SPRING0151', 'SPRING4593', 'SPRING1929', 'SPRING1717', 'SPRING2478', 'SPRING2644', 'SPRING4126', 'SPRING1574', 'SPRING0481', 'SPRING0238', 'SPRING2324', 'SPRING1437', 'SPRING4690', 'SPRING2349', 'SPRING4623', 'SPRING2661', 'SPRING0190', 'SPRING4114', 'SPRING4115', 'SPRING2823', 'SPRING1635', 'SPRING4545', 'SPRING0303', 'SPRING1044', 'SPRING1988', 'SPRING0395', 'SPRING4596', 'SPRING1529', 'SPRING1785', 'SPRING1681', 'SPRING2538', 'SPRING1478', 'SPRING1243', 'SPRING1893', 'SPRING2148', 'SPRING0538', 'SPRING4095', 'SPRING0001', 'SPRING2458', 'SPRING2916', 'SPRING2628', 'SPRING0165', 'SPRING0197', 'SPRING2143', 'SPRING4367', 'SPRING0597', 'SPRING2855', 'SPRING2678', 'SPRING4170', 'SPRING2311', 'SPRING1438', 'SPRING4795', 'SPRING2428', 'SPRING1502', 'SPRING4600', 'SPRING0561', 'SPRING1494', 'SPRING0455', 'SPRING2842', 'SPRING1654', 'SPRING1333', 'SPRING1252', 'SPRING0186', 'SPRING1258', 'SPRING4036', 'SPRING1259', 'SPRING1364', 'SPRING3020', 'SPRING0474', 'SPRING2993', 'SPRING1097', 'SPRING4151', 'SPRING1247', 'SPRING0606', 'SPRING1873', 'SPRING1048', 'SPRING4667', 'SPRING4427', 'SPRING2506', 'SPRING2712', 'SPRING0300', 'SPRING2271', 'SPRING0255', 'SPRING2968', 'SPRING0103', 'SPRING4107', 'SPRING0526', 'SPRING1980', 'SPRING4637', 'SPRING4653', 'SPRING1518', 'SPRING2706', 'SPRING0135', 'SPRING1385', 'SPRING2783', 'SPRING1642', 'SPRING1103', 'SPRING0149', 'SPRING1114', 'SPRING1393', 'SPRING4145', 'SPRING1264', 'SPRING1982', 'SPRING4403', 'SPRING4573', 'SPRING1847', 'SPRING4584', 'SPRING1842', 'SPRING1203', 'SPRING0506', 'SPRING1343', 'SPRING4264', 'SPRING1344', 'SPRING4474', 'SPRING1514', 'SPRING1099', 'SPRING4291', 'SPRING1937', 'SPRING1031', 'SPRING0009', 'SPRING1411', 'SPRING2777', 'SPRING0122', 'SPRING4053', 'SPRING2948', 'SPRING4288', 'SPRING1880', 'SPRING4363', 'SPRING1519', 'SPRING3000', 'SPRING0117', 'SPRING4530', 'SPRING1317', 'SPRING4162', 'SPRING1230', 'SPRING2473', 'SPRING4551', 'SPRING1596', 'SPRING1790', 'SPRING4336', 'SPRING4294', 'SPRING1119', 'SPRING1498', 'SPRING1598', 'SPRING2489', 'SPRING1531', 'SPRING0250', 'SPRING1377', 'SPRING0659', 'SPRING4362', 'SPRING4144', 'SPRING1504', 'SPRING0280', 'SPRING4054', 'SPRING2969', 'SPRING4561', 'SPRING2373', 'SPRING4729', 'SPRING1872', 'SPRING4266', 'SPRING0566', 'SPRING2614', 'SPRING1991', 'SPRING0542', 'SPRING4110', 'SPRING2935', 'SPRING1668', 'SPRING1798', 'SPRING2504', 'SPRING0246', 'SPRING0467', 'SPRING1560', 'SPRING2543', 'SPRING0654', 'SPRING2738', 'SPRING4657', 'SPRING0427', 'SPRING2876', 'SPRING1666', 'SPRING4749', 'SPRING1490', 'SPRING4675', 'SPRING0554', 'SPRING1878', 'SPRING1517', 'SPRING1858', 'SPRING4463', 'SPRING4642', 'SPRING2668', 'SPRING4678', 'SPRING0613', 'SPRING2963', 'SPRING2407', 'SPRING1173', 'SPRING4245', 'SPRING2330', 'SPRING0576', 'SPRING2267', 'SPRING4487', 'SPRING2624', 'SPRING1108', 'SPRING2892', 'SPRING1090', 'SPRING4765', 'SPRING0184', 'SPRING4071', 'SPRING4103', 'SPRING1715', 'SPRING4459', 'SPRING4211', 'SPRING0650', 'SPRING4484', 'SPRING1392', 'SPRING4466', 'SPRING4180', 'SPRING0316', 'SPRING4677', 'SPRING2881', 'SPRING0632', 'SPRING4101', 'SPRING4191', 'SPRING1688', 'SPRING1439', 'SPRING2617', 'SPRING2032', 'SPRING0513', 'SPRING2792', 'SPRING2305', 'SPRING0148', 'SPRING1558', 'SPRING4147', 'SPRING1547', 'SPRING1334', 'SPRING4061', 'SPRING2468', 'SPRING1274', 'SPRING0521', 'SPRING2420', 'SPRING1868', 'SPRING1265', 'SPRING4433', 'SPRING2649', 'SPRING1545', 'SPRING0657', 'SPRING0547', 'SPRING2551', 'SPRING4438', 'SPRING1910', 'SPRING0140', 'SPRING2270', 'SPRING2596', 'SPRING2085', 'SPRING2875', 'SPRING4669', 'SPRING4113', 'SPRING0079', 'SPRING2099', 'SPRING4504', 'SPRING1851', 'SPRING1895', 'SPRING0471', 'SPRING4590', 'SPRING4078', 'SPRING0496', 'SPRING2448', 'SPRING1761', 'SPRING2962', 'SPRING4284', 'SPRING2882', 'SPRING4357', 'SPRING0271', 'SPRING0133', 'SPRING4106', 'SPRING1358', 'SPRING4788', 'SPRING0647', 'SPRING0446', 'SPRING4007', 'SPRING4059', 'SPRING1794', 'SPRING4044', 'SPRING4639', 'SPRING2956', 'SPRING4108', 'SPRING0389', 'SPRING4739', 'SPRING4580', 'SPRING0088', 'SPRING4361', 'SPRING1522', 'SPRING4332', 'SPRING4177', 'SPRING0212', 'SPRING0145', 'SPRING2594', 'SPRING4754', 'SPRING2880', 'SPRING0486', 'SPRING0275', 'SPRING2460', 'SPRING4064', 'SPRING1440', 'SPRING0138', 'SPRING2290', 'SPRING1117', 'SPRING0295', 'SPRING4429', 'SPRING2246', 'SPRING4641', 'SPRING2288', 'SPRING0106', 'SPRING4525', 'SPRING2858', 'SPRING4432', 'SPRING2869', 'SPRING2091', 'SPRING4609', 'SPRING1613', 'SPRING0289', 'SPRING1366', 'SPRING2003', 'SPRING2058', 'SPRING0330', 'SPRING2937', 'SPRING1450', 'SPRING4799', 'SPRING2289', 'SPRING4019', 'SPRING1957', 'SPRING2214', 'SPRING4289', 'SPRING1918', 'SPRING2396', 'SPRING0553', 'SPRING2804', 'SPRING1429', 'SPRING0123', 'SPRING4437', 'SPRING4620', 'SPRING2939', 'SPRING2990', 'SPRING1697', 'SPRING4027', 'SPRING4104', 'SPRING0073', 'SPRING0259', 'SPRING1651', 'SPRING0112', 'SPRING1428', 'SPRING2244', 'SPRING4390', 'SPRING2938', 'SPRING4080', 'SPRING1046', 'SPRING1093', 'SPRING2945', 'SPRING4565', 'SPRING4174', 'SPRING0264', 'SPRING2277', 'SPRING0595', 'SPRING1670', 'SPRING2909', 'SPRING2444', 'SPRING0048', 'SPRING1497', 'SPRING1155', 'SPRING4356', 'SPRING1962', 'SPRING2721', 'SPRING1106', 'SPRING0234', 'SPRING0507', 'SPRING2621', 'SPRING0479', 'SPRING2512', 'SPRING2670', 'SPRING4767', 'SPRING1735', 'SPRING1329', 'SPRING1624', 'SPRING1308', 'SPRING1380', 'SPRING1271', 'SPRING4792', 'SPRING1580', 'SPRING0287', 'SPRING4274', 'SPRING0081', 'SPRING2950', 'SPRING0518', 'SPRING2824', 'SPRING0263', 'SPRING1205', 'SPRING2871', 'SPRING2629', 'SPRING4307', 'SPRING3005', 'SPRING3012', 'SPRING0653', 'SPRING0599', 'SPRING1593', 'SPRING4682', 'SPRING1564', 'SPRING0217', 'SPRING3015', 'SPRING0546', 'SPRING2910', 'SPRING1559', 'SPRING2540', 'SPRING2293', 'SPRING1218', 'SPRING2446', 'SPRING0108', 'SPRING4222', 'SPRING2913', 'SPRING0448', 'SPRING0305', 'SPRING4225', 'SPRING2112', 'SPRING1082', 'SPRING4270', 'SPRING1996', 'SPRING1533', 'SPRING1920', 'SPRING2877', 'SPRING4128', 'SPRING2944', 'SPRING1835', 'SPRING2043', 'SPRING2541', 'SPRING1276', 'SPRING1272', 'SPRING1224', 'SPRING0193', 'SPRING1887', 'SPRING0397', 'SPRING0633', 'SPRING1069', 'SPRING1337', 'SPRING2982', 'SPRING0661', 'SPRING0511', 'SPRING2863', 'SPRING0105', 'SPRING0514', 'SPRING2849', 'SPRING1628', 'SPRING4248', 'SPRING2395', 'SPRING0447', 'SPRING4347', 'SPRING1786', 'SPRING4196', 'SPRING1507', 'SPRING4193', 'SPRING2695', 'SPRING4369', 'SPRING4648', 'SPRING1487', 'SPRING1394', 'SPRING2568', 'SPRING2709', 'SPRING1562', 'SPRING1632', 'SPRING1192', 'SPRING2477', 'SPRING1482', 'SPRING1850', 'SPRING0625', 'SPRING2748', 'SPRING1486', 'SPRING0540', 'SPRING4334', 'SPRING1797', 'SPRING1674', 'SPRING2312', 'SPRING4731', 'SPRING1567', 'SPRING1327', 'SPRING0173', 'SPRING1744', 'SPRING2571', 'SPRING2971', 'SPRING1800', 'SPRING1543', 'SPRING1073', 'SPRING4519', 'SPRING1455', 'SPRING4638', 'SPRING2844', 'SPRING2454', 'SPRING4407', 'SPRING0502', 'SPRING2839', 'SPRING2637', 'SPRING0460', 'SPRING4190', 'SPRING4497', 'SPRING2439', 'SPRING4515', 'SPRING1589', 'SPRING0470', 'SPRING2251', 'SPRING1655', 'SPRING4272', 'SPRING1306', 'SPRING0058', 'SPRING4447', 'SPRING4176', 'SPRING4317', 'SPRING1094', 'SPRING1256', 'SPRING4212', 'SPRING1767', 'SPRING1129', 'SPRING4135', 'SPRING2597', 'SPRING0211', 'SPRING1340', 'SPRING2860', 'SPRING4625', 'SPRING0574', 'SPRING2403', 'SPRING1293', 'SPRING0636', 'SPRING1161', 'SPRING4130', 'SPRING1406', 'SPRING4400', 'SPRING0318', 'SPRING2449', 'SPRING4287', 'SPRING4000', 'SPRING2481', 'SPRING2899', 'SPRING2479', 'SPRING1430', 'SPRING1692', 'SPRING4018', 'SPRING4048', 'SPRING0560', 'SPRING2261', 'SPRING0453', 'SPRING1612', 'SPRING2872', 'SPRING0491', 'SPRING4448', 'SPRING4752', 'SPRING0572', 'SPRING4208', 'SPRING2914', 'SPRING4011', 'SPRING4706', 'SPRING0437', 'SPRING0592', 'SPRING2212', 'SPRING0430', 'SPRING4634', 'SPRING1131', 'SPRING2499', 'SPRING4586', 'SPRING0180', 'SPRING0396', 'SPRING1659', 'SPRING4099', 'SPRING0206', 'SPRING2720', 'SPRING0580', 'SPRING4378', 'SPRING0509', 'SPRING0671', 'SPRING1320', 'SPRING2799', 'SPRING4383', 'SPRING4060', 'SPRING1466', 'SPRING2387', 'SPRING4469', 'SPRING1371', 'SPRING2376', 'SPRING0564', 'SPRING2576', 'SPRING1866', 'SPRING0424', 'SPRING2006', 'SPRING2853', 'SPRING1238', 'SPRING0172', 'SPRING0562', 'SPRING2840', 'SPRING0299', 'SPRING0196', 'SPRING0314', 'SPRING4254', 'SPRING2759', 'SPRING0634', 'SPRING1036', 'SPRING1500', 'SPRING1677', 'SPRING1353', 'SPRING1639', 'SPRING0391', 'SPRING1569', 'SPRING2733', 'SPRING4159', 'SPRING2960', 'SPRING0498', 'SPRING4375', 'SPRING1516', 'SPRING2193', 'SPRING4160', 'SPRING1602', 'SPRING1191', 'SPRING1338', 'SPRING1402', 'SPRING1682', 'SPRING4408', 'SPRING1555', 'SPRING0187', 'SPRING0667', 'SPRING1818', 'SPRING0536', 'SPRING4698', 'SPRING4387', 'SPRING4778', 'SPRING2447', 'SPRING0220', 'SPRING4056', 'SPRING0051', 'SPRING4304', 'SPRING4227', 'SPRING2488', 'SPRING2888', 'SPRING1987', 'SPRING0442', 'SPRING0030', 'SPRING4286', 'SPRING2798', 'SPRING0293', 'SPRING4075', 'SPRING4143', 'SPRING0223', 'SPRING4238', 'SPRING0311', 'SPRING4345', 'SPRING4651', 'SPRING4627', 'SPRING0107', 'SPRING4557', 'SPRING2689', 'SPRING2921', 'SPRING4057', 'SPRING2920', 'SPRING4485', 'SPRING1260', 'SPRING1170', 'SPRING1156', 'SPRING4681', 'SPRING2613', 'SPRING1637', 'SPRING1295', 'SPRING2719', 'SPRING0274', 'SPRING1412', 'SPRING1600', 'SPRING4692', 'SPRING0170', 'SPRING0281', 'SPRING1154', 'SPRING1568', 'SPRING0551', 'SPRING2252', 'SPRING2980', 'SPRING1707', 'SPRING2847', 'SPRING0504', 'SPRING4184', 'SPRING2549', 'SPRING1550', 'SPRING2483', 'SPRING2066', 'SPRING4616', 'SPRING0228', 'SPRING4295', 'SPRING2459', 'SPRING4194', 'SPRING4118', 'SPRING1948', 'SPRING4649', 'SPRING1747', 'SPRING2793', 'SPRING0199', 'SPRING0152', 'SPRING4568', 'SPRING4358', 'SPRING0178', 'SPRING2852', 'SPRING1704', 'SPRING4185', 'SPRING1587', 'SPRING0466', 'SPRING0279', 'SPRING0012', 'SPRING0591', 'SPRING1662', 'SPRING4769', 'SPRING4224', 'SPRING4372', 'SPRING1335', 'SPRING1059', 'SPRING1110', 'SPRING0315', 'SPRING2331', 'SPRING4047', 'SPRING0207', 'SPRING4449', 'SPRING0517', 'SPRING0533', 'SPRING0575', 'SPRING4514', 'SPRING4088', 'SPRING2664', 'SPRING2929', 'SPRING1443', 'SPRING0251', 'SPRING2762', 'SPRING4112', 'SPRING0605', 'SPRING4583', 'SPRING4230', 'SPRING2518', 'SPRING0450', 'SPRING0026', 'SPRING1693', 'SPRING4032', 'SPRING1185', 'SPRING1072', 'SPRING1115', 'SPRING1579', 'SPRING4213', 'SPRING4762', 'SPRING1710', 'SPRING4501', 'SPRING2608', 'SPRING1261', 'SPRING2409', 'SPRING1993', 'SPRING2915', 'SPRING1485', 'SPRING4058', 'SPRING4559', 'SPRING1819', 'SPRING1890', 'SPRING1524', 'SPRING4311', 'SPRING2519', 'SPRING4743', 'SPRING0320', 'SPRING1621', 'SPRING4797', 'SPRING1066', 'SPRING0623', 'SPRING2983', 'SPRING0398', 'SPRING1542', 'SPRING4430', 'SPRING2392', 'SPRING2162', 'SPRING2992', 'SPRING4097', 'SPRING4730', 'SPRING0602', 'SPRING2654', 'SPRING0670', 'SPRING2975', 'SPRING0313', 'SPRING1322', 'SPRING4503', 'SPRING2378', 'SPRING4093', 'SPRING2752', 'SPRING4477', 'SPRING1234', 'SPRING0454', 'SPRING4599', 'SPRING4454', 'SPRING2111', 'SPRING1206', 'SPRING0301', 'SPRING1609', 'SPRING4066', 'SPRING2994', 'SPRING1480', 'SPRING4051', 'SPRING4352', 'SPRING2912', 'SPRING0612', 'SPRING1111', 'SPRING0168', 'SPRING1383', 'SPRING1151', 'SPRING3009', 'SPRING4555', 'SPRING1179', 'SPRING2677', 'SPRING0150', 'SPRING1149', 'SPRING2684', 'SPRING1346', 'SPRING2926', 'SPRING4042', 'SPRING0147', 'SPRING2147', 'SPRING1695', 'SPRING0130', 'SPRING1594', 'SPRING0582', 'SPRING0525', 'SPRING0563', 'SPRING0319', 'SPRING3004', 'SPRING1943', 'SPRING4571', 'SPRING4303', 'SPRING4475', 'SPRING4183', 'SPRING0529', 'SPRING0272', 'SPRING4314', 'SPRING0433', 'SPRING1777', 'SPRING1511', 'SPRING0240', 'SPRING1165', 'SPRING0638', 'SPRING1318', 'SPRING4576', 'SPRING4511', 'SPRING2063', 'SPRING1667', 'SPRING1712', 'SPRING4417', 'SPRING2680', 'SPRING0049', 'SPRING2715', 'SPRING4683', 'SPRING1614', 'SPRING4701', 'SPRING2953', 'SPRING1286', 'SPRING0242', 'SPRING1641', 'SPRING0024', 'SPRING4687', 'SPRING4423', 'SPRING1892', 'SPRING2342', 'SPRING4373', 'SPRING1049', 'SPRING1561', 'SPRING1355', 'SPRING0462', 'SPRING0057', 'SPRING0253', 'SPRING1473', 'SPRING0463', 'SPRING4025', 'SPRING1633', 'SPRING2259']\n",
            "1517\n",
            " \n",
            "model names and lenght of female models:\n",
            "['SPRING1341', 'SPRING1722', 'SPRING1978', 'SPRING1100', 'SPRING1549', 'SPRING4306', 'SPRING1442', 'SPRING1556', 'SPRING4540', 'SPRING4773', 'SPRING0589', 'SPRING0084', 'SPRING2750', 'SPRING0465', 'SPRING2189', 'SPRING2302', 'SPRING2845', 'SPRING2542', 'SPRING2486', 'SPRING4783', 'SPRING2317', 'SPRING2730', 'SPRING2375', 'SPRING4198', 'SPRING4753', 'SPRING2346', 'SPRING1801', 'SPRING1926', 'SPRING2978', 'SPRING1578', 'SPRING4215', 'SPRING2176', 'SPRING2683', 'SPRING1805', 'SPRING1365', 'SPRING4259', 'SPRING2820', 'SPRING1748', 'SPRING2735', 'SPRING4476', 'SPRING1679', 'SPRING1663', 'SPRING4006', 'SPRING0607', 'SPRING1195', 'SPRING0476', 'SPRING1548', 'SPRING3018', 'SPRING2865', 'SPRING2791', 'SPRING2370', 'SPRING2531', 'SPRING0464', 'SPRING2690', 'SPRING1591', 'SPRING2740', 'SPRING1331', 'SPRING0630', 'SPRING1732', 'SPRING1492', 'SPRING4761', 'SPRING1784', 'SPRING2575', 'SPRING1121', 'SPRING2832', 'SPRING1901', 'SPRING2856', 'SPRING1925', 'SPRING2366', 'SPRING1861', 'SPRING2383', 'SPRING1730', 'SPRING1359', 'SPRING2655', 'SPRING0213', 'SPRING2528', 'SPRING4116', 'SPRING1762', 'SPRING2732', 'SPRING1605', 'SPRING2507', 'SPRING4781', 'SPRING2763', 'SPRING2616', 'SPRING2326', 'SPRING1975', 'SPRING0166', 'SPRING4442', 'SPRING1685', 'SPRING1148', 'SPRING1765', 'SPRING0321', 'SPRING1136', 'SPRING1739', 'SPRING0593', 'SPRING2584', 'SPRING0642', 'SPRING2007', 'SPRING1360', 'SPRING2017', 'SPRING4117', 'SPRING1417', 'SPRING4564', 'SPRING0417', 'SPRING4370', 'SPRING4668', 'SPRING1899', 'SPRING2714', 'SPRING0402', 'SPRING2365', 'SPRING2751', 'SPRING3027', 'SPRING4242', 'SPRING4285', 'SPRING3010', 'SPRING0096', 'SPRING0113', 'SPRING1469', 'SPRING4020', 'SPRING4015', 'SPRING4732', 'SPRING2358', 'SPRING2453', 'SPRING2902', 'SPRING1997', 'SPRING2558', 'SPRING2828', 'SPRING0052', 'SPRING4655', 'SPRING2355', 'SPRING2442', 'SPRING1167', 'SPRING1724', 'SPRING4252', 'SPRING4553', 'SPRING1087', 'SPRING2699', 'SPRING4386', 'SPRING1382', 'SPRING0503', 'SPRING2808', 'SPRING2976', 'SPRING4480', 'SPRING2150', 'SPRING1401', 'SPRING1424', 'SPRING2521', 'SPRING1716', 'SPRING2796', 'SPRING1375', 'SPRING2303', 'SPRING1132', 'SPRING1924', 'SPRING4628', 'SPRING4166', 'SPRING1648', 'SPRING4436', 'SPRING1638', 'SPRING4619', 'SPRING2440', 'SPRING2843', 'SPRING1116', 'SPRING4269', 'SPRING4740', 'SPRING1864', 'SPRING2768', 'SPRING2564', 'SPRING4140', 'SPRING2527', 'SPRING4323', 'SPRING4261', 'SPRING1616', 'SPRING2984', 'SPRING2229', 'SPRING0662', 'SPRING2419', 'SPRING1652', 'SPRING0060', 'SPRING2451', 'SPRING4756', 'SPRING2436', 'SPRING2886', 'SPRING1783', 'SPRING2533', 'SPRING2500', 'SPRING0378', 'SPRING0473', 'SPRING2502', 'SPRING0600', 'SPRING2382', 'SPRING0646', 'SPRING4382', 'SPRING4495', 'SPRING1623', 'SPRING4606', 'SPRING2258', 'SPRING4419', 'SPRING4685', 'SPRING1661', 'SPRING1706', 'SPRING2817', 'SPRING4221', 'SPRING4131', 'SPRING2536', 'SPRING1403', 'SPRING4793', 'SPRING2943', 'SPRING2389', 'SPRING2456', 'SPRING1963', 'SPRING3013', 'SPRING4309', 'SPRING4727', 'SPRING1906', 'SPRING1760', 'SPRING1680', 'SPRING1755', 'SPRING2002', 'SPRING2692', 'SPRING2496', 'SPRING0054', 'SPRING3016', 'SPRING2548', 'SPRING4496', 'SPRING1881', 'SPRING0087', 'SPRING1983', 'SPRING2833', 'SPRING1795', 'SPRING4308', 'SPRING4656', 'SPRING0544', 'SPRING1314', 'SPRING2362', 'SPRING4203', 'SPRING4694', 'SPRING2814', 'SPRING4421', 'SPRING0407', 'SPRING2577', 'SPRING4595', 'SPRING1409', 'SPRING4751', 'SPRING1212', 'SPRING2262', 'SPRING0489', 'SPRING1928', 'SPRING1592', 'SPRING1810', 'SPRING4325', 'SPRING0090', 'SPRING2116', 'SPRING2739', 'SPRING3026', 'SPRING2348', 'SPRING4388', 'SPRING2946', 'SPRING4017', 'SPRING4040', 'SPRING2705', 'SPRING1086', 'SPRING1420', 'SPRING0624', 'SPRING1456', 'SPRING4506', 'SPRING1057', 'SPRING2742', 'SPRING2554', 'SPRING2835', 'SPRING3007', 'SPRING2809', 'SPRING2658', 'SPRING4273', 'SPRING4327', 'SPRING1749', 'SPRING2794', 'SPRING4391', 'SPRING0668', 'SPRING0556', 'SPRING2282', 'SPRING0078', 'SPRING4392', 'SPRING4508', 'SPRING4759', 'SPRING1728', 'SPRING4615', 'SPRING2722', 'SPRING1310', 'SPRING4691', 'SPRING4664', 'SPRING2015', 'SPRING2400', 'SPRING0484', 'SPRING1934', 'SPRING0621', 'SPRING4608', 'SPRING2480', 'SPRING0383', 'SPRING0222', 'SPRING4404', 'SPRING1098', 'SPRING4660', 'SPRING4663', 'SPRING4395', 'SPRING4157', 'SPRING1433', 'SPRING0401', 'SPRING2561', 'SPRING1726', 'SPRING2985', 'SPRING0055', 'SPRING1476', 'SPRING1782', 'SPRING4136', 'SPRING0099', 'SPRING4241', 'SPRING4699', 'SPRING4509', 'SPRING1213', 'SPRING1076', 'SPRING4246', 'SPRING1960', 'SPRING1984', 'SPRING4030', 'SPRING1644', 'SPRING4009', 'SPRING4275', 'SPRING2673', 'SPRING4305', 'SPRING1869', 'SPRING4543', 'SPRING4622', 'SPRING2280', 'SPRING1162', 'SPRING1696', 'SPRING1544', 'SPRING4566', 'SPRING2896', 'SPRING4348', 'SPRING4471', 'SPRING2662', 'SPRING2535', 'SPRING4201', 'SPRING1733', 'SPRING4470', 'SPRING1772', 'SPRING1815', 'SPRING1105', 'SPRING1441', 'SPRING2509', 'SPRING4666', 'SPRING1050', 'SPRING1182', 'SPRING1853', 'SPRING1787', 'SPRING4439', 'SPRING4351', 'SPRING4707', 'SPRING0053', 'SPRING2663', 'SPRING4717', 'SPRING2119', 'SPRING4250', 'SPRING0161', 'SPRING4422', 'SPRING2949', 'SPRING2008', 'SPRING3001', 'SPRING2377', 'SPRING1607', 'SPRING1673', 'SPRING0089', 'SPRING1554', 'SPRING3003', 'SPRING0475', 'SPRING2243', 'SPRING0393', 'SPRING4043', 'SPRING2618', 'SPRING2585', 'SPRING1950', 'SPRING2787', 'SPRING2958', 'SPRING4763', 'SPRING2301', 'SPRING4435', 'SPRING2573', 'SPRING4125', 'SPRING1781', 'SPRING4737', 'SPRING4790', 'SPRING4146', 'SPRING1388', 'SPRING4757', 'SPRING4014', 'SPRING4300', 'SPRING1530', 'SPRING2671', 'SPRING2898', 'SPRING2424', 'SPRING2619', 'SPRING1062', 'SPRING1734', 'SPRING0064', 'SPRING1166', 'SPRING4111', 'SPRING1405', 'SPRING2391', 'SPRING2462', 'SPRING4394', 'SPRING2635', 'SPRING3028', 'SPRING4205', 'SPRING1973', 'SPRING1214', 'SPRING4507', 'SPRING4482', 'SPRING2160', 'SPRING0644', 'SPRING2795', 'SPRING2505', 'SPRING0231', 'SPRING1660', 'SPRING2196', 'SPRING2988', 'SPRING1194', 'SPRING1705', 'SPRING0626', 'SPRING4354', 'SPRING4747', 'SPRING1999', 'SPRING1725', 'SPRING4195', 'SPRING4260', 'SPRING4672', 'SPRING1649', 'SPRING0134', 'SPRING2665', 'SPRING4428', 'SPRING2606', 'SPRING2475', 'SPRING1422', 'SPRING2643', 'SPRING2004', 'SPRING1799', 'SPRING1627', 'SPRING4119', 'SPRING4187', 'SPRING0160', 'SPRING4444', 'SPRING2710', 'SPRING2297', 'SPRING1198', 'SPRING1822', 'SPRING0298', 'SPRING0413', 'SPRING4523', 'SPRING2708', 'SPRING4696', 'SPRING4441', 'SPRING0469', 'SPRING2781', 'SPRING4263', 'SPRING2754', 'SPRING4528', 'SPRING1615', 'SPRING4243', 'SPRING4139', 'SPRING4777', 'SPRING2698', 'SPRING2632', 'SPRING0573', 'SPRING2372', 'SPRING1304', 'SPRING2702', 'SPRING0616', 'SPRING2894', 'SPRING1068', 'SPRING2356', 'SPRING4630', 'SPRING4760', 'SPRING4472', 'SPRING1855', 'SPRING4016', 'SPRING1841', 'SPRING2013', 'SPRING0095', 'SPRING2932', 'SPRING1865', 'SPRING4614', 'SPRING2704', 'SPRING2818', 'SPRING4199', 'SPRING2836', 'SPRING2415', 'SPRING0270', 'SPRING2703', 'SPRING1989', 'SPRING0635', 'SPRING1459', 'SPRING1079', 'SPRING4786', 'SPRING0663', 'SPRING0244', 'SPRING4002', 'SPRING4535', 'SPRING2417', 'SPRING4341', 'SPRING1870', 'SPRING1622', 'SPRING0569', 'SPRING4646', 'SPRING4705', 'SPRING1947', 'SPRING0519', 'SPRING1060', 'SPRING1435', 'SPRING1095', 'SPRING4766', 'SPRING2811', 'SPRING2429', 'SPRING4301', 'SPRING2851', 'SPRING0072', 'SPRING4486', 'SPRING1965', 'SPRING2806', 'SPRING4554', 'SPRING0434', 'SPRING2526', 'SPRING4313', 'SPRING2345', 'SPRING0214', 'SPRING1807', 'SPRING0163', 'SPRING0074', 'SPRING0256', 'SPRING1063', 'SPRING1056', 'SPRING2947', 'SPRING1460', 'SPRING4492', 'SPRING0210', 'SPRING1184', 'SPRING4526', 'SPRING2669', 'SPRING2426', 'SPRING1689', 'SPRING1836', 'SPRING4695', 'SPRING4550', 'SPRING1475', 'SPRING0392', 'SPRING0175', 'SPRING2482', 'SPRING2399', 'SPRING2700', 'SPRING0076', 'SPRING4612', 'SPRING1713', 'SPRING0377', 'SPRING4175', 'SPRING2476', 'SPRING1434', 'SPRING2394', 'SPRING1994', 'SPRING2340', 'SPRING1207', 'SPRING2172', 'SPRING4041', 'SPRING2633', 'SPRING1096', 'SPRING2173', 'SPRING0408', 'SPRING1774', 'SPRING0310', 'SPRING1776', 'SPRING1683', 'SPRING0092', 'SPRING4776', 'SPRING0183', 'SPRING2878', 'SPRING2493', 'SPRING4491', 'SPRING4189', 'SPRING2469', 'SPRING2416', 'SPRING2344', 'SPRING4770', 'SPRING2495', 'SPRING4085', 'SPRING1178', 'SPRING1540', 'SPRING2874', 'SPRING1538', 'SPRING2563', 'SPRING4171', 'SPRING0015', 'SPRING0260', 'SPRING1888', 'SPRING0219', 'SPRING0116', 'SPRING2755', 'SPRING4617', 'SPRING1979', 'SPRING2390', 'SPRING0404', 'SPRING2323', 'SPRING1664', 'SPRING2487', 'SPRING2557', 'SPRING0317', 'SPRING2977', 'SPRING2904', 'SPRING1174', 'SPRING2371', 'SPRING4277', 'SPRING1729', 'SPRING1990', 'SPRING4255', 'SPRING2592', 'SPRING2803', 'SPRING4038', 'SPRING2534', 'SPRING2018', 'SPRING1859', 'SPRING1718', 'SPRING2965', 'SPRING4200', 'SPRING4091', 'SPRING4292', 'SPRING1083', 'SPRING2572', 'SPRING2859', 'SPRING1177', 'SPRING2837', 'SPRING2627', 'SPRING2334', 'SPRING4340', 'SPRING1423', 'SPRING1951', 'SPRING4468', 'SPRING4610', 'SPRING1709', 'SPRING1955', 'SPRING2269', 'SPRING4022', 'SPRING2641', 'SPRING1914', 'SPRING2332', 'SPRING2203', 'SPRING4179', 'SPRING1863', 'SPRING4534', 'SPRING0249', 'SPRING2413', 'SPRING0590', 'SPRING4219', 'SPRING2201', 'SPRING2547', 'SPRING1820', 'SPRING2813', 'SPRING2801', 'SPRING1202', 'SPRING2620', 'SPRING2600', 'SPRING2897', 'SPRING1152', 'SPRING2412', 'SPRING0412', 'SPRING1520', 'SPRING2295', 'SPRING1200', 'SPRING2786', 'SPRING2508', 'SPRING4708', 'SPRING4202', 'SPRING4531', 'SPRING1604', 'SPRING2466', 'SPRING2404', 'SPRING1061', 'SPRING2997', 'SPRING1671', 'SPRING0381', 'SPRING4034', 'SPRING4339', 'SPRING2694', 'SPRING2011', 'SPRING2441', 'SPRING2861', 'SPRING4218', 'SPRING2559', 'SPRING1074', 'SPRING2711', 'SPRING1806', 'SPRING1137', 'SPRING4365', 'SPRING4414', 'SPRING2464', 'SPRING4537', 'SPRING1618', 'SPRING1862', 'SPRING2463', 'SPRING2636', 'SPRING1125', 'SPRING4012', 'SPRING2657', 'SPRING1470', 'SPRING2501', 'SPRING4665', 'SPRING2713', 'SPRING2905', 'SPRING0651', 'SPRING2996', 'SPRING4253', 'SPRING0001', 'SPRING2883', 'SPRING2539', 'SPRING2138', 'SPRING2826', 'SPRING0309', 'SPRING2642', 'SPRING2857', 'SPRING2854', 'SPRING2550', 'SPRING1309', 'SPRING1629', 'SPRING4360', 'SPRING4148', 'SPRING2646', 'SPRING1163', 'SPRING4787', 'SPRING1879', 'SPRING1414', 'SPRING4746', 'SPRING1164', 'SPRING1035', 'SPRING4109', 'SPRING2931', 'SPRING2581', 'SPRING1913', 'SPRING1141', 'SPRING1626', 'SPRING4587', 'SPRING2455', 'SPRING4502', 'SPRING1952', 'SPRING2687', 'SPRING2511', 'SPRING1462', 'SPRING1908', 'SPRING1180', 'SPRING0235', 'SPRING2569', 'SPRING4281', 'SPRING2368', 'SPRING4003', 'SPRING4693', 'SPRING2461', 'SPRING0594', 'SPRING4167', 'SPRING2884', 'SPRING2819', 'SPRING1969', 'SPRING4510', 'SPRING0468', 'SPRING4723', 'SPRING4782', 'SPRING1474', 'SPRING1977', 'SPRING1916', 'SPRING2216', 'SPRING2966', 'SPRING1109', 'SPRING0400', 'SPRING2991', 'SPRING2566', 'SPRING4592', 'SPRING1390', 'SPRING4498', 'SPRING4028', 'SPRING2553', 'SPRING2545', 'SPRING4310', 'SPRING1535', 'SPRING0382', 'SPRING0586', 'SPRING1827', 'SPRING1631', 'SPRING4744', 'SPRING2517', 'SPRING2919', 'SPRING2109', 'SPRING4178', 'SPRING3024', 'SPRING1089', 'SPRING0086', 'SPRING1754', 'SPRING4467', 'SPRING4703', 'SPRING0655', 'SPRING2287', 'SPRING1905', 'SPRING4673', 'SPRING2760', 'SPRING0386', 'SPRING2427', 'SPRING2741', 'SPRING1209', 'SPRING4008', 'SPRING1845', 'SPRING2850', 'SPRING4235', 'SPRING2603', 'SPRING1378', 'SPRING4443', 'SPRING2108', 'SPRING2457', 'SPRING1312', 'SPRING4298', 'SPRING2425', 'SPRING4137', 'SPRING1336', 'SPRING2701', 'SPRING2118', 'SPRING2353', 'SPRING2995', 'SPRING1741', 'SPRING2981', 'SPRING1321', 'SPRING1426', 'SPRING4335', 'SPRING4601', 'SPRING4457', 'SPRING4399', 'SPRING0438', 'SPRING1363', 'SPRING1803', 'SPRING0118', 'SPRING2952', 'SPRING2900', 'SPRING2757', 'SPRING2989', 'SPRING1039', 'SPRING1391', 'SPRING2686', 'SPRING4239', 'SPRING0065', 'SPRING1464', 'SPRING4532', 'SPRING4712', 'SPRING4089', 'SPRING0239', 'SPRING1849', 'SPRING1307', 'SPRING4607', 'SPRING1197', 'SPRING2660', 'SPRING1967', 'SPRING2622', 'SPRING2408', 'SPRING4452', 'SPRING4588', 'SPRING4544', 'SPRING4258', 'SPRING2951', 'SPRING1915', 'SPRING4249', 'SPRING0158', 'SPRING2598', 'SPRING1837', 'SPRING2773', 'SPRING0225', 'SPRING1721', 'SPRING2431', 'SPRING2797', 'SPRING4567', 'SPRING1525', 'SPRING4789', 'SPRING1824', 'SPRING0104', 'SPRING2117', 'SPRING1857', 'SPRING2379', 'SPRING0409', 'SPRING1708', 'SPRING0649', 'SPRING1846', 'SPRING0615', 'SPRING1387', 'SPRING2339', 'SPRING2513', 'SPRING2565', 'SPRING1636', 'SPRING2491', 'SPRING1084', 'SPRING0224', 'SPRING2529', 'SPRING1374', 'SPRING1753', 'SPRING4262', 'SPRING1449', 'SPRING1201', 'SPRING1736', 'SPRING2802', 'SPRING1415', 'SPRING1942', 'SPRING2873', 'SPRING2347', 'SPRING0014', 'SPRING1752', 'SPRING1773', 'SPRING1727', 'SPRING1931', 'SPRING1376', 'SPRING4192', 'SPRING1101', 'SPRING4704', 'SPRING4654', 'SPRING4251', 'SPRING0277', 'SPRING1603', 'SPRING1647', 'SPRING4364', 'SPRING2005', 'SPRING2580', 'SPRING2986', 'SPRING4037', 'SPRING2834', 'SPRING0115', 'SPRING1361', 'SPRING2273', 'SPRING4578', 'SPRING0461', 'SPRING2930', 'SPRING0226', 'SPRING2438', 'SPRING2510', 'SPRING1563', 'SPRING0121', 'SPRING1769', 'SPRING4010', 'SPRING4359', 'SPRING4539', 'SPRING4096', 'SPRING2693', 'SPRING1128', 'SPRING1961', 'SPRING4798', 'SPRING1493', 'SPRING1939', 'SPRING0307', 'SPRING1809', 'SPRING2764', 'SPRING1789', 'SPRING2868', 'SPRING1130', 'SPRING2570', 'SPRING0056', 'SPRING1802', 'SPRING4522', 'SPRING2433', 'SPRING4278', 'SPRING4120', 'SPRING2284', 'SPRING4483', 'SPRING4240', 'SPRING4493', 'SPRING4748', 'SPRING2471', 'SPRING1313', 'SPRING2445', 'SPRING0094', 'SPRING1958', 'SPRING4636', 'SPRING2472', 'SPRING2639', 'SPRING1891', 'SPRING4575', 'SPRING4163', 'SPRING4276', 'SPRING0143', 'SPRING4315', 'SPRING1719', 'SPRING1400', 'SPRING2434', 'SPRING4635', 'SPRING2979', 'SPRING1102', 'SPRING4098', 'SPRING1038', 'SPRING4718', 'SPRING0416', 'SPRING2766', 'SPRING1077', 'SPRING1081', 'SPRING4455', 'SPRING1675', 'SPRING4479', 'SPRING1410', 'SPRING2829', 'SPRING1350', 'SPRING1565', 'SPRING1811', 'SPRING2579', 'SPRING4713', 'SPRING2765', 'SPRING1315', 'SPRING0208', 'SPRING1421', 'SPRING4647', 'SPRING0283', 'SPRING4122', 'SPRING2590', 'SPRING1168', 'SPRING4023', 'SPRING4613', 'SPRING1142', 'SPRING4418', 'SPRING1778', 'SPRING2652', 'SPRING4764', 'SPRING2388', 'SPRING1630', 'SPRING1884', 'SPRING0480', 'SPRING4458', 'SPRING0380', 'SPRING2397', 'SPRING3019', 'SPRING2386', 'SPRING1419', 'SPRING1775', 'SPRING0268', 'SPRING2731', 'SPRING0195', 'SPRING0472', 'SPRING1867', 'SPRING4129', 'SPRING2140', 'SPRING2599', 'SPRING4686', 'SPRING1885', 'SPRING4771', 'SPRING4645', 'SPRING4410', 'SPRING4424', 'SPRING1886', 'SPRING1779', 'SPRING1770', 'SPRING1657', 'SPRING2359', 'SPRING1215', 'SPRING2901', 'SPRING2999', 'SPRING1448', 'SPRING1399', 'SPRING1432', 'SPRING0384', 'SPRING4076', 'SPRING4598', 'SPRING4049', 'SPRING1889', 'SPRING4684', 'SPRING0640', 'SPRING2788', 'SPRING1821', 'SPRING4268', 'SPRING2816', 'SPRING4087', 'SPRING1453', 'SPRING4791', 'SPRING0327', 'SPRING4142', 'SPRING1541', 'SPRING3021', 'SPRING1793', 'SPRING2681', 'SPRING4070', 'SPRING1771', 'SPRING1828', 'SPRING1976', 'SPRING2967', 'SPRING4742', 'SPRING4702', 'SPRING1617', 'SPRING1956', 'SPRING1345', 'SPRING4794', 'SPRING2789', 'SPRING2254', 'SPRING2672', 'SPRING2848', 'SPRING4456', 'SPRING1896', 'SPRING1764', 'SPRING2325', 'SPRING1877', 'SPRING2516', 'SPRING1634', 'SPRING0598', 'SPRING2825', 'SPRING2745', 'SPRING1458', 'SPRING1431', 'SPRING0189', 'SPRING2866', 'SPRING1454', 'SPRING1838', 'SPRING0269', 'SPRING0236', 'SPRING1416', 'SPRING0614', 'SPRING0290', 'SPRING2520', 'SPRING1138', 'SPRING4013', 'SPRING1467', 'SPRING1945', 'SPRING2716', 'SPRING1938', 'SPRING2235', 'SPRING0379', 'SPRING1829', 'SPRING4524', 'SPRING4090', 'SPRING1917', 'SPRING2113', 'SPRING1986', 'SPRING2497', 'SPRING1379', 'SPRING1620', 'SPRING1396', 'SPRING4720', 'SPRING2758', 'SPRING2369', 'SPRING4005', 'SPRING4302', 'SPRING2807', 'SPRING3011', 'SPRING1844', 'SPRING1757', 'SPRING4451', 'SPRING0093', 'SPRING2954', 'SPRING4055', 'SPRING1817', 'SPRING1930', 'SPRING4397', 'SPRING1468', 'SPRING0127', 'SPRING1208', 'SPRING1711', 'SPRING1150', 'SPRING1316', 'SPRING0252', 'SPRING1953', 'SPRING0490', 'SPRING1413', 'SPRING2556', 'SPRING2830', 'SPRING2016', 'SPRING0286', 'SPRING2605', 'SPRING4494', 'SPRING2465', 'SPRING4374', 'SPRING4283', 'SPRING4772', 'SPRING1758', 'SPRING4581', 'SPRING1372', 'SPRING2611', 'SPRING0628', 'SPRING4796', 'SPRING2411', 'SPRING2578', 'SPRING1909', 'SPRING1813', 'SPRING2443', 'SPRING0203', 'SPRING2626', 'SPRING2815', 'SPRING2114', 'SPRING1831', 'SPRING2360', 'SPRING0452', 'SPRING4680', 'SPRING2933', 'SPRING2734', 'SPRING1496', 'SPRING1160', 'SPRING2484', 'SPRING1512', 'SPRING4533', 'SPRING4462', 'SPRING1606', 'SPRING4719', 'SPRING4031', 'SPRING4726', 'SPRING1658', 'SPRING2630', 'SPRING0385', 'SPRING1669', 'SPRING4371', 'SPRING1894', 'SPRING2776', 'SPRING4376', 'SPRING2782', 'SPRING2490', 'SPRING4024', 'SPRING2132', 'SPRING4577', 'SPRING4265', 'SPRING2380', 'SPRING4188', 'SPRING1210', 'SPRING1812', '.DS_Store', 'SPRING2767', 'SPRING0136', 'SPRING2306', 'SPRING1418', 'SPRING4406', 'SPRING1373', 'SPRING1854', 'SPRING4124', 'SPRING4084', 'SPRING4450', 'SPRING2609', 'SPRING2737', 'SPRING4710', 'SPRING2744', 'SPRING4158', 'SPRING2136', 'SPRING2682', 'SPRING4426', 'SPRING1832', 'SPRING2924', 'SPRING0241', 'SPRING0483', 'SPRING2595', 'SPRING0067', 'SPRING1625', 'SPRING0216', 'SPRING0627', 'SPRING2667', 'SPRING2923', 'SPRING1118', 'SPRING0418', 'SPRING0257', 'SPRING2286', 'SPRING4563', 'SPRING3008', 'SPRING4033', 'SPRING1750', 'SPRING2560', 'SPRING2298', 'SPRING0482', 'SPRING2423', 'SPRING4464', 'SPRING2810', 'SPRING0499', 'SPRING1954', 'SPRING4679', 'SPRING1088', 'SPRING1936', 'SPRING2779', 'SPRING0176', 'SPRING1566', 'SPRING0174', 'SPRING4500', 'SPRING2009', 'SPRING0254', 'SPRING1123', 'SPRING0387', 'SPRING2725', 'SPRING2204', 'SPRING2918', 'SPRING2961', 'SPRING2588', 'SPRING2174', 'SPRING2437', 'SPRING0097', 'SPRING2430', 'SPRING4774', 'SPRING0243', 'SPRING1070', 'SPRING1830', 'SPRING2294', 'SPRING4670', 'SPRING1127', 'SPRING1723', 'SPRING1140', 'SPRING4267', 'SPRING1058', 'SPRING2552', 'SPRING2771', 'SPRING4626', 'SPRING1940', 'SPRING2418', 'SPRING1703', 'SPRING2012', 'SPRING2800', 'SPRING1923', 'SPRING1477', 'SPRING2546', 'SPRING1078', 'SPRING4709', 'SPRING2922', 'SPRING1381', 'SPRING2149', 'SPRING0304', 'SPRING1691', 'SPRING2885', 'SPRING1700', 'SPRING1972', 'SPRING4643', 'SPRING2957', 'SPRING4541', 'SPRING4445', 'SPRING4232', 'SPRING4393', 'SPRING2300', 'SPRING2567', 'SPRING2158', 'SPRING3006', 'SPRING2384', 'SPRING2940', 'SPRING2402', 'SPRING0581', 'SPRING1368', 'SPRING2891', 'SPRING4072', 'SPRING2361', 'SPRING1883', 'SPRING4440', 'SPRING1451', 'SPRING1139', 'SPRING1935', 'SPRING1158', 'SPRING0288', 'SPRING1686', 'SPRING1876', 'SPRING4149', 'SPRING1171', 'SPRING4784', 'SPRING2374', 'SPRING4750', 'SPRING2000', 'SPRING4086', 'SPRING1311', 'SPRING0265', 'SPRING4460', 'SPRING0075', 'SPRING2972', 'SPRING4271', 'SPRING1898', 'SPRING4343', 'SPRING0125', 'SPRING2827', 'SPRING2659', 'SPRING1305', 'SPRING2970', 'SPRING4733', 'SPRING1949', 'SPRING1183', 'SPRING2544', 'SPRING2115', 'SPRING1389', 'SPRING1882', 'SPRING4711', 'SPRING0119', 'SPRING2736', 'SPRING2586', 'SPRING2785', 'SPRING1751', 'SPRING2450', 'SPRING1324', 'SPRING1356', 'SPRING1796', 'SPRING4377', 'SPRING1032', 'SPRING4102', 'SPRING2691', 'SPRING4582', 'SPRING1871', 'SPRING4257', 'SPRING1506', 'SPRING1144', 'SPRING1124', 'SPRING1738', 'SPRING1369', 'SPRING1763', 'SPRING1523', 'SPRING2756', 'SPRING1436', 'SPRING4453', 'SPRING0439', 'SPRING4141', 'SPRING1946', 'SPRING4092', 'SPRING2537', 'SPRING2357', 'SPRING0656', 'SPRING1575', 'SPRING4779', 'SPRING4488', 'SPRING1576', 'SPRING2838', 'SPRING1646', 'SPRING1897', 'SPRING4244', 'SPRING1472', 'SPRING1995', 'SPRING4745', 'SPRING1532', 'SPRING2728', 'SPRING4489', 'SPRING2336', 'SPRING2381', 'SPRING4062', 'SPRING4153', 'SPRING1619', 'SPRING0069', 'SPRING2281', 'SPRING2405', 'SPRING4490', 'SPRING0233', 'SPRING1573', 'SPRING1971', 'SPRING1742', 'SPRING4237', 'SPRING1843', 'SPRING2941', 'SPRING2316', 'SPRING1981', 'SPRING4605', 'SPRING0399', 'SPRING4204', 'SPRING1875', 'SPRING2934', 'SPRING2498', 'SPRING4671', 'SPRING2846', 'SPRING2574', 'SPRING1557', 'SPRING2555', 'SPRING2363', 'SPRING0182', 'SPRING0258', 'SPRING2523', 'SPRING2398', 'SPRING1362', 'SPRING4029', 'SPRING2248', 'SPRING4105', 'SPRING4512', 'SPRING4518', 'SPRING0192', 'SPRING1746', 'SPRING0185', 'SPRING2959', 'SPRING4674', 'SPRING0114', 'SPRING4604', 'SPRING2524', 'SPRING4100', 'SPRING1944', 'SPRING2354', 'SPRING2352', 'SPRING0017', 'SPRING2452', 'SPRING1672', 'SPRING2410', 'SPRING2697', 'SPRING1768', 'SPRING1047', 'SPRING1919', 'SPRING1743', 'SPRING4548', 'SPRING2625', 'SPRING1731', 'SPRING2774', 'SPRING1992', 'SPRING4556', 'SPRING1791', 'SPRING4618', 'SPRING0583', 'SPRING4715', 'SPRING2350', 'SPRING1608', 'SPRING1912', 'SPRING1998', 'SPRING2492', 'SPRING1911', 'SPRING2784', 'SPRING4079', 'SPRING4150', 'SPRING1932', 'SPRING1921', 'SPRING4226', 'SPRING1452', 'SPRING2364', 'SPRING2647', 'SPRING2724', 'SPRING1964', 'SPRING1175', 'SPRING0083', 'SPRING1342', 'SPRING0609', 'SPRING1319', 'SPRING4552', 'SPRING0070', 'SPRING0530', 'SPRING4569', 'SPRING4662', 'SPRING2422', 'SPRING1640', 'SPRING4659', 'SPRING4536', 'SPRING1427', 'SPRING2367', 'SPRING1407', 'SPRING0622', 'SPRING2928', 'SPRING4326', 'SPRING1157', 'SPRING2726', 'SPRING0522', 'SPRING1323', 'SPRING4758']\n",
            "1533\n"
          ]
        }
      ],
      "source": [
        "#print all model names of male models\n",
        "print(\"model names and lenght of male models:\")\n",
        "print(maleimg)\n",
        "print(len(maleimg))\n",
        "print(\" \")\n",
        "\n",
        "#print all model names of female models\n",
        "print(\"model names and lenght of female models:\")\n",
        "print(femaleimg)\n",
        "print(len(femaleimg))"
      ]
    },
    {
      "cell_type": "code",
      "execution_count": null,
      "metadata": {
        "id": "uK03fOvshOWI"
      },
      "outputs": [],
      "source": [
        "##\n",
        "'''\n",
        "Total images should be dividable by 10 otherwise the test will not work\n",
        "'''\n",
        "##\n",
        "\n",
        "#Randomize and split models random over train and test\n",
        "import random\n",
        "random.seed(2130)\n",
        "random.shuffle(maleimg)\n",
        "random.shuffle(femaleimg)\n",
        "\n",
        "##subset male \n",
        "#define subset\n",
        "maleimgsubset = maleimg[:800]\n",
        "\n",
        "#define train/val/test male\n",
        "train_datamale = maleimgsubset[:600]\n",
        "val_datamale = maleimgsubset[600:700]\n",
        "test_datamale = maleimgsubset[700:]\n",
        "\n",
        "##subset female \n",
        "#define subset\n",
        "femaleimgsubset = femaleimg[:800]\n",
        "\n",
        "#define train/val/test female\n",
        "train_datafemale = femaleimgsubset[:600]\n",
        "val_datafemale = femaleimgsubset[600:700]\n",
        "test_datafemale = femaleimgsubset[700:]"
      ]
    },
    {
      "cell_type": "code",
      "execution_count": null,
      "metadata": {
        "colab": {
          "base_uri": "https://localhost:8080/"
        },
        "id": "lRwDxuUahZex",
        "outputId": "2009ee98-947b-4da7-c486-6001bf02533e"
      },
      "outputs": [
        {
          "output_type": "stream",
          "name": "stdout",
          "text": [
            "['SPRING4743', 'SPRING1665', 'SPRING2752', 'SPRING1707', 'SPRING2998', 'SPRING2596', 'SPRING4138', 'SPRING2679', 'SPRING0108', 'SPRING2296', 'SPRING1439', 'SPRING1257', 'SPRING4478', 'SPRING1980', 'SPRING1482', 'SPRING0405', 'SPRING0152', 'SPRING2252', 'SPRING2396', 'SPRING4571', 'SPRING1036', 'SPRING0390', 'SPRING1511', 'SPRING4025', 'SPRING3012', 'SPRING4583', 'SPRING2709', 'SPRING4220', 'SPRING1075', 'SPRING4373', 'SPRING2299', 'SPRING2921', 'SPRING4112', 'SPRING2839', 'SPRING0512', 'SPRING1988', 'SPRING2831', 'SPRING4651', 'SPRING2428', 'SPRING2634', 'SPRING0285', 'SPRING0211', 'SPRING4048', 'SPRING1243', 'SPRING0580', 'SPRING1635', 'SPRING1052', 'SPRING1159', 'SPRING4692', 'SPRING0524', 'SPRING4375', 'SPRING1154', 'SPRING2695', 'SPRING2506', 'SPRING0595', 'SPRING2875', 'SPRING2881', 'SPRING2860', 'SPRING0431', 'SPRING0442', 'SPRING1330', 'SPRING1987', 'SPRING2591', 'SPRING0538', 'SPRING0198', 'SPRING0024', 'SPRING2376', 'SPRING2279', 'SPRING2892', 'SPRING0295', 'SPRING1577', 'SPRING2717', 'SPRING4056', 'SPRING4378', 'SPRING2780', 'SPRING1204', 'SPRING4411', 'SPRING2899', 'SPRING2867', 'SPRING4409', 'SPRING0514', 'SPRING0320', 'SPRING0135', 'SPRING4286', 'SPRING1054', 'SPRING0159', 'SPRING4045', 'SPRING1941', 'SPRING1445', 'SPRING2849', 'SPRING4186', 'SPRING2674', 'SPRING2638', 'SPRING2481', 'SPRING4689', 'SPRING4172', 'SPRING2576', 'SPRING4515', 'SPRING4113', 'SPRING2666', 'SPRING1712', 'SPRING1948', 'SPRING1483', 'SPRING0658', 'SPRING4403', 'SPRING0612', 'SPRING1193', 'SPRING1244', 'SPRING0228', 'SPRING0103', 'SPRING1067', 'SPRING3005', 'SPRING2912', 'SPRING1825', 'SPRING0539', 'SPRING0273', 'SPRING4649', 'SPRING1595', 'SPRING4208', 'SPRING0429', 'SPRING4345', 'SPRING1073', 'SPRING4795', 'SPRING1385', 'SPRING2504', 'SPRING4405', 'SPRING2974', 'SPRING1072', 'SPRING0553', 'SPRING2525', 'SPRING1278', 'SPRING4762', 'SPRING1641', 'SPRING1455', 'SPRING4485', 'SPRING0650', 'SPRING2151', 'SPRING2343', 'SPRING1572', 'SPRING4730', 'SPRING0313', 'SPRING0029', 'SPRING0314', 'SPRING0081', 'SPRING2945', 'SPRING4338', 'SPRING0523', 'SPRING0479', 'SPRING4176', 'SPRING1046', 'SPRING4319', 'SPRING2615', 'SPRING1117', 'SPRING0515', 'SPRING4134', 'SPRING4155', 'SPRING0576', 'SPRING2407', 'SPRING4234', 'SPRING4501', 'SPRING4637', 'SPRING0027', 'SPRING0009', 'SPRING4629', 'SPRING4661', 'SPRING0267', 'SPRING4621', 'SPRING0300', 'SPRING4185', 'SPRING0227', 'SPRING1735', 'SPRING1203', 'SPRING1574', 'SPRING2889', 'SPRING2043', 'SPRING2748', 'SPRING4658', 'SPRING4586', 'SPRING4333', 'SPRING2312', 'SPRING1031', 'SPRING0540', 'SPRING0012', 'SPRING0666', 'SPRING2775', 'SPRING1179', 'SPRING4039', 'SPRING2628', 'SPRING1567', 'SPRING1694', 'SPRING1228', 'SPRING0247', 'SPRING0250', 'SPRING1717', 'SPRING2656', 'SPRING2664', 'SPRING0013', 'SPRING4114', 'SPRING4724', 'SPRING4207', 'SPRING1674', 'SPRING0146', 'SPRING4324', 'SPRING2610', 'SPRING0281', 'SPRING1797', 'SPRING0549', 'SPRING1509', 'SPRING0574', 'SPRING4652', 'SPRING0129', 'SPRING1962', 'SPRING4729', 'SPRING1447', 'SPRING1868', 'SPRING2890', 'SPRING4638', 'SPRING1902', 'SPRING2621', 'SPRING1480', 'SPRING1153', 'SPRING2661', 'SPRING2503', 'SPRING1293', 'SPRING4053', 'SPRING4620', 'SPRING4381', 'SPRING2712', 'SPRING4481', 'SPRING4331', 'SPRING0606', 'SPRING1527', 'SPRING1521', 'SPRING1840', 'SPRING1756', 'SPRING1582', 'SPRING2409', 'SPRING0206', 'SPRING4180', 'SPRING4576', 'SPRING2435', 'SPRING0251', 'SPRING1702', 'SPRING1598', 'SPRING1814', 'SPRING1539', 'SPRING1274', 'SPRING4115', 'SPRING1887', 'SPRING2877', 'SPRING0562', 'SPRING1560', 'SPRING0229', 'SPRING1354', 'SPRING4051', 'SPRING0008', 'SPRING4591', 'SPRING1211', 'SPRING1340', 'SPRING4572', 'SPRING4432', 'SPRING1275', 'SPRING0259', 'SPRING2454', 'SPRING0398', 'SPRING4721', 'SPRING4407', 'SPRING2844', 'SPRING4433', 'SPRING4027', 'SPRING4352', 'SPRING2091', 'SPRING4527', 'SPRING2715', 'SPRING2863', 'SPRING4222', 'SPRING0403', 'SPRING0618', 'SPRING1804', 'SPRING0391', 'SPRING4018', 'SPRING4173', 'SPRING2387', 'SPRING4254', 'SPRING1488', 'SPRING1816', 'SPRING1670', 'SPRING1524', 'SPRING4437', 'SPRING2401', 'SPRING4059', 'SPRING4132', 'SPRING1080', 'SPRING1611', 'SPRING1502', 'SPRING1744', 'SPRING4194', 'SPRING0421', 'SPRING2540', 'SPRING2393', 'SPRING2589', 'SPRING1248', 'SPRING4580', 'SPRING1131', 'SPRING4641', 'SPRING2855', 'SPRING4334', 'SPRING1343', 'SPRING1205', 'SPRING0547', 'SPRING4312', 'SPRING2159', 'SPRING2541', 'SPRING2872', 'SPRING4357', 'SPRING1429', 'SPRING4161', 'SPRING2111', 'SPRING2962', 'SPRING2177', 'SPRING1847', 'SPRING4589', 'SPRING1339', 'SPRING1922', 'SPRING2653', 'SPRING4416', 'SPRING3000', 'SPRING4121', 'SPRING4698', 'SPRING1466', 'SPRING1041', 'SPRING0557', 'SPRING4593', 'SPRING4459', 'SPRING1985', 'SPRING4164', 'SPRING1486', 'SPRING4372', 'SPRING1224', 'SPRING2270', 'SPRING1852', 'SPRING1687', 'SPRING2330', 'SPRING1199', 'SPRING2488', 'SPRING2406', 'SPRING2582', 'SPRING0264', 'SPRING4274', 'SPRING0287', 'SPRING1517', 'SPRING0073', 'SPRING1377', 'SPRING2852', 'SPRING4514', 'SPRING4427', 'SPRING0180', 'SPRING1276', 'SPRING3015', 'SPRING2421', 'SPRING2460', 'SPRING2583', 'SPRING1044', 'SPRING4230', 'SPRING2112', 'SPRING1996', 'SPRING2847', 'SPRING4316', 'SPRING4558', 'SPRING1542', 'SPRING2649', 'SPRING2277', 'SPRING1790', 'SPRING0223', 'SPRING2494', 'SPRING2727', 'SPRING1818', 'SPRING1398', 'SPRING1185', 'SPRING1370', 'SPRING1878', 'SPRING1599', 'SPRING2549', 'SPRING0599', 'SPRING4060', 'SPRING0425', 'SPRING0493', 'SPRING0271', 'SPRING1495', 'SPRING2743', 'SPRING1267', 'SPRING1048', 'SPRING2485', 'SPRING2964', 'SPRING0447', 'SPRING1678', 'SPRING4168', 'SPRING4561', 'SPRING1122', 'SPRING1767', 'SPRING0297', 'SPRING1306', 'SPRING2483', 'SPRING0123', 'SPRING0373', 'SPRING4347', 'SPRING2063', 'SPRING2331', 'SPRING2956', 'SPRING2733', 'SPRING0657', 'SPRING2651', 'SPRING4573', 'SPRING4356', 'SPRING4545', 'SPRING1895', 'SPRING4128', 'SPRING4676', 'SPRING2975', 'SPRING0611', 'SPRING0533', 'SPRING1632', 'SPRING0396', 'SPRING1332', 'SPRING4094', 'SPRING1503', 'SPRING2761', 'SPRING2050', 'SPRING1688', 'SPRING1288', 'SPRING0546', 'SPRING1145', 'SPRING1553', 'SPRING0282', 'SPRING1265', 'SPRING1258', 'SPRING1266', 'SPRING1545', 'SPRING0625', 'SPRING2684', 'SPRING1588', 'SPRING4303', 'SPRING4701', 'SPRING0140', 'SPRING1507', 'SPRING1437', 'SPRING1593', 'SPRING0427', 'SPRING0030', 'SPRING4118', 'SPRING0588', 'SPRING4434', 'SPRING1129', 'SPRING2953', 'SPRING1842', 'SPRING4644', 'SPRING4542', 'SPRING2385', 'SPRING2267', 'SPRING0633', 'SPRING1682', 'SPRING1232', 'SPRING4282', 'SPRING1580', 'SPRING0485', 'SPRING1766', 'SPRING4075', 'SPRING1676', 'SPRING2790', 'SPRING0669', 'SPRING1690', 'SPRING2629', 'SPRING4597', 'SPRING0177', 'SPRING2271', 'SPRING4350', 'SPRING4560', 'SPRING0422', 'SPRING2876', 'SPRING0415', 'SPRING0420', 'SPRING4584', 'SPRING0474', 'SPRING1326', 'SPRING0564', 'SPRING2593', 'SPRING4133', 'SPRING2311', 'SPRING0318', 'SPRING4057', 'SPRING0450', 'SPRING4465', 'SPRING1425', 'SPRING2677', 'SPRING2637', 'SPRING0144', 'SPRING4322', 'SPRING2648', 'SPRING1699', 'SPRING4190', 'SPRING1097', 'SPRING2285', 'SPRING1295', 'SPRING0509', 'SPRING4749', 'SPRING4385', 'SPRING0301', 'SPRING2052', 'SPRING1654', 'SPRING1223', 'SPRING1966', 'SPRING4181', 'SPRING4538', 'SPRING0567', 'SPRING1808', 'SPRING4499', 'SPRING4330', 'SPRING1982', 'SPRING1613', 'SPRING2841', 'SPRING0441', 'SPRING4000', 'SPRING2602', 'SPRING1155', 'SPRING4687', 'SPRING1558', 'SPRING2143', 'SPRING1065', 'SPRING2920', 'SPRING2530', 'SPRING1866', 'SPRING0518', 'SPRING2783', 'SPRING0491', 'SPRING0525', 'SPRING0389', 'SPRING1320', 'SPRING1659', 'SPRING0197', 'SPRING4110', 'SPRING1045', 'SPRING3022', 'SPRING4183', 'SPRING0178', 'SPRING4206', 'SPRING1561', 'SPRING4156', 'SPRING4725', 'SPRING1255', 'SPRING3020', 'SPRING2072', 'SPRING1970', 'SPRING1609', 'SPRING0063', 'SPRING2257', 'SPRING4678', 'SPRING1681', 'SPRING4466', 'SPRING4211', 'SPRING4516', 'SPRING0568', 'SPRING1624', 'SPRING0058', 'SPRING0278', 'SPRING4474', 'SPRING2623', 'SPRING2439', 'SPRING1106', 'SPRING4256', 'SPRING1501', 'SPRING2543', 'SPRING2772', 'SPRING1489', 'SPRING0428', 'SPRING1720', 'SPRING0049', 'SPRING1514', 'SPRING4736', 'SPRING0186', 'SPRING4337', 'SPRING2631', 'SPRING4193', 'SPRING4223', 'SPRING4525', 'SPRING4353', 'SPRING4212', 'SPRING4165', 'SPRING1701', 'SPRING2058', 'SPRING4700', 'SPRING4358', 'SPRING4152', 'SPRING2960', 'SPRING4083', 'SPRING0263', 'SPRING1103', 'SPRING0311', 'SPRING1353', 'SPRING1329', 'SPRING2993']\n",
            "['SPRING1621', 'SPRING1666', 'SPRING1494', 'SPRING2718', 'SPRING0426', 'SPRING4290', 'SPRING0661', 'SPRING1639', 'SPRING4162', 'SPRING2778', 'SPRING1135', 'SPRING4415', 'SPRING4755', 'SPRING1479', 'SPRING2515', 'SPRING0555', 'SPRING0552', 'SPRING4653', 'SPRING1444', 'SPRING0238', 'SPRING1874', 'SPRING1551', 'SPRING2689', 'SPRING1584', 'SPRING1585', 'SPRING1642', 'SPRING4299', 'SPRING2148', 'SPRING0026', 'SPRING0255', 'SPRING1051', 'SPRING2926', 'SPRING4722', 'SPRING1113', 'SPRING0513', 'SPRING4627', 'SPRING1597', 'SPRING0330', 'SPRING4690', 'SPRING4505', 'SPRING4765', 'SPRING0157', 'SPRING4197', 'SPRING1465', 'SPRING4640', 'SPRING1937', 'SPRING2792', 'SPRING2474', 'SPRING0293', 'SPRING1569', 'SPRING1858', 'SPRING2003', 'SPRING4143', 'SPRING0591', 'SPRING0435', 'SPRING1957', 'SPRING4082', 'SPRING4035', 'SPRING4174', 'SPRING4320', 'SPRING2706', 'SPRING1082', 'SPRING2373', 'SPRING1850', 'SPRING1351', 'SPRING4667', 'SPRING0643', 'SPRING1601', 'SPRING4289', 'SPRING0443', 'SPRING1589', 'SPRING1571', 'SPRING4497', 'SPRING1110', 'SPRING1833', 'SPRING2477', 'SPRING1371', 'SPRING1236', 'SPRING1252', 'SPRING4032', 'SPRING0652', 'SPRING4634', 'SPRING0237', 'SPRING1392', 'SPRING4549', 'SPRING1794', 'SPRING2644', 'SPRING0242', 'SPRING0218', 'SPRING0132', 'SPRING0168', 'SPRING1149', 'SPRING1526', 'SPRING0505', 'SPRING0605', 'SPRING1317', 'SPRING1357', 'SPRING0165', 'SPRING2668', 'SPRING1395']\n",
            "['SPRING0561', 'SPRING0079', 'SPRING1590', 'SPRING4675', 'SPRING0582', 'SPRING0138', 'SPRING2468', 'SPRING1788', 'SPRING4585', 'SPRING2942', 'SPRING1190', 'SPRING1108', 'SPRING1272', 'SPRING1383', 'SPRING0142', 'SPRING0634', 'SPRING0411', 'SPRING2414', 'SPRING1490', 'SPRING0578', 'SPRING1411', 'SPRING2305', 'SPRING1438', 'SPRING1531', 'SPRING0647', 'SPRING1546', 'SPRING0028', 'SPRING1991', 'SPRING4147', 'SPRING2035', 'SPRING0201', 'SPRING4463', 'SPRING1668', 'SPRING1892', 'SPRING4590', 'SPRING1602', 'SPRING2769', 'SPRING4430', 'SPRING1993', 'SPRING2640', 'SPRING2971', 'SPRING4311', 'SPRING2893', 'SPRING0217', 'SPRING2378', 'SPRING1402', 'SPRING1792', 'SPRING1040', 'SPRING4366', 'SPRING4280', 'SPRING0623', 'SPRING0592', 'SPRING2823', 'SPRING4080', 'SPRING1146', 'SPRING4438', 'SPRING4425', 'SPRING4609', 'SPRING1364', 'SPRING1856', 'SPRING4408', 'SPRING2944', 'SPRING2738', 'SPRING1798', 'SPRING4423', 'SPRING0148', 'SPRING0209', 'SPRING4106', 'SPRING4050', 'SPRING2293', 'SPRING0639', 'SPRING0502', 'SPRING0550', 'SPRING0071', 'SPRING1092', 'SPRING1510', 'SPRING4078', 'SPRING2395', 'SPRING1055', 'SPRING2805', 'SPRING2824', 'SPRING2147', 'SPRING1500', 'SPRING1508', 'SPRING1186', 'SPRING2010', 'SPRING1404', 'SPRING0245', 'SPRING1628', 'SPRING2798', 'SPRING4336', 'SPRING4346', 'SPRING2624', 'SPRING2085', 'SPRING4565', 'SPRING2903', 'SPRING4401', 'SPRING2916', 'SPRING1519', 'SPRING4731']\n",
            "number off male models in train = 600\n",
            "number off male models in val = 100\n",
            "number off male models in test = 100\n",
            "total number off male models is = 800\n",
            " \n",
            "['SPRING1778', 'SPRING4343', 'SPRING4745', 'SPRING2570', 'SPRING2201', 'SPRING4718', 'SPRING4049', 'SPRING1619', 'SPRING2760', 'SPRING1921', 'SPRING1708', 'SPRING2673', 'SPRING2826', 'SPRING1891', 'SPRING4273', 'SPRING1733', 'SPRING2281', 'SPRING0630', 'SPRING1981', 'SPRING0387', 'SPRING4202', 'SPRING2286', 'SPRING1994', 'SPRING4267', 'SPRING2229', 'SPRING4737', 'SPRING1703', 'SPRING1423', 'SPRING0070', 'SPRING2704', 'SPRING2511', 'SPRING1448', 'SPRING2705', 'SPRING0499', 'SPRING2755', 'SPRING1969', 'SPRING4137', 'SPRING1815', 'SPRING4710', 'SPRING2388', 'SPRING4509', 'SPRING1047', 'SPRING1039', 'SPRING4204', 'SPRING1215', 'SPRING4726', 'SPRING1799', 'SPRING1361', 'SPRING1578', 'SPRING2978', 'SPRING0094', 'SPRING1359', 'SPRING1210', 'SPRING1618', 'SPRING2931', 'SPRING1738', 'SPRING4003', 'SPRING2452', 'SPRING2529', 'SPRING2344', 'SPRING0624', 'SPRING4523', 'SPRING4656', 'SPRING2630', 'SPRING4489', 'SPRING4747', 'SPRING1661', 'SPRING4612', 'SPRING2878', 'SPRING4278', 'SPRING1604', 'SPRING1314', 'SPRING1548', 'SPRING4260', 'SPRING4250', 'SPRING1867', 'SPRING4306', 'SPRING2940', 'SPRING1977', 'SPRING4199', 'SPRING1926', 'SPRING3010', 'SPRING4002', 'SPRING2884', 'SPRING2626', 'SPRING2618', 'SPRING4468', 'SPRING4748', 'SPRING1960', 'SPRING4772', 'SPRING1198', 'SPRING4195', 'SPRING2657', 'SPRING2742', 'SPRING2988', 'SPRING4751', 'SPRING1530', 'SPRING2348', 'SPRING4694', 'SPRING1576', 'SPRING1829', 'SPRING1469', 'SPRING1689', 'SPRING1315', 'SPRING2340', 'SPRING0174', 'SPRING1164', 'SPRING2493', 'SPRING0244', 'SPRING1894', 'SPRING4219', 'SPRING4554', 'SPRING0307', 'SPRING1909', 'SPRING2699', 'SPRING2527', 'SPRING1166', 'SPRING1754', 'SPRING2965', 'SPRING2425', 'SPRING4618', 'SPRING2302', 'SPRING0609', 'SPRING1939', 'SPRING4774', 'SPRING4628', 'SPRING2415', 'SPRING1672', 'SPRING4531', 'SPRING4760', 'SPRING0556', 'SPRING1565', 'SPRING1875', 'SPRING4526', 'SPRING4040', 'SPRING2730', 'SPRING2567', 'SPRING2934', 'SPRING1947', 'SPRING4777', 'SPRING4761', 'SPRING0226', 'SPRING1809', 'SPRING1718', 'SPRING1889', 'SPRING1741', 'SPRING0183', 'SPRING1787', 'SPRING4149', 'SPRING0054', 'SPRING2600', 'SPRING2838', 'SPRING2456', 'SPRING4493', 'SPRING4776', 'SPRING2491', 'SPRING2465', 'SPRING2873', 'SPRING4072', 'SPRING0581', 'SPRING0635', 'SPRING1758', 'SPRING2534', 'SPRING2018', 'SPRING0519', 'SPRING4595', 'SPRING2856', 'SPRING4471', 'SPRING1313', 'SPRING4341', 'SPRING4492', 'SPRING0594', 'SPRING1341', 'SPRING4540', 'SPRING0483', 'SPRING2708', 'SPRING4153', 'SPRING1935', 'SPRING2757', 'SPRING2782', 'SPRING4323', 'SPRING0469', 'SPRING1549', 'SPRING2368', 'SPRING1657', 'SPRING4510', 'SPRING2584', 'SPRING2868', 'SPRING1177', 'SPRING4354', 'SPRING4364', 'SPRING2595', 'SPRING2820', 'SPRING2941', 'SPRING1400', 'SPRING2513', 'SPRING2004', 'SPRING0208', 'SPRING1591', 'SPRING1773', 'SPRING1616', 'SPRING1822', 'SPRING2580', 'SPRING1919', 'SPRING3003', 'SPRING0646', 'SPRING4055', 'SPRING4200', 'SPRING1083', 'SPRING1078', 'SPRING2827', 'SPRING0231', 'SPRING2693', 'SPRING2405', 'SPRING2586', 'SPRING2533', 'SPRING4528', 'SPRING2989', 'SPRING4786', 'SPRING2996', 'SPRING2426', 'SPRING0072', 'SPRING0530', 'SPRING2609', 'SPRING1846', 'SPRING4122', 'SPRING2176', 'SPRING4014', 'SPRING1207', 'SPRING1603', 'SPRING4717', 'SPRING1803', 'SPRING2592', 'SPRING1127', 'SPRING2970', 'SPRING4787', 'SPRING4017', 'SPRING0464', 'SPRING4392', 'SPRING2352', 'SPRING4257', 'SPRING4662', 'SPRING1180', 'SPRING0075', 'SPRING1076', 'SPRING1434', 'SPRING0254', 'SPRING4043', 'SPRING0241', 'SPRING0256', 'SPRING1989', 'SPRING2952', 'SPRING2254', 'SPRING1843', 'SPRING4490', 'SPRING1368', 'SPRING1884', 'SPRING4781', 'SPRING0160', 'SPRING2995', 'SPRING2943', 'SPRING2455', 'SPRING1626', 'SPRING0589', 'SPRING2482', 'SPRING2413', 'SPRING4171', 'SPRING4645', 'SPRING4426', 'SPRING4166', 'SPRING1942', 'SPRING1817', 'SPRING2611', 'SPRING1470', 'SPRING4539', 'SPRING0656', 'SPRING1806', 'SPRING1414', 'SPRING1441', 'SPRING0127', 'SPRING4533', 'SPRING4157', 'SPRING4205', 'SPRING2216', 'SPRING1658', 'SPRING1845', 'SPRING2896', 'SPRING2946', 'SPRING2774', 'SPRING1431', 'SPRING4666', 'SPRING1212', 'SPRING1696', 'SPRING2119', 'SPRING1859', 'SPRING2750', 'SPRING2524', 'SPRING2429', 'SPRING1776', 'SPRING1945', 'SPRING1442', 'SPRING4553', 'SPRING2763', 'SPRING1362', 'SPRING2642', 'SPRING2486', 'SPRING1755', 'SPRING4300', 'SPRING4404', 'SPRING1781', 'SPRING1963', 'SPRING4456', 'SPRING4382', 'SPRING2861', 'SPRING1742', 'SPRING1630', 'SPRING4276', 'SPRING1062', 'SPRING0402', 'SPRING4116', 'SPRING1691', 'SPRING1158', 'SPRING2390', 'SPRING4146', 'SPRING1713', 'SPRING1382', 'SPRING1100', 'SPRING1074', 'SPRING0586', 'SPRING2172', 'SPRING2818', 'SPRING0060', 'SPRING4198', 'SPRING1700', 'SPRING2294', 'SPRING4140', 'SPRING0086', 'SPRING1831', 'SPRING4630', 'SPRING1636', 'SPRING2575', 'SPRING2585', 'SPRING0590', 'SPRING1419', 'SPRING1476', 'SPRING2516', 'SPRING4444', 'SPRING1711', 'SPRING1523', 'SPRING1764', 'SPRING1608', 'SPRING1752', 'SPRING1679', 'SPRING2672', 'SPRING2578', 'SPRING4348', 'SPRING4253', 'SPRING1363', 'SPRING3019', 'SPRING1978', 'SPRING2662', 'SPRING1901', 'SPRING0269', 'SPRING0468', 'SPRING0270', 'SPRING3027', 'SPRING1734', 'SPRING4243', 'SPRING1032', 'SPRING2386', 'SPRING2301', 'SPRING1417', 'SPRING2795', 'SPRING0074', 'SPRING1128', 'SPRING1930', 'SPRING2810', 'SPRING2462', 'SPRING1885', 'SPRING1405', 'SPRING1620', 'SPRING1144', 'SPRING4491', 'SPRING1493', 'SPRING4482', 'SPRING2724', 'SPRING1631', 'SPRING4588', 'SPRING0304', 'SPRING4089', 'SPRING2967', 'SPRING4028', 'SPRING4395', 'SPRING0409', 'SPRING2885', 'SPRING4098', 'SPRING4472', 'SPRING1086', 'SPRING1556', 'SPRING0239', 'SPRING2787', 'SPRING1725', 'SPRING2697', 'SPRING2901', 'SPRING2924', 'SPRING1934', 'SPRING4391', 'SPRING2603', 'SPRING1175', 'SPRING4090', 'SPRING0544', 'SPRING2851', 'SPRING1464', 'SPRING4175', 'SPRING0052', 'SPRING2118', 'SPRING2598', 'SPRING1997', 'SPRING0379', 'SPRING2258', 'SPRING1810', 'SPRING1774', 'SPRING2558', 'SPRING2701', 'SPRING0644', 'SPRING2766', 'SPRING4673', 'SPRING2013', 'SPRING4024', 'SPRING2898', 'SPRING4436', 'SPRING1671', 'SPRING2854', 'SPRING4495', 'SPRING1077', 'SPRING1474', 'SPRING2464', 'SPRING2736', 'SPRING2410', 'SPRING4109', 'SPRING4684', 'SPRING1477', 'SPRING2140', 'SPRING4105', 'SPRING2108', 'SPRING4325', 'SPRING4613', 'SPRING1729', 'SPRING1617', 'SPRING4142', 'SPRING4277', 'SPRING1563', 'SPRING0439', 'SPRING0055', 'SPRING0104', 'SPRING2711', 'SPRING4029', 'SPRING4418', 'SPRING2433', 'SPRING2789', 'SPRING4705', 'SPRING1089', 'SPRING1451', 'SPRING2829', 'SPRING0014', 'SPRING1958', 'SPRING2918', 'SPRING1098', 'SPRING1102', 'SPRING1953', 'SPRING0386', 'SPRING4370', 'SPRING2138', 'SPRING2659', 'SPRING4374', 'SPRING1540', 'SPRING0385', 'SPRING2295', 'SPRING2497', 'SPRING2837', 'SPRING1416', 'SPRING1986', 'SPRING2740', 'SPRING1789', 'SPRING2744', 'SPRING2555', 'SPRING2865', 'SPRING2487', 'SPRING2492', 'SPRING2427', 'SPRING0214', 'SPRING2150', 'SPRING0235', 'SPRING4704', 'SPRING2457', 'SPRING4794', 'SPRING0600', 'SPRING2647', 'SPRING4635', 'SPRING4031', 'SPRING4376', 'SPRING2369', 'SPRING4643', 'SPRING4663', 'SPRING2779', 'SPRING2619', 'SPRING2682', 'SPRING2453', 'SPRING1321', 'SPRING1906', 'SPRING4235', 'SPRING0116', 'SPRING1836', 'SPRING4111', 'SPRING0382', 'SPRING4406', 'SPRING2658', 'SPRING1972', 'SPRING1940', 'SPRING2579', 'SPRING2500', 'SPRING4654', 'SPRING0298', 'SPRING1769', 'SPRING1213', 'SPRING1760', 'SPRING2726', 'SPRING1917', 'SPRING1686', 'SPRING4435', 'SPRING1356', 'SPRING2484', 'SPRING1813', 'SPRING1911', 'SPRING0573', 'SPRING0090', 'SPRING0084', 'SPRING2000', 'SPRING2002', 'SPRING2009', 'SPRING0614', 'SPRING4246', 'SPRING4335', 'SPRING1462', 'SPRING0407', 'SPRING4720', 'SPRING2981', 'SPRING2490', 'SPRING1936', 'SPRING0476', 'SPRING4141', 'SPRING2547', 'SPRING4410', 'SPRING4575', 'SPRING2819', 'SPRING4708', 'SPRING4757', 'SPRING1123', 'SPRING4310', 'SPRING0119', 'SPRING4008', 'SPRING1660', 'SPRING2751', 'SPRING1925', 'SPRING1623', 'SPRING0662', 'SPRING4756', 'SPRING2632', 'SPRING4670', 'SPRING2417', 'SPRING4339', 'SPRING4506', 'SPRING1954', 'SPRING4770', 'SPRING2573', 'SPRING4251', 'SPRING1520', 'SPRING0252', 'SPRING2786', 'SPRING1719', 'SPRING2732', 'SPRING1749', 'SPRING2325', 'SPRING2361', 'SPRING4100', 'SPRING1998', 'SPRING4136', 'SPRING4672', 'SPRING4086', 'SPRING4507', 'SPRING2394', 'SPRING2400', 'SPRING4041', 'SPRING2620', 'SPRING4685', 'SPRING4696', 'SPRING4693', 'SPRING0383', 'SPRING2716', 'SPRING4544']\n",
            "['SPRING1345', 'SPRING2332', 'SPRING4552', 'SPRING2418', 'SPRING1070', 'SPRING2114', 'SPRING2336', 'SPRING2828', 'SPRING1931', 'SPRING4096', 'SPRING2334', 'SPRING2528', 'SPRING2350', 'SPRING2788', 'SPRING1975', 'SPRING2391', 'SPRING2298', 'SPRING4283', 'SPRING2398', 'SPRING4550', 'SPRING2412', 'SPRING2754', 'SPRING4221', 'SPRING0216', 'SPRING4709', 'SPRING1796', 'SPRING1821', 'SPRING0484', 'SPRING4340', 'SPRING2616', 'SPRING1140', 'SPRING1401', 'SPRING0125', 'SPRING4010', 'SPRING2731', 'SPRING1202', 'SPRING1390', 'SPRING4313', 'SPRING4659', 'SPRING4498', 'SPRING4587', 'SPRING2472', 'SPRING2797', 'SPRING2442', 'SPRING1673', 'SPRING2204', 'SPRING2345', 'SPRING2803', 'SPRING4502', 'SPRING1768', 'SPRING0378', 'SPRING0161', 'SPRING3006', 'SPRING0626', 'SPRING4636', 'SPRING4707', 'SPRING2273', 'SPRING1420', 'SPRING1387', 'SPRING2243', 'SPRING4006', 'SPRING2565', 'SPRING2646', 'SPRING2248', 'SPRING2509', 'SPRING2897', 'SPRING2574', 'SPRING1615', 'SPRING4285', 'SPRING0503', 'SPRING4305', 'SPRING1841', 'SPRING4414', 'SPRING4703', 'SPRING1410', 'SPRING0377', 'SPRING4445', 'SPRING0489', 'SPRING2800', 'SPRING4244', 'SPRING4268', 'SPRING1124', 'SPRING4723', 'SPRING2734', 'SPRING4022', 'SPRING1050', 'SPRING1983', 'SPRING1163', 'SPRING2815', 'SPRING1305', 'SPRING1730', 'SPRING1378', 'SPRING1157', 'SPRING4315', 'SPRING0412', 'SPRING4359', 'SPRING4023', 'SPRING0321', 'SPRING2384', 'SPRING3008']\n",
            "['SPRING1762', 'SPRING4365', 'SPRING2735', 'SPRING4566', 'SPRING4033', 'SPRING4451', 'SPRING1864', 'SPRING1877', 'SPRING4479', 'SPRING1908', 'SPRING1132', 'SPRING4686', 'SPRING2381', 'SPRING1056', 'SPRING2857', 'SPRING2374', 'SPRING4680', 'SPRING2561', 'SPRING4218', 'SPRING0092', 'SPRING2622', 'SPRING2552', 'SPRING2681', 'SPRING2768', 'SPRING0224', 'SPRING1965', 'SPRING1538', 'SPRING0089', 'SPRING4125', 'SPRING4646', 'SPRING0473', 'SPRING4252', 'SPRING2366', 'SPRING4744', 'SPRING2636', 'SPRING1310', 'SPRING2843', 'SPRING0475', 'SPRING4460', 'SPRING1896', 'SPRING4773', 'SPRING4275', 'SPRING4442', 'SPRING2422', 'SPRING1664', 'SPRING1913', 'SPRING4512', 'SPRING0185', 'SPRING4360', 'SPRING1109', 'SPRING4789', 'SPRING4753', 'SPRING3028', 'SPRING2557', 'SPRING1625', 'SPRING2537', 'SPRING4262', 'SPRING1060', 'SPRING2999', 'SPRING4062', 'SPRING2408', 'SPRING2771', 'SPRING0399', 'SPRING2900', 'SPRING1812', 'SPRING0260', 'SPRING0640', 'SPRING1137', 'SPRING1793', 'SPRING1554', 'SPRING4467', 'SPRING0249', 'SPRING4241', 'SPRING1795', 'SPRING0583', 'SPRING0175', 'SPRING0067', 'SPRING2300', 'SPRING2833', 'SPRING2173', 'SPRING0616', 'SPRING4178', 'SPRING2531', 'SPRING1648', 'SPRING4711', 'SPRING2362', 'SPRING2764', 'SPRING2572', 'SPRING2933', 'SPRING0438', 'SPRING2235', 'SPRING2784', 'SPRING1955', 'SPRING1087', 'SPRING2375', 'SPRING2722', 'SPRING4563', 'SPRING1723', 'SPRING0097', 'SPRING2441']\n",
            "number off female models in train = 600\n",
            "number off female models in val = 100\n",
            "number off female models in test = 100\n",
            "total number off female models is = 800\n"
          ]
        }
      ],
      "source": [
        "##\n",
        "'''\n",
        "Total images should be dividable by 10 otherwise the test will not work\n",
        "'''\n",
        "##\n",
        "\n",
        "#check if succesfull for male\n",
        "print(train_datamale)\n",
        "print(val_datamale)\n",
        "print(test_datamale)\n",
        "print(\"number off male models in train = \"+str(len(train_datamale)))\n",
        "print(\"number off male models in val = \"+str(len(val_datamale)))\n",
        "print(\"number off male models in test = \"+str(len(test_datamale)))\n",
        "print(\"total number off male models is = \"+str(len(test_datamale)+len(val_datamale)+len(train_datamale)))\n",
        "\n",
        "print(\" \")\n",
        "\n",
        "#check if succesfull for female\n",
        "print(train_datafemale)\n",
        "print(val_datafemale)\n",
        "print(test_datafemale)\n",
        "print(\"number off female models in train = \"+str(len(train_datafemale)))\n",
        "print(\"number off female models in val = \"+str(len(val_datafemale)))\n",
        "print(\"number off female models in test = \"+str(len(test_datafemale)))\n",
        "print(\"total number off female models is = \"+str(len(test_datafemale)+len(val_datafemale)+len(train_datafemale)))"
      ]
    },
    {
      "cell_type": "code",
      "execution_count": null,
      "metadata": {
        "id": "Wa6_VdJD1lsu"
      },
      "outputs": [],
      "source": [
        "#'SPRING0086' in train_datafemale\n",
        "#train_datafemale.append('SPRING0086')"
      ]
    },
    {
      "cell_type": "code",
      "execution_count": null,
      "metadata": {
        "id": "bJB-HLxRhfcw"
      },
      "outputs": [],
      "source": [
        "##\n",
        "'''\n",
        "Total images should be dividable by 10 otherwise the test will not work\n",
        "'''\n",
        "##\n",
        "## create train test split for both male and female models\n",
        "#male train\n",
        "destination_pathtrainmale = \"/content/malesetsplit/train\"\n",
        "os.makedirs(destination_pathtrainmale)\n",
        "#male val\n",
        "destination_pathvalmale = \"/content/malesetsplit/val\"\n",
        "os.makedirs(destination_pathvalmale)\n",
        "#male test\n",
        "destination_pathtestmale = \"/content/malesetsplit/test\"\n",
        "os.makedirs(destination_pathtestmale)\n",
        "\n",
        "#female train\n",
        "destination_pathtrainfemale = \"/content/femalesetsplit/train\"\n",
        "os.makedirs(destination_pathtrainfemale)\n",
        "#female val\n",
        "destination_pathvalfemale = \"/content/femalesetsplit/val\"\n",
        "os.makedirs(destination_pathvalfemale)\n",
        "#female test\n",
        "destination_pathtestfemale = \"/content/femalesetsplit/test\"\n",
        "os.makedirs(destination_pathtestfemale)"
      ]
    },
    {
      "cell_type": "code",
      "execution_count": null,
      "metadata": {
        "colab": {
          "base_uri": "https://localhost:8080/",
          "height": 37
        },
        "id": "Tx1qpDx-wt3I",
        "outputId": "8297fb93-41ca-4d2e-9f2e-4df2d13749f5"
      },
      "outputs": [
        {
          "output_type": "execute_result",
          "data": {
            "application/vnd.google.colaboratory.intrinsic+json": {
              "type": "string"
            },
            "text/plain": [
              "'/content/femaleset/SPRING0086'"
            ]
          },
          "metadata": {},
          "execution_count": 15
        }
      ],
      "source": [
        "original = r'/content/femaleset/SPRING0078/SPRING0086'\n",
        "target = r'/content/femaleset'\n",
        "\n",
        "shutil.move(original,target)"
      ]
    },
    {
      "cell_type": "code",
      "execution_count": null,
      "metadata": {
        "id": "VJGWCP2Ehfog"
      },
      "outputs": [],
      "source": [
        "## create trainlabels for males and females\n",
        "\n",
        "\n",
        "#train male\n",
        "for trainlabel in train_datamale:\n",
        "  pattern = \"/content/maleset/\"+trainlabel+\"/*\" \n",
        "  for img in glob.glob(pattern):\n",
        "    shutil.copy(img, destination_pathtrainmale)\n",
        "\n",
        "#val male\n",
        "for vallabel in val_datamale:\n",
        "  pattern = \"/content/maleset/\"+vallabel+\"/*\" \n",
        "  for img in glob.glob(pattern):\n",
        "    shutil.copy(img, destination_pathvalmale)\n",
        "\n",
        "#test male\n",
        "for testlabel in test_datamale:\n",
        "  pattern = \"/content/maleset/\"+testlabel+\"/*\" \n",
        "  for img in glob.glob(pattern):\n",
        "    shutil.copy(img, destination_pathtestmale)\n",
        "\n",
        "\n",
        "\n",
        "\n",
        "#train female\n",
        "for trainlabel in train_datafemale:\n",
        "  pattern = \"/content/femaleset/\"+trainlabel+\"/*\" \n",
        "  for img in glob.glob(pattern):\n",
        "    shutil.copy(img, destination_pathtrainfemale)\n",
        "\n",
        "\n",
        "#val female\n",
        "for vallabel in val_datafemale:\n",
        "  pattern = \"/content/femaleset/\"+vallabel+\"/*\" \n",
        "  for img in glob.glob(pattern):\n",
        "    shutil.copy(img, destination_pathvalfemale)\n",
        "\n",
        "#test female\n",
        "for testlabel in test_datafemale:\n",
        "  pattern = \"/content/femaleset/\"+testlabel+\"/*\" \n",
        "  for img in glob.glob(pattern):\n",
        "    shutil.copy(img, destination_pathtestfemale)"
      ]
    },
    {
      "cell_type": "code",
      "execution_count": null,
      "metadata": {
        "colab": {
          "base_uri": "https://localhost:8080/"
        },
        "id": "XgZUv9ZvhfsZ",
        "outputId": "bc28b34d-b451-491c-e3dc-b668a0c21e34"
      },
      "outputs": [
        {
          "output_type": "stream",
          "name": "stdout",
          "text": [
            "male\n",
            "111000\n",
            "18500\n",
            "18500\n",
            "600.0\n",
            "100.0\n",
            "100.0\n",
            " \n",
            "female\n",
            "111000\n",
            "18500\n",
            "18500\n",
            "600.0\n",
            "100.0\n",
            "100.0\n"
          ]
        }
      ],
      "source": [
        "#check for male\n",
        "print(\"male\")\n",
        "maleimgtrain = os.listdir(\"/content/malesetsplit/train\")\n",
        "maleimgval = os.listdir(\"/content/malesetsplit/val\")\n",
        "maleimgtest = os.listdir(\"/content/malesetsplit/test\")\n",
        "print(len(maleimgtrain))\n",
        "print(len(maleimgval))\n",
        "print(len(maleimgtest))\n",
        "print(len(maleimgtrain)/185)\n",
        "print(len(maleimgval)/185)\n",
        "print(len(maleimgtest)/185)\n",
        "\n",
        "print(\" \")\n",
        "\n",
        "#check for female\n",
        "print(\"female\")\n",
        "femaleimgtrain = os.listdir(\"/content/femalesetsplit/train\")\n",
        "femaleimgval = os.listdir(\"/content/femalesetsplit/val\")\n",
        "femaleimgtest = os.listdir(\"/content/femalesetsplit/test\")\n",
        "print(len(femaleimgtrain))\n",
        "print(len(femaleimgval))\n",
        "print(len(femaleimgtest))\n",
        "print(len(femaleimgtrain)/185)\n",
        "print(len(femaleimgval)/185)\n",
        "print(len(femaleimgtest)/185)\n"
      ]
    },
    {
      "cell_type": "markdown",
      "metadata": {
        "id": "9vZrj_grhskS"
      },
      "source": [
        "# **Loading principal components and create data generators**"
      ]
    },
    {
      "cell_type": "code",
      "execution_count": 4,
      "metadata": {
        "id": "UhGZiSAv3mhK"
      },
      "outputs": [],
      "source": [
        "# load principal components\n",
        "## female principal components\n",
        "df1=pd.read_excel(\"/content/drive/MyDrive/Thesis_sep_2021/FemalePCs.xlsx\")\n",
        "\n",
        "## male principa components\n",
        "df2=pd.read_excel(\"/content/drive/MyDrive/Thesis_sep_2021/MalePCs.xlsx\")"
      ]
    },
    {
      "cell_type": "code",
      "execution_count": null,
      "metadata": {
        "colab": {
          "base_uri": "https://localhost:8080/"
        },
        "id": "kYTW5opy4J4_",
        "outputId": "8c3d52bc-7014-4473-eb4d-51a66275997b"
      },
      "outputs": [
        {
          "output_type": "stream",
          "name": "stdout",
          "text": [
            "         Filename      PC 1      PC 2  ...      PC 9      PC10     \n",
            "0  SPRING0001.obj  8.120067 -0.261363  ... -0.363386 -0.408759  NaN\n",
            "1  SPRING0014.obj -2.723997  0.760398  ... -0.127238  0.925548     \n",
            "2  SPRING0015.obj -4.214653 -0.922275  ... -0.718815 -0.289657     \n",
            "3  SPRING0017.obj -3.685222  1.550137  ... -0.022902  0.256028     \n",
            "4  SPRING0052.obj -4.566391 -1.113222  ...  0.304093  0.908402     \n",
            "\n",
            "[5 rows x 12 columns]\n",
            "         Filename      PC 1      PC 2  ...      PC 9      PC10   \n",
            "0  SPRING0001.obj  8.120067 -0.261363  ... -0.363386 -0.408759   \n",
            "1  SPRING0002.obj  4.453033 -1.078755  ... -0.213788  0.168963   \n",
            "2  SPRING0007.obj -2.934991 -1.339783  ... -0.713374  0.244707   \n",
            "3  SPRING0008.obj  4.353720  0.189972  ...  1.220515  0.100544   \n",
            "4  SPRING0009.obj -0.778509 -0.409938  ...  0.358052  0.529252   \n",
            "\n",
            "[5 rows x 12 columns]\n"
          ]
        }
      ],
      "source": [
        "print(df1.head())\n",
        "print(df2.head())"
      ]
    },
    {
      "cell_type": "code",
      "source": [
        "print('male'+ str(df2.mean()))\n",
        "print('female'+ str(df1.mean()))\n",
        "\n",
        "print('male'+ str(df2.var()))\n",
        "print('female'+ str(df1.var()))"
      ],
      "metadata": {
        "colab": {
          "base_uri": "https://localhost:8080/"
        },
        "id": "BSYs_qqsrWXr",
        "outputId": "386a90b3-b7dd-473a-fded-56d2b1d34e19"
      },
      "execution_count": 6,
      "outputs": [
        {
          "output_type": "stream",
          "name": "stdout",
          "text": [
            "male PC 1   -3.955174e-09\n",
            " PC 2   -7.251154e-09\n",
            " PC 3    3.295979e-09\n",
            " PC 4   -1.186552e-08\n",
            " PC 5    5.932762e-09\n",
            " PC 6   -6.591958e-09\n",
            " PC 7   -1.384311e-08\n",
            " PC 8    7.910349e-09\n",
            " PC 9   -6.591958e-09\n",
            " PC10    1.977587e-09\n",
            "dtype: float64\n",
            "female PC 1    0.005300\n",
            " PC 2   -0.000171\n",
            " PC 3   -0.003023\n",
            " PC 4   -0.002770\n",
            " PC 5    0.000816\n",
            " PC 6    0.000652\n",
            " PC 7    0.000678\n",
            " PC 8    0.000155\n",
            " PC 9   -0.000237\n",
            " PC10   -0.000267\n",
            "dtype: float64\n",
            "male PC 1    33.282292\n",
            " PC 2     4.929390\n",
            " PC 3     2.200926\n",
            " PC 4     1.892179\n",
            " PC 5     0.910896\n",
            " PC 6     0.813812\n",
            " PC 7     0.683800\n",
            " PC 8     0.555304\n",
            " PC 9     0.397770\n",
            " PC10     0.387494\n",
            "dtype: float64\n",
            "female PC 1    27.282219\n",
            " PC 2     4.109531\n",
            " PC 3     2.672154\n",
            " PC 4     1.883182\n",
            " PC 5     0.878099\n",
            " PC 6     0.839379\n",
            " PC 7     0.616352\n",
            " PC 8     0.595511\n",
            " PC 9     0.408717\n",
            " PC10     0.343462\n",
            "dtype: float64\n"
          ]
        }
      ]
    },
    {
      "cell_type": "code",
      "execution_count": null,
      "metadata": {
        "id": "yG5o8TopykYo"
      },
      "outputs": [],
      "source": [
        "l1male=os.listdir(\"/content/malesetsplit/train\")\n",
        "l2male=os.listdir(\"/content/malesetsplit/val\") \n",
        "l3male=os.listdir(\"/content/malesetsplit/test\")\n",
        "\n",
        "l1female=os.listdir(\"/content/femalesetsplit/train\")\n",
        "l2female=os.listdir(\"/content/femalesetsplit/val\")\n",
        "l3female=os.listdir(\"/content/femalesetsplit/test\")\n"
      ]
    },
    {
      "cell_type": "code",
      "execution_count": null,
      "metadata": {
        "id": "G5E50UG8xUth"
      },
      "outputs": [],
      "source": [
        "# Name list creation\n",
        "namem=[]\n",
        "namefm=[]\n",
        "\n",
        "for i in range(len(df1)):\n",
        "  namefm.append(df1.Filename.iloc[i][:10])\n",
        "\n",
        "for i in range(len(df2)):\n",
        "  namem.append(df2.Filename.iloc[i][:10])"
      ]
    },
    {
      "cell_type": "code",
      "execution_count": null,
      "metadata": {
        "colab": {
          "base_uri": "https://localhost:8080/"
        },
        "id": "SPYLeBiE805a",
        "outputId": "429ded1c-3a90-40f8-d597-494356c4e006"
      },
      "outputs": [
        {
          "output_type": "stream",
          "name": "stdout",
          "text": [
            "['SPRING0001', 'SPRING0014', 'SPRING0015', 'SPRING0017', 'SPRING0052', 'SPRING0053', 'SPRING0054', 'SPRING0055', 'SPRING0056', 'SPRING0060', 'SPRING0064', 'SPRING0065', 'SPRING0067', 'SPRING0069', 'SPRING0070', 'SPRING0072', 'SPRING0074', 'SPRING0075', 'SPRING0076', 'SPRING0078', 'SPRING0083', 'SPRING0084', 'SPRING0086', 'SPRING0087', 'SPRING0089', 'SPRING0090', 'SPRING0092', 'SPRING0093', 'SPRING0094', 'SPRING0095', 'SPRING0096', 'SPRING0097', 'SPRING0099', 'SPRING0104', 'SPRING0113', 'SPRING0114', 'SPRING0115', 'SPRING0116', 'SPRING0118', 'SPRING0119', 'SPRING0121', 'SPRING0125', 'SPRING0127', 'SPRING0134', 'SPRING0136', 'SPRING0143', 'SPRING0158', 'SPRING0160', 'SPRING0161', 'SPRING0163', 'SPRING0166', 'SPRING0174', 'SPRING0175', 'SPRING0176', 'SPRING0182', 'SPRING0183', 'SPRING0185', 'SPRING0189', 'SPRING0192', 'SPRING0195', 'SPRING0203', 'SPRING0208', 'SPRING0210', 'SPRING0213', 'SPRING0214', 'SPRING0216', 'SPRING0219', 'SPRING0222', 'SPRING0224', 'SPRING0225', 'SPRING0226', 'SPRING0231', 'SPRING0233', 'SPRING0235', 'SPRING0236', 'SPRING0239', 'SPRING0241', 'SPRING0243', 'SPRING0244', 'SPRING0249', 'SPRING0252', 'SPRING0254', 'SPRING0256', 'SPRING0257', 'SPRING0258', 'SPRING0260', 'SPRING0265', 'SPRING0268', 'SPRING0269', 'SPRING0270', 'SPRING0277', 'SPRING0283', 'SPRING0286', 'SPRING0288', 'SPRING0290', 'SPRING0298', 'SPRING0304', 'SPRING0307', 'SPRING0309', 'SPRING0310', 'SPRING0317', 'SPRING0321', 'SPRING0327', 'SPRING0377', 'SPRING0378', 'SPRING0379', 'SPRING0380', 'SPRING0381', 'SPRING0382', 'SPRING0383', 'SPRING0384', 'SPRING0385', 'SPRING0386', 'SPRING0387', 'SPRING0392', 'SPRING0393', 'SPRING0399', 'SPRING0400', 'SPRING0401', 'SPRING0402', 'SPRING0404', 'SPRING0407', 'SPRING0408', 'SPRING0409', 'SPRING0412', 'SPRING0413', 'SPRING0416', 'SPRING0417', 'SPRING0418', 'SPRING0434', 'SPRING0438', 'SPRING0439', 'SPRING0452', 'SPRING0461', 'SPRING0464', 'SPRING0465', 'SPRING0468', 'SPRING0469', 'SPRING0472', 'SPRING0473', 'SPRING0475', 'SPRING0476', 'SPRING0480', 'SPRING0482', 'SPRING0483', 'SPRING0484', 'SPRING0489', 'SPRING0490', 'SPRING0499', 'SPRING0503', 'SPRING0519', 'SPRING0522', 'SPRING0530', 'SPRING0544', 'SPRING0556', 'SPRING0569', 'SPRING0573', 'SPRING0581', 'SPRING0583', 'SPRING0586', 'SPRING0589', 'SPRING0590', 'SPRING0593', 'SPRING0594', 'SPRING0598', 'SPRING0600', 'SPRING0607', 'SPRING0609', 'SPRING0614', 'SPRING0615', 'SPRING0616', 'SPRING0621', 'SPRING0622', 'SPRING0624', 'SPRING0626', 'SPRING0627', 'SPRING0628', 'SPRING0630', 'SPRING0635', 'SPRING0640', 'SPRING0642', 'SPRING0644', 'SPRING0646', 'SPRING0649', 'SPRING0651', 'SPRING0655', 'SPRING0656', 'SPRING0662', 'SPRING0663', 'SPRING0668', 'SPRING1032', 'SPRING1035', 'SPRING1038', 'SPRING1039', 'SPRING1047', 'SPRING1050', 'SPRING1056', 'SPRING1057', 'SPRING1058', 'SPRING1060', 'SPRING1061', 'SPRING1062', 'SPRING1063', 'SPRING1068', 'SPRING1070', 'SPRING1074', 'SPRING1076', 'SPRING1077', 'SPRING1078', 'SPRING1079', 'SPRING1081', 'SPRING1083', 'SPRING1084', 'SPRING1086', 'SPRING1087', 'SPRING1088', 'SPRING1089', 'SPRING1095', 'SPRING1096', 'SPRING1098', 'SPRING1100', 'SPRING1101', 'SPRING1102', 'SPRING1105', 'SPRING1109', 'SPRING1116', 'SPRING1118', 'SPRING1121', 'SPRING1123', 'SPRING1124', 'SPRING1125', 'SPRING1127', 'SPRING1128', 'SPRING1130', 'SPRING1132', 'SPRING1136', 'SPRING1137', 'SPRING1138', 'SPRING1139', 'SPRING1140', 'SPRING1141', 'SPRING1142', 'SPRING1144', 'SPRING1148', 'SPRING1150', 'SPRING1152', 'SPRING1157', 'SPRING1158', 'SPRING1160', 'SPRING1162', 'SPRING1163', 'SPRING1164', 'SPRING1166', 'SPRING1167', 'SPRING1168', 'SPRING1171', 'SPRING1174', 'SPRING1175', 'SPRING1177', 'SPRING1178', 'SPRING1180', 'SPRING1182', 'SPRING1183', 'SPRING1184', 'SPRING1194', 'SPRING1195', 'SPRING1197', 'SPRING1198', 'SPRING1200', 'SPRING1201', 'SPRING1202', 'SPRING1207', 'SPRING1208', 'SPRING1209', 'SPRING1210', 'SPRING1212', 'SPRING1213', 'SPRING1214', 'SPRING1215', 'SPRING1304', 'SPRING1305', 'SPRING1307', 'SPRING1309', 'SPRING1310', 'SPRING1311', 'SPRING1312', 'SPRING1313', 'SPRING1314', 'SPRING1315', 'SPRING1316', 'SPRING1319', 'SPRING1321', 'SPRING1323', 'SPRING1324', 'SPRING1331', 'SPRING1336', 'SPRING1341', 'SPRING1342', 'SPRING1345', 'SPRING1350', 'SPRING1356', 'SPRING1359', 'SPRING1360', 'SPRING1361', 'SPRING1362', 'SPRING1363', 'SPRING1365', 'SPRING1368', 'SPRING1369', 'SPRING1372', 'SPRING1373', 'SPRING1374', 'SPRING1375', 'SPRING1376', 'SPRING1378', 'SPRING1379', 'SPRING1381', 'SPRING1382', 'SPRING1387', 'SPRING1388', 'SPRING1389', 'SPRING1390', 'SPRING1391', 'SPRING1396', 'SPRING1399', 'SPRING1400', 'SPRING1401', 'SPRING1403', 'SPRING1405', 'SPRING1407', 'SPRING1409', 'SPRING1410', 'SPRING1413', 'SPRING1414', 'SPRING1415', 'SPRING1416', 'SPRING1417', 'SPRING1418', 'SPRING1419', 'SPRING1420', 'SPRING1421', 'SPRING1422', 'SPRING1423', 'SPRING1424', 'SPRING1426', 'SPRING1427', 'SPRING1431', 'SPRING1432', 'SPRING1433', 'SPRING1434', 'SPRING1435', 'SPRING1436', 'SPRING1441', 'SPRING1442', 'SPRING1448', 'SPRING1449', 'SPRING1451', 'SPRING1452', 'SPRING1453', 'SPRING1454', 'SPRING1456', 'SPRING1458', 'SPRING1459', 'SPRING1460', 'SPRING1462', 'SPRING1464', 'SPRING1467', 'SPRING1468', 'SPRING1469', 'SPRING1470', 'SPRING1472', 'SPRING1474', 'SPRING1475', 'SPRING1476', 'SPRING1477', 'SPRING1492', 'SPRING1493', 'SPRING1496', 'SPRING1506', 'SPRING1512', 'SPRING1520', 'SPRING1523', 'SPRING1525', 'SPRING1530', 'SPRING1532', 'SPRING1535', 'SPRING1538', 'SPRING1540', 'SPRING1541', 'SPRING1544', 'SPRING1548', 'SPRING1549', 'SPRING1554', 'SPRING1556', 'SPRING1557', 'SPRING1563', 'SPRING1565', 'SPRING1566', 'SPRING1573', 'SPRING1575', 'SPRING1576', 'SPRING1578', 'SPRING1591', 'SPRING1592', 'SPRING1603', 'SPRING1604', 'SPRING1605', 'SPRING1606', 'SPRING1607', 'SPRING1608', 'SPRING1615', 'SPRING1616', 'SPRING1617', 'SPRING1618', 'SPRING1619', 'SPRING1620', 'SPRING1622', 'SPRING1623', 'SPRING1625', 'SPRING1626', 'SPRING1627', 'SPRING1629', 'SPRING1630', 'SPRING1631', 'SPRING1634', 'SPRING1636', 'SPRING1638', 'SPRING1640', 'SPRING1644', 'SPRING1646', 'SPRING1647', 'SPRING1648', 'SPRING1649', 'SPRING1652', 'SPRING1657', 'SPRING1658', 'SPRING1660', 'SPRING1661', 'SPRING1663', 'SPRING1664', 'SPRING1669', 'SPRING1671', 'SPRING1672', 'SPRING1673', 'SPRING1675', 'SPRING1679', 'SPRING1680', 'SPRING1683', 'SPRING1685', 'SPRING1686', 'SPRING1689', 'SPRING1691', 'SPRING1696', 'SPRING1700', 'SPRING1703', 'SPRING1705', 'SPRING1706', 'SPRING1708', 'SPRING1709', 'SPRING1711', 'SPRING1713', 'SPRING1716', 'SPRING1718', 'SPRING1719', 'SPRING1721', 'SPRING1722', 'SPRING1723', 'SPRING1724', 'SPRING1725', 'SPRING1726', 'SPRING1727', 'SPRING1728', 'SPRING1729', 'SPRING1730', 'SPRING1731', 'SPRING1732', 'SPRING1733', 'SPRING1734', 'SPRING1736', 'SPRING1738', 'SPRING1739', 'SPRING1741', 'SPRING1742', 'SPRING1743', 'SPRING1746', 'SPRING1748', 'SPRING1749', 'SPRING1750', 'SPRING1751', 'SPRING1752', 'SPRING1753', 'SPRING1754', 'SPRING1755', 'SPRING1757', 'SPRING1758', 'SPRING1760', 'SPRING1762', 'SPRING1763', 'SPRING1764', 'SPRING1765', 'SPRING1768', 'SPRING1769', 'SPRING1770', 'SPRING1771', 'SPRING1772', 'SPRING1773', 'SPRING1774', 'SPRING1775', 'SPRING1776', 'SPRING1778', 'SPRING1779', 'SPRING1781', 'SPRING1782', 'SPRING1783', 'SPRING1784', 'SPRING1787', 'SPRING1789', 'SPRING1791', 'SPRING1793', 'SPRING1795', 'SPRING1796', 'SPRING1799', 'SPRING1801', 'SPRING1802', 'SPRING1803', 'SPRING1805', 'SPRING1806', 'SPRING1807', 'SPRING1809', 'SPRING1810', 'SPRING1811', 'SPRING1812', 'SPRING1813', 'SPRING1815', 'SPRING1817', 'SPRING1820', 'SPRING1821', 'SPRING1822', 'SPRING1824', 'SPRING1827', 'SPRING1828', 'SPRING1829', 'SPRING1830', 'SPRING1831', 'SPRING1832', 'SPRING1836', 'SPRING1837', 'SPRING1838', 'SPRING1841', 'SPRING1843', 'SPRING1844', 'SPRING1845', 'SPRING1846', 'SPRING1849', 'SPRING1853', 'SPRING1854', 'SPRING1855', 'SPRING1857', 'SPRING1859', 'SPRING1861', 'SPRING1862', 'SPRING1863', 'SPRING1864', 'SPRING1865', 'SPRING1867', 'SPRING1869', 'SPRING1870', 'SPRING1871', 'SPRING1875', 'SPRING1876', 'SPRING1877', 'SPRING1879', 'SPRING1881', 'SPRING1882', 'SPRING1883', 'SPRING1884', 'SPRING1885', 'SPRING1886', 'SPRING1888', 'SPRING1889', 'SPRING1891', 'SPRING1894', 'SPRING1896', 'SPRING1897', 'SPRING1898', 'SPRING1899', 'SPRING1901', 'SPRING1905', 'SPRING1906', 'SPRING1908', 'SPRING1909', 'SPRING1911', 'SPRING1912', 'SPRING1913', 'SPRING1914', 'SPRING1915', 'SPRING1916', 'SPRING1917', 'SPRING1919', 'SPRING1921', 'SPRING1923', 'SPRING1924', 'SPRING1925', 'SPRING1926', 'SPRING1928', 'SPRING1930', 'SPRING1931', 'SPRING1932', 'SPRING1934', 'SPRING1935', 'SPRING1936', 'SPRING1938', 'SPRING1939', 'SPRING1940', 'SPRING1942', 'SPRING1944', 'SPRING1945', 'SPRING1946', 'SPRING1947', 'SPRING1949', 'SPRING1950', 'SPRING1951', 'SPRING1952', 'SPRING1953', 'SPRING1954', 'SPRING1955', 'SPRING1956', 'SPRING1958', 'SPRING1960', 'SPRING1961', 'SPRING1963', 'SPRING1964', 'SPRING1965', 'SPRING1967', 'SPRING1969', 'SPRING1971', 'SPRING1972', 'SPRING1973', 'SPRING1975', 'SPRING1976', 'SPRING1977', 'SPRING1978', 'SPRING1979', 'SPRING1981', 'SPRING1983', 'SPRING1984', 'SPRING1986', 'SPRING1989', 'SPRING1990', 'SPRING1992', 'SPRING1994', 'SPRING1995', 'SPRING1997', 'SPRING1998', 'SPRING1999', 'SPRING2000', 'SPRING2002', 'SPRING2004', 'SPRING2005', 'SPRING2007', 'SPRING2008', 'SPRING2009', 'SPRING2011', 'SPRING2012', 'SPRING2013', 'SPRING2015', 'SPRING2016', 'SPRING2017', 'SPRING2018', 'SPRING2108', 'SPRING2109', 'SPRING2113', 'SPRING2114', 'SPRING2115', 'SPRING2116', 'SPRING2117', 'SPRING2118', 'SPRING2119', 'SPRING2132', 'SPRING2136', 'SPRING2138', 'SPRING2140', 'SPRING2149', 'SPRING2150', 'SPRING2158', 'SPRING2160', 'SPRING2172', 'SPRING2173', 'SPRING2174', 'SPRING2176', 'SPRING2189', 'SPRING2196', 'SPRING2201', 'SPRING2203', 'SPRING2204', 'SPRING2216', 'SPRING2229', 'SPRING2235', 'SPRING2243', 'SPRING2248', 'SPRING2254', 'SPRING2258', 'SPRING2262', 'SPRING2269', 'SPRING2273', 'SPRING2280', 'SPRING2281', 'SPRING2282', 'SPRING2284', 'SPRING2286', 'SPRING2287', 'SPRING2294', 'SPRING2295', 'SPRING2297', 'SPRING2298', 'SPRING2300', 'SPRING2301', 'SPRING2302', 'SPRING2303', 'SPRING2306', 'SPRING2316', 'SPRING2317', 'SPRING2323', 'SPRING2325', 'SPRING2326', 'SPRING2332', 'SPRING2334', 'SPRING2336', 'SPRING2339', 'SPRING2340', 'SPRING2344', 'SPRING2345', 'SPRING2346', 'SPRING2347', 'SPRING2348', 'SPRING2350', 'SPRING2352', 'SPRING2353', 'SPRING2354', 'SPRING2355', 'SPRING2356', 'SPRING2357', 'SPRING2358', 'SPRING2359', 'SPRING2360', 'SPRING2361', 'SPRING2362', 'SPRING2363', 'SPRING2364', 'SPRING2365', 'SPRING2366', 'SPRING2367', 'SPRING2368', 'SPRING2369', 'SPRING2370', 'SPRING2371', 'SPRING2372', 'SPRING2374', 'SPRING2375', 'SPRING2377', 'SPRING2379', 'SPRING2380', 'SPRING2381', 'SPRING2382', 'SPRING2383', 'SPRING2384', 'SPRING2386', 'SPRING2388', 'SPRING2389', 'SPRING2390', 'SPRING2391', 'SPRING2394', 'SPRING2397', 'SPRING2398', 'SPRING2399', 'SPRING2400', 'SPRING2402', 'SPRING2404', 'SPRING2405', 'SPRING2408', 'SPRING2410', 'SPRING2411', 'SPRING2412', 'SPRING2413', 'SPRING2415', 'SPRING2416', 'SPRING2417', 'SPRING2418', 'SPRING2419', 'SPRING2422', 'SPRING2423', 'SPRING2424', 'SPRING2425', 'SPRING2426', 'SPRING2427', 'SPRING2429', 'SPRING2430', 'SPRING2431', 'SPRING2433', 'SPRING2434', 'SPRING2436', 'SPRING2437', 'SPRING2438', 'SPRING2440', 'SPRING2441', 'SPRING2442', 'SPRING2443', 'SPRING2445', 'SPRING2450', 'SPRING2451', 'SPRING2452', 'SPRING2453', 'SPRING2455', 'SPRING2456', 'SPRING2457', 'SPRING2461', 'SPRING2462', 'SPRING2463', 'SPRING2464', 'SPRING2465', 'SPRING2466', 'SPRING2469', 'SPRING2471', 'SPRING2472', 'SPRING2475', 'SPRING2476', 'SPRING2480', 'SPRING2482', 'SPRING2484', 'SPRING2486', 'SPRING2487', 'SPRING2490', 'SPRING2491', 'SPRING2492', 'SPRING2493', 'SPRING2495', 'SPRING2496', 'SPRING2497', 'SPRING2498', 'SPRING2500', 'SPRING2501', 'SPRING2502', 'SPRING2505', 'SPRING2507', 'SPRING2508', 'SPRING2509', 'SPRING2510', 'SPRING2511', 'SPRING2513', 'SPRING2516', 'SPRING2517', 'SPRING2520', 'SPRING2521', 'SPRING2523', 'SPRING2524', 'SPRING2526', 'SPRING2527', 'SPRING2528', 'SPRING2529', 'SPRING2531', 'SPRING2533', 'SPRING2534', 'SPRING2535', 'SPRING2536', 'SPRING2537', 'SPRING2539', 'SPRING2542', 'SPRING2544', 'SPRING2545', 'SPRING2546', 'SPRING2547', 'SPRING2548', 'SPRING2550', 'SPRING2552', 'SPRING2553', 'SPRING2554', 'SPRING2555', 'SPRING2556', 'SPRING2557', 'SPRING2558', 'SPRING2559', 'SPRING2560', 'SPRING2561', 'SPRING2563', 'SPRING2564', 'SPRING2565', 'SPRING2566', 'SPRING2567', 'SPRING2569', 'SPRING2570', 'SPRING2572', 'SPRING2573', 'SPRING2574', 'SPRING2575', 'SPRING2577', 'SPRING2578', 'SPRING2579', 'SPRING2580', 'SPRING2581', 'SPRING2584', 'SPRING2585', 'SPRING2586', 'SPRING2588', 'SPRING2590', 'SPRING2592', 'SPRING2595', 'SPRING2598', 'SPRING2599', 'SPRING2600', 'SPRING2603', 'SPRING2605', 'SPRING2606', 'SPRING2609', 'SPRING2611', 'SPRING2616', 'SPRING2618', 'SPRING2619', 'SPRING2620', 'SPRING2622', 'SPRING2625', 'SPRING2626', 'SPRING2627', 'SPRING2630', 'SPRING2632', 'SPRING2633', 'SPRING2635', 'SPRING2636', 'SPRING2639', 'SPRING2641', 'SPRING2642', 'SPRING2643', 'SPRING2646', 'SPRING2647', 'SPRING2652', 'SPRING2655', 'SPRING2657', 'SPRING2658', 'SPRING2659', 'SPRING2660', 'SPRING2662', 'SPRING2663', 'SPRING2665', 'SPRING2667', 'SPRING2669', 'SPRING2671', 'SPRING2672', 'SPRING2673', 'SPRING2681', 'SPRING2682', 'SPRING2683', 'SPRING2686', 'SPRING2687', 'SPRING2690', 'SPRING2691', 'SPRING2692', 'SPRING2693', 'SPRING2694', 'SPRING2697', 'SPRING2698', 'SPRING2699', 'SPRING2700', 'SPRING2701', 'SPRING2702', 'SPRING2703', 'SPRING2704', 'SPRING2705', 'SPRING2708', 'SPRING2710', 'SPRING2711', 'SPRING2713', 'SPRING2714', 'SPRING2716', 'SPRING2722', 'SPRING2724', 'SPRING2725', 'SPRING2726', 'SPRING2728', 'SPRING2730', 'SPRING2731', 'SPRING2732', 'SPRING2734', 'SPRING2735', 'SPRING2736', 'SPRING2737', 'SPRING2739', 'SPRING2740', 'SPRING2741', 'SPRING2742', 'SPRING2744', 'SPRING2745', 'SPRING2750', 'SPRING2751', 'SPRING2754', 'SPRING2755', 'SPRING2756', 'SPRING2757', 'SPRING2758', 'SPRING2760', 'SPRING2763', 'SPRING2764', 'SPRING2765', 'SPRING2766', 'SPRING2767', 'SPRING2768', 'SPRING2771', 'SPRING2773', 'SPRING2774', 'SPRING2776', 'SPRING2779', 'SPRING2781', 'SPRING2782', 'SPRING2784', 'SPRING2785', 'SPRING2786', 'SPRING2787', 'SPRING2788', 'SPRING2789', 'SPRING2791', 'SPRING2794', 'SPRING2795', 'SPRING2796', 'SPRING2797', 'SPRING2800', 'SPRING2801', 'SPRING2802', 'SPRING2803', 'SPRING2806', 'SPRING2807', 'SPRING2808', 'SPRING2809', 'SPRING2810', 'SPRING2811', 'SPRING2813', 'SPRING2814', 'SPRING2815', 'SPRING2816', 'SPRING2817', 'SPRING2818', 'SPRING2819', 'SPRING2820', 'SPRING2825', 'SPRING2826', 'SPRING2827', 'SPRING2828', 'SPRING2829', 'SPRING2830', 'SPRING2832', 'SPRING2833', 'SPRING2834', 'SPRING2835', 'SPRING2836', 'SPRING2837', 'SPRING2838', 'SPRING2843', 'SPRING2845', 'SPRING2846', 'SPRING2848', 'SPRING2850', 'SPRING2851', 'SPRING2854', 'SPRING2856', 'SPRING2857', 'SPRING2859', 'SPRING2861', 'SPRING2865', 'SPRING2866', 'SPRING2868', 'SPRING2873', 'SPRING2874', 'SPRING2878', 'SPRING2883', 'SPRING2884', 'SPRING2885', 'SPRING2886', 'SPRING2891', 'SPRING2894', 'SPRING2896', 'SPRING2897', 'SPRING2898', 'SPRING2900', 'SPRING2901', 'SPRING2902', 'SPRING2904', 'SPRING2905', 'SPRING2918', 'SPRING2919', 'SPRING2922', 'SPRING2923', 'SPRING2924', 'SPRING2928', 'SPRING2930', 'SPRING2931', 'SPRING2932', 'SPRING2933', 'SPRING2934', 'SPRING2940', 'SPRING2941', 'SPRING2943', 'SPRING2946', 'SPRING2947', 'SPRING2949', 'SPRING2951', 'SPRING2952', 'SPRING2954', 'SPRING2957', 'SPRING2958', 'SPRING2959', 'SPRING2961', 'SPRING2965', 'SPRING2966', 'SPRING2967', 'SPRING2970', 'SPRING2972', 'SPRING2976', 'SPRING2977', 'SPRING2978', 'SPRING2979', 'SPRING2981', 'SPRING2984', 'SPRING2985', 'SPRING2986', 'SPRING2988', 'SPRING2989', 'SPRING2991', 'SPRING2995', 'SPRING2996', 'SPRING2997', 'SPRING2999', 'SPRING3001', 'SPRING3003', 'SPRING3006', 'SPRING3007', 'SPRING3008', 'SPRING3010', 'SPRING3011', 'SPRING3013', 'SPRING3016', 'SPRING3018', 'SPRING3019', 'SPRING3021', 'SPRING3024', 'SPRING3026', 'SPRING3027', 'SPRING3028', 'SPRING4002', 'SPRING4003', 'SPRING4005', 'SPRING4006', 'SPRING4008', 'SPRING4009', 'SPRING4010', 'SPRING4012', 'SPRING4013', 'SPRING4014', 'SPRING4015', 'SPRING4016', 'SPRING4017', 'SPRING4020', 'SPRING4022', 'SPRING4023', 'SPRING4024', 'SPRING4028', 'SPRING4029', 'SPRING4030', 'SPRING4031', 'SPRING4033', 'SPRING4034', 'SPRING4037', 'SPRING4038', 'SPRING4040', 'SPRING4041', 'SPRING4043', 'SPRING4049', 'SPRING4055', 'SPRING4062', 'SPRING4070', 'SPRING4072', 'SPRING4076', 'SPRING4079', 'SPRING4084', 'SPRING4085', 'SPRING4086', 'SPRING4087', 'SPRING4089', 'SPRING4090', 'SPRING4091', 'SPRING4092', 'SPRING4096', 'SPRING4098', 'SPRING4100', 'SPRING4102', 'SPRING4105', 'SPRING4109', 'SPRING4111', 'SPRING4116', 'SPRING4117', 'SPRING4119', 'SPRING4120', 'SPRING4122', 'SPRING4124', 'SPRING4125', 'SPRING4129', 'SPRING4131', 'SPRING4136', 'SPRING4137', 'SPRING4139', 'SPRING4140', 'SPRING4141', 'SPRING4142', 'SPRING4146', 'SPRING4148', 'SPRING4149', 'SPRING4150', 'SPRING4153', 'SPRING4157', 'SPRING4158', 'SPRING4163', 'SPRING4166', 'SPRING4167', 'SPRING4171', 'SPRING4175', 'SPRING4178', 'SPRING4179', 'SPRING4187', 'SPRING4188', 'SPRING4189', 'SPRING4192', 'SPRING4195', 'SPRING4198', 'SPRING4199', 'SPRING4200', 'SPRING4201', 'SPRING4202', 'SPRING4203', 'SPRING4204', 'SPRING4205', 'SPRING4215', 'SPRING4218', 'SPRING4219', 'SPRING4221', 'SPRING4226', 'SPRING4232', 'SPRING4235', 'SPRING4237', 'SPRING4239', 'SPRING4240', 'SPRING4241', 'SPRING4242', 'SPRING4243', 'SPRING4244', 'SPRING4246', 'SPRING4249', 'SPRING4250', 'SPRING4251', 'SPRING4252', 'SPRING4253', 'SPRING4255', 'SPRING4257', 'SPRING4258', 'SPRING4259', 'SPRING4260', 'SPRING4261', 'SPRING4262', 'SPRING4263', 'SPRING4265', 'SPRING4267', 'SPRING4268', 'SPRING4269', 'SPRING4271', 'SPRING4273', 'SPRING4275', 'SPRING4276', 'SPRING4277', 'SPRING4278', 'SPRING4281', 'SPRING4283', 'SPRING4285', 'SPRING4292', 'SPRING4298', 'SPRING4300', 'SPRING4301', 'SPRING4302', 'SPRING4305', 'SPRING4306', 'SPRING4308', 'SPRING4309', 'SPRING4310', 'SPRING4313', 'SPRING4315', 'SPRING4323', 'SPRING4325', 'SPRING4326', 'SPRING4327', 'SPRING4335', 'SPRING4339', 'SPRING4340', 'SPRING4341', 'SPRING4343', 'SPRING4348', 'SPRING4351', 'SPRING4354', 'SPRING4359', 'SPRING4360', 'SPRING4364', 'SPRING4365', 'SPRING4370', 'SPRING4371', 'SPRING4374', 'SPRING4376', 'SPRING4377', 'SPRING4382', 'SPRING4386', 'SPRING4388', 'SPRING4391', 'SPRING4392', 'SPRING4393', 'SPRING4394', 'SPRING4395', 'SPRING4397', 'SPRING4399', 'SPRING4404', 'SPRING4406', 'SPRING4410', 'SPRING4414', 'SPRING4418', 'SPRING4419', 'SPRING4421', 'SPRING4422', 'SPRING4424', 'SPRING4426', 'SPRING4428', 'SPRING4435', 'SPRING4436', 'SPRING4439', 'SPRING4440', 'SPRING4441', 'SPRING4442', 'SPRING4443', 'SPRING4444', 'SPRING4445', 'SPRING4450', 'SPRING4451', 'SPRING4452', 'SPRING4453', 'SPRING4455', 'SPRING4456', 'SPRING4457', 'SPRING4458', 'SPRING4460', 'SPRING4462', 'SPRING4464', 'SPRING4467', 'SPRING4468', 'SPRING4470', 'SPRING4471', 'SPRING4472', 'SPRING4476', 'SPRING4479', 'SPRING4480', 'SPRING4482', 'SPRING4483', 'SPRING4486', 'SPRING4488', 'SPRING4489', 'SPRING4490', 'SPRING4491', 'SPRING4492', 'SPRING4493', 'SPRING4494', 'SPRING4495', 'SPRING4496', 'SPRING4498', 'SPRING4500', 'SPRING4502', 'SPRING4506', 'SPRING4507', 'SPRING4508', 'SPRING4509', 'SPRING4510', 'SPRING4512', 'SPRING4518', 'SPRING4522', 'SPRING4523', 'SPRING4524', 'SPRING4526', 'SPRING4528', 'SPRING4531', 'SPRING4532', 'SPRING4533', 'SPRING4534', 'SPRING4535', 'SPRING4536', 'SPRING4537', 'SPRING4539', 'SPRING4540', 'SPRING4541', 'SPRING4543', 'SPRING4544', 'SPRING4548', 'SPRING4550', 'SPRING4552', 'SPRING4553', 'SPRING4554', 'SPRING4556', 'SPRING4563', 'SPRING4564', 'SPRING4566', 'SPRING4567', 'SPRING4569', 'SPRING4575', 'SPRING4577', 'SPRING4578', 'SPRING4581', 'SPRING4582', 'SPRING4587', 'SPRING4588', 'SPRING4592', 'SPRING4595', 'SPRING4598', 'SPRING4601', 'SPRING4604', 'SPRING4605', 'SPRING4606', 'SPRING4607', 'SPRING4608', 'SPRING4610', 'SPRING4612', 'SPRING4613', 'SPRING4614', 'SPRING4615', 'SPRING4617', 'SPRING4618', 'SPRING4619', 'SPRING4622', 'SPRING4626', 'SPRING4628', 'SPRING4630', 'SPRING4635', 'SPRING4636', 'SPRING4643', 'SPRING4645', 'SPRING4646', 'SPRING4647', 'SPRING4654', 'SPRING4655', 'SPRING4656', 'SPRING4659', 'SPRING4660', 'SPRING4662', 'SPRING4663', 'SPRING4664', 'SPRING4665', 'SPRING4666', 'SPRING4668', 'SPRING4670', 'SPRING4671', 'SPRING4672', 'SPRING4673', 'SPRING4674', 'SPRING4679', 'SPRING4680', 'SPRING4684', 'SPRING4685', 'SPRING4686', 'SPRING4691', 'SPRING4693', 'SPRING4694', 'SPRING4695', 'SPRING4696', 'SPRING4699', 'SPRING4702', 'SPRING4703', 'SPRING4704', 'SPRING4705', 'SPRING4707', 'SPRING4708', 'SPRING4709', 'SPRING4710', 'SPRING4711', 'SPRING4712', 'SPRING4713', 'SPRING4715', 'SPRING4717', 'SPRING4718', 'SPRING4719', 'SPRING4720', 'SPRING4723', 'SPRING4726', 'SPRING4727', 'SPRING4732', 'SPRING4733', 'SPRING4737', 'SPRING4740', 'SPRING4742', 'SPRING4744', 'SPRING4745', 'SPRING4746', 'SPRING4747', 'SPRING4748', 'SPRING4750', 'SPRING4751', 'SPRING4753', 'SPRING4756', 'SPRING4757', 'SPRING4758', 'SPRING4759', 'SPRING4760', 'SPRING4761', 'SPRING4763', 'SPRING4764', 'SPRING4766', 'SPRING4770', 'SPRING4771', 'SPRING4772', 'SPRING4773', 'SPRING4774', 'SPRING4776', 'SPRING4777', 'SPRING4779', 'SPRING4781', 'SPRING4782', 'SPRING4783', 'SPRING4784', 'SPRING4786', 'SPRING4787', 'SPRING4789', 'SPRING4790', 'SPRING4791', 'SPRING4793', 'SPRING4794', 'SPRING4796', 'SPRING4798']\n"
          ]
        }
      ],
      "source": [
        "print(namefm)"
      ]
    },
    {
      "cell_type": "code",
      "execution_count": null,
      "metadata": {
        "colab": {
          "base_uri": "https://localhost:8080/"
        },
        "id": "wpJT6cJj9ZnD",
        "outputId": "f195452b-a275-4b7e-a03a-41ac783b6b60"
      },
      "outputs": [
        {
          "output_type": "execute_result",
          "data": {
            "text/plain": [
              "[]"
            ]
          },
          "metadata": {},
          "execution_count": 60
        }
      ],
      "source": [
        "list(set(test_datafemale) - set(namefm))"
      ]
    },
    {
      "cell_type": "code",
      "execution_count": null,
      "metadata": {
        "colab": {
          "base_uri": "https://localhost:8080/"
        },
        "id": "fXCASsZwxZvU",
        "outputId": "8650d1da-35a6-465d-f112-92587c9d95c6"
      },
      "outputs": [
        {
          "output_type": "stream",
          "name": "stderr",
          "text": [
            "100%|██████████| 111000/111000 [00:22<00:00, 4931.67it/s]\n",
            "100%|██████████| 111000/111000 [00:22<00:00, 4871.55it/s]\n"
          ]
        }
      ],
      "source": [
        "# creating dictionary train male\n",
        "dm1={}\n",
        "dfm2={}\n",
        "\n",
        "for i in tqdm(range(len(l1male))):\n",
        "  if l1male[i][:10] in namem:\n",
        "    dm1[l1male[i]]=np.asarray(df2.iloc[namem.index(l1male[i][:10])][1:11])\n",
        "  \n",
        "  \n",
        "for i in tqdm(range(len(l1female))):\n",
        "  if l1female[i][:10] in namefm:\n",
        "    dfm2[l1female[i]]=np.asarray(df1.iloc[namefm.index(l1female[i][:10])][1:11])\n"
      ]
    },
    {
      "cell_type": "code",
      "execution_count": null,
      "metadata": {
        "colab": {
          "base_uri": "https://localhost:8080/"
        },
        "id": "0-XVqGkjxUge",
        "outputId": "b69a09df-56f8-4c80-be19-099ce7a2b5d2"
      },
      "outputs": [
        {
          "output_type": "stream",
          "name": "stderr",
          "text": [
            "100%|██████████| 18500/18500 [00:03<00:00, 5064.49it/s]\n",
            "100%|██████████| 18500/18500 [00:03<00:00, 5003.73it/s]\n"
          ]
        }
      ],
      "source": [
        "# creating dictionary val male\n",
        "dvm1={}\n",
        "dvfm2={}\n",
        "\n",
        "for i in tqdm(range(len(l2male))):\n",
        "  if l2male[i][:10] in namem:\n",
        "    dvm1[l2male[i]]=np.asarray(df2.iloc[namem.index(l2male[i][:10])][1:11])\n",
        "\n",
        "for i in tqdm(range(len(l2female))):\n",
        "  if l2female[i][:10] in namefm:\n",
        "    dvfm2[l2female[i]]=np.asarray(df1.iloc[namefm.index(l2female[i][:10])][1:11])"
      ]
    },
    {
      "cell_type": "code",
      "execution_count": null,
      "metadata": {
        "colab": {
          "base_uri": "https://localhost:8080/"
        },
        "id": "8qTcY1BYbX0U",
        "outputId": "c042f9b7-f4a3-40f5-aa03-dd41c13fdd89"
      },
      "outputs": [
        {
          "output_type": "stream",
          "name": "stderr",
          "text": [
            "100%|██████████| 18500/18500 [00:03<00:00, 4775.37it/s]\n",
            "100%|██████████| 18500/18500 [00:03<00:00, 4694.10it/s]\n"
          ]
        }
      ],
      "source": [
        "# creating dictionary test male\n",
        "dtm1={}\n",
        "dtfm2={}\n",
        "\n",
        "for i in tqdm(range(len(l3male))):\n",
        "  if l3male[i][:10] in namem:\n",
        "    dtm1[l3male[i]]=np.asarray(df2.iloc[namem.index(l3male[i][:10])][1:11])\n",
        "\n",
        "for i in tqdm(range(len(l3female))):\n",
        "  if l3female[i][:10] in namefm:\n",
        "    dtfm2[l3female[i]]=np.asarray(df1.iloc[namefm.index(l3female[i][:10])][1:11])\n",
        "\n"
      ]
    },
    {
      "cell_type": "code",
      "execution_count": null,
      "metadata": {
        "id": "aiNzt4xfbDKm"
      },
      "outputs": [],
      "source": [
        "preprocessedF=pd.DataFrame.from_dict(dfm2,orient='index')\n",
        "preprocessedM=pd.DataFrame.from_dict(dm1,orient='index')"
      ]
    },
    {
      "cell_type": "code",
      "execution_count": null,
      "metadata": {
        "id": "TCC4eMd7q-eD"
      },
      "outputs": [],
      "source": [
        "preprocessedvalF=pd.DataFrame.from_dict(dvfm2,orient='index')\n",
        "preprocessedvalM=pd.DataFrame.from_dict(dvm1,orient='index')"
      ]
    },
    {
      "cell_type": "code",
      "execution_count": null,
      "metadata": {
        "colab": {
          "base_uri": "https://localhost:8080/"
        },
        "id": "u7KGHXN_8NK_",
        "outputId": "b53b10e2-6f8e-4a4f-b391-920d2b5d48fa"
      },
      "outputs": [
        {
          "output_type": "stream",
          "name": "stdout",
          "text": [
            "18500\n"
          ]
        }
      ],
      "source": [
        "print(len(dtfm2))"
      ]
    },
    {
      "cell_type": "code",
      "execution_count": null,
      "metadata": {
        "id": "2B--krUlbDUZ"
      },
      "outputs": [],
      "source": [
        "preprocessedtestF=pd.DataFrame.from_dict(dtfm2,orient='index')\n",
        "preprocessedtestM=pd.DataFrame.from_dict(dtm1,orient='index')"
      ]
    },
    {
      "cell_type": "code",
      "execution_count": null,
      "metadata": {
        "colab": {
          "base_uri": "https://localhost:8080/"
        },
        "id": "0zwzu4aNbDYG",
        "outputId": "81fc2ec4-57df-468b-98a9-f1e593f4e2b8"
      },
      "outputs": [
        {
          "output_type": "stream",
          "name": "stdout",
          "text": [
            "111000\n",
            "111000\n",
            "18500\n",
            "18500\n",
            "18500\n",
            "18500\n"
          ]
        }
      ],
      "source": [
        "print(len(preprocessedF))\n",
        "print(len(preprocessedM))\n",
        "print(len(preprocessedvalF))\n",
        "print(len(preprocessedvalM))\n",
        "print(len(preprocessedtestF))\n",
        "print(len(preprocessedtestM))"
      ]
    },
    {
      "cell_type": "code",
      "execution_count": null,
      "metadata": {
        "id": "gOK-ULsvbDc3"
      },
      "outputs": [],
      "source": [
        "preprocessedF[\"name\"]=preprocessedF.index\n",
        "preprocessedM[\"name\"]=preprocessedM.index\n",
        "preprocessedvalF[\"name\"]=preprocessedvalF.index\n",
        "preprocessedvalM[\"name\"]=preprocessedvalM.index\n",
        "\n",
        "preprocessedtestF[\"name\"]=preprocessedtestF.index\n",
        "preprocessedtestM[\"name\"]=preprocessedtestM.index"
      ]
    },
    {
      "cell_type": "code",
      "execution_count": null,
      "metadata": {
        "colab": {
          "base_uri": "https://localhost:8080/"
        },
        "id": "6eX6e7UCbDgu",
        "outputId": "064b61f9-b73e-4c84-c758-0e3b23d077d0"
      },
      "outputs": [
        {
          "output_type": "stream",
          "name": "stdout",
          "text": [
            "                                    0  ...                        name\n",
            "SPRING1211-D7-V0-H90.png     0.763681  ...    SPRING1211-D7-V0-H90.png\n",
            "SPRING2661-D7-V20-H200.png  -8.113312  ...  SPRING2661-D7-V20-H200.png\n",
            "SPRING4059-D7-V20-H200.png  -9.732271  ...  SPRING4059-D7-V20-H200.png\n",
            "SPRING4060-D7-V10-H250.png -11.474185  ...  SPRING4060-D7-V10-H250.png\n",
            "SPRING2050-D7-V10-H290.png -10.062367  ...  SPRING2050-D7-V10-H290.png\n",
            "\n",
            "[5 rows x 11 columns]\n",
            "                                   0  ...                        name\n",
            "SPRING0661-D7-V20-H50.png   6.453628  ...   SPRING0661-D7-V20-H50.png\n",
            "SPRING0238-D7-V20-H240.png  1.310134  ...  SPRING0238-D7-V20-H240.png\n",
            "SPRING0443-D7-V40-H280.png  0.695070  ...  SPRING0443-D7-V40-H280.png\n",
            "SPRING1571-D7-V40-H210.png -1.936703  ...  SPRING1571-D7-V40-H210.png\n",
            "SPRING2003-D7-V20-H290.png -0.901891  ...  SPRING2003-D7-V20-H290.png\n",
            "\n",
            "[5 rows x 11 columns]\n",
            "                                   0  ...                        name\n",
            "SPRING0578-D7-V40-H290.png  2.075947  ...  SPRING0578-D7-V40-H290.png\n",
            "SPRING1546-D7-V40-H10.png   0.599545  ...   SPRING1546-D7-V40-H10.png\n",
            "SPRING1272-D7-V30-H50.png  -7.278190  ...   SPRING1272-D7-V30-H50.png\n",
            "SPRING4609-D7-V30-H210.png  1.391625  ...  SPRING4609-D7-V30-H210.png\n",
            "SPRING4565-D7-V30-H110.png -8.710988  ...  SPRING4565-D7-V30-H110.png\n",
            "\n",
            "[5 rows x 11 columns]\n"
          ]
        }
      ],
      "source": [
        "print(preprocessedM.head())\n",
        "print(preprocessedvalM.head())\n",
        "print(preprocessedtestM.head())"
      ]
    },
    {
      "cell_type": "code",
      "execution_count": null,
      "metadata": {
        "id": "e93iaC2obDsf"
      },
      "outputs": [],
      "source": [
        "preprocessedF.reset_index(inplace=True)\n",
        "preprocessedM.reset_index(inplace=True)\n",
        "preprocessedvalF.reset_index(inplace=True)\n",
        "preprocessedvalM.reset_index(inplace=True)\n",
        "\n",
        "preprocessedtestF.reset_index(inplace=True)\n",
        "preprocessedtestM.reset_index(inplace=True)"
      ]
    },
    {
      "cell_type": "code",
      "execution_count": null,
      "metadata": {
        "id": "CX6cg2OAbwOM"
      },
      "outputs": [],
      "source": [
        "preprocessedF.drop(columns=[\"index\"],inplace=True)\n",
        "preprocessedM.drop(columns=[\"index\"],inplace=True)\n",
        "preprocessedvalF.drop(columns=[\"index\"],inplace=True)\n",
        "preprocessedvalM.drop(columns=[\"index\"],inplace=True)\n",
        "\n",
        "preprocessedtestF.drop(columns=[\"index\"],inplace=True)\n",
        "preprocessedtestM.drop(columns=[\"index\"],inplace=True)"
      ]
    },
    {
      "cell_type": "code",
      "execution_count": null,
      "metadata": {
        "id": "GTLCBciTbwW1"
      },
      "outputs": [],
      "source": [
        "preprocessedF.to_csv('all_labels_female_train_800.csv',index=False)\n",
        "preprocessedM.to_csv('all_labels_male_train_800.csv',index=False)\n",
        "preprocessedvalM.to_csv('all_labels_male_val_800.csv',index=False)\n",
        "preprocessedvalF.to_csv('all_labels_female_val_800.csv',index=False)\n",
        "preprocessedtestF.to_csv('all_labels_female_test_800.csv',index=False)\n",
        "preprocessedtestM.to_csv('all_labels_male_test_800.csv',index=False)"
      ]
    },
    {
      "cell_type": "code",
      "execution_count": null,
      "metadata": {
        "id": "Hpl3tfxOv_8j"
      },
      "outputs": [],
      "source": [
        "traindfmale = pd.read_csv('all_labels_male_train_800.csv') \n",
        "validdfmale = pd.read_csv('all_labels_male_val_800.csv')\n",
        "testdfmale  = pd.read_csv('all_labels_male_test_800.csv')\n",
        "\n",
        "traindffemale = pd.read_csv('all_labels_female_train_800.csv') \n",
        "validdffemale = pd.read_csv('all_labels_female_val_800.csv')\n",
        "testdffemale = pd.read_csv('all_labels_female_test_800.csv')"
      ]
    },
    {
      "cell_type": "code",
      "execution_count": null,
      "metadata": {
        "id": "iojRNgJj0IMB"
      },
      "outputs": [],
      "source": [
        "genderindexmale = [0,3]\n",
        "genderindexfemale = [0,2]"
      ]
    },
    {
      "cell_type": "code",
      "execution_count": null,
      "metadata": {
        "colab": {
          "base_uri": "https://localhost:8080/"
        },
        "id": "A9RATDDvob-N",
        "outputId": "5239fb36-e6f3-4442-c43e-b8d96e09fe57"
      },
      "outputs": [
        {
          "output_type": "stream",
          "name": "stdout",
          "text": [
            "Found 111000 validated image filenames.\n",
            "Found 18500 validated image filenames.\n",
            "Found 18500 validated image filenames.\n"
          ]
        }
      ],
      "source": [
        "datagen = tf.keras.preprocessing.image.ImageDataGenerator(\n",
        "    rescale=1./255)\n",
        "\n",
        "train_generatormale=datagen.flow_from_dataframe(\n",
        "    dataframe=traindfmale,\n",
        "    directory='/content/malesetsplit/train',\n",
        "    x_col='name',\n",
        "    y_col=[str(genderindexmale[1])],\n",
        "    batch_size=10,\n",
        "    seed=42,\n",
        "    shuffle=True,\n",
        "    class_mode='raw',\n",
        "    target_size=(224,448)\n",
        "    )\n",
        "\n",
        "valid_generatormale=datagen.flow_from_dataframe(\n",
        "    dataframe=validdfmale,\n",
        "    directory='/content/malesetsplit/val',\n",
        "    x_col='name',\n",
        "    y_col=[str(genderindexmale[1])],\n",
        "    batch_size=10,\n",
        "    seed=42,\n",
        "    shuffle=True,\n",
        "    class_mode='raw',\n",
        "    target_size=(224,448)\n",
        "    )\n",
        "\n",
        "test_generatormale=datagen.flow_from_dataframe(\n",
        "    dataframe=testdfmale,\n",
        "    directory='/content/malesetsplit/test',\n",
        "    x_col='name',\n",
        "    y_col=[str(genderindexmale[1])],\n",
        "    batch_size=10,\n",
        "    seed=42,\n",
        "    shuffle=False,\n",
        "    class_mode=None,\n",
        "    target_size=(224,448)\n",
        "    )"
      ]
    },
    {
      "cell_type": "code",
      "execution_count": null,
      "metadata": {
        "colab": {
          "base_uri": "https://localhost:8080/"
        },
        "id": "-ijrirDZpPK4",
        "outputId": "796840ee-e550-46c6-e458-1d541b24539a"
      },
      "outputs": [
        {
          "output_type": "stream",
          "name": "stdout",
          "text": [
            "Found 111000 validated image filenames.\n",
            "Found 18500 validated image filenames.\n",
            "Found 18500 validated image filenames.\n"
          ]
        }
      ],
      "source": [
        "datagen = tf.keras.preprocessing.image.ImageDataGenerator(\n",
        "    rescale=1./255\n",
        "    )\n",
        "\n",
        "train_generatorfemale=datagen.flow_from_dataframe(\n",
        "    dataframe=traindffemale,\n",
        "    directory='/content/femalesetsplit/train',\n",
        "    x_col='name',\n",
        "    y_col=[str(genderindexfemale[1])],\n",
        "    batch_size=10,\n",
        "    seed=42,\n",
        "    shuffle=True,\n",
        "    class_mode='raw',\n",
        "    target_size=(224,448)\n",
        "    )\n",
        "\n",
        "valid_generatorfemale=datagen.flow_from_dataframe(\n",
        "    dataframe=validdffemale,\n",
        "    directory='/content/femalesetsplit/val',\n",
        "    x_col='name',\n",
        "    y_col=[str(genderindexfemale[1])],\n",
        "    batch_size=10,\n",
        "    seed=42,\n",
        "    shuffle=True,\n",
        "    class_mode='raw',\n",
        "    target_size=(224,448)\n",
        "    )\n",
        "\n",
        "test_generatorfemale=datagen.flow_from_dataframe(\n",
        "    dataframe=testdffemale,\n",
        "    directory='/content/femalesetsplit/test',\n",
        "    x_col='name',\n",
        "    y_col=[str(genderindexfemale[1])],\n",
        "    batch_size=10,\n",
        "    seed=42,\n",
        "    shuffle=False,\n",
        "    class_mode=None,\n",
        "    target_size=(224,448)\n",
        "    )"
      ]
    },
    {
      "cell_type": "code",
      "execution_count": null,
      "metadata": {
        "id": "QcH1HpFT0Gpk"
      },
      "outputs": [],
      "source": [
        "male1name=\"male1name_800_INC_waist\"\n",
        "male2name=\"male2name_800\"\n",
        "female1name=\"female1name_RES_waist\"\n",
        "female2name=\"female2name\""
      ]
    },
    {
      "cell_type": "code",
      "execution_count": null,
      "metadata": {
        "id": "pUcmQRcoocE-"
      },
      "outputs": [],
      "source": [
        "STEP_SIZE_TRAINmale=train_generatormale.n//train_generatormale.batch_size\n",
        "STEP_SIZE_VALIDmale=valid_generatormale.n//valid_generatormale.batch_size\n",
        "STEP_SIZE_TESTmale = test_generatormale.n// test_generatormale.batch_size\n",
        "\n",
        "STEP_SIZE_TRAINfemale=train_generatorfemale.n//train_generatorfemale.batch_size\n",
        "STEP_SIZE_VALIDfemale=valid_generatorfemale.n//valid_generatorfemale.batch_size\n",
        "STEP_SIZE_TESTfemale = test_generatorfemale.n// test_generatorfemale.batch_size"
      ]
    },
    {
      "cell_type": "markdown",
      "metadata": {
        "id": "GvfFtAsAgCv4"
      },
      "source": [
        "# **Train and test**"
      ]
    },
    {
      "cell_type": "code",
      "execution_count": null,
      "metadata": {
        "colab": {
          "base_uri": "https://localhost:8080/"
        },
        "id": "Jk8Mi2Vl5X83",
        "outputId": "0f839545-7422-4e2f-ee2e-f85a631f05c2"
      },
      "outputs": [
        {
          "output_type": "stream",
          "name": "stdout",
          "text": [
            "Downloading data from https://storage.googleapis.com/tensorflow/keras-applications/resnet/resnet50_weights_tf_dim_ordering_tf_kernels_notop.h5\n",
            "94773248/94765736 [==============================] - 0s 0us/step\n",
            "94781440/94765736 [==============================] - 0s 0us/step\n",
            "Model: \"resnet50\"\n",
            "__________________________________________________________________________________________________\n",
            " Layer (type)                   Output Shape         Param #     Connected to                     \n",
            "==================================================================================================\n",
            " input_1 (InputLayer)           [(None, 448, 224, 3  0           []                               \n",
            "                                )]                                                                \n",
            "                                                                                                  \n",
            " conv1_pad (ZeroPadding2D)      (None, 454, 230, 3)  0           ['input_1[0][0]']                \n",
            "                                                                                                  \n",
            " conv1_conv (Conv2D)            (None, 224, 112, 64  9472        ['conv1_pad[0][0]']              \n",
            "                                )                                                                 \n",
            "                                                                                                  \n",
            " conv1_bn (BatchNormalization)  (None, 224, 112, 64  256         ['conv1_conv[0][0]']             \n",
            "                                )                                                                 \n",
            "                                                                                                  \n",
            " conv1_relu (Activation)        (None, 224, 112, 64  0           ['conv1_bn[0][0]']               \n",
            "                                )                                                                 \n",
            "                                                                                                  \n",
            " pool1_pad (ZeroPadding2D)      (None, 226, 114, 64  0           ['conv1_relu[0][0]']             \n",
            "                                )                                                                 \n",
            "                                                                                                  \n",
            " pool1_pool (MaxPooling2D)      (None, 112, 56, 64)  0           ['pool1_pad[0][0]']              \n",
            "                                                                                                  \n",
            " conv2_block1_1_conv (Conv2D)   (None, 112, 56, 64)  4160        ['pool1_pool[0][0]']             \n",
            "                                                                                                  \n",
            " conv2_block1_1_bn (BatchNormal  (None, 112, 56, 64)  256        ['conv2_block1_1_conv[0][0]']    \n",
            " ization)                                                                                         \n",
            "                                                                                                  \n",
            " conv2_block1_1_relu (Activatio  (None, 112, 56, 64)  0          ['conv2_block1_1_bn[0][0]']      \n",
            " n)                                                                                               \n",
            "                                                                                                  \n",
            " conv2_block1_2_conv (Conv2D)   (None, 112, 56, 64)  36928       ['conv2_block1_1_relu[0][0]']    \n",
            "                                                                                                  \n",
            " conv2_block1_2_bn (BatchNormal  (None, 112, 56, 64)  256        ['conv2_block1_2_conv[0][0]']    \n",
            " ization)                                                                                         \n",
            "                                                                                                  \n",
            " conv2_block1_2_relu (Activatio  (None, 112, 56, 64)  0          ['conv2_block1_2_bn[0][0]']      \n",
            " n)                                                                                               \n",
            "                                                                                                  \n",
            " conv2_block1_0_conv (Conv2D)   (None, 112, 56, 256  16640       ['pool1_pool[0][0]']             \n",
            "                                )                                                                 \n",
            "                                                                                                  \n",
            " conv2_block1_3_conv (Conv2D)   (None, 112, 56, 256  16640       ['conv2_block1_2_relu[0][0]']    \n",
            "                                )                                                                 \n",
            "                                                                                                  \n",
            " conv2_block1_0_bn (BatchNormal  (None, 112, 56, 256  1024       ['conv2_block1_0_conv[0][0]']    \n",
            " ization)                       )                                                                 \n",
            "                                                                                                  \n",
            " conv2_block1_3_bn (BatchNormal  (None, 112, 56, 256  1024       ['conv2_block1_3_conv[0][0]']    \n",
            " ization)                       )                                                                 \n",
            "                                                                                                  \n",
            " conv2_block1_add (Add)         (None, 112, 56, 256  0           ['conv2_block1_0_bn[0][0]',      \n",
            "                                )                                 'conv2_block1_3_bn[0][0]']      \n",
            "                                                                                                  \n",
            " conv2_block1_out (Activation)  (None, 112, 56, 256  0           ['conv2_block1_add[0][0]']       \n",
            "                                )                                                                 \n",
            "                                                                                                  \n",
            " conv2_block2_1_conv (Conv2D)   (None, 112, 56, 64)  16448       ['conv2_block1_out[0][0]']       \n",
            "                                                                                                  \n",
            " conv2_block2_1_bn (BatchNormal  (None, 112, 56, 64)  256        ['conv2_block2_1_conv[0][0]']    \n",
            " ization)                                                                                         \n",
            "                                                                                                  \n",
            " conv2_block2_1_relu (Activatio  (None, 112, 56, 64)  0          ['conv2_block2_1_bn[0][0]']      \n",
            " n)                                                                                               \n",
            "                                                                                                  \n",
            " conv2_block2_2_conv (Conv2D)   (None, 112, 56, 64)  36928       ['conv2_block2_1_relu[0][0]']    \n",
            "                                                                                                  \n",
            " conv2_block2_2_bn (BatchNormal  (None, 112, 56, 64)  256        ['conv2_block2_2_conv[0][0]']    \n",
            " ization)                                                                                         \n",
            "                                                                                                  \n",
            " conv2_block2_2_relu (Activatio  (None, 112, 56, 64)  0          ['conv2_block2_2_bn[0][0]']      \n",
            " n)                                                                                               \n",
            "                                                                                                  \n",
            " conv2_block2_3_conv (Conv2D)   (None, 112, 56, 256  16640       ['conv2_block2_2_relu[0][0]']    \n",
            "                                )                                                                 \n",
            "                                                                                                  \n",
            " conv2_block2_3_bn (BatchNormal  (None, 112, 56, 256  1024       ['conv2_block2_3_conv[0][0]']    \n",
            " ization)                       )                                                                 \n",
            "                                                                                                  \n",
            " conv2_block2_add (Add)         (None, 112, 56, 256  0           ['conv2_block1_out[0][0]',       \n",
            "                                )                                 'conv2_block2_3_bn[0][0]']      \n",
            "                                                                                                  \n",
            " conv2_block2_out (Activation)  (None, 112, 56, 256  0           ['conv2_block2_add[0][0]']       \n",
            "                                )                                                                 \n",
            "                                                                                                  \n",
            " conv2_block3_1_conv (Conv2D)   (None, 112, 56, 64)  16448       ['conv2_block2_out[0][0]']       \n",
            "                                                                                                  \n",
            " conv2_block3_1_bn (BatchNormal  (None, 112, 56, 64)  256        ['conv2_block3_1_conv[0][0]']    \n",
            " ization)                                                                                         \n",
            "                                                                                                  \n",
            " conv2_block3_1_relu (Activatio  (None, 112, 56, 64)  0          ['conv2_block3_1_bn[0][0]']      \n",
            " n)                                                                                               \n",
            "                                                                                                  \n",
            " conv2_block3_2_conv (Conv2D)   (None, 112, 56, 64)  36928       ['conv2_block3_1_relu[0][0]']    \n",
            "                                                                                                  \n",
            " conv2_block3_2_bn (BatchNormal  (None, 112, 56, 64)  256        ['conv2_block3_2_conv[0][0]']    \n",
            " ization)                                                                                         \n",
            "                                                                                                  \n",
            " conv2_block3_2_relu (Activatio  (None, 112, 56, 64)  0          ['conv2_block3_2_bn[0][0]']      \n",
            " n)                                                                                               \n",
            "                                                                                                  \n",
            " conv2_block3_3_conv (Conv2D)   (None, 112, 56, 256  16640       ['conv2_block3_2_relu[0][0]']    \n",
            "                                )                                                                 \n",
            "                                                                                                  \n",
            " conv2_block3_3_bn (BatchNormal  (None, 112, 56, 256  1024       ['conv2_block3_3_conv[0][0]']    \n",
            " ization)                       )                                                                 \n",
            "                                                                                                  \n",
            " conv2_block3_add (Add)         (None, 112, 56, 256  0           ['conv2_block2_out[0][0]',       \n",
            "                                )                                 'conv2_block3_3_bn[0][0]']      \n",
            "                                                                                                  \n",
            " conv2_block3_out (Activation)  (None, 112, 56, 256  0           ['conv2_block3_add[0][0]']       \n",
            "                                )                                                                 \n",
            "                                                                                                  \n",
            " conv3_block1_1_conv (Conv2D)   (None, 56, 28, 128)  32896       ['conv2_block3_out[0][0]']       \n",
            "                                                                                                  \n",
            " conv3_block1_1_bn (BatchNormal  (None, 56, 28, 128)  512        ['conv3_block1_1_conv[0][0]']    \n",
            " ization)                                                                                         \n",
            "                                                                                                  \n",
            " conv3_block1_1_relu (Activatio  (None, 56, 28, 128)  0          ['conv3_block1_1_bn[0][0]']      \n",
            " n)                                                                                               \n",
            "                                                                                                  \n",
            " conv3_block1_2_conv (Conv2D)   (None, 56, 28, 128)  147584      ['conv3_block1_1_relu[0][0]']    \n",
            "                                                                                                  \n",
            " conv3_block1_2_bn (BatchNormal  (None, 56, 28, 128)  512        ['conv3_block1_2_conv[0][0]']    \n",
            " ization)                                                                                         \n",
            "                                                                                                  \n",
            " conv3_block1_2_relu (Activatio  (None, 56, 28, 128)  0          ['conv3_block1_2_bn[0][0]']      \n",
            " n)                                                                                               \n",
            "                                                                                                  \n",
            " conv3_block1_0_conv (Conv2D)   (None, 56, 28, 512)  131584      ['conv2_block3_out[0][0]']       \n",
            "                                                                                                  \n",
            " conv3_block1_3_conv (Conv2D)   (None, 56, 28, 512)  66048       ['conv3_block1_2_relu[0][0]']    \n",
            "                                                                                                  \n",
            " conv3_block1_0_bn (BatchNormal  (None, 56, 28, 512)  2048       ['conv3_block1_0_conv[0][0]']    \n",
            " ization)                                                                                         \n",
            "                                                                                                  \n",
            " conv3_block1_3_bn (BatchNormal  (None, 56, 28, 512)  2048       ['conv3_block1_3_conv[0][0]']    \n",
            " ization)                                                                                         \n",
            "                                                                                                  \n",
            " conv3_block1_add (Add)         (None, 56, 28, 512)  0           ['conv3_block1_0_bn[0][0]',      \n",
            "                                                                  'conv3_block1_3_bn[0][0]']      \n",
            "                                                                                                  \n",
            " conv3_block1_out (Activation)  (None, 56, 28, 512)  0           ['conv3_block1_add[0][0]']       \n",
            "                                                                                                  \n",
            " conv3_block2_1_conv (Conv2D)   (None, 56, 28, 128)  65664       ['conv3_block1_out[0][0]']       \n",
            "                                                                                                  \n",
            " conv3_block2_1_bn (BatchNormal  (None, 56, 28, 128)  512        ['conv3_block2_1_conv[0][0]']    \n",
            " ization)                                                                                         \n",
            "                                                                                                  \n",
            " conv3_block2_1_relu (Activatio  (None, 56, 28, 128)  0          ['conv3_block2_1_bn[0][0]']      \n",
            " n)                                                                                               \n",
            "                                                                                                  \n",
            " conv3_block2_2_conv (Conv2D)   (None, 56, 28, 128)  147584      ['conv3_block2_1_relu[0][0]']    \n",
            "                                                                                                  \n",
            " conv3_block2_2_bn (BatchNormal  (None, 56, 28, 128)  512        ['conv3_block2_2_conv[0][0]']    \n",
            " ization)                                                                                         \n",
            "                                                                                                  \n",
            " conv3_block2_2_relu (Activatio  (None, 56, 28, 128)  0          ['conv3_block2_2_bn[0][0]']      \n",
            " n)                                                                                               \n",
            "                                                                                                  \n",
            " conv3_block2_3_conv (Conv2D)   (None, 56, 28, 512)  66048       ['conv3_block2_2_relu[0][0]']    \n",
            "                                                                                                  \n",
            " conv3_block2_3_bn (BatchNormal  (None, 56, 28, 512)  2048       ['conv3_block2_3_conv[0][0]']    \n",
            " ization)                                                                                         \n",
            "                                                                                                  \n",
            " conv3_block2_add (Add)         (None, 56, 28, 512)  0           ['conv3_block1_out[0][0]',       \n",
            "                                                                  'conv3_block2_3_bn[0][0]']      \n",
            "                                                                                                  \n",
            " conv3_block2_out (Activation)  (None, 56, 28, 512)  0           ['conv3_block2_add[0][0]']       \n",
            "                                                                                                  \n",
            " conv3_block3_1_conv (Conv2D)   (None, 56, 28, 128)  65664       ['conv3_block2_out[0][0]']       \n",
            "                                                                                                  \n",
            " conv3_block3_1_bn (BatchNormal  (None, 56, 28, 128)  512        ['conv3_block3_1_conv[0][0]']    \n",
            " ization)                                                                                         \n",
            "                                                                                                  \n",
            " conv3_block3_1_relu (Activatio  (None, 56, 28, 128)  0          ['conv3_block3_1_bn[0][0]']      \n",
            " n)                                                                                               \n",
            "                                                                                                  \n",
            " conv3_block3_2_conv (Conv2D)   (None, 56, 28, 128)  147584      ['conv3_block3_1_relu[0][0]']    \n",
            "                                                                                                  \n",
            " conv3_block3_2_bn (BatchNormal  (None, 56, 28, 128)  512        ['conv3_block3_2_conv[0][0]']    \n",
            " ization)                                                                                         \n",
            "                                                                                                  \n",
            " conv3_block3_2_relu (Activatio  (None, 56, 28, 128)  0          ['conv3_block3_2_bn[0][0]']      \n",
            " n)                                                                                               \n",
            "                                                                                                  \n",
            " conv3_block3_3_conv (Conv2D)   (None, 56, 28, 512)  66048       ['conv3_block3_2_relu[0][0]']    \n",
            "                                                                                                  \n",
            " conv3_block3_3_bn (BatchNormal  (None, 56, 28, 512)  2048       ['conv3_block3_3_conv[0][0]']    \n",
            " ization)                                                                                         \n",
            "                                                                                                  \n",
            " conv3_block3_add (Add)         (None, 56, 28, 512)  0           ['conv3_block2_out[0][0]',       \n",
            "                                                                  'conv3_block3_3_bn[0][0]']      \n",
            "                                                                                                  \n",
            " conv3_block3_out (Activation)  (None, 56, 28, 512)  0           ['conv3_block3_add[0][0]']       \n",
            "                                                                                                  \n",
            " conv3_block4_1_conv (Conv2D)   (None, 56, 28, 128)  65664       ['conv3_block3_out[0][0]']       \n",
            "                                                                                                  \n",
            " conv3_block4_1_bn (BatchNormal  (None, 56, 28, 128)  512        ['conv3_block4_1_conv[0][0]']    \n",
            " ization)                                                                                         \n",
            "                                                                                                  \n",
            " conv3_block4_1_relu (Activatio  (None, 56, 28, 128)  0          ['conv3_block4_1_bn[0][0]']      \n",
            " n)                                                                                               \n",
            "                                                                                                  \n",
            " conv3_block4_2_conv (Conv2D)   (None, 56, 28, 128)  147584      ['conv3_block4_1_relu[0][0]']    \n",
            "                                                                                                  \n",
            " conv3_block4_2_bn (BatchNormal  (None, 56, 28, 128)  512        ['conv3_block4_2_conv[0][0]']    \n",
            " ization)                                                                                         \n",
            "                                                                                                  \n",
            " conv3_block4_2_relu (Activatio  (None, 56, 28, 128)  0          ['conv3_block4_2_bn[0][0]']      \n",
            " n)                                                                                               \n",
            "                                                                                                  \n",
            " conv3_block4_3_conv (Conv2D)   (None, 56, 28, 512)  66048       ['conv3_block4_2_relu[0][0]']    \n",
            "                                                                                                  \n",
            " conv3_block4_3_bn (BatchNormal  (None, 56, 28, 512)  2048       ['conv3_block4_3_conv[0][0]']    \n",
            " ization)                                                                                         \n",
            "                                                                                                  \n",
            " conv3_block4_add (Add)         (None, 56, 28, 512)  0           ['conv3_block3_out[0][0]',       \n",
            "                                                                  'conv3_block4_3_bn[0][0]']      \n",
            "                                                                                                  \n",
            " conv3_block4_out (Activation)  (None, 56, 28, 512)  0           ['conv3_block4_add[0][0]']       \n",
            "                                                                                                  \n",
            " conv4_block1_1_conv (Conv2D)   (None, 28, 14, 256)  131328      ['conv3_block4_out[0][0]']       \n",
            "                                                                                                  \n",
            " conv4_block1_1_bn (BatchNormal  (None, 28, 14, 256)  1024       ['conv4_block1_1_conv[0][0]']    \n",
            " ization)                                                                                         \n",
            "                                                                                                  \n",
            " conv4_block1_1_relu (Activatio  (None, 28, 14, 256)  0          ['conv4_block1_1_bn[0][0]']      \n",
            " n)                                                                                               \n",
            "                                                                                                  \n",
            " conv4_block1_2_conv (Conv2D)   (None, 28, 14, 256)  590080      ['conv4_block1_1_relu[0][0]']    \n",
            "                                                                                                  \n",
            " conv4_block1_2_bn (BatchNormal  (None, 28, 14, 256)  1024       ['conv4_block1_2_conv[0][0]']    \n",
            " ization)                                                                                         \n",
            "                                                                                                  \n",
            " conv4_block1_2_relu (Activatio  (None, 28, 14, 256)  0          ['conv4_block1_2_bn[0][0]']      \n",
            " n)                                                                                               \n",
            "                                                                                                  \n",
            " conv4_block1_0_conv (Conv2D)   (None, 28, 14, 1024  525312      ['conv3_block4_out[0][0]']       \n",
            "                                )                                                                 \n",
            "                                                                                                  \n",
            " conv4_block1_3_conv (Conv2D)   (None, 28, 14, 1024  263168      ['conv4_block1_2_relu[0][0]']    \n",
            "                                )                                                                 \n",
            "                                                                                                  \n",
            " conv4_block1_0_bn (BatchNormal  (None, 28, 14, 1024  4096       ['conv4_block1_0_conv[0][0]']    \n",
            " ization)                       )                                                                 \n",
            "                                                                                                  \n",
            " conv4_block1_3_bn (BatchNormal  (None, 28, 14, 1024  4096       ['conv4_block1_3_conv[0][0]']    \n",
            " ization)                       )                                                                 \n",
            "                                                                                                  \n",
            " conv4_block1_add (Add)         (None, 28, 14, 1024  0           ['conv4_block1_0_bn[0][0]',      \n",
            "                                )                                 'conv4_block1_3_bn[0][0]']      \n",
            "                                                                                                  \n",
            " conv4_block1_out (Activation)  (None, 28, 14, 1024  0           ['conv4_block1_add[0][0]']       \n",
            "                                )                                                                 \n",
            "                                                                                                  \n",
            " conv4_block2_1_conv (Conv2D)   (None, 28, 14, 256)  262400      ['conv4_block1_out[0][0]']       \n",
            "                                                                                                  \n",
            " conv4_block2_1_bn (BatchNormal  (None, 28, 14, 256)  1024       ['conv4_block2_1_conv[0][0]']    \n",
            " ization)                                                                                         \n",
            "                                                                                                  \n",
            " conv4_block2_1_relu (Activatio  (None, 28, 14, 256)  0          ['conv4_block2_1_bn[0][0]']      \n",
            " n)                                                                                               \n",
            "                                                                                                  \n",
            " conv4_block2_2_conv (Conv2D)   (None, 28, 14, 256)  590080      ['conv4_block2_1_relu[0][0]']    \n",
            "                                                                                                  \n",
            " conv4_block2_2_bn (BatchNormal  (None, 28, 14, 256)  1024       ['conv4_block2_2_conv[0][0]']    \n",
            " ization)                                                                                         \n",
            "                                                                                                  \n",
            " conv4_block2_2_relu (Activatio  (None, 28, 14, 256)  0          ['conv4_block2_2_bn[0][0]']      \n",
            " n)                                                                                               \n",
            "                                                                                                  \n",
            " conv4_block2_3_conv (Conv2D)   (None, 28, 14, 1024  263168      ['conv4_block2_2_relu[0][0]']    \n",
            "                                )                                                                 \n",
            "                                                                                                  \n",
            " conv4_block2_3_bn (BatchNormal  (None, 28, 14, 1024  4096       ['conv4_block2_3_conv[0][0]']    \n",
            " ization)                       )                                                                 \n",
            "                                                                                                  \n",
            " conv4_block2_add (Add)         (None, 28, 14, 1024  0           ['conv4_block1_out[0][0]',       \n",
            "                                )                                 'conv4_block2_3_bn[0][0]']      \n",
            "                                                                                                  \n",
            " conv4_block2_out (Activation)  (None, 28, 14, 1024  0           ['conv4_block2_add[0][0]']       \n",
            "                                )                                                                 \n",
            "                                                                                                  \n",
            " conv4_block3_1_conv (Conv2D)   (None, 28, 14, 256)  262400      ['conv4_block2_out[0][0]']       \n",
            "                                                                                                  \n",
            " conv4_block3_1_bn (BatchNormal  (None, 28, 14, 256)  1024       ['conv4_block3_1_conv[0][0]']    \n",
            " ization)                                                                                         \n",
            "                                                                                                  \n",
            " conv4_block3_1_relu (Activatio  (None, 28, 14, 256)  0          ['conv4_block3_1_bn[0][0]']      \n",
            " n)                                                                                               \n",
            "                                                                                                  \n",
            " conv4_block3_2_conv (Conv2D)   (None, 28, 14, 256)  590080      ['conv4_block3_1_relu[0][0]']    \n",
            "                                                                                                  \n",
            " conv4_block3_2_bn (BatchNormal  (None, 28, 14, 256)  1024       ['conv4_block3_2_conv[0][0]']    \n",
            " ization)                                                                                         \n",
            "                                                                                                  \n",
            " conv4_block3_2_relu (Activatio  (None, 28, 14, 256)  0          ['conv4_block3_2_bn[0][0]']      \n",
            " n)                                                                                               \n",
            "                                                                                                  \n",
            " conv4_block3_3_conv (Conv2D)   (None, 28, 14, 1024  263168      ['conv4_block3_2_relu[0][0]']    \n",
            "                                )                                                                 \n",
            "                                                                                                  \n",
            " conv4_block3_3_bn (BatchNormal  (None, 28, 14, 1024  4096       ['conv4_block3_3_conv[0][0]']    \n",
            " ization)                       )                                                                 \n",
            "                                                                                                  \n",
            " conv4_block3_add (Add)         (None, 28, 14, 1024  0           ['conv4_block2_out[0][0]',       \n",
            "                                )                                 'conv4_block3_3_bn[0][0]']      \n",
            "                                                                                                  \n",
            " conv4_block3_out (Activation)  (None, 28, 14, 1024  0           ['conv4_block3_add[0][0]']       \n",
            "                                )                                                                 \n",
            "                                                                                                  \n",
            " conv4_block4_1_conv (Conv2D)   (None, 28, 14, 256)  262400      ['conv4_block3_out[0][0]']       \n",
            "                                                                                                  \n",
            " conv4_block4_1_bn (BatchNormal  (None, 28, 14, 256)  1024       ['conv4_block4_1_conv[0][0]']    \n",
            " ization)                                                                                         \n",
            "                                                                                                  \n",
            " conv4_block4_1_relu (Activatio  (None, 28, 14, 256)  0          ['conv4_block4_1_bn[0][0]']      \n",
            " n)                                                                                               \n",
            "                                                                                                  \n",
            " conv4_block4_2_conv (Conv2D)   (None, 28, 14, 256)  590080      ['conv4_block4_1_relu[0][0]']    \n",
            "                                                                                                  \n",
            " conv4_block4_2_bn (BatchNormal  (None, 28, 14, 256)  1024       ['conv4_block4_2_conv[0][0]']    \n",
            " ization)                                                                                         \n",
            "                                                                                                  \n",
            " conv4_block4_2_relu (Activatio  (None, 28, 14, 256)  0          ['conv4_block4_2_bn[0][0]']      \n",
            " n)                                                                                               \n",
            "                                                                                                  \n",
            " conv4_block4_3_conv (Conv2D)   (None, 28, 14, 1024  263168      ['conv4_block4_2_relu[0][0]']    \n",
            "                                )                                                                 \n",
            "                                                                                                  \n",
            " conv4_block4_3_bn (BatchNormal  (None, 28, 14, 1024  4096       ['conv4_block4_3_conv[0][0]']    \n",
            " ization)                       )                                                                 \n",
            "                                                                                                  \n",
            " conv4_block4_add (Add)         (None, 28, 14, 1024  0           ['conv4_block3_out[0][0]',       \n",
            "                                )                                 'conv4_block4_3_bn[0][0]']      \n",
            "                                                                                                  \n",
            " conv4_block4_out (Activation)  (None, 28, 14, 1024  0           ['conv4_block4_add[0][0]']       \n",
            "                                )                                                                 \n",
            "                                                                                                  \n",
            " conv4_block5_1_conv (Conv2D)   (None, 28, 14, 256)  262400      ['conv4_block4_out[0][0]']       \n",
            "                                                                                                  \n",
            " conv4_block5_1_bn (BatchNormal  (None, 28, 14, 256)  1024       ['conv4_block5_1_conv[0][0]']    \n",
            " ization)                                                                                         \n",
            "                                                                                                  \n",
            " conv4_block5_1_relu (Activatio  (None, 28, 14, 256)  0          ['conv4_block5_1_bn[0][0]']      \n",
            " n)                                                                                               \n",
            "                                                                                                  \n",
            " conv4_block5_2_conv (Conv2D)   (None, 28, 14, 256)  590080      ['conv4_block5_1_relu[0][0]']    \n",
            "                                                                                                  \n",
            " conv4_block5_2_bn (BatchNormal  (None, 28, 14, 256)  1024       ['conv4_block5_2_conv[0][0]']    \n",
            " ization)                                                                                         \n",
            "                                                                                                  \n",
            " conv4_block5_2_relu (Activatio  (None, 28, 14, 256)  0          ['conv4_block5_2_bn[0][0]']      \n",
            " n)                                                                                               \n",
            "                                                                                                  \n",
            " conv4_block5_3_conv (Conv2D)   (None, 28, 14, 1024  263168      ['conv4_block5_2_relu[0][0]']    \n",
            "                                )                                                                 \n",
            "                                                                                                  \n",
            " conv4_block5_3_bn (BatchNormal  (None, 28, 14, 1024  4096       ['conv4_block5_3_conv[0][0]']    \n",
            " ization)                       )                                                                 \n",
            "                                                                                                  \n",
            " conv4_block5_add (Add)         (None, 28, 14, 1024  0           ['conv4_block4_out[0][0]',       \n",
            "                                )                                 'conv4_block5_3_bn[0][0]']      \n",
            "                                                                                                  \n",
            " conv4_block5_out (Activation)  (None, 28, 14, 1024  0           ['conv4_block5_add[0][0]']       \n",
            "                                )                                                                 \n",
            "                                                                                                  \n",
            " conv4_block6_1_conv (Conv2D)   (None, 28, 14, 256)  262400      ['conv4_block5_out[0][0]']       \n",
            "                                                                                                  \n",
            " conv4_block6_1_bn (BatchNormal  (None, 28, 14, 256)  1024       ['conv4_block6_1_conv[0][0]']    \n",
            " ization)                                                                                         \n",
            "                                                                                                  \n",
            " conv4_block6_1_relu (Activatio  (None, 28, 14, 256)  0          ['conv4_block6_1_bn[0][0]']      \n",
            " n)                                                                                               \n",
            "                                                                                                  \n",
            " conv4_block6_2_conv (Conv2D)   (None, 28, 14, 256)  590080      ['conv4_block6_1_relu[0][0]']    \n",
            "                                                                                                  \n",
            " conv4_block6_2_bn (BatchNormal  (None, 28, 14, 256)  1024       ['conv4_block6_2_conv[0][0]']    \n",
            " ization)                                                                                         \n",
            "                                                                                                  \n",
            " conv4_block6_2_relu (Activatio  (None, 28, 14, 256)  0          ['conv4_block6_2_bn[0][0]']      \n",
            " n)                                                                                               \n",
            "                                                                                                  \n",
            " conv4_block6_3_conv (Conv2D)   (None, 28, 14, 1024  263168      ['conv4_block6_2_relu[0][0]']    \n",
            "                                )                                                                 \n",
            "                                                                                                  \n",
            " conv4_block6_3_bn (BatchNormal  (None, 28, 14, 1024  4096       ['conv4_block6_3_conv[0][0]']    \n",
            " ization)                       )                                                                 \n",
            "                                                                                                  \n",
            " conv4_block6_add (Add)         (None, 28, 14, 1024  0           ['conv4_block5_out[0][0]',       \n",
            "                                )                                 'conv4_block6_3_bn[0][0]']      \n",
            "                                                                                                  \n",
            " conv4_block6_out (Activation)  (None, 28, 14, 1024  0           ['conv4_block6_add[0][0]']       \n",
            "                                )                                                                 \n",
            "                                                                                                  \n",
            " conv5_block1_1_conv (Conv2D)   (None, 14, 7, 512)   524800      ['conv4_block6_out[0][0]']       \n",
            "                                                                                                  \n",
            " conv5_block1_1_bn (BatchNormal  (None, 14, 7, 512)  2048        ['conv5_block1_1_conv[0][0]']    \n",
            " ization)                                                                                         \n",
            "                                                                                                  \n",
            " conv5_block1_1_relu (Activatio  (None, 14, 7, 512)  0           ['conv5_block1_1_bn[0][0]']      \n",
            " n)                                                                                               \n",
            "                                                                                                  \n",
            " conv5_block1_2_conv (Conv2D)   (None, 14, 7, 512)   2359808     ['conv5_block1_1_relu[0][0]']    \n",
            "                                                                                                  \n",
            " conv5_block1_2_bn (BatchNormal  (None, 14, 7, 512)  2048        ['conv5_block1_2_conv[0][0]']    \n",
            " ization)                                                                                         \n",
            "                                                                                                  \n",
            " conv5_block1_2_relu (Activatio  (None, 14, 7, 512)  0           ['conv5_block1_2_bn[0][0]']      \n",
            " n)                                                                                               \n",
            "                                                                                                  \n",
            " conv5_block1_0_conv (Conv2D)   (None, 14, 7, 2048)  2099200     ['conv4_block6_out[0][0]']       \n",
            "                                                                                                  \n",
            " conv5_block1_3_conv (Conv2D)   (None, 14, 7, 2048)  1050624     ['conv5_block1_2_relu[0][0]']    \n",
            "                                                                                                  \n",
            " conv5_block1_0_bn (BatchNormal  (None, 14, 7, 2048)  8192       ['conv5_block1_0_conv[0][0]']    \n",
            " ization)                                                                                         \n",
            "                                                                                                  \n",
            " conv5_block1_3_bn (BatchNormal  (None, 14, 7, 2048)  8192       ['conv5_block1_3_conv[0][0]']    \n",
            " ization)                                                                                         \n",
            "                                                                                                  \n",
            " conv5_block1_add (Add)         (None, 14, 7, 2048)  0           ['conv5_block1_0_bn[0][0]',      \n",
            "                                                                  'conv5_block1_3_bn[0][0]']      \n",
            "                                                                                                  \n",
            " conv5_block1_out (Activation)  (None, 14, 7, 2048)  0           ['conv5_block1_add[0][0]']       \n",
            "                                                                                                  \n",
            " conv5_block2_1_conv (Conv2D)   (None, 14, 7, 512)   1049088     ['conv5_block1_out[0][0]']       \n",
            "                                                                                                  \n",
            " conv5_block2_1_bn (BatchNormal  (None, 14, 7, 512)  2048        ['conv5_block2_1_conv[0][0]']    \n",
            " ization)                                                                                         \n",
            "                                                                                                  \n",
            " conv5_block2_1_relu (Activatio  (None, 14, 7, 512)  0           ['conv5_block2_1_bn[0][0]']      \n",
            " n)                                                                                               \n",
            "                                                                                                  \n",
            " conv5_block2_2_conv (Conv2D)   (None, 14, 7, 512)   2359808     ['conv5_block2_1_relu[0][0]']    \n",
            "                                                                                                  \n",
            " conv5_block2_2_bn (BatchNormal  (None, 14, 7, 512)  2048        ['conv5_block2_2_conv[0][0]']    \n",
            " ization)                                                                                         \n",
            "                                                                                                  \n",
            " conv5_block2_2_relu (Activatio  (None, 14, 7, 512)  0           ['conv5_block2_2_bn[0][0]']      \n",
            " n)                                                                                               \n",
            "                                                                                                  \n",
            " conv5_block2_3_conv (Conv2D)   (None, 14, 7, 2048)  1050624     ['conv5_block2_2_relu[0][0]']    \n",
            "                                                                                                  \n",
            " conv5_block2_3_bn (BatchNormal  (None, 14, 7, 2048)  8192       ['conv5_block2_3_conv[0][0]']    \n",
            " ization)                                                                                         \n",
            "                                                                                                  \n",
            " conv5_block2_add (Add)         (None, 14, 7, 2048)  0           ['conv5_block1_out[0][0]',       \n",
            "                                                                  'conv5_block2_3_bn[0][0]']      \n",
            "                                                                                                  \n",
            " conv5_block2_out (Activation)  (None, 14, 7, 2048)  0           ['conv5_block2_add[0][0]']       \n",
            "                                                                                                  \n",
            " conv5_block3_1_conv (Conv2D)   (None, 14, 7, 512)   1049088     ['conv5_block2_out[0][0]']       \n",
            "                                                                                                  \n",
            " conv5_block3_1_bn (BatchNormal  (None, 14, 7, 512)  2048        ['conv5_block3_1_conv[0][0]']    \n",
            " ization)                                                                                         \n",
            "                                                                                                  \n",
            " conv5_block3_1_relu (Activatio  (None, 14, 7, 512)  0           ['conv5_block3_1_bn[0][0]']      \n",
            " n)                                                                                               \n",
            "                                                                                                  \n",
            " conv5_block3_2_conv (Conv2D)   (None, 14, 7, 512)   2359808     ['conv5_block3_1_relu[0][0]']    \n",
            "                                                                                                  \n",
            " conv5_block3_2_bn (BatchNormal  (None, 14, 7, 512)  2048        ['conv5_block3_2_conv[0][0]']    \n",
            " ization)                                                                                         \n",
            "                                                                                                  \n",
            " conv5_block3_2_relu (Activatio  (None, 14, 7, 512)  0           ['conv5_block3_2_bn[0][0]']      \n",
            " n)                                                                                               \n",
            "                                                                                                  \n",
            " conv5_block3_3_conv (Conv2D)   (None, 14, 7, 2048)  1050624     ['conv5_block3_2_relu[0][0]']    \n",
            "                                                                                                  \n",
            " conv5_block3_3_bn (BatchNormal  (None, 14, 7, 2048)  8192       ['conv5_block3_3_conv[0][0]']    \n",
            " ization)                                                                                         \n",
            "                                                                                                  \n",
            " conv5_block3_add (Add)         (None, 14, 7, 2048)  0           ['conv5_block2_out[0][0]',       \n",
            "                                                                  'conv5_block3_3_bn[0][0]']      \n",
            "                                                                                                  \n",
            " conv5_block3_out (Activation)  (None, 14, 7, 2048)  0           ['conv5_block3_add[0][0]']       \n",
            "                                                                                                  \n",
            " avg_pool (GlobalAveragePooling  (None, 2048)        0           ['conv5_block3_out[0][0]']       \n",
            " 2D)                                                                                              \n",
            "                                                                                                  \n",
            "==================================================================================================\n",
            "Total params: 23,587,712\n",
            "Trainable params: 23,534,592\n",
            "Non-trainable params: 53,120\n",
            "__________________________________________________________________________________________________\n",
            "Model: \"sequential\"\n",
            "_________________________________________________________________\n",
            " Layer (type)                Output Shape              Param #   \n",
            "=================================================================\n",
            " resnet50 (Functional)       (None, 2048)              23587712  \n",
            "                                                                 \n",
            " dense (Dense)               (None, 2)                 4098      \n",
            "                                                                 \n",
            "=================================================================\n",
            "Total params: 23,591,810\n",
            "Trainable params: 23,538,690\n",
            "Non-trainable params: 53,120\n",
            "_________________________________________________________________\n"
          ]
        }
      ],
      "source": [
        "tf.keras.backend.clear_session()\n",
        "\n",
        "#Importing the Resnet50 model is possible if the below is uncommented\n",
        "model_fn=ResNet50(include_top=False, input_shape=(448,224,3),pooling='avg')\n",
        "\n",
        "#model_fn=InceptionV3(include_top=False, input_shape=(448,224,3),pooling='avg')\n",
        "model_fn.summary()\n",
        "\n",
        "\n",
        "model=tf.keras.models.Sequential()\n",
        "model.add(model_fn)\n",
        "\n",
        "model.add(L.Dense(2,activation='linear'))\n",
        "model.summary()"
      ]
    },
    {
      "cell_type": "code",
      "execution_count": null,
      "metadata": {
        "colab": {
          "base_uri": "https://localhost:8080/"
        },
        "id": "e6JEHqMP58Rq",
        "outputId": "3fcea47a-7392-4054-b168-1411e062da5d"
      },
      "outputs": [
        {
          "metadata": {
            "tags": null
          },
          "name": "stderr",
          "output_type": "stream",
          "text": [
            "/usr/local/lib/python3.7/dist-packages/ipykernel_launcher.py:22: UserWarning: `Model.fit_generator` is deprecated and will be removed in a future version. Please use `Model.fit`, which supports generators.\n"
          ]
        },
        {
          "metadata": {
            "tags": null
          },
          "name": "stdout",
          "output_type": "stream",
          "text": [
            "Epoch 1/50\n",
            "11100/11100 [==============================] - ETA: 0s - loss: 0.9782 - mean_absolute_error: 0.7814\n",
            "Epoch 00001: val_loss improved from inf to 1087.01538, saving model to models/checkpoint_male1name_800_INC_waist\n",
            "INFO:tensorflow:Assets written to: models/checkpoint_male1name_800_INC_waist/assets\n"
          ]
        },
        {
          "metadata": {
            "tags": null
          },
          "name": "stderr",
          "output_type": "stream",
          "text": [
            "/usr/local/lib/python3.7/dist-packages/keras/engine/functional.py:1410: CustomMaskWarning: Custom mask layers require a config and must override get_config. When loading, the custom mask layer must be passed to the custom_objects argument.\n",
            "  layer_config = serialize_layer_fn(layer)\n"
          ]
        },
        {
          "metadata": {
            "tags": null
          },
          "name": "stdout",
          "output_type": "stream",
          "text": [
            "\b\b\b\b\b\b\b\b\b\b\b\b\b\b\b\b\b\b\b\b\b\b\b\b\b\b\b\b\b\b\b\b\b\b\b\b\b\b\b\b\b\b\b\b\b\b\b\b\b\b\b\b\b\b\b\b\b\b\b\b\b\b\b\b\b\b\b\b\b\b\b\b\b\b\b\b\b\b\b\b\b\b\b\b\b\b\b\b\b\b\b\b\b\b\b\b\b\b\b\r11100/11100 [==============================] - 1496s 133ms/step - loss: 0.9782 - mean_absolute_error: 0.7814 - val_loss: 1087.0154 - val_mean_absolute_error: 32.9291 - lr: 0.0010\n"
          ]
        },
        {
          "metadata": {
            "tags": null
          },
          "name": "stderr",
          "output_type": "stream",
          "text": [
            "/usr/local/lib/python3.7/dist-packages/keras/saving/saved_model/layer_serialization.py:112: CustomMaskWarning: Custom mask layers require a config and must override get_config. When loading, the custom mask layer must be passed to the custom_objects argument.\n",
            "  return generic_utils.serialize_keras_object(obj)\n"
          ]
        },
        {
          "metadata": {
            "tags": null
          },
          "name": "stdout",
          "output_type": "stream",
          "text": [
            "Epoch 2/50\n",
            "11100/11100 [==============================] - ETA: 0s - loss: 0.7043 - mean_absolute_error: 0.6679\n",
            "Epoch 00002: val_loss improved from 1087.01538 to 47.68485, saving model to models/checkpoint_male1name_800_INC_waist\n",
            "INFO:tensorflow:Assets written to: models/checkpoint_male1name_800_INC_waist/assets\n"
          ]
        },
        {
          "metadata": {
            "tags": null
          },
          "name": "stderr",
          "output_type": "stream",
          "text": [
            "/usr/local/lib/python3.7/dist-packages/keras/engine/functional.py:1410: CustomMaskWarning: Custom mask layers require a config and must override get_config. When loading, the custom mask layer must be passed to the custom_objects argument.\n",
            "  layer_config = serialize_layer_fn(layer)\n"
          ]
        },
        {
          "metadata": {
            "tags": null
          },
          "name": "stdout",
          "output_type": "stream",
          "text": [
            "\b\b\b\b\b\b\b\b\b\b\b\b\b\b\b\b\b\b\b\b\b\b\b\b\b\b\b\b\b\b\b\b\b\b\b\b\b\b\b\b\b\b\b\b\b\b\b\b\b\b\b\b\b\b\b\b\b\b\b\b\b\b\b\b\b\b\b\b\b\b\b\b\b\b\b\b\b\b\b\b\b\b\b\b\b\b\b\b\b\b\b\b\b\b\b\b\b\b\b\r11100/11100 [==============================] - 1479s 133ms/step - loss: 0.7043 - mean_absolute_error: 0.6679 - val_loss: 47.6849 - val_mean_absolute_error: 6.8435 - lr: 0.0010\n"
          ]
        },
        {
          "metadata": {
            "tags": null
          },
          "name": "stderr",
          "output_type": "stream",
          "text": [
            "/usr/local/lib/python3.7/dist-packages/keras/saving/saved_model/layer_serialization.py:112: CustomMaskWarning: Custom mask layers require a config and must override get_config. When loading, the custom mask layer must be passed to the custom_objects argument.\n",
            "  return generic_utils.serialize_keras_object(obj)\n"
          ]
        },
        {
          "metadata": {
            "tags": null
          },
          "name": "stdout",
          "output_type": "stream",
          "text": [
            "Epoch 3/50\n",
            "11100/11100 [==============================] - ETA: 0s - loss: 0.5846 - mean_absolute_error: 0.6076\n",
            "Epoch 00003: val_loss improved from 47.68485 to 1.37391, saving model to models/checkpoint_male1name_800_INC_waist\n",
            "INFO:tensorflow:Assets written to: models/checkpoint_male1name_800_INC_waist/assets\n"
          ]
        },
        {
          "metadata": {
            "tags": null
          },
          "name": "stderr",
          "output_type": "stream",
          "text": [
            "/usr/local/lib/python3.7/dist-packages/keras/engine/functional.py:1410: CustomMaskWarning: Custom mask layers require a config and must override get_config. When loading, the custom mask layer must be passed to the custom_objects argument.\n",
            "  layer_config = serialize_layer_fn(layer)\n"
          ]
        },
        {
          "metadata": {
            "tags": null
          },
          "name": "stdout",
          "output_type": "stream",
          "text": [
            "\b\b\b\b\b\b\b\b\b\b\b\b\b\b\b\b\b\b\b\b\b\b\b\b\b\b\b\b\b\b\b\b\b\b\b\b\b\b\b\b\b\b\b\b\b\b\b\b\b\b\b\b\b\b\b\b\b\b\b\b\b\b\b\b\b\b\b\b\b\b\b\b\b\b\b\b\b\b\b\b\b\b\b\b\b\b\b\b\b\b\b\b\b\b\b\b\b\b\b\r11100/11100 [==============================] - 1483s 134ms/step - loss: 0.5846 - mean_absolute_error: 0.6076 - val_loss: 1.3739 - val_mean_absolute_error: 0.9465 - lr: 0.0010\n"
          ]
        },
        {
          "metadata": {
            "tags": null
          },
          "name": "stderr",
          "output_type": "stream",
          "text": [
            "/usr/local/lib/python3.7/dist-packages/keras/saving/saved_model/layer_serialization.py:112: CustomMaskWarning: Custom mask layers require a config and must override get_config. When loading, the custom mask layer must be passed to the custom_objects argument.\n",
            "  return generic_utils.serialize_keras_object(obj)\n"
          ]
        },
        {
          "metadata": {
            "tags": null
          },
          "name": "stdout",
          "output_type": "stream",
          "text": [
            "Epoch 4/50\n",
            "11100/11100 [==============================] - ETA: 0s - loss: 0.5060 - mean_absolute_error: 0.5646\n",
            "Epoch 00004: val_loss did not improve from 1.37391\n",
            "11100/11100 [==============================] - 1462s 132ms/step - loss: 0.5060 - mean_absolute_error: 0.5646 - val_loss: 2.3511 - val_mean_absolute_error: 1.3156 - lr: 0.0010\n",
            "Epoch 5/50\n",
            "11100/11100 [==============================] - ETA: 0s - loss: 0.4361 - mean_absolute_error: 0.5235\n",
            "Epoch 00005: val_loss did not improve from 1.37391\n",
            "11100/11100 [==============================] - 1470s 132ms/step - loss: 0.4361 - mean_absolute_error: 0.5235 - val_loss: 519.7139 - val_mean_absolute_error: 22.7159 - lr: 0.0010\n",
            "Epoch 6/50\n",
            "11100/11100 [==============================] - ETA: 0s - loss: 0.3745 - mean_absolute_error: 0.4838\n",
            "Epoch 00006: val_loss improved from 1.37391 to 1.18175, saving model to models/checkpoint_male1name_800_INC_waist\n",
            "INFO:tensorflow:Assets written to: models/checkpoint_male1name_800_INC_waist/assets\n"
          ]
        },
        {
          "metadata": {
            "tags": null
          },
          "name": "stderr",
          "output_type": "stream",
          "text": [
            "/usr/local/lib/python3.7/dist-packages/keras/engine/functional.py:1410: CustomMaskWarning: Custom mask layers require a config and must override get_config. When loading, the custom mask layer must be passed to the custom_objects argument.\n",
            "  layer_config = serialize_layer_fn(layer)\n"
          ]
        },
        {
          "metadata": {
            "tags": null
          },
          "name": "stdout",
          "output_type": "stream",
          "text": [
            "\b\b\b\b\b\b\b\b\b\b\b\b\b\b\b\b\b\b\b\b\b\b\b\b\b\b\b\b\b\b\b\b\b\b\b\b\b\b\b\b\b\b\b\b\b\b\b\b\b\b\b\b\b\b\b\b\b\b\b\b\b\b\b\b\b\b\b\b\b\b\b\b\b\b\b\b\b\b\b\b\b\b\b\b\b\b\b\b\b\b\b\b\b\b\b\b\b\b\b\r11100/11100 [==============================] - 1500s 135ms/step - loss: 0.3745 - mean_absolute_error: 0.4838 - val_loss: 1.1817 - val_mean_absolute_error: 0.8961 - lr: 0.0010\n"
          ]
        },
        {
          "metadata": {
            "tags": null
          },
          "name": "stderr",
          "output_type": "stream",
          "text": [
            "/usr/local/lib/python3.7/dist-packages/keras/saving/saved_model/layer_serialization.py:112: CustomMaskWarning: Custom mask layers require a config and must override get_config. When loading, the custom mask layer must be passed to the custom_objects argument.\n",
            "  return generic_utils.serialize_keras_object(obj)\n"
          ]
        },
        {
          "metadata": {
            "tags": null
          },
          "name": "stdout",
          "output_type": "stream",
          "text": [
            "Epoch 7/50\n",
            "11100/11100 [==============================] - ETA: 0s - loss: 0.3181 - mean_absolute_error: 0.4457\n",
            "Epoch 00007: val_loss did not improve from 1.18175\n",
            "11100/11100 [==============================] - 1466s 132ms/step - loss: 0.3181 - mean_absolute_error: 0.4457 - val_loss: 491.1574 - val_mean_absolute_error: 22.1339 - lr: 0.0010\n",
            "Epoch 8/50\n",
            "11100/11100 [==============================] - ETA: 0s - loss: 0.2661 - mean_absolute_error: 0.4068\n",
            "Epoch 00008: val_loss did not improve from 1.18175\n",
            "11100/11100 [==============================] - 1464s 132ms/step - loss: 0.2661 - mean_absolute_error: 0.4068 - val_loss: 1880.2333 - val_mean_absolute_error: 43.3245 - lr: 0.0010\n",
            "Epoch 9/50\n",
            "11100/11100 [==============================] - ETA: 0s - loss: 0.2204 - mean_absolute_error: 0.3698\n",
            "Epoch 00009: val_loss did not improve from 1.18175\n",
            "11100/11100 [==============================] - 1463s 132ms/step - loss: 0.2204 - mean_absolute_error: 0.3698 - val_loss: 4.9560 - val_mean_absolute_error: 1.9988 - lr: 0.0010\n",
            "Epoch 10/50\n",
            "11100/11100 [==============================] - ETA: 0s - loss: 0.1805 - mean_absolute_error: 0.3352\n",
            "Epoch 00010: val_loss improved from 1.18175 to 0.86373, saving model to models/checkpoint_male1name_800_INC_waist\n",
            "INFO:tensorflow:Assets written to: models/checkpoint_male1name_800_INC_waist/assets\n"
          ]
        },
        {
          "metadata": {
            "tags": null
          },
          "name": "stderr",
          "output_type": "stream",
          "text": [
            "/usr/local/lib/python3.7/dist-packages/keras/engine/functional.py:1410: CustomMaskWarning: Custom mask layers require a config and must override get_config. When loading, the custom mask layer must be passed to the custom_objects argument.\n",
            "  layer_config = serialize_layer_fn(layer)\n"
          ]
        },
        {
          "metadata": {
            "tags": null
          },
          "name": "stdout",
          "output_type": "stream",
          "text": [
            "\b\b\b\b\b\b\b\b\b\b\b\b\b\b\b\b\b\b\b\b\b\b\b\b\b\b\b\b\b\b\b\b\b\b\b\b\b\b\b\b\b\b\b\b\b\b\b\b\b\b\b\b\b\b\b\b\b\b\b\b\b\b\b\b\b\b\b\b\b\b\b\b\b\b\b\b\b\b\b\b\b\b\b\b\b\b\b\b\b\b\b\b\b\b\b\b\b\b\b\r11100/11100 [==============================] - 1491s 134ms/step - loss: 0.1805 - mean_absolute_error: 0.3352 - val_loss: 0.8637 - val_mean_absolute_error: 0.7409 - lr: 0.0010\n"
          ]
        },
        {
          "metadata": {
            "tags": null
          },
          "name": "stderr",
          "output_type": "stream",
          "text": [
            "/usr/local/lib/python3.7/dist-packages/keras/saving/saved_model/layer_serialization.py:112: CustomMaskWarning: Custom mask layers require a config and must override get_config. When loading, the custom mask layer must be passed to the custom_objects argument.\n",
            "  return generic_utils.serialize_keras_object(obj)\n"
          ]
        },
        {
          "metadata": {
            "tags": null
          },
          "name": "stdout",
          "output_type": "stream",
          "text": [
            "Epoch 11/50\n",
            "11100/11100 [==============================] - ETA: 0s - loss: 0.1503 - mean_absolute_error: 0.3050\n",
            "Epoch 00011: val_loss did not improve from 0.86373\n",
            "11100/11100 [==============================] - 1464s 132ms/step - loss: 0.1503 - mean_absolute_error: 0.3050 - val_loss: 651.3736 - val_mean_absolute_error: 25.4632 - lr: 0.0010\n",
            "Epoch 12/50\n",
            "11100/11100 [==============================] - ETA: 0s - loss: 0.1257 - mean_absolute_error: 0.2790\n",
            "Epoch 00012: val_loss did not improve from 0.86373\n",
            "11100/11100 [==============================] - 1466s 132ms/step - loss: 0.1257 - mean_absolute_error: 0.2790 - val_loss: 257.6027 - val_mean_absolute_error: 16.0156 - lr: 0.0010\n",
            "Epoch 13/50\n",
            "11100/11100 [==============================] - ETA: 0s - loss: 0.1061 - mean_absolute_error: 0.2561\n",
            "Epoch 00013: val_loss did not improve from 0.86373\n",
            "11100/11100 [==============================] - 1467s 132ms/step - loss: 0.1061 - mean_absolute_error: 0.2561 - val_loss: 205.6671 - val_mean_absolute_error: 14.3035 - lr: 0.0010\n",
            "Epoch 14/50\n",
            "11100/11100 [==============================] - ETA: 0s - loss: 0.0915 - mean_absolute_error: 0.2382\n",
            "Epoch 00014: val_loss did not improve from 0.86373\n",
            "11100/11100 [==============================] - 1457s 131ms/step - loss: 0.0915 - mean_absolute_error: 0.2382 - val_loss: 0.9571 - val_mean_absolute_error: 0.7903 - lr: 0.0010\n",
            "Epoch 15/50\n",
            "11100/11100 [==============================] - ETA: 0s - loss: 0.0797 - mean_absolute_error: 0.2219\n",
            "Epoch 00015: val_loss did not improve from 0.86373\n",
            "11100/11100 [==============================] - 1462s 132ms/step - loss: 0.0797 - mean_absolute_error: 0.2219 - val_loss: 1495.0378 - val_mean_absolute_error: 38.6238 - lr: 0.0010\n",
            "Epoch 16/50\n",
            "11100/11100 [==============================] - ETA: 0s - loss: 0.0352 - mean_absolute_error: 0.1470\n",
            "Epoch 00016: val_loss improved from 0.86373 to 0.67404, saving model to models/checkpoint_male1name_800_INC_waist\n",
            "INFO:tensorflow:Assets written to: models/checkpoint_male1name_800_INC_waist/assets\n"
          ]
        },
        {
          "metadata": {
            "tags": null
          },
          "name": "stderr",
          "output_type": "stream",
          "text": [
            "/usr/local/lib/python3.7/dist-packages/keras/engine/functional.py:1410: CustomMaskWarning: Custom mask layers require a config and must override get_config. When loading, the custom mask layer must be passed to the custom_objects argument.\n",
            "  layer_config = serialize_layer_fn(layer)\n"
          ]
        },
        {
          "metadata": {
            "tags": null
          },
          "name": "stdout",
          "output_type": "stream",
          "text": [
            "\b\b\b\b\b\b\b\b\b\b\b\b\b\b\b\b\b\b\b\b\b\b\b\b\b\b\b\b\b\b\b\b\b\b\b\b\b\b\b\b\b\b\b\b\b\b\b\b\b\b\b\b\b\b\b\b\b\b\b\b\b\b\b\b\b\b\b\b\b\b\b\b\b\b\b\b\b\b\b\b\b\b\b\b\b\b\b\b\b\b\b\b\b\b\b\b\b\b\b\r11100/11100 [==============================] - 1483s 134ms/step - loss: 0.0352 - mean_absolute_error: 0.1470 - val_loss: 0.6740 - val_mean_absolute_error: 0.6494 - lr: 1.0000e-04\n"
          ]
        },
        {
          "metadata": {
            "tags": null
          },
          "name": "stderr",
          "output_type": "stream",
          "text": [
            "/usr/local/lib/python3.7/dist-packages/keras/saving/saved_model/layer_serialization.py:112: CustomMaskWarning: Custom mask layers require a config and must override get_config. When loading, the custom mask layer must be passed to the custom_objects argument.\n",
            "  return generic_utils.serialize_keras_object(obj)\n"
          ]
        },
        {
          "metadata": {
            "tags": null
          },
          "name": "stdout",
          "output_type": "stream",
          "text": [
            "Epoch 17/50\n",
            "11100/11100 [==============================] - ETA: 0s - loss: 0.0229 - mean_absolute_error: 0.1193\n",
            "Epoch 00017: val_loss improved from 0.67404 to 0.66802, saving model to models/checkpoint_male1name_800_INC_waist\n",
            "INFO:tensorflow:Assets written to: models/checkpoint_male1name_800_INC_waist/assets\n"
          ]
        },
        {
          "metadata": {
            "tags": null
          },
          "name": "stderr",
          "output_type": "stream",
          "text": [
            "/usr/local/lib/python3.7/dist-packages/keras/engine/functional.py:1410: CustomMaskWarning: Custom mask layers require a config and must override get_config. When loading, the custom mask layer must be passed to the custom_objects argument.\n",
            "  layer_config = serialize_layer_fn(layer)\n"
          ]
        },
        {
          "metadata": {
            "tags": null
          },
          "name": "stdout",
          "output_type": "stream",
          "text": [
            "\b\b\b\b\b\b\b\b\b\b\b\b\b\b\b\b\b\b\b\b\b\b\b\b\b\b\b\b\b\b\b\b\b\b\b\b\b\b\b\b\b\b\b\b\b\b\b\b\b\b\b\b\b\b\b\b\b\b\b\b\b\b\b\b\b\b\b\b\b\b\b\b\b\b\b\b\b\b\b\b\b\b\b\b\b\b\b\b\b\b\b\b\b\b\b\b\b\b\b\r11100/11100 [==============================] - 1487s 134ms/step - loss: 0.0229 - mean_absolute_error: 0.1193 - val_loss: 0.6680 - val_mean_absolute_error: 0.6489 - lr: 1.0000e-04\n"
          ]
        },
        {
          "metadata": {
            "tags": null
          },
          "name": "stderr",
          "output_type": "stream",
          "text": [
            "/usr/local/lib/python3.7/dist-packages/keras/saving/saved_model/layer_serialization.py:112: CustomMaskWarning: Custom mask layers require a config and must override get_config. When loading, the custom mask layer must be passed to the custom_objects argument.\n",
            "  return generic_utils.serialize_keras_object(obj)\n"
          ]
        },
        {
          "output_type": "stream",
          "name": "stdout",
          "text": [
            "Epoch 18/50\n",
            "11100/11100 [==============================] - ETA: 0s - loss: 0.0178 - mean_absolute_error: 0.1053\n",
            "Epoch 00018: val_loss did not improve from 0.66802\n",
            "11100/11100 [==============================] - 1465s 132ms/step - loss: 0.0178 - mean_absolute_error: 0.1053 - val_loss: 0.6734 - val_mean_absolute_error: 0.6498 - lr: 1.0000e-04\n",
            "Epoch 19/50\n",
            "11100/11100 [==============================] - ETA: 0s - loss: 0.0145 - mean_absolute_error: 0.0952\n",
            "Epoch 00019: val_loss did not improve from 0.66802\n",
            "11100/11100 [==============================] - 1463s 132ms/step - loss: 0.0145 - mean_absolute_error: 0.0952 - val_loss: 0.6706 - val_mean_absolute_error: 0.6488 - lr: 1.0000e-04\n",
            "Epoch 20/50\n",
            "11100/11100 [==============================] - ETA: 0s - loss: 0.0120 - mean_absolute_error: 0.0871\n",
            "Epoch 00020: val_loss did not improve from 0.66802\n",
            "11100/11100 [==============================] - 1464s 132ms/step - loss: 0.0120 - mean_absolute_error: 0.0871 - val_loss: 0.6734 - val_mean_absolute_error: 0.6499 - lr: 1.0000e-04\n",
            "Epoch 21/50\n",
            "11100/11100 [==============================] - ETA: 0s - loss: 0.0102 - mean_absolute_error: 0.0802\n",
            "Epoch 00021: val_loss did not improve from 0.66802\n",
            "11100/11100 [==============================] - 1462s 132ms/step - loss: 0.0102 - mean_absolute_error: 0.0802 - val_loss: 0.6684 - val_mean_absolute_error: 0.6482 - lr: 1.0000e-04\n",
            "Epoch 22/50\n",
            "11100/11100 [==============================] - ETA: 0s - loss: 0.0087 - mean_absolute_error: 0.0741\n",
            "Epoch 00022: val_loss did not improve from 0.66802\n",
            "11100/11100 [==============================] - 1460s 132ms/step - loss: 0.0087 - mean_absolute_error: 0.0741 - val_loss: 0.6682 - val_mean_absolute_error: 0.6488 - lr: 1.0000e-04\n",
            "Epoch 23/50\n",
            "11100/11100 [==============================] - ETA: 0s - loss: 0.0063 - mean_absolute_error: 0.0628\n",
            "Epoch 00023: val_loss did not improve from 0.66802\n",
            "11100/11100 [==============================] - 1465s 132ms/step - loss: 0.0063 - mean_absolute_error: 0.0628 - val_loss: 0.6711 - val_mean_absolute_error: 0.6489 - lr: 1.0000e-05\n",
            "Epoch 24/50\n",
            "11100/11100 [==============================] - ETA: 0s - loss: 0.0059 - mean_absolute_error: 0.0609\n",
            "Epoch 00024: val_loss did not improve from 0.66802\n",
            "11100/11100 [==============================] - 1469s 132ms/step - loss: 0.0059 - mean_absolute_error: 0.0609 - val_loss: 0.6712 - val_mean_absolute_error: 0.6490 - lr: 1.0000e-05\n",
            "Epoch 25/50\n",
            "11100/11100 [==============================] - ETA: 0s - loss: 0.0056 - mean_absolute_error: 0.0595\n",
            "Epoch 00025: val_loss did not improve from 0.66802\n",
            "11100/11100 [==============================] - 1468s 132ms/step - loss: 0.0056 - mean_absolute_error: 0.0595 - val_loss: 0.6706 - val_mean_absolute_error: 0.6486 - lr: 1.0000e-05\n",
            "Epoch 26/50\n",
            "11100/11100 [==============================] - ETA: 0s - loss: 0.0055 - mean_absolute_error: 0.0587\n",
            "Epoch 00026: val_loss did not improve from 0.66802\n",
            "11100/11100 [==============================] - 1469s 132ms/step - loss: 0.0055 - mean_absolute_error: 0.0587 - val_loss: 0.6711 - val_mean_absolute_error: 0.6490 - lr: 1.0000e-05\n",
            "Epoch 27/50\n",
            "11100/11100 [==============================] - ETA: 0s - loss: 0.0053 - mean_absolute_error: 0.0578\n",
            "Epoch 00027: val_loss did not improve from 0.66802\n",
            "11100/11100 [==============================] - 1465s 132ms/step - loss: 0.0053 - mean_absolute_error: 0.0578 - val_loss: 0.6719 - val_mean_absolute_error: 0.6493 - lr: 1.0000e-05\n",
            "Epoch 28/50\n",
            "11100/11100 [==============================] - ETA: 0s - loss: 0.0052 - mean_absolute_error: 0.0572\n",
            "Epoch 00028: val_loss did not improve from 0.66802\n",
            "11100/11100 [==============================] - 1467s 132ms/step - loss: 0.0052 - mean_absolute_error: 0.0572 - val_loss: 0.6722 - val_mean_absolute_error: 0.6494 - lr: 1.0000e-05\n",
            "Epoch 29/50\n",
            "11100/11100 [==============================] - ETA: 0s - loss: 0.0051 - mean_absolute_error: 0.0564\n",
            "Epoch 00029: val_loss did not improve from 0.66802\n",
            "11100/11100 [==============================] - 1471s 133ms/step - loss: 0.0051 - mean_absolute_error: 0.0564 - val_loss: 0.6731 - val_mean_absolute_error: 0.6496 - lr: 1.0000e-05\n",
            "Epoch 30/50\n",
            "11100/11100 [==============================] - ETA: 0s - loss: 0.0050 - mean_absolute_error: 0.0559\n",
            "Epoch 00030: val_loss did not improve from 0.66802\n",
            "11100/11100 [==============================] - 1471s 133ms/step - loss: 0.0050 - mean_absolute_error: 0.0559 - val_loss: 0.6720 - val_mean_absolute_error: 0.6494 - lr: 1.0000e-05\n",
            "Epoch 31/50\n",
            "11100/11100 [==============================] - ETA: 0s - loss: 0.0049 - mean_absolute_error: 0.0554\n",
            "Epoch 00031: val_loss did not improve from 0.66802\n",
            "11100/11100 [==============================] - 1471s 132ms/step - loss: 0.0049 - mean_absolute_error: 0.0554 - val_loss: 0.6730 - val_mean_absolute_error: 0.6499 - lr: 1.0000e-05\n",
            "Epoch 32/50\n",
            "11100/11100 [==============================] - ETA: 0s - loss: 0.0048 - mean_absolute_error: 0.0549\n",
            "Epoch 00032: val_loss did not improve from 0.66802\n",
            "11100/11100 [==============================] - 1470s 132ms/step - loss: 0.0048 - mean_absolute_error: 0.0549 - val_loss: 0.6714 - val_mean_absolute_error: 0.6491 - lr: 1.0000e-05\n",
            "Epoch 33/50\n",
            "11100/11100 [==============================] - ETA: 0s - loss: 0.0047 - mean_absolute_error: 0.0542\n",
            "Epoch 00033: val_loss did not improve from 0.66802\n",
            "11100/11100 [==============================] - 1467s 132ms/step - loss: 0.0047 - mean_absolute_error: 0.0542 - val_loss: 0.6719 - val_mean_absolute_error: 0.6494 - lr: 1.0000e-05\n",
            "Epoch 34/50\n",
            "11100/11100 [==============================] - ETA: 0s - loss: 0.0046 - mean_absolute_error: 0.0534\n",
            "Epoch 00034: val_loss did not improve from 0.66802\n",
            "11100/11100 [==============================] - 1467s 132ms/step - loss: 0.0046 - mean_absolute_error: 0.0534 - val_loss: 0.6707 - val_mean_absolute_error: 0.6489 - lr: 1.0000e-05\n",
            "Epoch 35/50\n",
            "11100/11100 [==============================] - ETA: 0s - loss: 0.0045 - mean_absolute_error: 0.0529\n",
            "Epoch 00035: val_loss did not improve from 0.66802\n",
            "11100/11100 [==============================] - 1462s 132ms/step - loss: 0.0045 - mean_absolute_error: 0.0529 - val_loss: 0.6712 - val_mean_absolute_error: 0.6488 - lr: 1.0000e-05\n",
            "Epoch 36/50\n",
            "11100/11100 [==============================] - ETA: 0s - loss: 0.0044 - mean_absolute_error: 0.0523\n",
            "Epoch 00036: val_loss did not improve from 0.66802\n",
            "11100/11100 [==============================] - 1460s 132ms/step - loss: 0.0044 - mean_absolute_error: 0.0523 - val_loss: 0.6715 - val_mean_absolute_error: 0.6490 - lr: 1.0000e-05\n",
            "Epoch 37/50\n",
            "11100/11100 [==============================] - ETA: 0s - loss: 0.0043 - mean_absolute_error: 0.0521\n",
            "Epoch 00037: val_loss did not improve from 0.66802\n",
            "11100/11100 [==============================] - 1469s 132ms/step - loss: 0.0043 - mean_absolute_error: 0.0521 - val_loss: 0.6727 - val_mean_absolute_error: 0.6494 - lr: 1.0000e-05\n",
            "Epoch 00037: early stopping\n"
          ]
        }
      ],
      "source": [
        "#set hyperparamerts for learning rate, early stopping and checkpoints\n",
        "rlr=ReduceLROnPlateau(monitor='val_loss', factor=0.1,\n",
        "                              patience=5, min_lr=0.00001, min_delta=0.001)\n",
        "ckpt=ModelCheckpoint('models/checkpoint_'+male1name, monitor='val_loss', verbose=1, save_best_only=True, mode='min')\n",
        "es=EarlyStopping(monitor='val_loss', mode='min', verbose=1, patience=20, min_delta=0.0001)\n",
        "\n",
        "\n",
        "\n",
        "#compile the model\n",
        "model.compile(optimizer=Adam(learning_rate=0.001),\n",
        "                loss='mean_squared_error',\n",
        "                metrics=['mean_absolute_error'])\n",
        "\n",
        "\n",
        "#fit the generator\n",
        "history=model.fit_generator(generator=train_generatorfemale,\n",
        "                           steps_per_epoch=STEP_SIZE_TRAINfemale,\n",
        "                           validation_data=valid_generatorfemale,\n",
        "                           validation_steps=STEP_SIZE_VALIDfemale,\n",
        "                           validation_freq=1,\n",
        "                           epochs=50,\n",
        "                           callbacks=[rlr,ckpt,es]\n",
        "                           )\n",
        "\n",
        "# save weights\n",
        "model.save_weights('/content/drive/MyDrive/Thesis_sep_2021/'+female1name+'.h5')"
      ]
    },
    {
      "cell_type": "code",
      "execution_count": null,
      "metadata": {
        "id": "4_R0Gf4G8Hzh",
        "colab": {
          "base_uri": "https://localhost:8080/"
        },
        "outputId": "5158b3e6-1af1-47f3-d83c-2e1e65ff4ddf"
      },
      "outputs": [
        {
          "output_type": "stream",
          "name": "stdout",
          "text": [
            "1850/1850 [==============================] - 73s 39ms/step\n"
          ]
        }
      ],
      "source": [
        "test_generatorfemale.reset()\n",
        "\n",
        "model_fn=ResNet50(include_top=False, input_shape=(448,224,3),pooling='avg')\n",
        "model = model=tf.keras.models.Sequential()\n",
        "model.add(model_fn)\n",
        "\n",
        "model.add(L.Dense(2,activation='linear'))\n",
        "model.load_weights('/content/drive/MyDrive/Thesis_sep_2021/female1name_RES_waist.h5')\n",
        "\n",
        "predictions=model.predict(test_generatorfemale,\n",
        "                                    steps=STEP_SIZE_TESTfemale,\n",
        "                                    verbose = 1)\n",
        "data = {'T2': testdffemale[str(genderindexfemale[1])],\n",
        "        \n",
        "        'P2': predictions[:,0],\n",
        "        }\n",
        "df = pd.DataFrame(data)\n",
        "\n",
        "df.to_csv('/content/drive/MyDrive/Thesis_sep_2021/test_results_'+female1name+'.csv')"
      ]
    },
    {
      "cell_type": "code",
      "execution_count": null,
      "metadata": {
        "id": "XORS3GWXwNU0"
      },
      "outputs": [],
      "source": [
        "%matplotlib inline\n",
        "\n",
        "plt.plot(history.history['loss'])\n",
        "plt.plot(history.history['val_loss'])\n",
        "plt.title('Model accuracy'+female1name)\n",
        "plt.ylabel('Accuracy')\n",
        "plt.xlabel('Epoch')\n",
        "plt.legend(['Train', 'Validation'], loc='upper right')\n",
        "plt.show()"
      ]
    },
    {
      "cell_type": "code",
      "execution_count": null,
      "metadata": {
        "id": "ewHoKXpv6qMg"
      },
      "outputs": [],
      "source": [
        "female1=pd.read_csv(\"/content/drive/MyDrive/Thesis_sep_2021/test_results_\"+female1name+\".csv\")"
      ]
    },
    {
      "cell_type": "code",
      "execution_count": null,
      "metadata": {
        "colab": {
          "base_uri": "https://localhost:8080/",
          "height": 297
        },
        "id": "r3Hait8j73E-",
        "outputId": "0c90ca54-0aa3-4254-8d44-68aef4c9eaf8"
      },
      "outputs": [
        {
          "data": {
            "text/html": [
              "\n",
              "  <div id=\"df-268a84ac-2d7e-4cef-8258-e09ab8adb261\">\n",
              "    <div class=\"colab-df-container\">\n",
              "      <div>\n",
              "<style scoped>\n",
              "    .dataframe tbody tr th:only-of-type {\n",
              "        vertical-align: middle;\n",
              "    }\n",
              "\n",
              "    .dataframe tbody tr th {\n",
              "        vertical-align: top;\n",
              "    }\n",
              "\n",
              "    .dataframe thead th {\n",
              "        text-align: right;\n",
              "    }\n",
              "</style>\n",
              "<table border=\"1\" class=\"dataframe\">\n",
              "  <thead>\n",
              "    <tr style=\"text-align: right;\">\n",
              "      <th></th>\n",
              "      <th>Unnamed: 0</th>\n",
              "      <th>T1</th>\n",
              "      <th>P1</th>\n",
              "    </tr>\n",
              "  </thead>\n",
              "  <tbody>\n",
              "    <tr>\n",
              "      <th>count</th>\n",
              "      <td>18500.000000</td>\n",
              "      <td>18500.000000</td>\n",
              "      <td>18500.000000</td>\n",
              "    </tr>\n",
              "    <tr>\n",
              "      <th>mean</th>\n",
              "      <td>9249.500000</td>\n",
              "      <td>-0.932183</td>\n",
              "      <td>-0.663782</td>\n",
              "    </tr>\n",
              "    <tr>\n",
              "      <th>std</th>\n",
              "      <td>5340.634326</td>\n",
              "      <td>5.042345</td>\n",
              "      <td>4.899133</td>\n",
              "    </tr>\n",
              "    <tr>\n",
              "      <th>min</th>\n",
              "      <td>0.000000</td>\n",
              "      <td>-15.655572</td>\n",
              "      <td>-12.809915</td>\n",
              "    </tr>\n",
              "    <tr>\n",
              "      <th>25%</th>\n",
              "      <td>4624.750000</td>\n",
              "      <td>-3.858575</td>\n",
              "      <td>-3.925097</td>\n",
              "    </tr>\n",
              "    <tr>\n",
              "      <th>50%</th>\n",
              "      <td>9249.500000</td>\n",
              "      <td>-1.868920</td>\n",
              "      <td>-1.179285</td>\n",
              "    </tr>\n",
              "    <tr>\n",
              "      <th>75%</th>\n",
              "      <td>13874.250000</td>\n",
              "      <td>2.037567</td>\n",
              "      <td>1.659510</td>\n",
              "    </tr>\n",
              "    <tr>\n",
              "      <th>max</th>\n",
              "      <td>18499.000000</td>\n",
              "      <td>14.260620</td>\n",
              "      <td>21.711624</td>\n",
              "    </tr>\n",
              "  </tbody>\n",
              "</table>\n",
              "</div>\n",
              "      <button class=\"colab-df-convert\" onclick=\"convertToInteractive('df-268a84ac-2d7e-4cef-8258-e09ab8adb261')\"\n",
              "              title=\"Convert this dataframe to an interactive table.\"\n",
              "              style=\"display:none;\">\n",
              "        \n",
              "  <svg xmlns=\"http://www.w3.org/2000/svg\" height=\"24px\"viewBox=\"0 0 24 24\"\n",
              "       width=\"24px\">\n",
              "    <path d=\"M0 0h24v24H0V0z\" fill=\"none\"/>\n",
              "    <path d=\"M18.56 5.44l.94 2.06.94-2.06 2.06-.94-2.06-.94-.94-2.06-.94 2.06-2.06.94zm-11 1L8.5 8.5l.94-2.06 2.06-.94-2.06-.94L8.5 2.5l-.94 2.06-2.06.94zm10 10l.94 2.06.94-2.06 2.06-.94-2.06-.94-.94-2.06-.94 2.06-2.06.94z\"/><path d=\"M17.41 7.96l-1.37-1.37c-.4-.4-.92-.59-1.43-.59-.52 0-1.04.2-1.43.59L10.3 9.45l-7.72 7.72c-.78.78-.78 2.05 0 2.83L4 21.41c.39.39.9.59 1.41.59.51 0 1.02-.2 1.41-.59l7.78-7.78 2.81-2.81c.8-.78.8-2.07 0-2.86zM5.41 20L4 18.59l7.72-7.72 1.47 1.35L5.41 20z\"/>\n",
              "  </svg>\n",
              "      </button>\n",
              "      \n",
              "  <style>\n",
              "    .colab-df-container {\n",
              "      display:flex;\n",
              "      flex-wrap:wrap;\n",
              "      gap: 12px;\n",
              "    }\n",
              "\n",
              "    .colab-df-convert {\n",
              "      background-color: #E8F0FE;\n",
              "      border: none;\n",
              "      border-radius: 50%;\n",
              "      cursor: pointer;\n",
              "      display: none;\n",
              "      fill: #1967D2;\n",
              "      height: 32px;\n",
              "      padding: 0 0 0 0;\n",
              "      width: 32px;\n",
              "    }\n",
              "\n",
              "    .colab-df-convert:hover {\n",
              "      background-color: #E2EBFA;\n",
              "      box-shadow: 0px 1px 2px rgba(60, 64, 67, 0.3), 0px 1px 3px 1px rgba(60, 64, 67, 0.15);\n",
              "      fill: #174EA6;\n",
              "    }\n",
              "\n",
              "    [theme=dark] .colab-df-convert {\n",
              "      background-color: #3B4455;\n",
              "      fill: #D2E3FC;\n",
              "    }\n",
              "\n",
              "    [theme=dark] .colab-df-convert:hover {\n",
              "      background-color: #434B5C;\n",
              "      box-shadow: 0px 1px 3px 1px rgba(0, 0, 0, 0.15);\n",
              "      filter: drop-shadow(0px 1px 2px rgba(0, 0, 0, 0.3));\n",
              "      fill: #FFFFFF;\n",
              "    }\n",
              "  </style>\n",
              "\n",
              "      <script>\n",
              "        const buttonEl =\n",
              "          document.querySelector('#df-268a84ac-2d7e-4cef-8258-e09ab8adb261 button.colab-df-convert');\n",
              "        buttonEl.style.display =\n",
              "          google.colab.kernel.accessAllowed ? 'block' : 'none';\n",
              "\n",
              "        async function convertToInteractive(key) {\n",
              "          const element = document.querySelector('#df-268a84ac-2d7e-4cef-8258-e09ab8adb261');\n",
              "          const dataTable =\n",
              "            await google.colab.kernel.invokeFunction('convertToInteractive',\n",
              "                                                     [key], {});\n",
              "          if (!dataTable) return;\n",
              "\n",
              "          const docLinkHtml = 'Like what you see? Visit the ' +\n",
              "            '<a target=\"_blank\" href=https://colab.research.google.com/notebooks/data_table.ipynb>data table notebook</a>'\n",
              "            + ' to learn more about interactive tables.';\n",
              "          element.innerHTML = '';\n",
              "          dataTable['output_type'] = 'display_data';\n",
              "          await google.colab.output.renderOutput(dataTable, element);\n",
              "          const docLink = document.createElement('div');\n",
              "          docLink.innerHTML = docLinkHtml;\n",
              "          element.appendChild(docLink);\n",
              "        }\n",
              "      </script>\n",
              "    </div>\n",
              "  </div>\n",
              "  "
            ],
            "text/plain": [
              "         Unnamed: 0            T1            P1\n",
              "count  18500.000000  18500.000000  18500.000000\n",
              "mean    9249.500000     -0.932183     -0.663782\n",
              "std     5340.634326      5.042345      4.899133\n",
              "min        0.000000    -15.655572    -12.809915\n",
              "25%     4624.750000     -3.858575     -3.925097\n",
              "50%     9249.500000     -1.868920     -1.179285\n",
              "75%    13874.250000      2.037567      1.659510\n",
              "max    18499.000000     14.260620     21.711624"
            ]
          },
          "execution_count": 97,
          "metadata": {},
          "output_type": "execute_result"
        }
      ],
      "source": [
        "female1.describe()"
      ]
    },
    {
      "cell_type": "code",
      "execution_count": null,
      "metadata": {
        "id": "m-cLX6jo6qWo"
      },
      "outputs": [],
      "source": [
        "y_true2=(79.23/(5.042345))*female1[\"T1\"]+1639.66"
      ]
    },
    {
      "cell_type": "code",
      "execution_count": null,
      "metadata": {
        "id": "j6dbLiaU6qbF"
      },
      "outputs": [],
      "source": [
        "y_pred2=(79.23/(5.042345))*female1[\"P1\"]+1639.66"
      ]
    },
    {
      "cell_type": "code",
      "execution_count": null,
      "metadata": {
        "colab": {
          "base_uri": "https://localhost:8080/"
        },
        "id": "2phwBRjj6qea",
        "outputId": "330af917-1264-4832-ef55-d004c8136d8e"
      },
      "outputs": [
        {
          "name": "stdout",
          "output_type": "stream",
          "text": [
            "MAE of female testing for height is  17.546292701248948 Millimeters\n"
          ]
        }
      ],
      "source": [
        "print(\"MAE of female testing for height is \", mean_absolute_error(y_true2, y_pred2),\"Millimeters\")"
      ]
    },
    {
      "cell_type": "code",
      "execution_count": null,
      "metadata": {
        "colab": {
          "base_uri": "https://localhost:8080/"
        },
        "id": "xOjP8F9D69Ji",
        "outputId": "bbae454e-95ed-4f8d-924d-2c550ad8ce68"
      },
      "outputs": [
        {
          "output_type": "execute_result",
          "data": {
            "text/plain": [
              "count    18500.000000\n",
              "mean         0.999818\n",
              "std          9.159629\n",
              "min        -36.784362\n",
              "25%         -3.297422\n",
              "50%          2.349286\n",
              "75%          6.949233\n",
              "max         18.478823\n",
              "Name: T2, dtype: float64"
            ]
          },
          "metadata": {},
          "execution_count": 82
        }
      ],
      "source": [
        "waist_true2=2*math.pi*female1[\"T2\"]\n",
        "waist_pred2=2*math.pi*female1[\"P2\"]\n",
        "waist_true2.describe()"
      ]
    },
    {
      "cell_type": "code",
      "execution_count": null,
      "metadata": {
        "colab": {
          "base_uri": "https://localhost:8080/"
        },
        "id": "tUCX6lf969sV",
        "outputId": "d5978a68-60a2-4437-80e4-82dbcccec091"
      },
      "outputs": [
        {
          "output_type": "stream",
          "name": "stdout",
          "text": [
            "MAE of female testing for waist in males is  38.45981236859127 Millimeters\n"
          ]
        }
      ],
      "source": [
        "w_true2=(134.89/(9.159629))*waist_true2+788.96\n",
        "w_pred2=(134.89/(9.159629))*waist_pred2+788.96\n",
        "print(\"MAE of female testing for waist in males is \", mean_absolute_error(w_true2, w_pred2),\"Millimeters\")"
      ]
    },
    {
      "cell_type": "markdown",
      "metadata": {
        "id": "tTwJ1FopJD0s"
      },
      "source": [
        "# **Baseline**"
      ]
    },
    {
      "cell_type": "markdown",
      "metadata": {
        "id": "Ikhz1yWRJJNI"
      },
      "source": [
        "## PC1"
      ]
    },
    {
      "cell_type": "code",
      "execution_count": null,
      "metadata": {
        "id": "9MMP03rpJP8-"
      },
      "outputs": [],
      "source": [
        "female1name=\"female1name_INC_height\""
      ]
    },
    {
      "cell_type": "code",
      "execution_count": null,
      "metadata": {
        "id": "EL0M31LsJQH6"
      },
      "outputs": [],
      "source": [
        "female1=pd.read_csv(\"/content/drive/MyDrive/Thesis_sep_2021/test_results_\"+female1name+\".csv\")"
      ]
    },
    {
      "cell_type": "code",
      "execution_count": null,
      "metadata": {
        "id": "b9F-KR86JQNs"
      },
      "outputs": [],
      "source": [
        "traindffemale.describe()"
      ]
    },
    {
      "cell_type": "code",
      "execution_count": null,
      "metadata": {
        "id": "_wEr77cUK4b1"
      },
      "outputs": [],
      "source": [
        "BasePC1list = [-0.127676 for i in range(len(female1))]\n",
        "BasePC1 = pd.DataFrame(BasePC1list, columns =['PC1_mean_train'])"
      ]
    },
    {
      "cell_type": "code",
      "execution_count": null,
      "metadata": {
        "id": "E762x_0sJQST"
      },
      "outputs": [],
      "source": [
        "y_true2=(79.23/(5.057424))*female1[\"T1\"]+1639.66\n",
        "y_pred2=(79.23/(5.057424))*BasePC1[\"PC1_mean_train\"]+1639.66"
      ]
    },
    {
      "cell_type": "code",
      "execution_count": null,
      "metadata": {
        "id": "_qDINrzHJQW2"
      },
      "outputs": [],
      "source": [
        "print(\"BASELINE PC1 feMale MAE testing for height is \", mean_absolute_error(y_true2, y_pred2),\"Millimeters\")"
      ]
    },
    {
      "cell_type": "markdown",
      "metadata": {
        "id": "nvZ0hpP4JJe2"
      },
      "source": [
        "## PC2"
      ]
    },
    {
      "cell_type": "code",
      "execution_count": null,
      "metadata": {
        "id": "MLOuhF31JSBH"
      },
      "outputs": [],
      "source": [
        "female1name=\"female1name_INC_waist\""
      ]
    },
    {
      "cell_type": "code",
      "execution_count": null,
      "metadata": {
        "id": "Uzz45cjMJSHG"
      },
      "outputs": [],
      "source": [
        "female1=pd.read_csv(\"/content/drive/MyDrive/Thesis_sep_2021/test_results_\"+female1name+\".csv\")"
      ]
    },
    {
      "cell_type": "code",
      "execution_count": null,
      "metadata": {
        "colab": {
          "base_uri": "https://localhost:8080/",
          "height": 297
        },
        "id": "j0LnPJpbJSLo",
        "outputId": "caae1fcc-e846-45c0-ea1e-42dd5980c862"
      },
      "outputs": [
        {
          "data": {
            "text/html": [
              "\n",
              "  <div id=\"df-e76751e5-9388-40fa-9611-c4d9c045d852\">\n",
              "    <div class=\"colab-df-container\">\n",
              "      <div>\n",
              "<style scoped>\n",
              "    .dataframe tbody tr th:only-of-type {\n",
              "        vertical-align: middle;\n",
              "    }\n",
              "\n",
              "    .dataframe tbody tr th {\n",
              "        vertical-align: top;\n",
              "    }\n",
              "\n",
              "    .dataframe thead th {\n",
              "        text-align: right;\n",
              "    }\n",
              "</style>\n",
              "<table border=\"1\" class=\"dataframe\">\n",
              "  <thead>\n",
              "    <tr style=\"text-align: right;\">\n",
              "      <th></th>\n",
              "      <th>0</th>\n",
              "      <th>1</th>\n",
              "      <th>2</th>\n",
              "      <th>3</th>\n",
              "      <th>4</th>\n",
              "      <th>5</th>\n",
              "      <th>6</th>\n",
              "      <th>7</th>\n",
              "      <th>8</th>\n",
              "      <th>9</th>\n",
              "    </tr>\n",
              "  </thead>\n",
              "  <tbody>\n",
              "    <tr>\n",
              "      <th>count</th>\n",
              "      <td>110815.000000</td>\n",
              "      <td>110815.000000</td>\n",
              "      <td>110815.000000</td>\n",
              "      <td>110815.000000</td>\n",
              "      <td>110815.000000</td>\n",
              "      <td>110815.000000</td>\n",
              "      <td>110815.000000</td>\n",
              "      <td>110815.000000</td>\n",
              "      <td>110815.000000</td>\n",
              "      <td>110815.000000</td>\n",
              "    </tr>\n",
              "    <tr>\n",
              "      <th>mean</th>\n",
              "      <td>-0.127676</td>\n",
              "      <td>0.035737</td>\n",
              "      <td>0.022796</td>\n",
              "      <td>0.082719</td>\n",
              "      <td>-0.007989</td>\n",
              "      <td>-0.025292</td>\n",
              "      <td>0.023869</td>\n",
              "      <td>-0.002929</td>\n",
              "      <td>-0.049127</td>\n",
              "      <td>-0.008586</td>\n",
              "    </tr>\n",
              "    <tr>\n",
              "      <th>std</th>\n",
              "      <td>5.153255</td>\n",
              "      <td>1.993496</td>\n",
              "      <td>1.602630</td>\n",
              "      <td>1.337568</td>\n",
              "      <td>0.919775</td>\n",
              "      <td>0.881539</td>\n",
              "      <td>0.792749</td>\n",
              "      <td>0.744876</td>\n",
              "      <td>0.612208</td>\n",
              "      <td>0.601206</td>\n",
              "    </tr>\n",
              "    <tr>\n",
              "      <th>min</th>\n",
              "      <td>-14.968514</td>\n",
              "      <td>-7.234826</td>\n",
              "      <td>-7.382713</td>\n",
              "      <td>-4.932753</td>\n",
              "      <td>-3.006421</td>\n",
              "      <td>-2.484127</td>\n",
              "      <td>-2.614433</td>\n",
              "      <td>-2.622428</td>\n",
              "      <td>-2.334605</td>\n",
              "      <td>-2.075365</td>\n",
              "    </tr>\n",
              "    <tr>\n",
              "      <th>25%</th>\n",
              "      <td>-3.437440</td>\n",
              "      <td>-1.285926</td>\n",
              "      <td>-0.745023</td>\n",
              "      <td>-0.781182</td>\n",
              "      <td>-0.642244</td>\n",
              "      <td>-0.590854</td>\n",
              "      <td>-0.477633</td>\n",
              "      <td>-0.469910</td>\n",
              "      <td>-0.424685</td>\n",
              "      <td>-0.414779</td>\n",
              "    </tr>\n",
              "    <tr>\n",
              "      <th>50%</th>\n",
              "      <td>-0.305424</td>\n",
              "      <td>0.033722</td>\n",
              "      <td>0.244346</td>\n",
              "      <td>0.134666</td>\n",
              "      <td>-0.024207</td>\n",
              "      <td>-0.056969</td>\n",
              "      <td>0.000775</td>\n",
              "      <td>-0.009821</td>\n",
              "      <td>-0.047433</td>\n",
              "      <td>0.015206</td>\n",
              "    </tr>\n",
              "    <tr>\n",
              "      <th>75%</th>\n",
              "      <td>3.166344</td>\n",
              "      <td>1.269185</td>\n",
              "      <td>1.031867</td>\n",
              "      <td>0.988484</td>\n",
              "      <td>0.597247</td>\n",
              "      <td>0.499458</td>\n",
              "      <td>0.482657</td>\n",
              "      <td>0.464264</td>\n",
              "      <td>0.327990</td>\n",
              "      <td>0.404282</td>\n",
              "    </tr>\n",
              "    <tr>\n",
              "      <th>max</th>\n",
              "      <td>16.977782</td>\n",
              "      <td>8.296145</td>\n",
              "      <td>3.590279</td>\n",
              "      <td>3.853229</td>\n",
              "      <td>3.034569</td>\n",
              "      <td>3.125444</td>\n",
              "      <td>3.462074</td>\n",
              "      <td>3.261618</td>\n",
              "      <td>1.794208</td>\n",
              "      <td>2.009046</td>\n",
              "    </tr>\n",
              "  </tbody>\n",
              "</table>\n",
              "</div>\n",
              "      <button class=\"colab-df-convert\" onclick=\"convertToInteractive('df-e76751e5-9388-40fa-9611-c4d9c045d852')\"\n",
              "              title=\"Convert this dataframe to an interactive table.\"\n",
              "              style=\"display:none;\">\n",
              "        \n",
              "  <svg xmlns=\"http://www.w3.org/2000/svg\" height=\"24px\"viewBox=\"0 0 24 24\"\n",
              "       width=\"24px\">\n",
              "    <path d=\"M0 0h24v24H0V0z\" fill=\"none\"/>\n",
              "    <path d=\"M18.56 5.44l.94 2.06.94-2.06 2.06-.94-2.06-.94-.94-2.06-.94 2.06-2.06.94zm-11 1L8.5 8.5l.94-2.06 2.06-.94-2.06-.94L8.5 2.5l-.94 2.06-2.06.94zm10 10l.94 2.06.94-2.06 2.06-.94-2.06-.94-.94-2.06-.94 2.06-2.06.94z\"/><path d=\"M17.41 7.96l-1.37-1.37c-.4-.4-.92-.59-1.43-.59-.52 0-1.04.2-1.43.59L10.3 9.45l-7.72 7.72c-.78.78-.78 2.05 0 2.83L4 21.41c.39.39.9.59 1.41.59.51 0 1.02-.2 1.41-.59l7.78-7.78 2.81-2.81c.8-.78.8-2.07 0-2.86zM5.41 20L4 18.59l7.72-7.72 1.47 1.35L5.41 20z\"/>\n",
              "  </svg>\n",
              "      </button>\n",
              "      \n",
              "  <style>\n",
              "    .colab-df-container {\n",
              "      display:flex;\n",
              "      flex-wrap:wrap;\n",
              "      gap: 12px;\n",
              "    }\n",
              "\n",
              "    .colab-df-convert {\n",
              "      background-color: #E8F0FE;\n",
              "      border: none;\n",
              "      border-radius: 50%;\n",
              "      cursor: pointer;\n",
              "      display: none;\n",
              "      fill: #1967D2;\n",
              "      height: 32px;\n",
              "      padding: 0 0 0 0;\n",
              "      width: 32px;\n",
              "    }\n",
              "\n",
              "    .colab-df-convert:hover {\n",
              "      background-color: #E2EBFA;\n",
              "      box-shadow: 0px 1px 2px rgba(60, 64, 67, 0.3), 0px 1px 3px 1px rgba(60, 64, 67, 0.15);\n",
              "      fill: #174EA6;\n",
              "    }\n",
              "\n",
              "    [theme=dark] .colab-df-convert {\n",
              "      background-color: #3B4455;\n",
              "      fill: #D2E3FC;\n",
              "    }\n",
              "\n",
              "    [theme=dark] .colab-df-convert:hover {\n",
              "      background-color: #434B5C;\n",
              "      box-shadow: 0px 1px 3px 1px rgba(0, 0, 0, 0.15);\n",
              "      filter: drop-shadow(0px 1px 2px rgba(0, 0, 0, 0.3));\n",
              "      fill: #FFFFFF;\n",
              "    }\n",
              "  </style>\n",
              "\n",
              "      <script>\n",
              "        const buttonEl =\n",
              "          document.querySelector('#df-e76751e5-9388-40fa-9611-c4d9c045d852 button.colab-df-convert');\n",
              "        buttonEl.style.display =\n",
              "          google.colab.kernel.accessAllowed ? 'block' : 'none';\n",
              "\n",
              "        async function convertToInteractive(key) {\n",
              "          const element = document.querySelector('#df-e76751e5-9388-40fa-9611-c4d9c045d852');\n",
              "          const dataTable =\n",
              "            await google.colab.kernel.invokeFunction('convertToInteractive',\n",
              "                                                     [key], {});\n",
              "          if (!dataTable) return;\n",
              "\n",
              "          const docLinkHtml = 'Like what you see? Visit the ' +\n",
              "            '<a target=\"_blank\" href=https://colab.research.google.com/notebooks/data_table.ipynb>data table notebook</a>'\n",
              "            + ' to learn more about interactive tables.';\n",
              "          element.innerHTML = '';\n",
              "          dataTable['output_type'] = 'display_data';\n",
              "          await google.colab.output.renderOutput(dataTable, element);\n",
              "          const docLink = document.createElement('div');\n",
              "          docLink.innerHTML = docLinkHtml;\n",
              "          element.appendChild(docLink);\n",
              "        }\n",
              "      </script>\n",
              "    </div>\n",
              "  </div>\n",
              "  "
            ],
            "text/plain": [
              "                   0              1  ...              8              9\n",
              "count  110815.000000  110815.000000  ...  110815.000000  110815.000000\n",
              "mean       -0.127676       0.035737  ...      -0.049127      -0.008586\n",
              "std         5.153255       1.993496  ...       0.612208       0.601206\n",
              "min       -14.968514      -7.234826  ...      -2.334605      -2.075365\n",
              "25%        -3.437440      -1.285926  ...      -0.424685      -0.414779\n",
              "50%        -0.305424       0.033722  ...      -0.047433       0.015206\n",
              "75%         3.166344       1.269185  ...       0.327990       0.404282\n",
              "max        16.977782       8.296145  ...       1.794208       2.009046\n",
              "\n",
              "[8 rows x 10 columns]"
            ]
          },
          "execution_count": 54,
          "metadata": {},
          "output_type": "execute_result"
        }
      ],
      "source": [
        "traindffemale.describe()"
      ]
    },
    {
      "cell_type": "code",
      "execution_count": null,
      "metadata": {
        "id": "II7wSpwkYUrk"
      },
      "outputs": [],
      "source": [
        "BasePC1list = [0.022796 for i in range(len(female1))]\n",
        "BasePC1 = pd.DataFrame(BasePC1list, columns =['PC3_mean_train'])"
      ]
    },
    {
      "cell_type": "code",
      "execution_count": null,
      "metadata": {
        "colab": {
          "base_uri": "https://localhost:8080/"
        },
        "id": "TL680OdfJSQD",
        "outputId": "206bb383-f3d9-4be2-8366-cddde1e956e0"
      },
      "outputs": [
        {
          "data": {
            "text/plain": [
              "count    18500.000000\n",
              "mean        -1.290387\n",
              "std         11.535664\n",
              "min        -42.440642\n",
              "25%         -7.111124\n",
              "50%          0.491625\n",
              "75%          7.877410\n",
              "max         15.719047\n",
              "Name: T2, dtype: float64"
            ]
          },
          "execution_count": 56,
          "metadata": {},
          "output_type": "execute_result"
        }
      ],
      "source": [
        "waist_true2=2*math.pi*female1[\"T2\"]\n",
        "waist_pred2=2*math.pi*BasePC1[\"PC3_mean_train\"]\n",
        "waist_true2.describe()"
      ]
    },
    {
      "cell_type": "code",
      "execution_count": null,
      "metadata": {
        "colab": {
          "base_uri": "https://localhost:8080/"
        },
        "id": "httwguYIJSUd",
        "outputId": "47fec27c-92a5-4f08-b531-e5794d7bc71e"
      },
      "outputs": [
        {
          "name": "stdout",
          "output_type": "stream",
          "text": [
            "BASELINE PC3 FEMale MAE of male testing for waist in males is  105.95673289738669 Millimeters\n"
          ]
        }
      ],
      "source": [
        "w_true2=(134.89/(11.535664))*waist_true2+788.96\n",
        "w_pred2=(134.89/(11.535664))*waist_pred2+788.96\n",
        "print(\"BASELINE PC3 FEMale MAE of male testing for waist in males is \", mean_absolute_error(w_true2, w_pred2),\"Millimeters\")"
      ]
    },
    {
      "cell_type": "code",
      "execution_count": null,
      "metadata": {
        "id": "cSDEtoM3JSZW"
      },
      "outputs": [],
      "source": [
        ""
      ]
    },
    {
      "cell_type": "code",
      "execution_count": null,
      "metadata": {
        "id": "wfuCZACUJSd5"
      },
      "outputs": [],
      "source": [
        ""
      ]
    },
    {
      "cell_type": "code",
      "execution_count": null,
      "metadata": {
        "id": "hXmP-daqJSir"
      },
      "outputs": [],
      "source": [
        ""
      ]
    },
    {
      "cell_type": "code",
      "execution_count": null,
      "metadata": {
        "id": "Ngl3BV12JSor"
      },
      "outputs": [],
      "source": [
        ""
      ]
    },
    {
      "cell_type": "code",
      "execution_count": null,
      "metadata": {
        "id": "8GtWvt0zJSw2"
      },
      "outputs": [],
      "source": [
        ""
      ]
    },
    {
      "cell_type": "code",
      "execution_count": null,
      "metadata": {
        "id": "PTComZznJS2w"
      },
      "outputs": [],
      "source": [
        ""
      ]
    }
  ],
  "metadata": {
    "accelerator": "GPU",
    "colab": {
      "collapsed_sections": [
        "Ikhz1yWRJJNI"
      ],
      "machine_shape": "hm",
      "name": "Thesis_sep_2021_FEMale_RESV2.ipynb",
      "provenance": []
    },
    "kernelspec": {
      "display_name": "Python 3",
      "name": "python3"
    },
    "language_info": {
      "name": "python"
    }
  },
  "nbformat": 4,
  "nbformat_minor": 0
}
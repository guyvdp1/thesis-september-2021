{
  "nbformat": 4,
  "nbformat_minor": 0,
  "metadata": {
    "accelerator": "GPU",
    "colab": {
      "name": "Thesis_sep_2021_Male_Res.ipynb",
      "provenance": [],
      "machine_shape": "hm"
    },
    "kernelspec": {
      "display_name": "Python 3",
      "name": "python3"
    },
    "language_info": {
      "name": "python"
    }
  },
  "cells": [
    {
      "cell_type": "code",
      "metadata": {
        "id": "ejdtQZfT74aN"
      },
      "source": [
        "### This documnent countains the code required to fullfill my master thesis\n",
        "### G. van der Plas"
      ],
      "execution_count": null,
      "outputs": []
    },
    {
      "cell_type": "code",
      "metadata": {
        "id": "arjLFmjFpcSD"
      },
      "source": [
        "#import packages\n",
        "import pandas as pd\n",
        "import numpy as np\n",
        "import os\n",
        "from google.colab import drive\n",
        "\n",
        "from shutil import copyfile\n",
        "import shutil\n",
        "import random\n",
        "\n",
        "from tqdm import tqdm\n",
        "import glob \n",
        "\n",
        "\n",
        "import matplotlib.pyplot as plt\n",
        "from sklearn.metrics import mean_absolute_error\n",
        "import math\n",
        "import csv\n",
        "\n",
        "import tensorflow as tf\n",
        "import tensorflow_datasets as tfds\n",
        "from tensorflow.keras.models import Sequential\n",
        "from tensorflow.keras.preprocessing.image import ImageDataGenerator\n",
        "import tensorflow as tf\n",
        "from tensorflow.keras.optimizers import Adam\n",
        "from tensorflow.keras import layers as L\n",
        "from tensorflow.keras.applications.resnet50 import ResNet50\n",
        "from tensorflow.keras.applications.inception_v3 import InceptionV3\n",
        "from tensorflow.keras.callbacks import ReduceLROnPlateau,ModelCheckpoint,EarlyStopping\n",
        "\n",
        "\n",
        "#import PIL\n",
        "#import PIL.Image\n",
        "#import pathlib\n",
        "#from pathlib import Path\n",
        "#import argparse"
      ],
      "execution_count": null,
      "outputs": []
    },
    {
      "cell_type": "code",
      "metadata": {
        "colab": {
          "base_uri": "https://localhost:8080/"
        },
        "id": "uvxHMDP_6i0O",
        "outputId": "12869638-78ea-439d-e466-4940805172d0"
      },
      "source": [
        "print(tf.test.gpu_device_name())\n",
        "!nvidia-smi\n",
        "#!cat /proc/cpuinfo\n",
        "# !cat /proc/meminfo"
      ],
      "execution_count": null,
      "outputs": [
        {
          "output_type": "stream",
          "name": "stdout",
          "text": [
            "/device:GPU:0\n",
            "Mon Nov 15 12:34:20 2021       \n",
            "+-----------------------------------------------------------------------------+\n",
            "| NVIDIA-SMI 495.44       Driver Version: 460.32.03    CUDA Version: 11.2     |\n",
            "|-------------------------------+----------------------+----------------------+\n",
            "| GPU  Name        Persistence-M| Bus-Id        Disp.A | Volatile Uncorr. ECC |\n",
            "| Fan  Temp  Perf  Pwr:Usage/Cap|         Memory-Usage | GPU-Util  Compute M. |\n",
            "|                               |                      |               MIG M. |\n",
            "|===============================+======================+======================|\n",
            "|   0  Tesla P100-PCIE...  Off  | 00000000:00:04.0 Off |                    0 |\n",
            "| N/A   31C    P0    32W / 250W |    375MiB / 16280MiB |      1%      Default |\n",
            "|                               |                      |                  N/A |\n",
            "+-------------------------------+----------------------+----------------------+\n",
            "                                                                               \n",
            "+-----------------------------------------------------------------------------+\n",
            "| Processes:                                                                  |\n",
            "|  GPU   GI   CI        PID   Type   Process name                  GPU Memory |\n",
            "|        ID   ID                                                   Usage      |\n",
            "|=============================================================================|\n",
            "|  No running processes found                                                 |\n",
            "+-----------------------------------------------------------------------------+\n"
          ]
        }
      ]
    },
    {
      "cell_type": "markdown",
      "metadata": {
        "id": "XaQP86GI1v1S"
      },
      "source": [
        "# **UNZIP data locally in COLAB**"
      ]
    },
    {
      "cell_type": "code",
      "metadata": {
        "id": "zGGvYrHff9ms"
      },
      "source": [
        "!rm -rf  /content/malesetsplit\n",
        "!rm -rf  /content/femalesetsplit\n",
        "!rm -rf  /content/malesetsplit\n",
        "!rm -rf  /content/femalesetsplit\n",
        "!rm -rf  /content/all_labels_male_corrected.csv\n",
        "!rm -rf  /content/all_labels_male_test.csv\n",
        "!rm -rf  /content/all_labels_male_val.csv\n",
        "!rm -rf  /content/all_labels_male_val.csv"
      ],
      "execution_count": null,
      "outputs": []
    },
    {
      "cell_type": "code",
      "metadata": {
        "colab": {
          "base_uri": "https://localhost:8080/"
        },
        "id": "HRDItLzWDQ8U",
        "outputId": "ad157326-c74d-4eea-f853-20e739bd809d"
      },
      "source": [
        "#mount drive\n",
        "drive.mount('/content/drive/')"
      ],
      "execution_count": null,
      "outputs": [
        {
          "output_type": "stream",
          "name": "stdout",
          "text": [
            "Mounted at /content/drive/\n"
          ]
        }
      ]
    },
    {
      "cell_type": "code",
      "metadata": {
        "id": "D0Iz0K8XjoE7"
      },
      "source": [
        "#unzip\n",
        "!unzip \"/content/drive/MyDrive/Thesis_sep_2021/femaleset.zip\" > /dev/null\n",
        "!unzip \"/content/drive/MyDrive/Thesis_sep_2021/maleset.zip\"  > /dev/null"
      ],
      "execution_count": null,
      "outputs": []
    },
    {
      "cell_type": "code",
      "metadata": {
        "id": "z1waw0V3ujPh",
        "colab": {
          "base_uri": "https://localhost:8080/",
          "height": 241
        },
        "outputId": "6d12e373-a107-4774-f41f-feabf3ace9f7"
      },
      "source": [
        "#check if unzip is succesfull\n",
        "imgfemale = tf.keras.preprocessing.image.load_img('/content/femaleset/SPRING0014/SPRING0014-D7-V0-H160.png')\n",
        "imgfemale"
      ],
      "execution_count": null,
      "outputs": [
        {
          "output_type": "execute_result",
          "data": {
            "image/png": "[encoded data removed]",
            "text/plain": [
              "<PIL.PngImagePlugin.PngImageFile image mode=RGB size=224x224 at 0x7F23B4187A10>"
            ]
          },
          "metadata": {},
          "execution_count": 6
        }
      ]
    },
    {
      "cell_type": "code",
      "metadata": {
        "colab": {
          "base_uri": "https://localhost:8080/",
          "height": 241
        },
        "id": "fDbw-nZ_qs-9",
        "outputId": "7c16f879-8307-459e-d41e-4733e975ceb7"
      },
      "source": [
        "imgmale = tf.keras.preprocessing.image.load_img('/content/maleset/SPRING0007/SPRING0007-D7-V40-H320.png')\n",
        "imgmale"
      ],
      "execution_count": null,
      "outputs": [
        {
          "output_type": "execute_result",
          "data": {
            "image/png": "[encoded data removed]",
            "text/plain": [
              "<PIL.PngImagePlugin.PngImageFile image mode=RGB size=224x224 at 0x7F43BEC57690>"
            ]
          },
          "metadata": {},
          "execution_count": 44
        }
      ]
    },
    {
      "cell_type": "markdown",
      "metadata": {
        "id": "GHIiuoF4hX5K"
      },
      "source": [
        "## **Separate into train and test**"
      ]
    },
    {
      "cell_type": "code",
      "metadata": {
        "id": "8cXAV-vphc4F"
      },
      "source": [
        "#list all model names\n",
        "maleimg = os.listdir(\"/content/maleset\")\n",
        "femaleimg = os.listdir(\"/content/femaleset\")"
      ],
      "execution_count": null,
      "outputs": []
    },
    {
      "cell_type": "code",
      "metadata": {
        "colab": {
          "base_uri": "https://localhost:8080/"
        },
        "id": "l06RnuZd9PRo",
        "outputId": "ab8e0c65-7cc8-44d7-ec22-ba3d0d015e3c"
      },
      "source": [
        "#print all model names of male models\n",
        "print(\"model names and lenght of male models:\")\n",
        "print(maleimg)\n",
        "print(len(maleimg))\n",
        "print(\" \")\n",
        "\n",
        "#print all model names of female models\n",
        "print(\"model names and lenght of female models:\")\n",
        "print(femaleimg)\n",
        "print(len(femaleimg))"
      ],
      "execution_count": null,
      "outputs": [
        {
          "output_type": "stream",
          "name": "stdout",
          "text": [
            "model names and lenght of male models:\n",
            "['SPRING1666', 'SPRING1594', 'SPRING3022', 'SPRING0580', 'SPRING2842', 'SPRING0301', 'SPRING2085', 'SPRING4373', 'SPRING4513', 'SPRING2831', 'SPRING4106', 'SPRING1408', 'SPRING2917', 'SPRING1840', 'SPRING2804', 'SPRING2638', 'SPRING1662', 'SPRING0578', 'SPRING4126', 'SPRING2839', 'SPRING0082', 'SPRING1542', 'SPRING0024', 'SPRING4172', 'SPRING4144', 'SPRING0481', 'SPRING4381', 'SPRING1598', 'SPRING2083', 'SPRING2414', 'SPRING2895', 'SPRING2454', 'SPRING1429', 'SPRING4574', 'SPRING2962', 'SPRING1823', 'SPRING1744', 'SPRING0285', 'SPRING2974', 'SPRING4570', 'SPRING4113', 'SPRING0648', 'SPRING2769', 'SPRING1707', 'SPRING0448', 'SPRING1193', 'SPRING4797', 'SPRING0660', 'SPRING1271', 'SPRING1205', 'SPRING2648', 'SPRING4170', 'SPRING2762', 'SPRING1223', 'SPRING0454', 'SPRING4514', 'SPRING2014', 'SPRING1406', 'SPRING1046', 'SPRING4289', 'SPRING0520', 'SPRING0415', 'SPRING2477', 'SPRING2299', 'SPRING1228', 'SPRING1333', 'SPRING2752', 'SPRING0553', 'SPRING0629', 'SPRING4134', 'SPRING4669', 'SPRING1498', 'SPRING4321', 'SPRING1380', 'SPRING1286', 'SPRING0201', 'SPRING1747', 'SPRING4280', 'SPRING4530', 'SPRING0653', 'SPRING1395', 'SPRING2591', 'SPRING1444', 'SPRING4546', 'SPRING1767', 'SPRING0527', 'SPRING1518', 'SPRING1655', 'SPRING0509', 'SPRING0613', 'SPRING1970', 'SPRING2376', 'SPRING1411', 'SPRING1786', 'SPRING2246', 'SPRING1697', 'SPRING4355', 'SPRING1650', 'SPRING4272', 'SPRING1487', 'SPRING2743', 'SPRING1346', 'SPRING0390', 'SPRING0636', 'SPRING4799', 'SPRING1521', 'SPRING1044', 'SPRING2489', 'SPRING2761', 'SPRING4557', 'SPRING4427', 'SPRING1131', 'SPRING1847', 'SPRING2267', 'SPRING0433', 'SPRING1275', 'SPRING4264', 'SPRING1633', 'SPRING2855', 'SPRING1274', 'SPRING2867', 'SPRING1185', 'SPRING1941', 'SPRING1352', 'SPRING0081', 'SPRING1788', 'SPRING2351', 'SPRING1527', 'SPRING0165', 'SPRING0330', 'SPRING2720', 'SPRING0546', 'SPRING2403', 'SPRING4417', 'SPRING1851', 'SPRING0315', 'SPRING0533', 'SPRING1082', 'SPRING4561', 'SPRING2593', 'SPRING1473', 'SPRING4025', 'SPRING1579', 'SPRING4454', 'SPRING1085', 'SPRING1206', 'SPRING1902', 'SPRING4319', 'SPRING1567', 'SPRING0463', 'SPRING2668', 'SPRING1244', 'SPRING1501', 'SPRING1641', 'SPRING0063', 'SPRING4164', 'SPRING1522', 'SPRING4103', 'SPRING0496', 'SPRING4366', 'SPRING0658', 'SPRING2506', 'SPRING0303', 'SPRING0232', 'SPRING0013', 'SPRING2468', 'SPRING4054', 'SPRING0169', 'SPRING1106', 'SPRING2538', 'SPRING4461', 'SPRING4132', 'SPRING0460', 'SPRING0505', 'SPRING0449', 'SPRING4184', 'SPRING1484', 'SPRING4634', 'SPRING1804', 'SPRING0562', 'SPRING0492', 'SPRING1674', 'SPRING2805', 'SPRING0567', 'SPRING0282', 'SPRING0112', 'SPRING1358', 'SPRING0016', 'SPRING4210', 'SPRING0601', 'SPRING1966', 'SPRING2841', 'SPRING1580', 'SPRING1248', 'SPRING4724', 'SPRING2637', 'SPRING2063', 'SPRING2664', 'SPRING2879', 'SPRING2406', 'SPRING1868', 'SPRING4639', 'SPRING4294', 'SPRING1069', 'SPRING0612', 'SPRING2969', 'SPRING2512', 'SPRING1500', 'SPRING0429', 'SPRING2973', 'SPRING4173', 'SPRING1948', 'SPRING2706', 'SPRING3014', 'SPRING4521', 'SPRING4785', 'SPRING4624', 'SPRING4478', 'SPRING2624', 'SPRING0297', 'SPRING4430', 'SPRING0424', 'SPRING0373', 'SPRING1234', 'SPRING2955', 'SPRING1561', 'SPRING2678', 'SPRING1562', 'SPRING0446', 'SPRING2889', 'SPRING1120', 'SPRING0287', 'SPRING2944', 'SPRING1688', 'SPRING0128', 'SPRING4698', 'SPRING0073', 'SPRING0229', 'SPRING1151', 'SPRING4282', 'SPRING1481', 'SPRING3004', 'SPRING2689', 'SPRING0498', 'SPRING0611', 'SPRING1694', 'SPRING4328', 'SPRING0190', 'SPRING2092', 'SPRING4293', 'SPRING2395', 'SPRING0246', 'SPRING0197', 'SPRING1268', 'SPRING1531', 'SPRING4425', 'SPRING0278', 'SPRING0085', 'SPRING1555', 'SPRING1485', 'SPRING2913', 'SPRING4765', 'SPRING2504', 'SPRING4138', 'SPRING1777', 'SPRING4446', 'SPRING4288', 'SPRING1552', 'SPRING1340', 'SPRING0250', 'SPRING2385', 'SPRING0264', 'SPRING2912', 'SPRING4227', 'SPRING4651', 'SPRING0105', 'SPRING0647', 'SPRING1852', 'SPRING2251', 'SPRING0428', 'SPRING2322', 'SPRING4151', 'SPRING2494', 'SPRING4050', 'SPRING4352', 'SPRING0587', 'SPRING1412', 'SPRING3009', 'SPRING1918', 'SPRING1510', 'SPRING1090', 'SPRING1816', 'SPRING4059', 'SPRING2289', 'SPRING2721', 'SPRING2053', 'SPRING1866', 'SPRING0300', 'SPRING2670', 'SPRING1490', 'SPRING1761', 'SPRING1393', 'SPRING2780', 'SPRING0001', 'SPRING1643', 'SPRING3015', 'SPRING0560', 'SPRING1693', 'SPRING4629', 'SPRING0029', 'SPRING4369', 'SPRING0430', 'SPRING2271', 'SPRING4609', 'SPRING2551', 'SPRING1980', 'SPRING4176', 'SPRING2050', 'SPRING2872', 'SPRING1834', 'SPRING1386', 'SPRING0147', 'SPRING4549', 'SPRING0305', 'SPRING4642', 'SPRING1115', 'SPRING4448', 'SPRING4331', 'SPRING1528', 'SPRING0138', 'SPRING0263', 'SPRING1878', 'SPRING2792', 'SPRING4433', 'SPRING4060', 'SPRING4236', 'SPRING4420', 'SPRING0212', 'SPRING4700', 'SPRING2458', 'SPRING4741', 'SPRING4032', 'SPRING0634', 'SPRING1203', 'SPRING0267', 'SPRING2953', 'SPRING0012', 'SPRING4004', 'SPRING4228', 'SPRING1117', 'SPRING1463', 'SPRING2723', 'SPRING4586', 'SPRING0211', 'SPRING1272', 'SPRING2654', 'SPRING1282', 'SPRING2749', 'SPRING1922', 'SPRING1792', 'SPRING1486', 'SPRING0500', 'SPRING2266', 'SPRING4193', 'SPRING4527', 'SPRING0479', 'SPRING1330', 'SPRING2980', 'SPRING4212', 'SPRING0048', 'SPRING0529', 'SPRING2936', 'SPRING4390', 'SPRING1190', 'SPRING0132', 'SPRING0193', 'SPRING4380', 'SPRING0571', 'SPRING1690', 'SPRING4155', 'SPRING1800', 'SPRING1587', 'SPRING0129', 'SPRING1256', 'SPRING2960', 'SPRING0561', 'SPRING2596', 'SPRING1600', 'SPRING4318', 'SPRING2582', 'SPRING1052', 'SPRING4658', 'SPRING1370', 'SPRING4596', 'SPRING4547', 'SPRING1553', 'SPRING2909', 'SPRING1654', 'SPRING0470', 'SPRING0575', 'SPRING1681', 'SPRING0403', 'SPRING4080', 'SPRING1288', 'SPRING4334', 'SPRING2111', 'SPRING0088', 'SPRING4706', 'SPRING2906', 'SPRING4661', 'SPRING1628', 'SPRING4216', 'SPRING0462', 'SPRING1536', 'SPRING4721', 'SPRING0395', 'SPRING2270', 'SPRING4579', 'SPRING1612', 'SPRING1635', 'SPRING0566', 'SPRING4077', 'SPRING0670', 'SPRING4069', 'SPRING0525', 'SPRING0599', 'SPRING0445', 'SPRING1334', 'SPRING2738', 'SPRING4778', 'SPRING1715', 'SPRING4051', 'SPRING0261', 'SPRING2249', 'SPRING4045', 'SPRING1745', 'SPRING4209', 'SPRING0664', 'SPRING4027', 'SPRING1996', 'SPRING1245', 'SPRING1351', 'SPRING1328', 'SPRING2597', 'SPRING4324', 'SPRING1584', 'SPRING1143', 'SPRING1962', 'SPRING1438', 'SPRING2695', 'SPRING0456', 'SPRING0130', 'SPRING2759', 'SPRING0451', 'SPRING1075', 'SPRING2181', 'SPRING2956', 'SPRING2421', 'SPRING0474', 'SPRING2147', 'SPRING4230', 'SPRING4520', 'SPRING4681', 'SPRING4714', 'SPRING4067', 'SPRING1586', 'SPRING1632', 'SPRING4625', 'SPRING2935', 'SPRING4322', 'SPRING0215', 'SPRING0572', 'SPRING4135', 'SPRING1684', 'SPRING2777', 'SPRING1814', 'SPRING2373', 'SPRING0517', 'SPRING2860', 'SPRING0319', 'SPRING2589', 'SPRING1524', 'SPRING4504', 'SPRING1385', 'SPRING0398', 'SPRING4743', 'SPRING0657', 'SPRING1794', 'SPRING4465', 'SPRING1355', 'SPRING0405', 'SPRING1993', 'SPRING1188', 'SPRING1872', 'SPRING1439', 'SPRING0597', 'SPRING2775', 'SPRING1236', 'SPRING0410', 'SPRING0420', 'SPRING1108', 'SPRING0271', 'SPRING1339', 'SPRING2447', 'SPRING0152', 'SPRING2649', 'SPRING1232', 'SPRING0579', 'SPRING2252', 'SPRING1988', 'SPRING0144', 'SPRING2863', 'SPRING1508', 'SPRING1609', 'SPRING4046', 'SPRING0639', 'SPRING4081', 'SPRING1072', 'SPRING4795', 'SPRING2715', 'SPRING0098', 'SPRING4501', 'SPRING4475', 'SPRING2675', 'SPRING1515', 'SPRING4231', 'SPRING1267', 'SPRING0259', 'SPRING0557', 'SPRING0444', 'SPRING4675', 'SPRING2519', 'SPRING2798', 'SPRING4367', 'SPRING0435', 'SPRING4716', 'SPRING4186', 'SPRING4018', 'SPRING1491', 'SPRING2459', 'SPRING4411', 'SPRING2793', 'SPRING1343', 'SPRING1430', 'SPRING1516', 'SPRING0272', 'SPRING4145', 'SPRING2963', 'SPRING1495', 'SPRING0396', 'SPRING4682', 'SPRING2610', 'SPRING1489', 'SPRING2331', 'SPRING0633', 'SPRING0289', 'SPRING2929', 'SPRING0237', 'SPRING1503', 'SPRING2448', 'SPRING1114', 'SPRING2644', 'SPRING0521', 'SPRING1265', 'SPRING0669', 'SPRING1583', 'SPRING4558', 'SPRING1903', 'SPRING1357', 'SPRING4238', 'SPRING2987', 'SPRING4180', 'SPRING1499', 'SPRING1394', 'SPRING2950', 'SPRING1450', 'SPRING4505', 'SPRING1545', 'SPRING4653', 'SPRING1668', 'SPRING2844', 'SPRING4565', 'SPRING2285', 'SPRING1170', 'SPRING0602', 'SPRING2407', 'SPRING1161', 'SPRING1064', 'SPRING1224', 'SPRING4611', 'SPRING2052', 'SPRING4350', 'SPRING0638', 'SPRING1895', 'SPRING2396', 'SPRING2607', 'SPRING1529', 'SPRING1189', 'SPRING1610', 'SPRING4317', 'SPRING1066', 'SPRING2869', 'SPRING2518', 'SPRING2772', 'SPRING2990', 'SPRING4169', 'SPRING1766', 'SPRING0313', 'SPRING4473', 'SPRING1848', 'SPRING1398', 'SPRING0506', 'SPRING1335', 'SPRING0320', 'SPRING2790', 'SPRING4432', 'SPRING2032', 'SPRING4160', 'SPRING2651', 'SPRING1687', 'SPRING1129', 'SPRING1839', 'SPRING2892', 'SPRING4290', 'SPRING0079', 'SPRING0427', 'SPRING1041', 'SPRING2256', 'SPRING4413', 'SPRING1119', 'SPRING0547', 'SPRING0485', 'SPRING0603', 'SPRING2629', 'SPRING4516', 'SPRING0196', 'SPRING4254', 'SPRING1833', 'SPRING2799', 'SPRING1059', 'SPRING2840', 'SPRING1247', 'SPRING0666', 'SPRING2409', 'SPRING0234', 'SPRING0637', 'SPRING1533', 'SPRING1338', 'SPRING1819', 'SPRING0538', 'SPRING1678', 'SPRING4754', 'SPRING1858', 'SPRING0650', 'SPRING1797', 'SPRING2072', 'SPRING0145', 'SPRING4692', 'SPRING1699', 'SPRING0625', 'SPRING1614', 'SPRING4039', 'SPRING1261', 'SPRING1539', 'SPRING1597', 'SPRING2305', 'SPRING0652', 'SPRING4063', 'SPRING4792', 'SPRING4304', 'SPRING4652', 'SPRING1238', 'SPRING2727', 'SPRING1192', 'SPRING1218', 'SPRING2653', 'SPRING4097', 'SPRING4123', 'SPRING1856', 'SPRING4133', 'SPRING1404', 'SPRING2899', 'SPRING2091', 'SPRING0002', 'SPRING1384', 'SPRING0554', 'SPRING2261', 'SPRING4503', 'SPRING4346', 'SPRING1446', 'SPRING4631', 'SPRING1702', 'SPRING1825', 'SPRING1259', 'SPRING2604', 'SPRING1943', 'SPRING4349', 'SPRING1080', 'SPRING0198', 'SPRING1094', 'SPRING0187', 'SPRING4336', 'SPRING4220', 'SPRING2903', 'SPRING2393', 'SPRING4162', 'SPRING4168', 'SPRING1110', 'SPRING1537', 'SPRING4217', 'SPRING2677', 'SPRING1159', 'SPRING2890', 'SPRING2914', 'SPRING4165', 'SPRING0532', 'SPRING2676', 'SPRING1264', 'SPRING2975', 'SPRING0139', 'SPRING1055', 'SPRING1428', 'SPRING1569', 'SPRING4463', 'SPRING4678', 'SPRING1149', 'SPRING4208', 'SPRING4734', 'SPRING1320', 'SPRING1447', 'SPRING2939', 'SPRING0164', 'SPRING2541', 'SPRING1676', 'SPRING1329', 'SPRING0207', 'SPRING0050', 'SPRING4633', 'SPRING2864', 'SPRING2849', 'SPRING2257', 'SPRING4755', 'SPRING4073', 'SPRING2001', 'SPRING4104', 'SPRING1326', 'SPRING4738', 'SPRING0540', 'SPRING2945', 'SPRING4545', 'SPRING4583', 'SPRING1546', 'SPRING4233', 'SPRING4036', 'SPRING0555', 'SPRING0542', 'SPRING4161', 'SPRING4402', 'SPRING4329', 'SPRING2474', 'SPRING0466', 'SPRING2875', 'SPRING4568', 'SPRING0388', 'SPRING0518', 'SPRING0295', 'SPRING2137', 'SPRING1252', 'SPRING2858', 'SPRING1196', 'SPRING0436', 'SPRING4542', 'SPRING1735', 'SPRING4487', 'SPRING4603', 'SPRING1154', 'SPRING2748', 'SPRING0146', 'SPRING4156', 'SPRING0281', 'SPRING0314', 'SPRING1892', 'SPRING2522', 'SPRING0140', 'SPRING4602', 'SPRING2719', 'SPRING1505', 'SPRING0028', 'SPRING2631', 'SPRING1478', 'SPRING1145', 'SPRING4194', 'SPRING2485', 'SPRING0391', 'SPRING4701', 'SPRING1211', 'SPRING4021', 'SPRING2880', 'SPRING1383', 'SPRING2212', 'SPRING1332', 'SPRING2888', 'SPRING0177', 'SPRING0441', 'SPRING2983', 'SPRING0100', 'SPRING0122', 'SPRING1907', 'SPRING3012', 'SPRING1511', 'SPRING1153', 'SPRING0582', 'SPRING0299', 'SPRING4627', 'SPRING0293', 'SPRING0142', 'SPRING1547', 'SPRING4551', 'SPRING4147', 'SPRING4245', 'SPRING0311', 'SPRING1366', 'SPRING0253', 'SPRING2623', 'SPRING4800', 'SPRING4026', 'SPRING1260', 'SPRING1585', 'SPRING1659', 'SPRING0493', 'SPRING0422', 'SPRING2003', 'SPRING4190', 'SPRING2613', 'SPRING1482', 'SPRING4788', 'SPRING2709', 'SPRING4648', 'SPRING1558', 'SPRING1759', 'SPRING1278', 'SPRING1204', 'SPRING2543', 'SPRING4529', 'SPRING4248', 'SPRING0563', 'SPRING0632', 'SPRING4621', 'SPRING4650', 'SPRING4112', 'SPRING0188', 'SPRING2096', 'SPRING4562', 'SPRING0172', 'SPRING4749', 'SPRING0150', 'SPRING1173', 'SPRING2488', 'SPRING0251', 'SPRING1488', 'SPRING2893', 'SPRING2444', 'SPRING1103', 'SPRING0223', 'SPRING0535', 'SPRING4295', 'SPRING4082', 'SPRING1325', 'SPRING0047', 'SPRING4585', 'SPRING2330', 'SPRING0167', 'SPRING0592', 'SPRING2824', 'SPRING1111', 'SPRING1327', 'SPRING4423', 'SPRING4589', 'SPRING0471', 'SPRING4361', 'SPRING2871', 'SPRING4572', 'SPRING0536', 'SPRING2177', 'SPRING4099', 'SPRING4143', 'SPRING0501', 'SPRING4415', 'SPRING4739', 'SPRING4573', 'SPRING0394', 'SPRING1780', 'SPRING4118', 'SPRING2324', 'SPRING0659', 'SPRING2852', 'SPRING4407', 'SPRING0389', 'SPRING4159', 'SPRING4689', 'SPRING0247', 'SPRING0051', 'SPRING0487', 'SPRING1581', 'SPRING2602', 'SPRING4347', 'SPRING1048', 'SPRING2847', 'SPRING2043', 'SPRING0080', 'SPRING2066', 'SPRING4222', 'SPRING0568', 'SPRING4057', 'SPRING0168', 'SPRING2562', 'SPRING1900', 'SPRING0514', 'SPRING4429', 'SPRING4632', 'SPRING3005', 'SPRING0103', 'SPRING4247', 'SPRING1929', 'SPRING1440', 'SPRING4042', 'SPRING2470', 'SPRING1601', 'SPRING1364', 'SPRING1653', 'SPRING2481', 'SPRING1656', 'SPRING4320', 'SPRING4174', 'SPRING1479', 'SPRING4101', 'SPRING4048', 'SPRING1639', 'SPRING0108', 'SPRING2293', 'SPRING1135', 'SPRING4580', 'SPRING1337', 'SPRING1624', 'SPRING0062', 'SPRING4256', 'SPRING0447', 'SPRING2387', 'SPRING4274', 'SPRING0419', 'SPRING4481', 'SPRING0507', 'SPRING4517', 'SPRING0030', 'SPRING0133', 'SPRING4152', 'SPRING4637', 'SPRING4690', 'SPRING1146', 'SPRING1243', 'SPRING0511', 'SPRING4438', 'SPRING0512', 'SPRING0502', 'SPRING4722', 'SPRING4011', 'SPRING1258', 'SPRING1890', 'SPRING1425', 'SPRING4183', 'SPRING2718', 'SPRING4762', 'SPRING0550', 'SPRING4311', 'SPRING4638', 'SPRING2439', 'SPRING0605', 'SPRING2614', 'SPRING2499', 'SPRING1842', 'SPRING4356', 'SPRING1590', 'SPRING2650', 'SPRING4559', 'SPRING4640', 'SPRING1054', 'SPRING4387', 'SPRING4291', 'SPRING4000', 'SPRING4056', 'SPRING1292', 'SPRING4064', 'SPRING4296', 'SPRING2778', 'SPRING2717', 'SPRING0107', 'SPRING4279', 'SPRING4019', 'SPRING4697', 'SPRING1099', 'SPRING1049', 'SPRING1835', 'SPRING2392', 'SPRING1526', 'SPRING2112', 'SPRING4477', 'SPRING0534', 'SPRING2058', 'SPRING2908', 'SPRING2656', 'SPRING0245', 'SPRING1613', 'SPRING4736', 'SPRING1504', 'SPRING1191', 'SPRING4207', 'SPRING4385', 'SPRING4437', 'SPRING2612', 'SPRING2877', 'SPRING2296', 'SPRING4412', 'SPRING1276', 'SPRING1595', 'SPRING1073', 'SPRING1295', 'SPRING4053', 'SPRING2446', 'SPRING1790', 'SPRING4316', 'SPRING2288', 'SPRING2753', 'SPRING3000', 'SPRING4223', 'SPRING4416', 'SPRING1670', 'SPRING2920', 'SPRING4584', 'SPRING1957', 'SPRING4687', 'SPRING4001', 'SPRING0608', 'SPRING1507', 'SPRING0318', 'SPRING2910', 'SPRING4485', 'SPRING1982', 'SPRING2349', 'SPRING4600', 'SPRING3002', 'SPRING1589', 'SPRING0478', 'SPRING4688', 'SPRING0432', 'SPRING2449', 'SPRING0595', 'SPRING0117', 'SPRING4449', 'SPRING2143', 'SPRING0591', 'SPRING0026', 'SPRING4297', 'SPRING0497', 'SPRING1216', 'SPRING1665', 'SPRING4213', 'SPRING2148', 'SPRING2162', 'SPRING4344', 'SPRING4769', 'SPRING4047', 'SPRING0123', 'SPRING1517', 'SPRING4196', 'SPRING2549', 'SPRING0667', 'SPRING1720', 'SPRING1176', 'SPRING2921', 'SPRING2927', 'SPRING2290', 'SPRING2882', 'SPRING4591', 'SPRING1642', 'SPRING0255', 'SPRING2279', 'SPRING1893', 'SPRING4358', 'SPRING2193', 'SPRING4357', 'SPRING0206', 'SPRING2479', 'SPRING4107', 'SPRING1354', 'SPRING1785', 'SPRING1519', 'SPRING2853', 'SPRING2568', 'SPRING4035', 'SPRING1318', 'SPRING1574', 'SPRING0559', 'SPRING0205', 'SPRING1551', 'SPRING1904', 'SPRING0170', 'SPRING0106', 'SPRING4767', 'SPRING1712', 'SPRING0618', 'SPRING2503', 'SPRING0431', 'SPRING2998', 'SPRING4379', 'SPRING1455', 'SPRING1065', 'SPRING4499', 'SPRING0457', 'SPRING4206', 'SPRING2044', 'SPRING4731', 'SPRING1717', 'SPRING4337', 'SPRING1219', 'SPRING4224', 'SPRING4287', 'SPRING4597', 'SPRING0494', 'SPRING4389', 'SPRING0606', 'SPRING1543', 'SPRING4234', 'SPRING4515', 'SPRING4330', 'SPRING4667', 'SPRING0486', 'SPRING2862', 'SPRING0661', 'SPRING1880', 'SPRING0504', 'SPRING2942', 'SPRING4434', 'SPRING2926', 'SPRING1465', 'SPRING4307', 'SPRING4383', 'SPRING4538', 'SPRING2666', 'SPRING4286', 'SPRING1514', 'SPRING0009', 'SPRING1255', 'SPRING0515', 'SPRING1677', 'SPRING2823', 'SPRING1509', 'SPRING0179', 'SPRING1230', 'SPRING2696', 'SPRING1155', 'SPRING1560', 'SPRING0149', 'SPRING0453', 'SPRING1577', 'SPRING2688', 'SPRING0218', 'SPRING4525', 'SPRING1122', 'SPRING1322', 'SPRING4593', 'SPRING4555', 'SPRING2244', 'SPRING4338', 'SPRING3020', 'SPRING1104', 'SPRING2420', 'SPRING1344', 'SPRING4314', 'SPRING2576', 'SPRING4735', 'SPRING1445', 'SPRING2312', 'SPRING2674', 'SPRING4431', 'SPRING4594', 'SPRING1937', 'SPRING2594', 'SPRING1165', 'SPRING4519', 'SPRING4375', 'SPRING4214', 'SPRING4052', 'SPRING1377', 'SPRING2661', 'SPRING1698', 'SPRING1588', 'SPRING2679', 'SPRING1704', 'SPRING2628', 'SPRING1550', 'SPRING1651', 'SPRING1571', 'SPRING0450', 'SPRING1266', 'SPRING2640', 'SPRING4657', 'SPRING2161', 'SPRING1572', 'SPRING2401', 'SPRING4447', 'SPRING4396', 'SPRING2378', 'SPRING2483', 'SPRING2907', 'SPRING2881', 'SPRING2151', 'SPRING4511', 'SPRING1317', 'SPRING2532', 'SPRING2432', 'SPRING0228', 'SPRING0126', 'SPRING1645', 'SPRING4333', 'SPRING0643', 'SPRING4466', 'SPRING0623', 'SPRING1570', 'SPRING4114', 'SPRING1457', 'SPRING4378', 'SPRING1887', 'SPRING0184', 'SPRING0537', 'SPRING4061', 'SPRING0588', 'SPRING0275', 'SPRING1701', 'SPRING2159', 'SPRING2467', 'SPRING1850', 'SPRING1873', 'SPRING0186', 'SPRING1353', 'SPRING0279', 'SPRING0397', 'SPRING1461', 'SPRING1534', 'SPRING4211', 'SPRING4108', 'SPRING0488', 'SPRING2478', 'SPRING2460', 'SPRING0273', 'SPRING1466', 'SPRING2608', 'SPRING0576', 'SPRING0280', 'SPRING2311', 'SPRING0276', 'SPRING1502', 'SPRING1045', 'SPRING1593', 'SPRING2911', 'SPRING4197', 'SPRING2525', 'SPRING4353', 'SPRING4299', 'SPRING2621', 'SPRING4368', 'SPRING2615', 'SPRING1437', 'SPRING1596', 'SPRING1092', 'SPRING4128', 'SPRING4075', 'SPRING0425', 'SPRING0217', 'SPRING2783', 'SPRING1402', 'SPRING4403', 'SPRING4649', 'SPRING4181', 'SPRING2006', 'SPRING4068', 'SPRING4408', 'SPRING2964', 'SPRING1040', 'SPRING0641', 'SPRING1113', 'SPRING1257', 'SPRING0274', 'SPRING2214', 'SPRING2473', 'SPRING1860', 'SPRING0209', 'SPRING0523', 'SPRING4229', 'SPRING4469', 'SPRING2821', 'SPRING0058', 'SPRING4303', 'SPRING1483', 'SPRING4044', 'SPRING4677', 'SPRING2684', 'SPRING0564', 'SPRING1920', 'SPRING2035', 'SPRING1480', 'SPRING1097', 'SPRING2993', 'SPRING4007', 'SPRING4730', 'SPRING4398', 'SPRING0437', 'SPRING0199', 'SPRING0238', 'SPRING2994', 'SPRING4225', 'SPRING0157', 'SPRING1293', 'SPRING4342', 'SPRING4616', 'SPRING2342', 'SPRING4729', 'SPRING4560', 'SPRING0421', 'SPRING2587', 'SPRING2729', 'SPRING0240', 'SPRING0548', 'SPRING1991', 'SPRING1599', 'SPRING4484', 'SPRING1808', 'SPRING0654', 'SPRING4071', 'SPRING4177', 'SPRING2515', 'SPRING1051', 'SPRING0610', 'SPRING4078', 'SPRING1513', 'SPRING2259', 'SPRING1637', 'SPRING0180', 'SPRING0671', 'SPRING1199', 'SPRING2428', 'SPRING4345', 'SPRING0007', 'SPRING1126', 'SPRING4270', 'SPRING1611', 'SPRING1494', 'SPRING0440', 'SPRING1910', 'SPRING0316', 'SPRING0491', 'SPRING1186', 'SPRING2938', 'SPRING4728', 'SPRING2925', 'SPRING1667', 'SPRING1818', 'SPRING2876', 'SPRING1443', 'SPRING4725', 'SPRING0539', 'SPRING4074', 'SPRING1756', 'SPRING2915', 'SPRING4384', 'SPRING0574', 'SPRING4590', 'SPRING2707', 'SPRING2583', 'SPRING2937', 'SPRING4676', 'SPRING4474', 'SPRING1621', 'SPRING0137', 'SPRING2435', 'SPRING4752', 'SPRING1559', 'SPRING1093', 'SPRING1987', 'SPRING2540', 'SPRING4623', 'SPRING2685', 'SPRING0135', 'SPRING1695', 'SPRING0227', 'SPRING4571', 'SPRING0552', 'SPRING1497', 'SPRING2746', 'SPRING1306', 'SPRING4775', 'SPRING4362', 'SPRING0178', 'SPRING2055', 'SPRING0266', 'SPRING1682', 'SPRING0049', 'SPRING1568', 'SPRING1308', 'SPRING2747', 'SPRING4088', 'SPRING0443', 'SPRING2887', 'SPRING0159', 'SPRING1371', 'SPRING2571', 'SPRING4284', 'SPRING2770', 'SPRING1179', 'SPRING4620', 'SPRING1602', 'SPRING2530', 'SPRING4094', 'SPRING2992', 'SPRING1156', 'SPRING1798', 'SPRING1692', 'SPRING2982', 'SPRING2916', 'SPRING0242', 'SPRING2277', 'SPRING0467', 'SPRING2948', 'SPRING0148', 'SPRING4093', 'SPRING1471', 'SPRING0620', 'SPRING1740', 'SPRING4095', 'SPRING2712', 'SPRING0057', 'SPRING4332', 'SPRING4121', 'SPRING4110', 'SPRING1036', 'SPRING4576', 'SPRING1582', 'SPRING4266', 'SPRING0204', 'SPRING4115', 'SPRING4405', 'SPRING0306', 'SPRING0071', 'SPRING4154', 'SPRING2131', 'SPRING4372', 'SPRING1392', 'SPRING0027', 'SPRING4130', 'SPRING4401', 'SPRING1181', 'SPRING4683', 'SPRING1927', 'SPRING4459', 'SPRING4066', 'SPRING1874', 'SPRING1564', 'SPRING2733', 'SPRING2343', 'SPRING4065', 'SPRING0151', 'SPRING1974', 'SPRING4083', 'SPRING1985', 'SPRING4312', 'SPRING0411', 'SPRING4191', 'SPRING1367', 'SPRING4641', 'SPRING2601', 'SPRING2680', 'SPRING2099', 'SPRING4768', 'SPRING0154', 'SPRING1187', 'SPRING1031', 'SPRING1067', 'SPRING0551', 'SPRING4644', 'SPRING4363', 'SPRING2634', 'SPRING0220', 'SPRING4780', 'SPRING4400', 'SPRING4058', 'SPRING1933', 'SPRING2617', 'SPRING0426', 'SPRING0008', 'SPRING4182', 'SPRING1710', 'SPRING2175', 'SPRING2010', 'SPRING2645', 'SPRING0549', 'SPRING4185', 'SPRING0526', 'SPRING0455', 'SPRING4599', 'SPRING0442', 'SPRING4497', 'SPRING0173', 'SPRING0513', 'SPRING2968', 'SPRING2971', 'SPRING4127', 'SPRING0524', 'SPRING4409']\n",
            "1517\n",
            " \n",
            "model names and lenght of female models:\n",
            "['SPRING2739', 'SPRING1911', 'SPRING2366', 'SPRING1175', 'SPRING1208', 'SPRING0461', 'SPRING1057', 'SPRING1118', 'SPRING0593', 'SPRING1796', 'SPRING2600', 'SPRING0581', 'SPRING2545', 'SPRING2779', 'SPRING4707', 'SPRING1573', 'SPRING4776', 'SPRING2372', 'SPRING0060', 'SPRING2495', 'SPRING4163', 'SPRING1548', 'SPRING4715', 'SPRING1512', 'SPRING0113', 'SPRING2806', 'SPRING1409', 'SPRING4512', 'SPRING2138', 'SPRING4613', 'SPRING4482', 'SPRING4705', 'SPRING4782', 'SPRING1127', 'SPRING2204', 'SPRING2774', 'SPRING1365', 'SPRING2389', 'SPRING2703', 'SPRING2554', 'SPRING4702', 'SPRING1475', 'SPRING2578', 'SPRING1914', 'SPRING2358', 'SPRING4360', 'SPRING4464', 'SPRING1812', 'SPRING2555', 'SPRING4003', 'SPRING4672', 'SPRING1660', 'SPRING4305', 'SPRING1201', 'SPRING2453', 'SPRING4759', 'SPRING0499', 'SPRING2523', 'SPRING0160', 'SPRING2694', 'SPRING2904', 'SPRING0483', 'SPRING2384', 'SPRING1683', 'SPRING4424', 'SPRING1630', 'SPRING4273', 'SPRING1381', 'SPRING0400', 'SPRING1433', 'SPRING4239', 'SPRING2946', 'SPRING4439', 'SPRING1741', 'SPRING2472', 'SPRING4470', 'SPRING2450', 'SPRING2700', 'SPRING1374', 'SPRING2567', 'SPRING2526', 'SPRING1949', 'SPRING1316', 'SPRING4310', 'SPRING2811', 'SPRING2588', 'SPRING2789', 'SPRING0244', 'SPRING2622', 'SPRING0054', 'SPRING4072', 'SPRING4595', 'SPRING2464', 'SPRING1844', 'SPRING1400', 'SPRING2347', 'SPRING2581', 'SPRING0600', 'SPRING1084', 'SPRING0076', 'SPRING4442', 'SPRING4033', 'SPRING1964', 'SPRING1680', 'SPRING2466', 'SPRING2768', 'SPRING2584', 'SPRING2652', 'SPRING1837', 'SPRING2430', 'SPRING4703', 'SPRING2344', 'SPRING1615', 'SPRING0392', 'SPRING1565', 'SPRING4710', 'SPRING0095', 'SPRING3016', 'SPRING0185', 'SPRING0416', 'SPRING4467', 'SPRING1862', 'SPRING0624', 'SPRING1721', 'SPRING4563', 'SPRING1540', 'SPRING4564', 'SPRING4043', 'SPRING1843', 'SPRING1795', 'SPRING0385', 'SPRING1640', 'SPRING0418', 'SPRING2667', 'SPRING1634', 'SPRING2118', 'SPRING2626', 'SPRING1124', 'SPRING1967', 'SPRING0468', 'SPRING4746', 'SPRING0473', 'SPRING1557', 'SPRING1644', 'SPRING0402', 'SPRING4733', 'SPRING2940', 'SPRING2878', 'SPRING2874', 'SPRING1724', 'SPRING2737', 'SPRING1416', 'SPRING1723', 'SPRING4610', 'SPRING1894', 'SPRING2836', 'SPRING2683', 'SPRING2345', 'SPRING4122', 'SPRING4070', 'SPRING2665', 'SPRING1762', 'SPRING0317', 'SPRING2691', 'SPRING1716', 'SPRING1116', 'SPRING1696', 'SPRING2000', 'SPRING1520', 'SPRING1101', 'SPRING1671', 'SPRING2900', 'SPRING4129', 'SPRING2635', 'SPRING4084', 'SPRING4471', 'SPRING4480', 'SPRING2630', 'SPRING2713', 'SPRING4166', 'SPRING1356', 'SPRING1951', 'SPRING3028', 'SPRING0519', 'SPRING1130', 'SPRING0239', 'SPRING2520', 'SPRING1032', 'SPRING2641', 'SPRING0233', 'SPRING4523', 'SPRING1435', 'SPRING0210', 'SPRING4037', 'SPRING2346', 'SPRING1813', 'SPRING0465', 'SPRING4444', 'SPRING1623', 'SPRING4719', 'SPRING0379', 'SPRING4489', 'SPRING1619', 'SPRING4566', 'SPRING1382', 'SPRING1549', 'SPRING1605', 'SPRING4023', 'SPRING2424', 'SPRING2546', 'SPRING4131', 'SPRING4472', 'SPRING1779', 'SPRING1158', 'SPRING4309', 'SPRING1853', 'SPRING2967', 'SPRING0258', 'SPRING4261', 'SPRING2440', 'SPRING2132', 'SPRING0646', 'SPRING0104', 'SPRING2865', 'SPRING4786', 'SPRING4090', 'SPRING1963', 'SPRING4202', 'SPRING0216', 'SPRING2558', 'SPRING2736', 'SPRING0092', 'SPRING1442', 'SPRING1945', 'SPRING4426', 'SPRING1657', 'SPRING2919', 'SPRING1460', 'SPRING4483', 'SPRING1214', 'SPRING1912', 'SPRING4235', 'SPRING1976', 'SPRING4175', 'SPRING1413', 'SPRING4250', 'SPRING1062', 'SPRING1476', 'SPRING2371', 'SPRING0399', 'SPRING4125', 'SPRING0163', 'SPRING4117', 'SPRING1454', 'SPRING1391', 'SPRING2826', 'SPRING0387', 'SPRING2490', 'SPRING1164', 'SPRING4341', 'SPRING1141', 'SPRING4221', 'SPRING2354', 'SPRING1414', 'SPRING2886', 'SPRING4198', 'SPRING4281', 'SPRING1616', 'SPRING0438', 'SPRING4456', 'SPRING2476', 'SPRING4232', 'SPRING1658', 'SPRING1212', 'SPRING1157', 'SPRING2423', 'SPRING2763', 'SPRING4158', 'SPRING0001', 'SPRING0417', 'SPRING4002', 'SPRING4770', 'SPRING2248', 'SPRING2115', 'SPRING0635', 'SPRING2475', 'SPRING1396', 'SPRING4205', 'SPRING0327', 'SPRING1496', 'SPRING4399', 'SPRING3026', 'SPRING4553', 'SPRING2843', 'SPRING3024', 'SPRING4392', 'SPRING2741', 'SPRING2172', 'SPRING1535', 'SPRING2744', 'SPRING4335', 'SPRING4660', 'SPRING2868', 'SPRING1932', 'SPRING4267', 'SPRING4747', 'SPRING1854', 'SPRING2527', 'SPRING1718', 'SPRING2544', 'SPRING1935', 'SPRING2884', 'SPRING0067', 'SPRING2563', 'SPRING0119', 'SPRING4539', 'SPRING1083', 'SPRING4695', 'SPRING1675', 'SPRING4195', 'SPRING4670', 'SPRING1467', 'SPRING3008', 'SPRING0257', 'SPRING4494', 'SPRING2740', 'SPRING2579', 'SPRING2766', 'SPRING4137', 'SPRING1160', 'SPRING2303', 'SPRING4055', 'SPRING2325', 'SPRING0260', 'SPRING4020', 'SPRING4340', 'SPRING2009', 'SPRING0118', 'SPRING0586', 'SPRING0644', 'SPRING1709', 'SPRING1388', 'SPRING1174', 'SPRING2796', 'SPRING1919', 'SPRING2754', 'SPRING4038', 'SPRING4533', 'SPRING1458', 'SPRING2697', 'SPRING2657', 'SPRING0014', 'SPRING1829', 'SPRING0621', 'SPRING0607', 'SPRING2728', 'SPRING2363', 'SPRING2827', 'SPRING1942', 'SPRING4753', 'SPRING4391', 'SPRING0099', 'SPRING4508', 'SPRING2897', 'SPRING4269', 'SPRING2673', 'SPRING1472', 'SPRING4663', 'SPRING2117', 'SPRING2383', 'SPRING4664', 'SPRING2951', 'SPRING4351', 'SPRING1838', 'SPRING1389', 'SPRING1950', 'SPRING1618', 'SPRING1171', 'SPRING4359', 'SPRING2445', 'SPRING2462', 'SPRING1915', 'SPRING1209', 'SPRING0522', 'SPRING4157', 'SPRING2323', 'SPRING3013', 'SPRING2819', 'SPRING1828', 'SPRING4204', 'SPRING2672', 'SPRING2710', 'SPRING0616', 'SPRING1746', 'SPRING0668', 'SPRING1434', 'SPRING1679', 'SPRING4435', 'SPRING2158', 'SPRING4502', 'SPRING4096', 'SPRING2381', 'SPRING4601', 'SPRING0182', 'SPRING0176', 'SPRING2429', 'SPRING0069', 'SPRING2452', 'SPRING2441', 'SPRING0544', 'SPRING2176', 'SPRING4022', 'SPRING1722', 'SPRING1350', 'SPRING1603', 'SPRING1359', 'SPRING0452', 'SPRING0269', 'SPRING4203', 'SPRING2280', 'SPRING1368', 'SPRING1544', 'SPRING1773', 'SPRING1342', 'SPRING1830', 'SPRING1081', 'SPRING0393', 'SPRING1321', 'SPRING4756', 'SPRING2480', 'SPRING2894', 'SPRING1376', 'SPRING0663', 'SPRING2336', 'SPRING4085', 'SPRING1791', 'SPRING2606', 'SPRING1182', 'SPRING2598', 'SPRING0096', 'SPRING2949', 'SPRING4255', 'SPRING4371', 'SPRING2431', 'SPRING1123', 'SPRING0640', 'SPRING1304', 'SPRING4237', 'SPRING1387', 'SPRING1754', 'SPRING1432', 'SPRING0380', 'SPRING1952', 'SPRING0056', 'SPRING2977', 'SPRING2952', 'SPRING4498', 'SPRING4665', 'SPRING1060', 'SPRING2369', 'SPRING4544', 'SPRING2981', 'SPRING2701', 'SPRING2004', 'SPRING1986', 'SPRING0214', 'SPRING0651', 'SPRING4712', 'SPRING3011', 'SPRING4141', 'SPRING2857', 'SPRING1373', 'SPRING1061', 'SPRING1781', 'SPRING2807', 'SPRING0283', 'SPRING1648', 'SPRING2370', 'SPRING4507', 'SPRING4524', 'SPRING0655', 'SPRING1939', 'SPRING4327', 'SPRING3003', 'SPRING4488', 'SPRING4421', 'SPRING0254', 'SPRING2764', 'SPRING2326', 'SPRING0065', 'SPRING2416', 'SPRING4028', 'SPRING4153', 'SPRING1736', 'SPRING0649', 'SPRING4178', 'SPRING1050', 'SPRING4617', 'SPRING1815', 'SPRING2539', 'SPRING1726', 'SPRING1940', 'SPRING2411', 'SPRING2334', 'SPRING4491', 'SPRING0017', 'SPRING2820', 'SPRING4495', 'SPRING2149', 'SPRING4606', 'SPRING2509', 'SPRING2959', 'SPRING4017', 'SPRING2463', 'SPRING0268', 'SPRING2559', 'SPRING4543', 'SPRING2930', 'SPRING2109', 'SPRING4789', 'SPRING2801', 'SPRING2603', 'SPRING1685', 'SPRING1897', 'SPRING0503', 'SPRING2745', 'SPRING4199', 'SPRING4581', 'SPRING2569', 'SPRING2365', 'SPRING2972', 'SPRING2457', 'SPRING1977', 'SPRING1864', 'SPRING0490', 'SPRING4674', 'SPRING2970', 'SPRING1979', 'SPRING4713', 'SPRING1086', 'SPRING4679', 'SPRING1625', 'SPRING2550', 'SPRING1063', 'SPRING2505', 'SPRING0087', 'SPRING4654', 'SPRING2484', 'SPRING2818', 'SPRING1180', 'SPRING1972', 'SPRING2353', 'SPRING2883', 'SPRING1310', 'SPRING2861', 'SPRING4105', 'SPRING4723', 'SPRING1846', 'SPRING1783', 'SPRING1965', 'SPRING4016', 'SPRING2585', 'SPRING1441', 'SPRING1708', 'SPRING4526', 'SPRING1554', 'SPRING2298', 'SPRING1379', 'SPRING0589', 'SPRING2655', 'SPRING2991', 'SPRING1617', 'SPRING1636', 'SPRING1859', 'SPRING0482', 'SPRING2516', 'SPRING2730', 'SPRING1307', 'SPRING1629', 'SPRING1954', 'SPRING0472', 'SPRING1631', 'SPRING1606', 'SPRING2451', 'SPRING1345', 'SPRING0286', 'SPRING1210', 'SPRING2436', 'SPRING4418', 'SPRING2119', 'SPRING4440', 'SPRING1753', 'SPRING4377', 'SPRING1706', 'SPRING2547', 'SPRING2426', 'SPRING1138', 'SPRING1421', 'SPRING0277', 'SPRING2422', 'SPRING1390', 'SPRING2418', 'SPRING2339', 'SPRING2486', 'SPRING2405', 'SPRING2302', 'SPRING4008', 'SPRING2386', 'SPRING0630', 'SPRING2660', 'SPRING4257', 'SPRING4148', 'SPRING4276', 'SPRING4783', 'SPRING4275', 'SPRING4252', 'SPRING2357', 'SPRING4691', 'SPRING1841', 'SPRING1730', 'SPRING4087', 'SPRING4537', 'SPRING2189', 'SPRING1098', 'SPRING4479', 'SPRING1930', 'SPRING0556', 'SPRING4578', 'SPRING1898', 'SPRING4745', 'SPRING0241', 'SPRING4192', 'SPRING1403', 'SPRING2295', 'SPRING1953', 'SPRING4493', 'SPRING2896', 'SPRING0055', 'SPRING1076', 'SPRING2609', 'SPRING1944', 'SPRING2636', 'SPRING1102', 'SPRING4100', 'SPRING0615', 'SPRING1148', 'SPRING0484', 'SPRING4608', 'SPRING1789', 'SPRING0476', 'SPRING2979', 'SPRING4704', 'SPRING4718', 'SPRING2803', 'SPRING1312', 'SPRING4541', 'SPRING1407', 'SPRING1989', 'SPRING0090', 'SPRING1207', 'SPRING0121', 'SPRING0097', 'SPRING1981', 'SPRING1984', 'SPRING1474', 'SPRING2294', 'SPRING1879', 'SPRING0609', 'SPRING0434', 'SPRING2756', 'SPRING1883', 'SPRING4535', 'SPRING1184', 'SPRING1832', 'SPRING2760', 'SPRING1137', 'SPRING1035', 'SPRING2108', 'SPRING1936', 'SPRING0236', 'SPRING2016', 'SPRING4773', 'SPRING4315', 'SPRING1361', 'SPRING4740', 'SPRING4200', 'SPRING1824', 'SPRING2352', 'SPRING2173', 'SPRING1375', 'SPRING0125', 'SPRING4265', 'SPRING4034', 'SPRING1056', 'SPRING2007', 'SPRING0464', 'SPRING2471', 'SPRING4534', 'SPRING1961', 'SPRING2487', 'SPRING4717', 'SPRING4757', 'SPRING2456', 'SPRING1424', 'SPRING2574', 'SPRING2627', 'SPRING4031', 'SPRING1426', 'SPRING2850', 'SPRING2751', 'SPRING2590', 'SPRING2116', 'SPRING1806', 'SPRING1861', 'SPRING1096', 'SPRING2726', 'SPRING2765', 'SPRING4790', 'SPRING2235', 'SPRING4394', 'SPRING4779', 'SPRING2966', 'SPRING0469', 'SPRING0256', 'SPRING2364', 'SPRING2553', 'SPRING0598', 'SPRING4726', 'SPRING1313', 'SPRING2501', 'SPRING0231', 'SPRING1575', 'SPRING4673', 'SPRING0195', 'SPRING0249', 'SPRING4476', 'SPRING4149', 'SPRING1811', 'SPRING1622', 'SPRING2018', 'SPRING4457', 'SPRING2507', 'SPRING2856', 'SPRING2943', 'SPRING1336', 'SPRING2829', 'SPRING2438', 'SPRING0627', 'SPRING2922', 'SPRING4388', 'SPRING2776', 'SPRING2639', 'SPRING2575', 'SPRING1105', 'SPRING4365', 'SPRING4694', 'SPRING4029', 'SPRING4685', 'SPRING1946', 'SPRING1100', 'SPRING2758', 'SPRING0158', 'SPRING4395', 'SPRING2704', 'SPRING4760', 'SPRING4012', 'SPRING4727', 'SPRING4771', 'SPRING4298', 'SPRING0052', 'SPRING3019', 'SPRING4136', 'SPRING0401', 'SPRING1827', 'SPRING2995', 'SPRING1793', 'SPRING0307', 'SPRING1886', 'SPRING1906', 'SPRING2002', 'SPRING0161', 'SPRING1870', 'SPRING1923', 'SPRING0404', 'SPRING1315', 'SPRING1462', 'SPRING4772', 'SPRING1748', 'SPRING1664', 'SPRING4510', 'SPRING0114', 'SPRING2619', 'SPRING1468', 'SPRING2496', 'SPRING2802', 'SPRING2174', 'SPRING2281', 'SPRING2830', 'SPRING2511', 'SPRING2931', 'SPRING0413', 'SPRING4343', 'SPRING4268', 'SPRING4382', 'SPRING2902', 'SPRING2808', 'SPRING1074', 'SPRING2996', 'SPRING1732', 'SPRING4720', 'SPRING1734', 'SPRING4167', 'SPRING1884', 'SPRING4374', 'SPRING1926', 'SPRING4301', 'SPRING1739', 'SPRING1924', 'SPRING2136', 'SPRING0480', 'SPRING2297', 'SPRING1167', 'SPRING4615', 'SPRING2360', 'SPRING4626', 'SPRING1200', 'SPRING2669', 'SPRING1731', 'SPRING2513', 'SPRING2394', 'SPRING1772', 'SPRING2492', 'SPRING4458', 'SPRING1765', 'SPRING0409', 'SPRING2714', 'SPRING1787', 'SPRING4277', 'SPRING2814', 'SPRING1647', 'SPRING1877', 'SPRING4777', 'SPRING2595', 'SPRING4306', 'SPRING1928', 'SPRING1140', 'SPRING2616', 'SPRING2455', 'SPRING1626', 'SPRING2705', 'SPRING1139', 'SPRING2782', 'SPRING2350', 'SPRING1960', 'SPRING2866', 'SPRING0614', 'SPRING2978', 'SPRING1999', 'SPRING1453', 'SPRING2565', 'SPRING2382', 'SPRING2854', 'SPRING1758', 'SPRING0094', 'SPRING1095', 'SPRING4010', 'SPRING4518', 'SPRING1215', 'SPRING1109', 'SPRING4308', 'SPRING1875', 'SPRING2833', 'SPRING1905', 'SPRING2529', 'SPRING4492', 'SPRING1079', 'SPRING0189', 'SPRING0219', 'SPRING4455', 'SPRING1319', 'SPRING4062', 'SPRING2160', 'SPRING0622', 'SPRING4259', 'SPRING1436', 'SPRING4370', 'SPRING2898', 'SPRING4522', 'SPRING4662', 'SPRING2564', 'SPRING4079', 'SPRING1532', 'SPRING1563', 'SPRING2243', 'SPRING1743', 'SPRING4751', 'SPRING0590', 'SPRING0310', 'SPRING2791', 'SPRING2923', 'SPRING4285', 'SPRING2785', 'SPRING2642', 'SPRING1620', 'SPRING2397', 'SPRING2269', 'SPRING2620', 'SPRING1992', 'SPRING2284', 'SPRING2534', 'SPRING1889', 'SPRING4744', 'SPRING2502', 'SPRING1405', 'SPRING2816', 'SPRING4171', 'SPRING0175', 'SPRING2521', 'SPRING4422', 'SPRING2933', 'SPRING0070', 'SPRING2986', 'SPRING1213', 'SPRING4781', 'SPRING2954', 'SPRING4246', 'SPRING1418', 'SPRING2113', 'SPRING1899', 'SPRING1362', 'SPRING2201', 'SPRING2573', 'SPRING1087', 'SPRING4102', 'SPRING4556', 'SPRING1750', 'SPRING0075', 'SPRING4645', 'SPRING4218', 'SPRING4787', 'SPRING4647', 'SPRING0243', 'SPRING2203', 'SPRING1608', 'SPRING1782', 'SPRING0530', 'SPRING2984', 'SPRING1771', 'SPRING2755', 'SPRING4636', 'SPRING4215', 'SPRING4253', 'SPRING2813', 'SPRING4622', 'SPRING1070', 'SPRING2784', 'SPRING1857', 'SPRING4684', 'SPRING2681', 'SPRING2379', 'SPRING2924', 'SPRING0192', 'SPRING2493', 'SPRING1971', 'SPRING4260', 'SPRING1925', 'SPRING1427', 'SPRING2497', 'SPRING1121', 'SPRING2286', 'SPRING2348', 'SPRING0439', 'SPRING2742', 'SPRING1673', 'SPRING4189', 'SPRING4451', 'SPRING4453', 'SPRING0166', 'SPRING2846', 'SPRING1410', 'SPRING2800', 'SPRING1871', 'SPRING0594', 'SPRING2408', 'SPRING0583', 'SPRING2400', 'SPRING1751', 'SPRING1969', 'SPRING2008', 'SPRING2773', 'SPRING4607', 'SPRING2918', 'SPRING4354', 'SPRING0083', 'SPRING1314', 'SPRING2535', 'SPRING2404', 'SPRING4313', 'SPRING4386', 'SPRING4187', 'SPRING0386', 'SPRING4116', 'SPRING2901', 'SPRING4030', 'SPRING4364', 'SPRING4049', 'SPRING2572', 'SPRING2834', 'SPRING4348', 'SPRING1764', 'SPRING1178', 'SPRING2542', 'SPRING1195', 'SPRING4577', 'SPRING4376', 'SPRING2140', 'SPRING4009', 'SPRING4428', 'SPRING1341', 'SPRING4635', 'SPRING0136', 'SPRING2633', 'SPRING4531', 'SPRING2011', 'SPRING1142', 'SPRING0089', 'SPRING4468', 'SPRING2317', 'SPRING2947', 'SPRING1530', 'SPRING0298', 'SPRING4226', 'SPRING2810', 'SPRING2932', 'SPRING2905', 'SPRING1921', 'SPRING1309', 'SPRING4548', 'SPRING2725', 'SPRING1831', 'SPRING1194', 'SPRING2985', 'SPRING4742', 'SPRING0628', 'SPRING1775', 'SPRING4111', 'SPRING2356', 'SPRING4450', 'SPRING4406', 'SPRING2427', 'SPRING2708', 'SPRING4436', 'SPRING2524', 'SPRING2580', 'SPRING1931', 'SPRING2560', 'SPRING4243', 'SPRING0377', 'SPRING2258', 'SPRING0084', 'SPRING4092', 'SPRING2599', 'SPRING1305', 'SPRING2891', 'SPRING0265', 'SPRING1646', 'SPRING2961', 'SPRING1881', 'SPRING2734', 'SPRING4300', 'SPRING1947', 'SPRING4241', 'SPRING1855', 'SPRING1689', 'SPRING2380', 'SPRING2417', 'SPRING3027', 'SPRING1464', 'SPRING1876', 'SPRING1311', 'SPRING1078', 'SPRING3007', 'SPRING1492', 'SPRING2873', 'SPRING0224', 'SPRING2659', 'SPRING1867', 'SPRING4076', 'SPRING1331', 'SPRING2482', 'SPRING4798', 'SPRING4146', 'SPRING2287', 'SPRING4655', 'SPRING2469', 'SPRING4462', 'SPRING0116', 'SPRING2692', 'SPRING2787', 'SPRING1627', 'SPRING1882', 'SPRING0381', 'SPRING1994', 'SPRING4612', 'SPRING1917', 'SPRING2340', 'SPRING4201', 'SPRING4766', 'SPRING1836', 'SPRING1913', 'SPRING1820', 'SPRING2845', 'SPRING2015', 'SPRING0213', 'SPRING3001', 'SPRING4393', 'SPRING1865', 'SPRING2561', 'SPRING4323', 'SPRING2788', 'SPRING4708', 'SPRING2716', 'SPRING1778', 'SPRING2586', 'SPRING1652', 'SPRING4410', 'SPRING2282', 'SPRING4793', 'SPRING2361', 'SPRING4219', 'SPRING2989', 'SPRING4397', 'SPRING1058', 'SPRING1973', 'SPRING2537', 'SPRING2731', 'SPRING1809', 'SPRING1763', 'SPRING4668', 'SPRING2355', 'SPRING1869', 'SPRING2646', 'SPRING1801', 'SPRING2848', 'SPRING1703', 'SPRING2399', 'SPRING2332', 'SPRING0134', 'SPRING2702', 'SPRING0072', 'SPRING1132', 'SPRING2005', 'SPRING1566', 'SPRING1727', 'SPRING2750', 'SPRING2556', 'SPRING2316', 'SPRING1088', 'SPRING1956', 'SPRING0378', 'SPRING2533', 'SPRING1470', 'SPRING1372', 'SPRING2663', 'SPRING4013', 'SPRING1896', 'SPRING0408', 'SPRING1770', 'SPRING4618', 'SPRING1995', 'SPRING4414', 'SPRING4784', 'SPRING0304', 'SPRING4120', 'SPRING1452', 'SPRING1415', 'SPRING4302', 'SPRING1711', 'SPRING4693', 'SPRING1998', 'SPRING4419', 'SPRING2442', 'SPRING4761', 'SPRING2885', 'SPRING2735', 'SPRING1799', 'SPRING2528', 'SPRING4006', 'SPRING2375', 'SPRING4550', 'SPRING0183', 'SPRING1729', 'SPRING1038', 'SPRING2815', 'SPRING1845', 'SPRING1324', 'SPRING1431', 'SPRING2415', 'SPRING4015', 'SPRING1938', 'SPRING2687', 'SPRING2500', 'SPRING0489', 'SPRING4244', 'SPRING1198', 'SPRING1128', 'SPRING2391', 'SPRING1077', 'SPRING2254', 'SPRING2724', 'SPRING1125', 'SPRING4598', 'SPRING2390', 'SPRING2767', 'SPRING4278', 'SPRING1822', 'SPRING4014', 'SPRING1592', 'SPRING2592', 'SPRING2988', 'SPRING1638', 'SPRING2262', 'SPRING4091', '.DS_Store', 'SPRING4659', 'SPRING2941', 'SPRING4326', 'SPRING1089', 'SPRING2273', 'SPRING4540', 'SPRING2632', 'SPRING2794', 'SPRING4024', 'SPRING1997', 'SPRING1047', 'SPRING2732', 'SPRING1755', 'SPRING4604', 'SPRING1728', 'SPRING4686', 'SPRING2928', 'SPRING1955', 'SPRING1803', 'SPRING4109', 'SPRING1810', 'SPRING2786', 'SPRING2437', 'SPRING0407', 'SPRING4506', 'SPRING4791', 'SPRING1469', 'SPRING1541', 'SPRING2658', 'SPRING0115', 'SPRING3006', 'SPRING3021', 'SPRING1369', 'SPRING0656', 'SPRING0252', 'SPRING4242', 'SPRING2491', 'SPRING2817', 'SPRING0208', 'SPRING1916', 'SPRING4646', 'SPRING4445', 'SPRING2377', 'SPRING4758', 'SPRING1556', 'SPRING1423', 'SPRING1757', 'SPRING2618', 'SPRING2412', 'SPRING2957', 'SPRING4509', 'SPRING1202', 'SPRING1738', 'SPRING0127', 'SPRING2419', 'SPRING2976', 'SPRING1983', 'SPRING2552', 'SPRING2012', 'SPRING1700', 'SPRING4582', 'SPRING2013', 'SPRING2566', 'SPRING4452', 'SPRING4552', 'SPRING1908', 'SPRING1958', 'SPRING0225', 'SPRING0093', 'SPRING1849', 'SPRING4140', 'SPRING4249', 'SPRING4089', 'SPRING2711', 'SPRING1760', 'SPRING1150', 'SPRING2367', 'SPRING2557', 'SPRING2835', 'SPRING2690', 'SPRING1888', 'SPRING4258', 'SPRING2413', 'SPRING0569', 'SPRING2832', 'SPRING4339', 'SPRING1422', 'SPRING0174', 'SPRING4283', 'SPRING2647', 'SPRING2425', 'SPRING4142', 'SPRING1774', 'SPRING1807', 'SPRING0078', 'SPRING1068', 'SPRING2693', 'SPRING2359', 'SPRING2216', 'SPRING4532', 'SPRING1661', 'SPRING1713', 'SPRING2771', 'SPRING1417', 'SPRING4179', 'SPRING0290', 'SPRING1885', 'SPRING4486', 'SPRING4124', 'SPRING4666', 'SPRING1752', 'SPRING2838', 'SPRING4040', 'SPRING4587', 'SPRING2402', 'SPRING0573', 'SPRING1805', 'SPRING2797', 'SPRING1197', 'SPRING1456', 'SPRING4699', 'SPRING4119', 'SPRING1990', 'SPRING1802', 'SPRING4605', 'SPRING4709', 'SPRING1448', 'SPRING1719', 'SPRING0074', 'SPRING1144', 'SPRING2301', 'SPRING1749', 'SPRING4575', 'SPRING1733', 'SPRING1691', 'SPRING2536', 'SPRING4086', 'SPRING4041', 'SPRING2662', 'SPRING1538', 'SPRING4774', 'SPRING4262', 'SPRING0288', 'SPRING0235', 'SPRING2958', 'SPRING2368', 'SPRING1776', 'SPRING0626', 'SPRING2682', 'SPRING2605', 'SPRING1459', 'SPRING1578', 'SPRING4325', 'SPRING1401', 'SPRING1493', 'SPRING4737', 'SPRING4554', 'SPRING4764', 'SPRING2150', 'SPRING4443', 'SPRING0412', 'SPRING0053', 'SPRING2722', 'SPRING1672', 'SPRING2611', 'SPRING1607', 'SPRING4460', 'SPRING4796', 'SPRING1136', 'SPRING4404', 'SPRING1477', 'SPRING1863', 'SPRING4139', 'SPRING1817', 'SPRING2757', 'SPRING4794', 'SPRING2795', 'SPRING4490', 'SPRING4536', 'SPRING2570', 'SPRING1725', 'SPRING2859', 'SPRING2410', 'SPRING4614', 'SPRING4098', 'SPRING1649', 'SPRING1163', 'SPRING1449', 'SPRING2825', 'SPRING4711', 'SPRING2433', 'SPRING1705', 'SPRING1323', 'SPRING2443', 'SPRING0015', 'SPRING1168', 'SPRING4748', 'SPRING1901', 'SPRING4732', 'SPRING1821', 'SPRING4005', 'SPRING1604', 'SPRING2548', 'SPRING1399', 'SPRING1576', 'SPRING2196', 'SPRING1934', 'SPRING1784', 'SPRING2781', 'SPRING4567', 'SPRING2362', 'SPRING4630', 'SPRING1591', 'SPRING2434', 'SPRING4592', 'SPRING4628', 'SPRING0382', 'SPRING2517', 'SPRING4251', 'SPRING4496', 'SPRING4680', 'SPRING0226', 'SPRING1891', 'SPRING0143', 'SPRING2461', 'SPRING0662', 'SPRING2934', 'SPRING4188', 'SPRING1975', 'SPRING2306', 'SPRING0383', 'SPRING0309', 'SPRING4500', 'SPRING2837', 'SPRING1742', 'SPRING1909', 'SPRING2229', 'SPRING3010', 'SPRING4671', 'SPRING1420', 'SPRING2017', 'SPRING2851', 'SPRING1686', 'SPRING1039', 'SPRING2965', 'SPRING4643', 'SPRING2300', 'SPRING1669', 'SPRING1768', 'SPRING2997', 'SPRING1162', 'SPRING1663', 'SPRING2671', 'SPRING1451', 'SPRING2508', 'SPRING1419', 'SPRING1525', 'SPRING2625', 'SPRING2398', 'SPRING4292', 'SPRING2465', 'SPRING4569', 'SPRING2699', 'SPRING0064', 'SPRING4763', 'SPRING2828', 'SPRING4696', 'SPRING2531', 'SPRING4263', 'SPRING4271', 'SPRING2388', 'SPRING2698', 'SPRING0203', 'SPRING2374', 'SPRING2643', 'SPRING1769', 'SPRING4619', 'SPRING0321', 'SPRING1506', 'SPRING1523', 'SPRING4240', 'SPRING2999', 'SPRING1166', 'SPRING4528', 'SPRING2686', 'SPRING4656', 'SPRING0222', 'SPRING0270', 'SPRING3018', 'SPRING4588', 'SPRING4441', 'SPRING0642', 'SPRING1378', 'SPRING1183', 'SPRING2498', 'SPRING2809', 'SPRING4150', 'SPRING2510', 'SPRING4750', 'SPRING0384', 'SPRING1152', 'SPRING1363', 'SPRING2577', 'SPRING1978', 'SPRING0475', 'SPRING2114', 'SPRING1177', 'SPRING1360']\n",
            "1532\n"
          ]
        }
      ]
    },
    {
      "cell_type": "code",
      "metadata": {
        "id": "uK03fOvshOWI"
      },
      "source": [
        "##\n",
        "'''\n",
        "Total images should be dividable by 10 otherwise the test will not work\n",
        "'''\n",
        "##\n",
        "\n",
        "#Randomize and split models random over train and test\n",
        "import random\n",
        "random.seed(2130)\n",
        "random.shuffle(maleimg)\n",
        "random.shuffle(femaleimg)\n",
        "\n",
        "##subset male \n",
        "#define subset\n",
        "maleimgsubset = maleimg[:330]\n",
        "\n",
        "#define train/val/test male\n",
        "train_datamale = maleimgsubset[:270]\n",
        "val_datamale = maleimgsubset[270:300]\n",
        "test_datamale = maleimgsubset[300:]\n",
        "\n",
        "##subset female \n",
        "#define subset\n",
        "femaleimgsubset = femaleimg[:32]\n",
        "\n",
        "#define train/val/test female\n",
        "train_datafemale = femaleimgsubset[:24]\n",
        "val_datafemale = femaleimgsubset[24:28]\n",
        "test_datafemale = femaleimgsubset[28:]"
      ],
      "execution_count": null,
      "outputs": []
    },
    {
      "cell_type": "code",
      "metadata": {
        "colab": {
          "base_uri": "https://localhost:8080/"
        },
        "id": "lRwDxuUahZex",
        "outputId": "ba9915bc-bc48-45ed-d2d4-b7f91286fe73"
      },
      "source": [
        "##\n",
        "'''\n",
        "Total images should be dividable by 10 otherwise the test will not work\n",
        "'''\n",
        "##\n",
        "\n",
        "#check if succesfull for male\n",
        "print(train_datamale)\n",
        "print(val_datamale)\n",
        "print(test_datamale)\n",
        "print(\"number off male models in train = \"+str(len(train_datamale)))\n",
        "print(\"number off male models in val = \"+str(len(val_datamale)))\n",
        "print(\"number off male models in test = \"+str(len(test_datamale)))\n",
        "print(\"total number off male models is = \"+str(len(test_datamale)+len(val_datamale)+len(train_datamale)))\n",
        "\n",
        "print(\" \")\n",
        "\n",
        "#check if succesfull for female\n",
        "print(train_datafemale)\n",
        "print(val_datafemale)\n",
        "print(test_datafemale)\n",
        "print(\"number off female models in train = \"+str(len(train_datafemale)))\n",
        "print(\"number off female models in val = \"+str(len(val_datafemale)))\n",
        "print(\"number off female models in test = \"+str(len(test_datafemale)))\n",
        "print(\"total number off female models is = \"+str(len(test_datafemale)+len(val_datafemale)+len(train_datafemale)))"
      ],
      "execution_count": null,
      "outputs": [
        {
          "output_type": "stream",
          "name": "stdout",
          "text": [
            "['SPRING1682', 'SPRING1786', 'SPRING0242', 'SPRING1293', 'SPRING1747', 'SPRING0389', 'SPRING1707', 'SPRING0647', 'SPRING0026', 'SPRING0572', 'SPRING4585', 'SPRING1444', 'SPRING0300', 'SPRING1329', 'SPRING1455', 'SPRING4390', 'SPRING1051', 'SPRING4225', 'SPRING1842', 'SPRING1974', 'SPRING0279', 'SPRING0634', 'SPRING2680', 'SPRING4127', 'SPRING4485', 'SPRING2707', 'SPRING0618', 'SPRING1650', 'SPRING4170', 'SPRING0526', 'SPRING4290', 'SPRING4469', 'SPRING0574', 'SPRING4434', 'SPRING1587', 'SPRING1238', 'SPRING1228', 'SPRING2473', 'SPRING1094', 'SPRING1106', 'SPRING1993', 'SPRING0218', 'SPRING1165', 'SPRING4133', 'SPRING2151', 'SPRING4063', 'SPRING2670', 'SPRING1697', 'SPRING4730', 'SPRING4059', 'SPRING2608', 'SPRING0199', 'SPRING1551', 'SPRING1149', 'SPRING2058', 'SPRING4689', 'SPRING0535', 'SPRING1122', 'SPRING0297', 'SPRING4181', 'SPRING1583', 'SPRING4649', 'SPRING2790', 'SPRING2091', 'SPRING1552', 'SPRING2175', 'SPRING1570', 'SPRING0237', 'SPRING4650', 'SPRING4517', 'SPRING2649', 'SPRING4579', 'SPRING4075', 'SPRING4511', 'SPRING1248', 'SPRING1335', 'SPRING1529', 'SPRING2674', 'SPRING2092', 'SPRING1804', 'SPRING4107', 'SPRING0049', 'SPRING2849', 'SPRING4068', 'SPRING2385', 'SPRING1108', 'SPRING1609', 'SPRING0446', 'SPRING4046', 'SPRING1354', 'SPRING0029', 'SPRING0287', 'SPRING4558', 'SPRING2312', 'SPRING0456', 'SPRING0211', 'SPRING1457', 'SPRING2666', 'SPRING0051', 'SPRING1878', 'SPRING4363', 'SPRING1808', 'SPRING4230', 'SPRING0246', 'SPRING4583', 'SPRING4576', 'SPRING4264', 'SPRING1586', 'SPRING0240', 'SPRING0164', 'SPRING1641', 'SPRING2910', 'SPRING1036', 'SPRING4294', 'SPRING4611', 'SPRING2519', 'SPRING0654', 'SPRING2793', 'SPRING1704', 'SPRING0601', 'SPRING2214', 'SPRING4330', 'SPRING0198', 'SPRING2257', 'SPRING0142', 'SPRING4420', 'SPRING2664', 'SPRING4752', 'SPRING4356', 'SPRING0575', 'SPRING2331', 'SPRING2540', 'SPRING1710', 'SPRING0486', 'SPRING4303', 'SPRING2488', 'SPRING1674', 'SPRING0013', 'SPRING2772', 'SPRING4620', 'SPRING1156', 'SPRING2414', 'SPRING1850', 'SPRING1670', 'SPRING2392', 'SPRING0553', 'SPRING2955', 'SPRING4412', 'SPRING0179', 'SPRING1049', 'SPRING1203', 'SPRING2769', 'SPRING0507', 'SPRING4238', 'SPRING4355', 'SPRING2489', 'SPRING4529', 'SPRING1759', 'SPRING1635', 'SPRING2685', 'SPRING0207', 'SPRING4516', 'SPRING2137', 'SPRING4155', 'SPRING1612', 'SPRING3009', 'SPRING0460', 'SPRING4734', 'SPRING0180', 'SPRING4080', 'SPRING1295', 'SPRING0542', 'SPRING1797', 'SPRING4658', 'SPRING1720', 'SPRING0457', 'SPRING0566', 'SPRING2401', 'SPRING1161', 'SPRING1219', 'SPRING0295', 'SPRING2044', 'SPRING4345', 'SPRING1567', 'SPRING1518', 'SPRING0071', 'SPRING2597', 'SPRING4503', 'SPRING4287', 'SPRING4661', 'SPRING1655', 'SPRING1115', 'SPRING0391', 'SPRING1678', 'SPRING0330', 'SPRING0539', 'SPRING1980', 'SPRING1597', 'SPRING4797', 'SPRING0193', 'SPRING4337', 'SPRING1244', 'SPRING1839', 'SPRING1129', 'SPRING0437', 'SPRING1717', 'SPRING0420', 'SPRING0506', 'SPRING4593', 'SPRING1851', 'SPRING2637', 'SPRING4207', 'SPRING2983', 'SPRING2468', 'SPRING4143', 'SPRING1681', 'SPRING2862', 'SPRING0612', 'SPRING2296', 'SPRING4332', 'SPRING2969', 'SPRING1261', 'SPRING2458', 'SPRING2244', 'SPRING0436', 'SPRING1054', 'SPRING0285', 'SPRING4208', 'SPRING0463', 'SPRING1090', 'SPRING1055', 'SPRING0525', 'SPRING2251', 'SPRING0169', 'SPRING2083', 'SPRING4060', 'SPRING0227', 'SPRING2907', 'SPRING2444', 'SPRING1031', 'SPRING2266', 'SPRING2915', 'SPRING1351', 'SPRING1145', 'SPRING4743', 'SPRING2759', 'SPRING0536', 'SPRING2305', 'SPRING4591', 'SPRING1517', 'SPRING0275', 'SPRING4147', 'SPRING0128', 'SPRING1688', 'SPRING4121', 'SPRING4586', 'SPRING2689', 'SPRING4369', 'SPRING4525', 'SPRING0267', 'SPRING0511', 'SPRING4288', 'SPRING4296', 'SPRING1880', 'SPRING2887', 'SPRING1275', 'SPRING0504', 'SPRING0661', 'SPRING4415', 'SPRING4056']\n",
            "['SPRING4110', 'SPRING0512', 'SPRING4069', 'SPRING4400', 'SPRING0206', 'SPRING4297', 'SPRING0048', 'SPRING4570', 'SPRING2448', 'SPRING4108', 'SPRING2594', 'SPRING2596', 'SPRING0643', 'SPRING1873', 'SPRING4574', 'SPRING4716', 'SPRING2908', 'SPRING0178', 'SPRING4640', 'SPRING0320', 'SPRING4042', 'SPRING2762', 'SPRING2407', 'SPRING0016', 'SPRING0187', 'SPRING4389', 'SPRING1599', 'SPRING0669', 'SPRING0117', 'SPRING1247']\n",
            "['SPRING1553', 'SPRING4721', 'SPRING4174', 'SPRING2161', 'SPRING4152', 'SPRING1259', 'SPRING4731', 'SPRING4402', 'SPRING4001', 'SPRING1780', 'SPRING4741', 'SPRING0278', 'SPRING1176', 'SPRING1377', 'SPRING1900', 'SPRING2650', 'SPRING1189', 'SPRING1471', 'SPRING4057', 'SPRING1119', 'SPRING4233', 'SPRING1522', 'SPRING0474', 'SPRING0449', 'SPRING0653', 'SPRING0305', 'SPRING2748', 'SPRING1643', 'SPRING2615', 'SPRING4333']\n",
            "number off male models in train = 270\n",
            "number off male models in val = 30\n",
            "number off male models in test = 30\n",
            "total number off male models is = 330\n",
            " \n",
            "['SPRING1039', 'SPRING2829', 'SPRING0304', 'SPRING4577', 'SPRING4139', 'SPRING2336', 'SPRING1544', 'SPRING4439', 'SPRING1961', 'SPRING4509', 'SPRING4124', 'SPRING1754', 'SPRING1121', 'SPRING1604', 'SPRING0055', 'SPRING1871', 'SPRING4195', 'SPRING1056', 'SPRING2758', 'SPRING2785', 'SPRING2332', 'SPRING2361', 'SPRING4486', 'SPRING4610']\n",
            "['SPRING2657', 'SPRING2451', 'SPRING4341', 'SPRING0589']\n",
            "['SPRING0649', 'SPRING2480', 'SPRING1076', 'SPRING4756']\n",
            "number off female models in train = 24\n",
            "number off female models in val = 4\n",
            "number off female models in test = 4\n",
            "total number off female models is = 32\n"
          ]
        }
      ]
    },
    {
      "cell_type": "code",
      "metadata": {
        "id": "bJB-HLxRhfcw"
      },
      "source": [
        "##\n",
        "'''\n",
        "Total images should be dividable by 10 otherwise the test will not work\n",
        "'''\n",
        "##\n",
        "## create train test split for both male and female models\n",
        "#male train\n",
        "destination_pathtrainmale = \"/content/malesetsplit/train\"\n",
        "os.makedirs(destination_pathtrainmale)\n",
        "#male val\n",
        "destination_pathvalmale = \"/content/malesetsplit/val\"\n",
        "os.makedirs(destination_pathvalmale)\n",
        "#male test\n",
        "destination_pathtestmale = \"/content/malesetsplit/test\"\n",
        "os.makedirs(destination_pathtestmale)\n",
        "\n",
        "#female train\n",
        "destination_pathtrainfemale = \"/content/femalesetsplit/train\"\n",
        "os.makedirs(destination_pathtrainfemale)\n",
        "#female val\n",
        "destination_pathvalfemale = \"/content/femalesetsplit/val\"\n",
        "os.makedirs(destination_pathvalfemale)\n",
        "#female test\n",
        "destination_pathtestfemale = \"/content/femalesetsplit/test\"\n",
        "os.makedirs(destination_pathtestfemale)"
      ],
      "execution_count": null,
      "outputs": []
    },
    {
      "cell_type": "code",
      "metadata": {
        "id": "VJGWCP2Ehfog"
      },
      "source": [
        "## create trainlabels for males and females\n",
        "\n",
        "\n",
        "#train male\n",
        "for trainlabel in train_datamale:\n",
        "  pattern = \"/content/maleset/\"+trainlabel+\"/*\" \n",
        "  for img in glob.glob(pattern):\n",
        "    shutil.copy(img, destination_pathtrainmale)\n",
        "\n",
        "#val male\n",
        "for vallabel in val_datamale:\n",
        "  pattern = \"/content/maleset/\"+vallabel+\"/*\" \n",
        "  for img in glob.glob(pattern):\n",
        "    shutil.copy(img, destination_pathvalmale)\n",
        "\n",
        "#test male\n",
        "for testlabel in test_datamale:\n",
        "  pattern = \"/content/maleset/\"+testlabel+\"/*\" \n",
        "  for img in glob.glob(pattern):\n",
        "    shutil.copy(img, destination_pathtestmale)\n",
        "\n",
        "\n",
        "\n",
        "\n",
        "#train female\n",
        "for trainlabel in train_datafemale:\n",
        "  pattern = \"/content/femaleset/\"+trainlabel+\"/*\" \n",
        "  for img in glob.glob(pattern):\n",
        "    shutil.copy(img, destination_pathtrainfemale)\n",
        "\n",
        "#val female\n",
        "for vallabel in val_datafemale:\n",
        "  pattern = \"/content/femaleset/\"+vallabel+\"/*\" \n",
        "  for img in glob.glob(pattern):\n",
        "    shutil.copy(img, destination_pathvalfemale)\n",
        "\n",
        "#test female\n",
        "for testlabel in test_datafemale:\n",
        "  pattern = \"/content/femaleset/\"+testlabel+\"/*\" \n",
        "  for img in glob.glob(pattern):\n",
        "    shutil.copy(img, destination_pathtestfemale)"
      ],
      "execution_count": null,
      "outputs": []
    },
    {
      "cell_type": "code",
      "metadata": {
        "colab": {
          "base_uri": "https://localhost:8080/"
        },
        "id": "XgZUv9ZvhfsZ",
        "outputId": "ab145041-6426-4cdb-a7a4-1a569b79584c"
      },
      "source": [
        "#check for male\n",
        "print(\"male\")\n",
        "maleimgtrain = os.listdir(\"/content/malesetsplit/train\")\n",
        "maleimgval = os.listdir(\"/content/malesetsplit/val\")\n",
        "maleimgtest = os.listdir(\"/content/malesetsplit/test\")\n",
        "print(len(maleimgtrain))\n",
        "print(len(maleimgval))\n",
        "print(len(maleimgtest))\n",
        "print(len(maleimgtrain)/185)\n",
        "print(len(maleimgval)/185)\n",
        "print(len(maleimgtest)/185)\n",
        "\n",
        "print(\" \")\n",
        "\n",
        "#check for female\n",
        "print(\"female\")\n",
        "femaleimgtrain = os.listdir(\"/content/femalesetsplit/train\")\n",
        "femaleimgval = os.listdir(\"/content/femalesetsplit/val\")\n",
        "femaleimgtest = os.listdir(\"/content/femalesetsplit/test\")\n",
        "print(len(femaleimgtrain))\n",
        "print(len(femaleimgval))\n",
        "print(len(femaleimgtest))\n",
        "print(len(femaleimgtrain)/185)\n",
        "print(len(femaleimgval)/185)\n",
        "print(len(femaleimgtest)/185)\n"
      ],
      "execution_count": null,
      "outputs": [
        {
          "output_type": "stream",
          "name": "stdout",
          "text": [
            "male\n",
            "49950\n",
            "5550\n",
            "5550\n",
            "270.0\n",
            "30.0\n",
            "30.0\n",
            " \n",
            "female\n",
            "4440\n",
            "740\n",
            "740\n",
            "24.0\n",
            "4.0\n",
            "4.0\n"
          ]
        }
      ]
    },
    {
      "cell_type": "markdown",
      "metadata": {
        "id": "9vZrj_grhskS"
      },
      "source": [
        "# **Loading principal components and create data generators**"
      ]
    },
    {
      "cell_type": "code",
      "metadata": {
        "id": "UhGZiSAv3mhK"
      },
      "source": [
        "# load principal components\n",
        "## female principal components\n",
        "df1=pd.read_excel(\"/content/drive/MyDrive/Thesis_sep_2021/FemalePCs.xlsx\")\n",
        "\n",
        "## male principa components\n",
        "df2=pd.read_excel(\"/content/drive/MyDrive/Thesis_sep_2021/MalePCs.xlsx\")"
      ],
      "execution_count": null,
      "outputs": []
    },
    {
      "cell_type": "code",
      "metadata": {
        "colab": {
          "base_uri": "https://localhost:8080/"
        },
        "id": "kYTW5opy4J4_",
        "outputId": "05691dc1-34fc-43b0-e27f-db48d0e0c4bd"
      },
      "source": [
        "print(df1.head())\n",
        "print(df2.head())"
      ],
      "execution_count": null,
      "outputs": [
        {
          "output_type": "stream",
          "name": "stdout",
          "text": [
            "         Filename      PC 1      PC 2  ...      PC 9      PC10   \n",
            "0  SPRING0014.obj -2.723997  0.760398  ... -0.127238  0.925548   \n",
            "1  SPRING0015.obj -4.214653 -0.922275  ... -0.718815 -0.289657   \n",
            "2  SPRING0017.obj -3.685222  1.550137  ... -0.022902  0.256028   \n",
            "3  SPRING0052.obj -4.566391 -1.113222  ...  0.304093  0.908402   \n",
            "4  SPRING0053.obj -5.206371  0.130192  ... -0.044682 -1.156143   \n",
            "\n",
            "[5 rows x 12 columns]\n",
            "         Filename      PC 1      PC 2  ...      PC 9      PC10   \n",
            "0  SPRING0001.obj  8.120067 -0.261363  ... -0.363386 -0.408759   \n",
            "1  SPRING0002.obj  4.453033 -1.078755  ... -0.213788  0.168963   \n",
            "2  SPRING0007.obj -2.934991 -1.339783  ... -0.713374  0.244707   \n",
            "3  SPRING0008.obj  4.353720  0.189972  ...  1.220515  0.100544   \n",
            "4  SPRING0009.obj -0.778509 -0.409938  ...  0.358052  0.529252   \n",
            "\n",
            "[5 rows x 12 columns]\n"
          ]
        }
      ]
    },
    {
      "cell_type": "code",
      "metadata": {
        "id": "yG5o8TopykYo"
      },
      "source": [
        "l1male=os.listdir(\"/content/malesetsplit/train\")\n",
        "l2male=os.listdir(\"/content/malesetsplit/val\") \n",
        "l3male=os.listdir(\"/content/malesetsplit/test\")\n",
        "\n",
        "l1female=os.listdir(\"/content/femalesetsplit/train\")\n",
        "l2female=os.listdir(\"/content/femalesetsplit/val\")\n",
        "l3female=os.listdir(\"/content/femalesetsplit/test\")"
      ],
      "execution_count": null,
      "outputs": []
    },
    {
      "cell_type": "code",
      "metadata": {
        "id": "G5E50UG8xUth"
      },
      "source": [
        "# Name list creation\n",
        "namem=[]\n",
        "namefm=[]\n",
        "\n",
        "for i in range(len(df1)):\n",
        "  namefm.append(df1.Filename.iloc[i][:10])\n",
        "\n",
        "for i in range(len(df2)):\n",
        "  namem.append(df2.Filename.iloc[i][:10])"
      ],
      "execution_count": null,
      "outputs": []
    },
    {
      "cell_type": "code",
      "metadata": {
        "colab": {
          "base_uri": "https://localhost:8080/"
        },
        "id": "fXCASsZwxZvU",
        "outputId": "a4b046df-1553-4d85-b3f1-2350643c565b"
      },
      "source": [
        "# creating dictionary train male\n",
        "dm1={}\n",
        "dfm2={}\n",
        "\n",
        "for i in tqdm(range(len(l1male))):\n",
        "  if l1male[i][:10] in namem:\n",
        "    dm1[l1male[i]]=np.asarray(df2.iloc[namem.index(l1male[i][:10])][1:11])\n",
        "  \n",
        "  \n",
        "for i in tqdm(range(len(l1female))):\n",
        "  if l1female[i][:10] in namefm:\n",
        "    dfm2[l1female[i]]=np.asarray(df1.iloc[namefm.index(l1female[i][:10])][1:11])\n"
      ],
      "execution_count": null,
      "outputs": [
        {
          "output_type": "stream",
          "name": "stderr",
          "text": [
            "100%|██████████| 49950/49950 [00:09<00:00, 5061.32it/s]\n",
            "100%|██████████| 4440/4440 [00:00<00:00, 5057.51it/s]\n"
          ]
        }
      ]
    },
    {
      "cell_type": "code",
      "metadata": {
        "colab": {
          "base_uri": "https://localhost:8080/"
        },
        "id": "0-XVqGkjxUge",
        "outputId": "4ed6c6dc-c586-4338-ba00-1801cdfd7a3a"
      },
      "source": [
        "# creating dictionary val male\n",
        "dvm1={}\n",
        "dvfm2={}\n",
        "\n",
        "for i in tqdm(range(len(l2male))):\n",
        "  if l2male[i][:10] in namem:\n",
        "    dvm1[l2male[i]]=np.asarray(df2.iloc[namem.index(l2male[i][:10])][1:11])\n",
        "\n",
        "for i in tqdm(range(len(l2female))):\n",
        "  if l2female[i][:10] in namefm:\n",
        "    dvfm2[l2female[i]]=np.asarray(df1.iloc[namefm.index(l2female[i][:10])][1:11])"
      ],
      "execution_count": null,
      "outputs": [
        {
          "output_type": "stream",
          "name": "stderr",
          "text": [
            "100%|██████████| 5550/5550 [00:01<00:00, 4839.66it/s]\n",
            "100%|██████████| 740/740 [00:00<00:00, 4719.36it/s]\n"
          ]
        }
      ]
    },
    {
      "cell_type": "code",
      "metadata": {
        "colab": {
          "base_uri": "https://localhost:8080/"
        },
        "id": "8qTcY1BYbX0U",
        "outputId": "0696c5fa-32d0-42d7-c702-e58338850f05"
      },
      "source": [
        "# creating dictionary test male\n",
        "dtm1={}\n",
        "dtfm2={}\n",
        "\n",
        "for i in tqdm(range(len(l3male))):\n",
        "  if l3male[i][:10] in namem:\n",
        "    dtm1[l3male[i]]=np.asarray(df2.iloc[namem.index(l3male[i][:10])][1:11])\n",
        "\n",
        "for i in tqdm(range(len(l3female))):\n",
        "  if l3female[i][:10] in namefm:\n",
        "    dtfm2[l3female[i]]=np.asarray(df1.iloc[namefm.index(l3female[i][:10])][1:11])\n",
        "\n"
      ],
      "execution_count": null,
      "outputs": [
        {
          "output_type": "stream",
          "name": "stderr",
          "text": [
            "100%|██████████| 5550/5550 [00:01<00:00, 5021.39it/s]\n",
            "100%|██████████| 740/740 [00:00<00:00, 5086.95it/s]\n"
          ]
        }
      ]
    },
    {
      "cell_type": "code",
      "metadata": {
        "id": "aiNzt4xfbDKm"
      },
      "source": [
        "preprocessedF=pd.DataFrame.from_dict(dfm2,orient='index')\n",
        "preprocessedM=pd.DataFrame.from_dict(dm1,orient='index')"
      ],
      "execution_count": null,
      "outputs": []
    },
    {
      "cell_type": "code",
      "metadata": {
        "id": "TCC4eMd7q-eD"
      },
      "source": [
        "preprocessedvalF=pd.DataFrame.from_dict(dvfm2,orient='index')\n",
        "preprocessedvalM=pd.DataFrame.from_dict(dvm1,orient='index')"
      ],
      "execution_count": null,
      "outputs": []
    },
    {
      "cell_type": "code",
      "metadata": {
        "id": "2B--krUlbDUZ"
      },
      "source": [
        "preprocessedtestF=pd.DataFrame.from_dict(dtfm2,orient='index')\n",
        "preprocessedtestM=pd.DataFrame.from_dict(dtm1,orient='index')"
      ],
      "execution_count": null,
      "outputs": []
    },
    {
      "cell_type": "code",
      "metadata": {
        "colab": {
          "base_uri": "https://localhost:8080/"
        },
        "id": "0zwzu4aNbDYG",
        "outputId": "98dfc3b5-4e5b-4ea4-cd1c-2d9a56642f7e"
      },
      "source": [
        "print(len(preprocessedF))\n",
        "print(len(preprocessedM))\n",
        "print(len(preprocessedvalF))\n",
        "print(len(preprocessedvalM))\n",
        "print(len(preprocessedtestF))\n",
        "print(len(preprocessedtestM))"
      ],
      "execution_count": null,
      "outputs": [
        {
          "output_type": "stream",
          "name": "stdout",
          "text": [
            "4440\n",
            "49950\n",
            "740\n",
            "5550\n",
            "740\n",
            "5550\n"
          ]
        }
      ]
    },
    {
      "cell_type": "code",
      "metadata": {
        "id": "gOK-ULsvbDc3"
      },
      "source": [
        "preprocessedF[\"name\"]=preprocessedF.index\n",
        "preprocessedM[\"name\"]=preprocessedM.index\n",
        "preprocessedvalF[\"name\"]=preprocessedvalF.index\n",
        "preprocessedvalM[\"name\"]=preprocessedvalM.index\n",
        "\n",
        "preprocessedtestF[\"name\"]=preprocessedtestF.index\n",
        "preprocessedtestM[\"name\"]=preprocessedtestM.index"
      ],
      "execution_count": null,
      "outputs": []
    },
    {
      "cell_type": "code",
      "metadata": {
        "colab": {
          "base_uri": "https://localhost:8080/"
        },
        "id": "6eX6e7UCbDgu",
        "outputId": "885c34dd-5065-48cd-8643-4fece434eb85"
      },
      "source": [
        "print(preprocessedM.head())\n",
        "print(preprocessedvalM.head())\n",
        "print(preprocessedtestM.head())"
      ],
      "execution_count": null,
      "outputs": [
        {
          "output_type": "stream",
          "name": "stdout",
          "text": [
            "                                    0  ...                        name\n",
            "SPRING0506-D7-V30-H120.png   1.720015  ...  SPRING0506-D7-V30-H120.png\n",
            "SPRING4743-D7-V10-H10.png   -4.960026  ...   SPRING4743-D7-V10-H10.png\n",
            "SPRING2637-D7-V40-H300.png -11.791752  ...  SPRING2637-D7-V40-H300.png\n",
            "SPRING2385-D7-V0-H100.png   -1.622081  ...   SPRING2385-D7-V0-H100.png\n",
            "SPRING4579-D7-V20-H310.png  -4.612401  ...  SPRING4579-D7-V20-H310.png\n",
            "\n",
            "[5 rows x 11 columns]\n",
            "                                    0  ...                        name\n",
            "SPRING1247-D7-V0-H130.png    5.347023  ...   SPRING1247-D7-V0-H130.png\n",
            "SPRING4574-D7-V30-H170.png  -8.158464  ...  SPRING4574-D7-V30-H170.png\n",
            "SPRING4110-D7-V40-H60.png   -9.771018  ...   SPRING4110-D7-V40-H60.png\n",
            "SPRING0643-D7-V0-H300.png   -1.479452  ...   SPRING0643-D7-V0-H300.png\n",
            "SPRING2762-D7-V0-H180.png  -11.374782  ...   SPRING2762-D7-V0-H180.png\n",
            "\n",
            "[5 rows x 11 columns]\n",
            "                                    0  ...                        name\n",
            "SPRING0305-D7-V30-H120.png -11.410665  ...  SPRING0305-D7-V30-H120.png\n",
            "SPRING1522-D7-V10-H350.png   1.884044  ...  SPRING1522-D7-V10-H350.png\n",
            "SPRING1522-D7-V0-H270.png    1.884044  ...   SPRING1522-D7-V0-H270.png\n",
            "SPRING4721-D7-V40-H10.png   -0.675267  ...   SPRING4721-D7-V40-H10.png\n",
            "SPRING2748-D7-V40-H180.png  -4.064155  ...  SPRING2748-D7-V40-H180.png\n",
            "\n",
            "[5 rows x 11 columns]\n"
          ]
        }
      ]
    },
    {
      "cell_type": "code",
      "metadata": {
        "id": "e93iaC2obDsf"
      },
      "source": [
        "preprocessedF.reset_index(inplace=True)\n",
        "preprocessedM.reset_index(inplace=True)\n",
        "preprocessedvalF.reset_index(inplace=True)\n",
        "preprocessedvalM.reset_index(inplace=True)\n",
        "\n",
        "preprocessedtestF.reset_index(inplace=True)\n",
        "preprocessedtestM.reset_index(inplace=True)"
      ],
      "execution_count": null,
      "outputs": []
    },
    {
      "cell_type": "code",
      "metadata": {
        "id": "CX6cg2OAbwOM"
      },
      "source": [
        "preprocessedF.drop(columns=[\"index\"],inplace=True)\n",
        "preprocessedM.drop(columns=[\"index\"],inplace=True)\n",
        "preprocessedvalF.drop(columns=[\"index\"],inplace=True)\n",
        "preprocessedvalM.drop(columns=[\"index\"],inplace=True)\n",
        "\n",
        "preprocessedtestF.drop(columns=[\"index\"],inplace=True)\n",
        "preprocessedtestM.drop(columns=[\"index\"],inplace=True)"
      ],
      "execution_count": null,
      "outputs": []
    },
    {
      "cell_type": "code",
      "metadata": {
        "id": "GTLCBciTbwW1"
      },
      "source": [
        "preprocessedF.to_csv('all_labels_female_train.csv',index=False)\n",
        "preprocessedM.to_csv('all_labels_male_train.csv',index=False)\n",
        "preprocessedvalM.to_csv('all_labels_male_val.csv',index=False)\n",
        "preprocessedvalF.to_csv('all_labels_female_val.csv',index=False)\n",
        "preprocessedtestF.to_csv('all_labels_female_test.csv',index=False)\n",
        "preprocessedtestM.to_csv('all_labels_male_test.csv',index=False)"
      ],
      "execution_count": null,
      "outputs": []
    },
    {
      "cell_type": "code",
      "metadata": {
        "id": "Hpl3tfxOv_8j"
      },
      "source": [
        "traindfmale = pd.read_csv('all_labels_male_train.csv') \n",
        "validdfmale = pd.read_csv('all_labels_male_val.csv')\n",
        "testdfmale  = pd.read_csv('all_labels_male_test.csv')\n",
        "\n",
        "traindffemale = pd.read_csv('all_labels_female_train.csv') \n",
        "validdffemale = pd.read_csv('all_labels_female_val.csv')\n",
        "testdffemale = pd.read_csv('all_labels_female_test.csv')"
      ],
      "execution_count": null,
      "outputs": []
    },
    {
      "cell_type": "code",
      "metadata": {
        "id": "iojRNgJj0IMB"
      },
      "source": [
        "genderindexmale = [0,3]\n",
        "genderindexfemale = [0,2]"
      ],
      "execution_count": null,
      "outputs": []
    },
    {
      "cell_type": "code",
      "metadata": {
        "colab": {
          "base_uri": "https://localhost:8080/"
        },
        "id": "A9RATDDvob-N",
        "outputId": "a77b161c-c1cf-44ef-b8b7-1a0928604f28"
      },
      "source": [
        "datagen = tf.keras.preprocessing.image.ImageDataGenerator(\n",
        "    rescale=1./255)\n",
        "\n",
        "train_generatormale=datagen.flow_from_dataframe(\n",
        "    dataframe=traindfmale,\n",
        "    directory='/content/malesetsplit/train',\n",
        "    x_col='name',\n",
        "    y_col=[str(genderindexmale[0]), str(genderindexmale[1])],\n",
        "    batch_size=10,\n",
        "    seed=42,\n",
        "    shuffle=True,\n",
        "    class_mode='raw',\n",
        "    target_size=(224,448)\n",
        "    )\n",
        "\n",
        "valid_generatormale=datagen.flow_from_dataframe(\n",
        "    dataframe=validdfmale,\n",
        "    directory='/content/malesetsplit/val',\n",
        "    x_col='name',\n",
        "    y_col=[str(genderindexmale[0]), str(genderindexmale[1])],\n",
        "    batch_size=10,\n",
        "    seed=42,\n",
        "    shuffle=True,\n",
        "    class_mode='raw',\n",
        "    target_size=(224,448)\n",
        "    )\n",
        "\n",
        "test_generatormale=datagen.flow_from_dataframe(\n",
        "    dataframe=testdfmale,\n",
        "    directory='/content/malesetsplit/test',\n",
        "    x_col='name',\n",
        "    y_col=[str(genderindexmale[0]), str(genderindexmale[1])],\n",
        "    batch_size=10,\n",
        "    seed=42,\n",
        "    shuffle=False,\n",
        "    class_mode=None,\n",
        "    target_size=(224,448)\n",
        "    )"
      ],
      "execution_count": null,
      "outputs": [
        {
          "output_type": "stream",
          "name": "stdout",
          "text": [
            "Found 49950 validated image filenames.\n",
            "Found 5550 validated image filenames.\n",
            "Found 5550 validated image filenames.\n"
          ]
        }
      ]
    },
    {
      "cell_type": "code",
      "metadata": {
        "id": "-ijrirDZpPK4",
        "colab": {
          "base_uri": "https://localhost:8080/"
        },
        "outputId": "dc42c064-15b8-42ef-da18-9b95bc80cc13"
      },
      "source": [
        "datagen = tf.keras.preprocessing.image.ImageDataGenerator(\n",
        "    rescale=1./255\n",
        "    )\n",
        "\n",
        "train_generatorfemale=datagen.flow_from_dataframe(\n",
        "    dataframe=traindffemale,\n",
        "    directory='/content/femalesetsplit/train',\n",
        "    x_col='name',\n",
        "    y_col=[str(genderindexfemale[0]), str(genderindexfemale[1])],\n",
        "    batch_size=10,\n",
        "    seed=42,\n",
        "    shuffle=True,\n",
        "    class_mode='raw',\n",
        "    target_size=(224,448)\n",
        "    )\n",
        "\n",
        "valid_generatorfemale=datagen.flow_from_dataframe(\n",
        "    dataframe=validdffemale,\n",
        "    directory='/content/femalesetsplit/val',\n",
        "    x_col='name',\n",
        "    y_col=[str(genderindexfemale[0]), str(genderindexfemale[1])],\n",
        "    batch_size=10,\n",
        "    seed=42,\n",
        "    shuffle=True,\n",
        "    class_mode='raw',\n",
        "    target_size=(224,448)\n",
        "    )\n",
        "\n",
        "test_generatorfemale=datagen.flow_from_dataframe(\n",
        "    dataframe=testdffemale,\n",
        "    directory='/content/femalesetsplit/test',\n",
        "    x_col='name',\n",
        "    y_col=[str(genderindexfemale[0]), str(genderindexfemale[1])],\n",
        "    batch_size=10,\n",
        "    seed=42,\n",
        "    shuffle=False,\n",
        "    class_mode=None,\n",
        "    target_size=(224,448)\n",
        "    )"
      ],
      "execution_count": null,
      "outputs": [
        {
          "output_type": "stream",
          "name": "stdout",
          "text": [
            "Found 4440 validated image filenames.\n",
            "Found 740 validated image filenames.\n",
            "Found 740 validated image filenames.\n"
          ]
        }
      ]
    },
    {
      "cell_type": "code",
      "metadata": {
        "id": "QcH1HpFT0Gpk"
      },
      "source": [
        "male1name=\"male1name\"\n",
        "male2name=\"male2name\"\n",
        "female1name=\"female1name\"\n",
        "female2name=\"female2name\""
      ],
      "execution_count": null,
      "outputs": []
    },
    {
      "cell_type": "code",
      "metadata": {
        "id": "pUcmQRcoocE-"
      },
      "source": [
        "STEP_SIZE_TRAINmale=train_generatormale.n//train_generatormale.batch_size\n",
        "STEP_SIZE_VALIDmale=valid_generatormale.n//valid_generatormale.batch_size\n",
        "STEP_SIZE_TESTmale = test_generatormale.n// test_generatormale.batch_size\n",
        "\n",
        "STEP_SIZE_TRAINfemale=train_generatorfemale.n//train_generatorfemale.batch_size\n",
        "STEP_SIZE_VALIDfemale=valid_generatorfemale.n//valid_generatorfemale.batch_size\n",
        "STEP_SIZE_TESTfemale = test_generatorfemale.n// test_generatorfemale.batch_size"
      ],
      "execution_count": null,
      "outputs": []
    },
    {
      "cell_type": "markdown",
      "metadata": {
        "id": "GvfFtAsAgCv4"
      },
      "source": [
        "# **Train and test**"
      ]
    },
    {
      "cell_type": "code",
      "metadata": {
        "colab": {
          "base_uri": "https://localhost:8080/"
        },
        "id": "Jk8Mi2Vl5X83",
        "outputId": "860f3623-4a46-49cb-8b57-e3c1d83ffcbd"
      },
      "source": [
        "tf.keras.backend.clear_session()\n",
        "\n",
        "#Importing the Resnet50 model is possible if the below is uncommented\n",
        "model_fn=ResNet50(include_top=False, input_shape=(448,224,3),pooling='avg')\n",
        "\n",
        "#model_fn=InceptionV3(include_top=False, input_shape=(448,224,3),pooling='avg')\n",
        "model_fn.summary()\n",
        "\n",
        "\n",
        "model=tf.keras.models.Sequential()\n",
        "model.add(model_fn)\n",
        "\n",
        "model.add(L.Dense(2,activation='linear'))\n",
        "model.summary()"
      ],
      "execution_count": null,
      "outputs": [
        {
          "output_type": "stream",
          "name": "stdout",
          "text": [
            "Downloading data from https://storage.googleapis.com/tensorflow/keras-applications/resnet/resnet50_weights_tf_dim_ordering_tf_kernels_notop.h5\n",
            "94773248/94765736 [==============================] - 1s 0us/step\n",
            "94781440/94765736 [==============================] - 1s 0us/step\n",
            "Model: \"resnet50\"\n",
            "__________________________________________________________________________________________________\n",
            " Layer (type)                   Output Shape         Param #     Connected to                     \n",
            "==================================================================================================\n",
            " input_1 (InputLayer)           [(None, 448, 224, 3  0           []                               \n",
            "                                )]                                                                \n",
            "                                                                                                  \n",
            " conv1_pad (ZeroPadding2D)      (None, 454, 230, 3)  0           ['input_1[0][0]']                \n",
            "                                                                                                  \n",
            " conv1_conv (Conv2D)            (None, 224, 112, 64  9472        ['conv1_pad[0][0]']              \n",
            "                                )                                                                 \n",
            "                                                                                                  \n",
            " conv1_bn (BatchNormalization)  (None, 224, 112, 64  256         ['conv1_conv[0][0]']             \n",
            "                                )                                                                 \n",
            "                                                                                                  \n",
            " conv1_relu (Activation)        (None, 224, 112, 64  0           ['conv1_bn[0][0]']               \n",
            "                                )                                                                 \n",
            "                                                                                                  \n",
            " pool1_pad (ZeroPadding2D)      (None, 226, 114, 64  0           ['conv1_relu[0][0]']             \n",
            "                                )                                                                 \n",
            "                                                                                                  \n",
            " pool1_pool (MaxPooling2D)      (None, 112, 56, 64)  0           ['pool1_pad[0][0]']              \n",
            "                                                                                                  \n",
            " conv2_block1_1_conv (Conv2D)   (None, 112, 56, 64)  4160        ['pool1_pool[0][0]']             \n",
            "                                                                                                  \n",
            " conv2_block1_1_bn (BatchNormal  (None, 112, 56, 64)  256        ['conv2_block1_1_conv[0][0]']    \n",
            " ization)                                                                                         \n",
            "                                                                                                  \n",
            " conv2_block1_1_relu (Activatio  (None, 112, 56, 64)  0          ['conv2_block1_1_bn[0][0]']      \n",
            " n)                                                                                               \n",
            "                                                                                                  \n",
            " conv2_block1_2_conv (Conv2D)   (None, 112, 56, 64)  36928       ['conv2_block1_1_relu[0][0]']    \n",
            "                                                                                                  \n",
            " conv2_block1_2_bn (BatchNormal  (None, 112, 56, 64)  256        ['conv2_block1_2_conv[0][0]']    \n",
            " ization)                                                                                         \n",
            "                                                                                                  \n",
            " conv2_block1_2_relu (Activatio  (None, 112, 56, 64)  0          ['conv2_block1_2_bn[0][0]']      \n",
            " n)                                                                                               \n",
            "                                                                                                  \n",
            " conv2_block1_0_conv (Conv2D)   (None, 112, 56, 256  16640       ['pool1_pool[0][0]']             \n",
            "                                )                                                                 \n",
            "                                                                                                  \n",
            " conv2_block1_3_conv (Conv2D)   (None, 112, 56, 256  16640       ['conv2_block1_2_relu[0][0]']    \n",
            "                                )                                                                 \n",
            "                                                                                                  \n",
            " conv2_block1_0_bn (BatchNormal  (None, 112, 56, 256  1024       ['conv2_block1_0_conv[0][0]']    \n",
            " ization)                       )                                                                 \n",
            "                                                                                                  \n",
            " conv2_block1_3_bn (BatchNormal  (None, 112, 56, 256  1024       ['conv2_block1_3_conv[0][0]']    \n",
            " ization)                       )                                                                 \n",
            "                                                                                                  \n",
            " conv2_block1_add (Add)         (None, 112, 56, 256  0           ['conv2_block1_0_bn[0][0]',      \n",
            "                                )                                 'conv2_block1_3_bn[0][0]']      \n",
            "                                                                                                  \n",
            " conv2_block1_out (Activation)  (None, 112, 56, 256  0           ['conv2_block1_add[0][0]']       \n",
            "                                )                                                                 \n",
            "                                                                                                  \n",
            " conv2_block2_1_conv (Conv2D)   (None, 112, 56, 64)  16448       ['conv2_block1_out[0][0]']       \n",
            "                                                                                                  \n",
            " conv2_block2_1_bn (BatchNormal  (None, 112, 56, 64)  256        ['conv2_block2_1_conv[0][0]']    \n",
            " ization)                                                                                         \n",
            "                                                                                                  \n",
            " conv2_block2_1_relu (Activatio  (None, 112, 56, 64)  0          ['conv2_block2_1_bn[0][0]']      \n",
            " n)                                                                                               \n",
            "                                                                                                  \n",
            " conv2_block2_2_conv (Conv2D)   (None, 112, 56, 64)  36928       ['conv2_block2_1_relu[0][0]']    \n",
            "                                                                                                  \n",
            " conv2_block2_2_bn (BatchNormal  (None, 112, 56, 64)  256        ['conv2_block2_2_conv[0][0]']    \n",
            " ization)                                                                                         \n",
            "                                                                                                  \n",
            " conv2_block2_2_relu (Activatio  (None, 112, 56, 64)  0          ['conv2_block2_2_bn[0][0]']      \n",
            " n)                                                                                               \n",
            "                                                                                                  \n",
            " conv2_block2_3_conv (Conv2D)   (None, 112, 56, 256  16640       ['conv2_block2_2_relu[0][0]']    \n",
            "                                )                                                                 \n",
            "                                                                                                  \n",
            " conv2_block2_3_bn (BatchNormal  (None, 112, 56, 256  1024       ['conv2_block2_3_conv[0][0]']    \n",
            " ization)                       )                                                                 \n",
            "                                                                                                  \n",
            " conv2_block2_add (Add)         (None, 112, 56, 256  0           ['conv2_block1_out[0][0]',       \n",
            "                                )                                 'conv2_block2_3_bn[0][0]']      \n",
            "                                                                                                  \n",
            " conv2_block2_out (Activation)  (None, 112, 56, 256  0           ['conv2_block2_add[0][0]']       \n",
            "                                )                                                                 \n",
            "                                                                                                  \n",
            " conv2_block3_1_conv (Conv2D)   (None, 112, 56, 64)  16448       ['conv2_block2_out[0][0]']       \n",
            "                                                                                                  \n",
            " conv2_block3_1_bn (BatchNormal  (None, 112, 56, 64)  256        ['conv2_block3_1_conv[0][0]']    \n",
            " ization)                                                                                         \n",
            "                                                                                                  \n",
            " conv2_block3_1_relu (Activatio  (None, 112, 56, 64)  0          ['conv2_block3_1_bn[0][0]']      \n",
            " n)                                                                                               \n",
            "                                                                                                  \n",
            " conv2_block3_2_conv (Conv2D)   (None, 112, 56, 64)  36928       ['conv2_block3_1_relu[0][0]']    \n",
            "                                                                                                  \n",
            " conv2_block3_2_bn (BatchNormal  (None, 112, 56, 64)  256        ['conv2_block3_2_conv[0][0]']    \n",
            " ization)                                                                                         \n",
            "                                                                                                  \n",
            " conv2_block3_2_relu (Activatio  (None, 112, 56, 64)  0          ['conv2_block3_2_bn[0][0]']      \n",
            " n)                                                                                               \n",
            "                                                                                                  \n",
            " conv2_block3_3_conv (Conv2D)   (None, 112, 56, 256  16640       ['conv2_block3_2_relu[0][0]']    \n",
            "                                )                                                                 \n",
            "                                                                                                  \n",
            " conv2_block3_3_bn (BatchNormal  (None, 112, 56, 256  1024       ['conv2_block3_3_conv[0][0]']    \n",
            " ization)                       )                                                                 \n",
            "                                                                                                  \n",
            " conv2_block3_add (Add)         (None, 112, 56, 256  0           ['conv2_block2_out[0][0]',       \n",
            "                                )                                 'conv2_block3_3_bn[0][0]']      \n",
            "                                                                                                  \n",
            " conv2_block3_out (Activation)  (None, 112, 56, 256  0           ['conv2_block3_add[0][0]']       \n",
            "                                )                                                                 \n",
            "                                                                                                  \n",
            " conv3_block1_1_conv (Conv2D)   (None, 56, 28, 128)  32896       ['conv2_block3_out[0][0]']       \n",
            "                                                                                                  \n",
            " conv3_block1_1_bn (BatchNormal  (None, 56, 28, 128)  512        ['conv3_block1_1_conv[0][0]']    \n",
            " ization)                                                                                         \n",
            "                                                                                                  \n",
            " conv3_block1_1_relu (Activatio  (None, 56, 28, 128)  0          ['conv3_block1_1_bn[0][0]']      \n",
            " n)                                                                                               \n",
            "                                                                                                  \n",
            " conv3_block1_2_conv (Conv2D)   (None, 56, 28, 128)  147584      ['conv3_block1_1_relu[0][0]']    \n",
            "                                                                                                  \n",
            " conv3_block1_2_bn (BatchNormal  (None, 56, 28, 128)  512        ['conv3_block1_2_conv[0][0]']    \n",
            " ization)                                                                                         \n",
            "                                                                                                  \n",
            " conv3_block1_2_relu (Activatio  (None, 56, 28, 128)  0          ['conv3_block1_2_bn[0][0]']      \n",
            " n)                                                                                               \n",
            "                                                                                                  \n",
            " conv3_block1_0_conv (Conv2D)   (None, 56, 28, 512)  131584      ['conv2_block3_out[0][0]']       \n",
            "                                                                                                  \n",
            " conv3_block1_3_conv (Conv2D)   (None, 56, 28, 512)  66048       ['conv3_block1_2_relu[0][0]']    \n",
            "                                                                                                  \n",
            " conv3_block1_0_bn (BatchNormal  (None, 56, 28, 512)  2048       ['conv3_block1_0_conv[0][0]']    \n",
            " ization)                                                                                         \n",
            "                                                                                                  \n",
            " conv3_block1_3_bn (BatchNormal  (None, 56, 28, 512)  2048       ['conv3_block1_3_conv[0][0]']    \n",
            " ization)                                                                                         \n",
            "                                                                                                  \n",
            " conv3_block1_add (Add)         (None, 56, 28, 512)  0           ['conv3_block1_0_bn[0][0]',      \n",
            "                                                                  'conv3_block1_3_bn[0][0]']      \n",
            "                                                                                                  \n",
            " conv3_block1_out (Activation)  (None, 56, 28, 512)  0           ['conv3_block1_add[0][0]']       \n",
            "                                                                                                  \n",
            " conv3_block2_1_conv (Conv2D)   (None, 56, 28, 128)  65664       ['conv3_block1_out[0][0]']       \n",
            "                                                                                                  \n",
            " conv3_block2_1_bn (BatchNormal  (None, 56, 28, 128)  512        ['conv3_block2_1_conv[0][0]']    \n",
            " ization)                                                                                         \n",
            "                                                                                                  \n",
            " conv3_block2_1_relu (Activatio  (None, 56, 28, 128)  0          ['conv3_block2_1_bn[0][0]']      \n",
            " n)                                                                                               \n",
            "                                                                                                  \n",
            " conv3_block2_2_conv (Conv2D)   (None, 56, 28, 128)  147584      ['conv3_block2_1_relu[0][0]']    \n",
            "                                                                                                  \n",
            " conv3_block2_2_bn (BatchNormal  (None, 56, 28, 128)  512        ['conv3_block2_2_conv[0][0]']    \n",
            " ization)                                                                                         \n",
            "                                                                                                  \n",
            " conv3_block2_2_relu (Activatio  (None, 56, 28, 128)  0          ['conv3_block2_2_bn[0][0]']      \n",
            " n)                                                                                               \n",
            "                                                                                                  \n",
            " conv3_block2_3_conv (Conv2D)   (None, 56, 28, 512)  66048       ['conv3_block2_2_relu[0][0]']    \n",
            "                                                                                                  \n",
            " conv3_block2_3_bn (BatchNormal  (None, 56, 28, 512)  2048       ['conv3_block2_3_conv[0][0]']    \n",
            " ization)                                                                                         \n",
            "                                                                                                  \n",
            " conv3_block2_add (Add)         (None, 56, 28, 512)  0           ['conv3_block1_out[0][0]',       \n",
            "                                                                  'conv3_block2_3_bn[0][0]']      \n",
            "                                                                                                  \n",
            " conv3_block2_out (Activation)  (None, 56, 28, 512)  0           ['conv3_block2_add[0][0]']       \n",
            "                                                                                                  \n",
            " conv3_block3_1_conv (Conv2D)   (None, 56, 28, 128)  65664       ['conv3_block2_out[0][0]']       \n",
            "                                                                                                  \n",
            " conv3_block3_1_bn (BatchNormal  (None, 56, 28, 128)  512        ['conv3_block3_1_conv[0][0]']    \n",
            " ization)                                                                                         \n",
            "                                                                                                  \n",
            " conv3_block3_1_relu (Activatio  (None, 56, 28, 128)  0          ['conv3_block3_1_bn[0][0]']      \n",
            " n)                                                                                               \n",
            "                                                                                                  \n",
            " conv3_block3_2_conv (Conv2D)   (None, 56, 28, 128)  147584      ['conv3_block3_1_relu[0][0]']    \n",
            "                                                                                                  \n",
            " conv3_block3_2_bn (BatchNormal  (None, 56, 28, 128)  512        ['conv3_block3_2_conv[0][0]']    \n",
            " ization)                                                                                         \n",
            "                                                                                                  \n",
            " conv3_block3_2_relu (Activatio  (None, 56, 28, 128)  0          ['conv3_block3_2_bn[0][0]']      \n",
            " n)                                                                                               \n",
            "                                                                                                  \n",
            " conv3_block3_3_conv (Conv2D)   (None, 56, 28, 512)  66048       ['conv3_block3_2_relu[0][0]']    \n",
            "                                                                                                  \n",
            " conv3_block3_3_bn (BatchNormal  (None, 56, 28, 512)  2048       ['conv3_block3_3_conv[0][0]']    \n",
            " ization)                                                                                         \n",
            "                                                                                                  \n",
            " conv3_block3_add (Add)         (None, 56, 28, 512)  0           ['conv3_block2_out[0][0]',       \n",
            "                                                                  'conv3_block3_3_bn[0][0]']      \n",
            "                                                                                                  \n",
            " conv3_block3_out (Activation)  (None, 56, 28, 512)  0           ['conv3_block3_add[0][0]']       \n",
            "                                                                                                  \n",
            " conv3_block4_1_conv (Conv2D)   (None, 56, 28, 128)  65664       ['conv3_block3_out[0][0]']       \n",
            "                                                                                                  \n",
            " conv3_block4_1_bn (BatchNormal  (None, 56, 28, 128)  512        ['conv3_block4_1_conv[0][0]']    \n",
            " ization)                                                                                         \n",
            "                                                                                                  \n",
            " conv3_block4_1_relu (Activatio  (None, 56, 28, 128)  0          ['conv3_block4_1_bn[0][0]']      \n",
            " n)                                                                                               \n",
            "                                                                                                  \n",
            " conv3_block4_2_conv (Conv2D)   (None, 56, 28, 128)  147584      ['conv3_block4_1_relu[0][0]']    \n",
            "                                                                                                  \n",
            " conv3_block4_2_bn (BatchNormal  (None, 56, 28, 128)  512        ['conv3_block4_2_conv[0][0]']    \n",
            " ization)                                                                                         \n",
            "                                                                                                  \n",
            " conv3_block4_2_relu (Activatio  (None, 56, 28, 128)  0          ['conv3_block4_2_bn[0][0]']      \n",
            " n)                                                                                               \n",
            "                                                                                                  \n",
            " conv3_block4_3_conv (Conv2D)   (None, 56, 28, 512)  66048       ['conv3_block4_2_relu[0][0]']    \n",
            "                                                                                                  \n",
            " conv3_block4_3_bn (BatchNormal  (None, 56, 28, 512)  2048       ['conv3_block4_3_conv[0][0]']    \n",
            " ization)                                                                                         \n",
            "                                                                                                  \n",
            " conv3_block4_add (Add)         (None, 56, 28, 512)  0           ['conv3_block3_out[0][0]',       \n",
            "                                                                  'conv3_block4_3_bn[0][0]']      \n",
            "                                                                                                  \n",
            " conv3_block4_out (Activation)  (None, 56, 28, 512)  0           ['conv3_block4_add[0][0]']       \n",
            "                                                                                                  \n",
            " conv4_block1_1_conv (Conv2D)   (None, 28, 14, 256)  131328      ['conv3_block4_out[0][0]']       \n",
            "                                                                                                  \n",
            " conv4_block1_1_bn (BatchNormal  (None, 28, 14, 256)  1024       ['conv4_block1_1_conv[0][0]']    \n",
            " ization)                                                                                         \n",
            "                                                                                                  \n",
            " conv4_block1_1_relu (Activatio  (None, 28, 14, 256)  0          ['conv4_block1_1_bn[0][0]']      \n",
            " n)                                                                                               \n",
            "                                                                                                  \n",
            " conv4_block1_2_conv (Conv2D)   (None, 28, 14, 256)  590080      ['conv4_block1_1_relu[0][0]']    \n",
            "                                                                                                  \n",
            " conv4_block1_2_bn (BatchNormal  (None, 28, 14, 256)  1024       ['conv4_block1_2_conv[0][0]']    \n",
            " ization)                                                                                         \n",
            "                                                                                                  \n",
            " conv4_block1_2_relu (Activatio  (None, 28, 14, 256)  0          ['conv4_block1_2_bn[0][0]']      \n",
            " n)                                                                                               \n",
            "                                                                                                  \n",
            " conv4_block1_0_conv (Conv2D)   (None, 28, 14, 1024  525312      ['conv3_block4_out[0][0]']       \n",
            "                                )                                                                 \n",
            "                                                                                                  \n",
            " conv4_block1_3_conv (Conv2D)   (None, 28, 14, 1024  263168      ['conv4_block1_2_relu[0][0]']    \n",
            "                                )                                                                 \n",
            "                                                                                                  \n",
            " conv4_block1_0_bn (BatchNormal  (None, 28, 14, 1024  4096       ['conv4_block1_0_conv[0][0]']    \n",
            " ization)                       )                                                                 \n",
            "                                                                                                  \n",
            " conv4_block1_3_bn (BatchNormal  (None, 28, 14, 1024  4096       ['conv4_block1_3_conv[0][0]']    \n",
            " ization)                       )                                                                 \n",
            "                                                                                                  \n",
            " conv4_block1_add (Add)         (None, 28, 14, 1024  0           ['conv4_block1_0_bn[0][0]',      \n",
            "                                )                                 'conv4_block1_3_bn[0][0]']      \n",
            "                                                                                                  \n",
            " conv4_block1_out (Activation)  (None, 28, 14, 1024  0           ['conv4_block1_add[0][0]']       \n",
            "                                )                                                                 \n",
            "                                                                                                  \n",
            " conv4_block2_1_conv (Conv2D)   (None, 28, 14, 256)  262400      ['conv4_block1_out[0][0]']       \n",
            "                                                                                                  \n",
            " conv4_block2_1_bn (BatchNormal  (None, 28, 14, 256)  1024       ['conv4_block2_1_conv[0][0]']    \n",
            " ization)                                                                                         \n",
            "                                                                                                  \n",
            " conv4_block2_1_relu (Activatio  (None, 28, 14, 256)  0          ['conv4_block2_1_bn[0][0]']      \n",
            " n)                                                                                               \n",
            "                                                                                                  \n",
            " conv4_block2_2_conv (Conv2D)   (None, 28, 14, 256)  590080      ['conv4_block2_1_relu[0][0]']    \n",
            "                                                                                                  \n",
            " conv4_block2_2_bn (BatchNormal  (None, 28, 14, 256)  1024       ['conv4_block2_2_conv[0][0]']    \n",
            " ization)                                                                                         \n",
            "                                                                                                  \n",
            " conv4_block2_2_relu (Activatio  (None, 28, 14, 256)  0          ['conv4_block2_2_bn[0][0]']      \n",
            " n)                                                                                               \n",
            "                                                                                                  \n",
            " conv4_block2_3_conv (Conv2D)   (None, 28, 14, 1024  263168      ['conv4_block2_2_relu[0][0]']    \n",
            "                                )                                                                 \n",
            "                                                                                                  \n",
            " conv4_block2_3_bn (BatchNormal  (None, 28, 14, 1024  4096       ['conv4_block2_3_conv[0][0]']    \n",
            " ization)                       )                                                                 \n",
            "                                                                                                  \n",
            " conv4_block2_add (Add)         (None, 28, 14, 1024  0           ['conv4_block1_out[0][0]',       \n",
            "                                )                                 'conv4_block2_3_bn[0][0]']      \n",
            "                                                                                                  \n",
            " conv4_block2_out (Activation)  (None, 28, 14, 1024  0           ['conv4_block2_add[0][0]']       \n",
            "                                )                                                                 \n",
            "                                                                                                  \n",
            " conv4_block3_1_conv (Conv2D)   (None, 28, 14, 256)  262400      ['conv4_block2_out[0][0]']       \n",
            "                                                                                                  \n",
            " conv4_block3_1_bn (BatchNormal  (None, 28, 14, 256)  1024       ['conv4_block3_1_conv[0][0]']    \n",
            " ization)                                                                                         \n",
            "                                                                                                  \n",
            " conv4_block3_1_relu (Activatio  (None, 28, 14, 256)  0          ['conv4_block3_1_bn[0][0]']      \n",
            " n)                                                                                               \n",
            "                                                                                                  \n",
            " conv4_block3_2_conv (Conv2D)   (None, 28, 14, 256)  590080      ['conv4_block3_1_relu[0][0]']    \n",
            "                                                                                                  \n",
            " conv4_block3_2_bn (BatchNormal  (None, 28, 14, 256)  1024       ['conv4_block3_2_conv[0][0]']    \n",
            " ization)                                                                                         \n",
            "                                                                                                  \n",
            " conv4_block3_2_relu (Activatio  (None, 28, 14, 256)  0          ['conv4_block3_2_bn[0][0]']      \n",
            " n)                                                                                               \n",
            "                                                                                                  \n",
            " conv4_block3_3_conv (Conv2D)   (None, 28, 14, 1024  263168      ['conv4_block3_2_relu[0][0]']    \n",
            "                                )                                                                 \n",
            "                                                                                                  \n",
            " conv4_block3_3_bn (BatchNormal  (None, 28, 14, 1024  4096       ['conv4_block3_3_conv[0][0]']    \n",
            " ization)                       )                                                                 \n",
            "                                                                                                  \n",
            " conv4_block3_add (Add)         (None, 28, 14, 1024  0           ['conv4_block2_out[0][0]',       \n",
            "                                )                                 'conv4_block3_3_bn[0][0]']      \n",
            "                                                                                                  \n",
            " conv4_block3_out (Activation)  (None, 28, 14, 1024  0           ['conv4_block3_add[0][0]']       \n",
            "                                )                                                                 \n",
            "                                                                                                  \n",
            " conv4_block4_1_conv (Conv2D)   (None, 28, 14, 256)  262400      ['conv4_block3_out[0][0]']       \n",
            "                                                                                                  \n",
            " conv4_block4_1_bn (BatchNormal  (None, 28, 14, 256)  1024       ['conv4_block4_1_conv[0][0]']    \n",
            " ization)                                                                                         \n",
            "                                                                                                  \n",
            " conv4_block4_1_relu (Activatio  (None, 28, 14, 256)  0          ['conv4_block4_1_bn[0][0]']      \n",
            " n)                                                                                               \n",
            "                                                                                                  \n",
            " conv4_block4_2_conv (Conv2D)   (None, 28, 14, 256)  590080      ['conv4_block4_1_relu[0][0]']    \n",
            "                                                                                                  \n",
            " conv4_block4_2_bn (BatchNormal  (None, 28, 14, 256)  1024       ['conv4_block4_2_conv[0][0]']    \n",
            " ization)                                                                                         \n",
            "                                                                                                  \n",
            " conv4_block4_2_relu (Activatio  (None, 28, 14, 256)  0          ['conv4_block4_2_bn[0][0]']      \n",
            " n)                                                                                               \n",
            "                                                                                                  \n",
            " conv4_block4_3_conv (Conv2D)   (None, 28, 14, 1024  263168      ['conv4_block4_2_relu[0][0]']    \n",
            "                                )                                                                 \n",
            "                                                                                                  \n",
            " conv4_block4_3_bn (BatchNormal  (None, 28, 14, 1024  4096       ['conv4_block4_3_conv[0][0]']    \n",
            " ization)                       )                                                                 \n",
            "                                                                                                  \n",
            " conv4_block4_add (Add)         (None, 28, 14, 1024  0           ['conv4_block3_out[0][0]',       \n",
            "                                )                                 'conv4_block4_3_bn[0][0]']      \n",
            "                                                                                                  \n",
            " conv4_block4_out (Activation)  (None, 28, 14, 1024  0           ['conv4_block4_add[0][0]']       \n",
            "                                )                                                                 \n",
            "                                                                                                  \n",
            " conv4_block5_1_conv (Conv2D)   (None, 28, 14, 256)  262400      ['conv4_block4_out[0][0]']       \n",
            "                                                                                                  \n",
            " conv4_block5_1_bn (BatchNormal  (None, 28, 14, 256)  1024       ['conv4_block5_1_conv[0][0]']    \n",
            " ization)                                                                                         \n",
            "                                                                                                  \n",
            " conv4_block5_1_relu (Activatio  (None, 28, 14, 256)  0          ['conv4_block5_1_bn[0][0]']      \n",
            " n)                                                                                               \n",
            "                                                                                                  \n",
            " conv4_block5_2_conv (Conv2D)   (None, 28, 14, 256)  590080      ['conv4_block5_1_relu[0][0]']    \n",
            "                                                                                                  \n",
            " conv4_block5_2_bn (BatchNormal  (None, 28, 14, 256)  1024       ['conv4_block5_2_conv[0][0]']    \n",
            " ization)                                                                                         \n",
            "                                                                                                  \n",
            " conv4_block5_2_relu (Activatio  (None, 28, 14, 256)  0          ['conv4_block5_2_bn[0][0]']      \n",
            " n)                                                                                               \n",
            "                                                                                                  \n",
            " conv4_block5_3_conv (Conv2D)   (None, 28, 14, 1024  263168      ['conv4_block5_2_relu[0][0]']    \n",
            "                                )                                                                 \n",
            "                                                                                                  \n",
            " conv4_block5_3_bn (BatchNormal  (None, 28, 14, 1024  4096       ['conv4_block5_3_conv[0][0]']    \n",
            " ization)                       )                                                                 \n",
            "                                                                                                  \n",
            " conv4_block5_add (Add)         (None, 28, 14, 1024  0           ['conv4_block4_out[0][0]',       \n",
            "                                )                                 'conv4_block5_3_bn[0][0]']      \n",
            "                                                                                                  \n",
            " conv4_block5_out (Activation)  (None, 28, 14, 1024  0           ['conv4_block5_add[0][0]']       \n",
            "                                )                                                                 \n",
            "                                                                                                  \n",
            " conv4_block6_1_conv (Conv2D)   (None, 28, 14, 256)  262400      ['conv4_block5_out[0][0]']       \n",
            "                                                                                                  \n",
            " conv4_block6_1_bn (BatchNormal  (None, 28, 14, 256)  1024       ['conv4_block6_1_conv[0][0]']    \n",
            " ization)                                                                                         \n",
            "                                                                                                  \n",
            " conv4_block6_1_relu (Activatio  (None, 28, 14, 256)  0          ['conv4_block6_1_bn[0][0]']      \n",
            " n)                                                                                               \n",
            "                                                                                                  \n",
            " conv4_block6_2_conv (Conv2D)   (None, 28, 14, 256)  590080      ['conv4_block6_1_relu[0][0]']    \n",
            "                                                                                                  \n",
            " conv4_block6_2_bn (BatchNormal  (None, 28, 14, 256)  1024       ['conv4_block6_2_conv[0][0]']    \n",
            " ization)                                                                                         \n",
            "                                                                                                  \n",
            " conv4_block6_2_relu (Activatio  (None, 28, 14, 256)  0          ['conv4_block6_2_bn[0][0]']      \n",
            " n)                                                                                               \n",
            "                                                                                                  \n",
            " conv4_block6_3_conv (Conv2D)   (None, 28, 14, 1024  263168      ['conv4_block6_2_relu[0][0]']    \n",
            "                                )                                                                 \n",
            "                                                                                                  \n",
            " conv4_block6_3_bn (BatchNormal  (None, 28, 14, 1024  4096       ['conv4_block6_3_conv[0][0]']    \n",
            " ization)                       )                                                                 \n",
            "                                                                                                  \n",
            " conv4_block6_add (Add)         (None, 28, 14, 1024  0           ['conv4_block5_out[0][0]',       \n",
            "                                )                                 'conv4_block6_3_bn[0][0]']      \n",
            "                                                                                                  \n",
            " conv4_block6_out (Activation)  (None, 28, 14, 1024  0           ['conv4_block6_add[0][0]']       \n",
            "                                )                                                                 \n",
            "                                                                                                  \n",
            " conv5_block1_1_conv (Conv2D)   (None, 14, 7, 512)   524800      ['conv4_block6_out[0][0]']       \n",
            "                                                                                                  \n",
            " conv5_block1_1_bn (BatchNormal  (None, 14, 7, 512)  2048        ['conv5_block1_1_conv[0][0]']    \n",
            " ization)                                                                                         \n",
            "                                                                                                  \n",
            " conv5_block1_1_relu (Activatio  (None, 14, 7, 512)  0           ['conv5_block1_1_bn[0][0]']      \n",
            " n)                                                                                               \n",
            "                                                                                                  \n",
            " conv5_block1_2_conv (Conv2D)   (None, 14, 7, 512)   2359808     ['conv5_block1_1_relu[0][0]']    \n",
            "                                                                                                  \n",
            " conv5_block1_2_bn (BatchNormal  (None, 14, 7, 512)  2048        ['conv5_block1_2_conv[0][0]']    \n",
            " ization)                                                                                         \n",
            "                                                                                                  \n",
            " conv5_block1_2_relu (Activatio  (None, 14, 7, 512)  0           ['conv5_block1_2_bn[0][0]']      \n",
            " n)                                                                                               \n",
            "                                                                                                  \n",
            " conv5_block1_0_conv (Conv2D)   (None, 14, 7, 2048)  2099200     ['conv4_block6_out[0][0]']       \n",
            "                                                                                                  \n",
            " conv5_block1_3_conv (Conv2D)   (None, 14, 7, 2048)  1050624     ['conv5_block1_2_relu[0][0]']    \n",
            "                                                                                                  \n",
            " conv5_block1_0_bn (BatchNormal  (None, 14, 7, 2048)  8192       ['conv5_block1_0_conv[0][0]']    \n",
            " ization)                                                                                         \n",
            "                                                                                                  \n",
            " conv5_block1_3_bn (BatchNormal  (None, 14, 7, 2048)  8192       ['conv5_block1_3_conv[0][0]']    \n",
            " ization)                                                                                         \n",
            "                                                                                                  \n",
            " conv5_block1_add (Add)         (None, 14, 7, 2048)  0           ['conv5_block1_0_bn[0][0]',      \n",
            "                                                                  'conv5_block1_3_bn[0][0]']      \n",
            "                                                                                                  \n",
            " conv5_block1_out (Activation)  (None, 14, 7, 2048)  0           ['conv5_block1_add[0][0]']       \n",
            "                                                                                                  \n",
            " conv5_block2_1_conv (Conv2D)   (None, 14, 7, 512)   1049088     ['conv5_block1_out[0][0]']       \n",
            "                                                                                                  \n",
            " conv5_block2_1_bn (BatchNormal  (None, 14, 7, 512)  2048        ['conv5_block2_1_conv[0][0]']    \n",
            " ization)                                                                                         \n",
            "                                                                                                  \n",
            " conv5_block2_1_relu (Activatio  (None, 14, 7, 512)  0           ['conv5_block2_1_bn[0][0]']      \n",
            " n)                                                                                               \n",
            "                                                                                                  \n",
            " conv5_block2_2_conv (Conv2D)   (None, 14, 7, 512)   2359808     ['conv5_block2_1_relu[0][0]']    \n",
            "                                                                                                  \n",
            " conv5_block2_2_bn (BatchNormal  (None, 14, 7, 512)  2048        ['conv5_block2_2_conv[0][0]']    \n",
            " ization)                                                                                         \n",
            "                                                                                                  \n",
            " conv5_block2_2_relu (Activatio  (None, 14, 7, 512)  0           ['conv5_block2_2_bn[0][0]']      \n",
            " n)                                                                                               \n",
            "                                                                                                  \n",
            " conv5_block2_3_conv (Conv2D)   (None, 14, 7, 2048)  1050624     ['conv5_block2_2_relu[0][0]']    \n",
            "                                                                                                  \n",
            " conv5_block2_3_bn (BatchNormal  (None, 14, 7, 2048)  8192       ['conv5_block2_3_conv[0][0]']    \n",
            " ization)                                                                                         \n",
            "                                                                                                  \n",
            " conv5_block2_add (Add)         (None, 14, 7, 2048)  0           ['conv5_block1_out[0][0]',       \n",
            "                                                                  'conv5_block2_3_bn[0][0]']      \n",
            "                                                                                                  \n",
            " conv5_block2_out (Activation)  (None, 14, 7, 2048)  0           ['conv5_block2_add[0][0]']       \n",
            "                                                                                                  \n",
            " conv5_block3_1_conv (Conv2D)   (None, 14, 7, 512)   1049088     ['conv5_block2_out[0][0]']       \n",
            "                                                                                                  \n",
            " conv5_block3_1_bn (BatchNormal  (None, 14, 7, 512)  2048        ['conv5_block3_1_conv[0][0]']    \n",
            " ization)                                                                                         \n",
            "                                                                                                  \n",
            " conv5_block3_1_relu (Activatio  (None, 14, 7, 512)  0           ['conv5_block3_1_bn[0][0]']      \n",
            " n)                                                                                               \n",
            "                                                                                                  \n",
            " conv5_block3_2_conv (Conv2D)   (None, 14, 7, 512)   2359808     ['conv5_block3_1_relu[0][0]']    \n",
            "                                                                                                  \n",
            " conv5_block3_2_bn (BatchNormal  (None, 14, 7, 512)  2048        ['conv5_block3_2_conv[0][0]']    \n",
            " ization)                                                                                         \n",
            "                                                                                                  \n",
            " conv5_block3_2_relu (Activatio  (None, 14, 7, 512)  0           ['conv5_block3_2_bn[0][0]']      \n",
            " n)                                                                                               \n",
            "                                                                                                  \n",
            " conv5_block3_3_conv (Conv2D)   (None, 14, 7, 2048)  1050624     ['conv5_block3_2_relu[0][0]']    \n",
            "                                                                                                  \n",
            " conv5_block3_3_bn (BatchNormal  (None, 14, 7, 2048)  8192       ['conv5_block3_3_conv[0][0]']    \n",
            " ization)                                                                                         \n",
            "                                                                                                  \n",
            " conv5_block3_add (Add)         (None, 14, 7, 2048)  0           ['conv5_block2_out[0][0]',       \n",
            "                                                                  'conv5_block3_3_bn[0][0]']      \n",
            "                                                                                                  \n",
            " conv5_block3_out (Activation)  (None, 14, 7, 2048)  0           ['conv5_block3_add[0][0]']       \n",
            "                                                                                                  \n",
            " avg_pool (GlobalAveragePooling  (None, 2048)        0           ['conv5_block3_out[0][0]']       \n",
            " 2D)                                                                                              \n",
            "                                                                                                  \n",
            "==================================================================================================\n",
            "Total params: 23,587,712\n",
            "Trainable params: 23,534,592\n",
            "Non-trainable params: 53,120\n",
            "__________________________________________________________________________________________________\n",
            "Model: \"sequential\"\n",
            "_________________________________________________________________\n",
            " Layer (type)                Output Shape              Param #   \n",
            "=================================================================\n",
            " resnet50 (Functional)       (None, 2048)              23587712  \n",
            "                                                                 \n",
            " dense (Dense)               (None, 2)                 4098      \n",
            "                                                                 \n",
            "=================================================================\n",
            "Total params: 23,591,810\n",
            "Trainable params: 23,538,690\n",
            "Non-trainable params: 53,120\n",
            "_________________________________________________________________\n"
          ]
        }
      ]
    },
    {
      "cell_type": "code",
      "metadata": {
        "colab": {
          "base_uri": "https://localhost:8080/"
        },
        "id": "e6JEHqMP58Rq",
        "outputId": "e2ab7c24-bec4-449a-c653-3e4269d83edf"
      },
      "source": [
        "#set hyperparamerts for learning rate, early stopping and checkpoints\n",
        "rlr=ReduceLROnPlateau(monitor='val_loss', factor=0.1,\n",
        "                              patience=5, min_lr=0.00001, min_delta=0.001)\n",
        "ckpt=ModelCheckpoint('models/checkpoint_'+male1name, monitor='val_loss', verbose=1, save_best_only=True, mode='min')\n",
        "es=EarlyStopping(monitor='val_loss', mode='min', verbose=1, patience=20, min_delta=0.0001)\n",
        "\n",
        "\n",
        "\n",
        "#compile the model\n",
        "model.compile(optimizer=Adam(learning_rate=0.001),\n",
        "                loss='mean_squared_error',\n",
        "                metrics=['mean_absolute_error'])\n",
        "\n",
        "\n",
        "#fit the generator\n",
        "history=model.fit_generator(generator=train_generatormale,\n",
        "                           steps_per_epoch=STEP_SIZE_TRAINmale,\n",
        "                           validation_data=valid_generatormale,\n",
        "                           validation_steps=STEP_SIZE_VALIDmale,\n",
        "                           validation_freq=1,\n",
        "                           epochs=50,\n",
        "                           callbacks=[rlr,ckpt,es]\n",
        "                           )\n",
        "\n",
        "# save weights\n",
        "model.save_weights('/content/drive/MyDrive/Thesis_sep_2021/'+male1name+'.h5')"
      ],
      "execution_count": null,
      "outputs": [
        {
          "metadata": {
            "tags": null
          },
          "name": "stderr",
          "output_type": "stream",
          "text": [
            "/usr/local/lib/python3.7/dist-packages/ipykernel_launcher.py:25: UserWarning: `Model.fit_generator` is deprecated and will be removed in a future version. Please use `Model.fit`, which supports generators.\n"
          ]
        },
        {
          "metadata": {
            "tags": null
          },
          "name": "stdout",
          "output_type": "stream",
          "text": [
            "Epoch 1/50\n",
            "4995/4995 [==============================] - ETA: 0s - loss: 6.4078 - mean_absolute_error: 1.6889\n",
            "Epoch 00001: val_loss improved from inf to 7439.10840, saving model to models/checkpoint_male1name\n",
            "INFO:tensorflow:Assets written to: models/checkpoint_male1name/assets\n"
          ]
        },
        {
          "metadata": {
            "tags": null
          },
          "name": "stderr",
          "output_type": "stream",
          "text": [
            "/usr/local/lib/python3.7/dist-packages/keras/engine/functional.py:1410: CustomMaskWarning: Custom mask layers require a config and must override get_config. When loading, the custom mask layer must be passed to the custom_objects argument.\n",
            "  layer_config = serialize_layer_fn(layer)\n"
          ]
        },
        {
          "metadata": {
            "tags": null
          },
          "name": "stdout",
          "output_type": "stream",
          "text": [
            "\b\b\b\b\b\b\b\b\b\b\b\b\b\b\b\b\b\b\b\b\b\b\b\b\b\b\b\b\b\b\b\b\b\b\b\b\b\b\b\b\b\b\b\b\b\b\b\b\b\b\b\b\b\b\b\b\b\b\b\b\b\b\b\b\b\b\b\b\b\b\b\b\b\b\b\b\b\b\b\b\b\b\b\b\b\b\b\b\b\b\b\b\b\b\b\b\b\r4995/4995 [==============================] - 711s 138ms/step - loss: 6.4078 - mean_absolute_error: 1.6889 - val_loss: 7439.1084 - val_mean_absolute_error: 67.3696 - lr: 0.0010\n"
          ]
        },
        {
          "metadata": {
            "tags": null
          },
          "name": "stderr",
          "output_type": "stream",
          "text": [
            "/usr/local/lib/python3.7/dist-packages/keras/saving/saved_model/layer_serialization.py:112: CustomMaskWarning: Custom mask layers require a config and must override get_config. When loading, the custom mask layer must be passed to the custom_objects argument.\n",
            "  return generic_utils.serialize_keras_object(obj)\n"
          ]
        },
        {
          "metadata": {
            "tags": null
          },
          "name": "stdout",
          "output_type": "stream",
          "text": [
            "Epoch 2/50\n",
            "4995/4995 [==============================] - ETA: 0s - loss: 3.1196 - mean_absolute_error: 1.2190\n",
            "Epoch 00002: val_loss improved from 7439.10840 to 113.11639, saving model to models/checkpoint_male1name\n",
            "INFO:tensorflow:Assets written to: models/checkpoint_male1name/assets\n"
          ]
        },
        {
          "metadata": {
            "tags": null
          },
          "name": "stderr",
          "output_type": "stream",
          "text": [
            "/usr/local/lib/python3.7/dist-packages/keras/engine/functional.py:1410: CustomMaskWarning: Custom mask layers require a config and must override get_config. When loading, the custom mask layer must be passed to the custom_objects argument.\n",
            "  layer_config = serialize_layer_fn(layer)\n"
          ]
        },
        {
          "metadata": {
            "tags": null
          },
          "name": "stdout",
          "output_type": "stream",
          "text": [
            "\b\b\b\b\b\b\b\b\b\b\b\b\b\b\b\b\b\b\b\b\b\b\b\b\b\b\b\b\b\b\b\b\b\b\b\b\b\b\b\b\b\b\b\b\b\b\b\b\b\b\b\b\b\b\b\b\b\b\b\b\b\b\b\b\b\b\b\b\b\b\b\b\b\b\b\b\b\b\b\b\b\b\b\b\b\b\b\b\b\b\b\b\b\b\b\b\b\r4995/4995 [==============================] - 689s 138ms/step - loss: 3.1196 - mean_absolute_error: 1.2190 - val_loss: 113.1164 - val_mean_absolute_error: 7.7260 - lr: 0.0010\n"
          ]
        },
        {
          "metadata": {
            "tags": null
          },
          "name": "stderr",
          "output_type": "stream",
          "text": [
            "/usr/local/lib/python3.7/dist-packages/keras/saving/saved_model/layer_serialization.py:112: CustomMaskWarning: Custom mask layers require a config and must override get_config. When loading, the custom mask layer must be passed to the custom_objects argument.\n",
            "  return generic_utils.serialize_keras_object(obj)\n"
          ]
        },
        {
          "metadata": {
            "tags": null
          },
          "name": "stdout",
          "output_type": "stream",
          "text": [
            "Epoch 3/50\n",
            "4995/4995 [==============================] - ETA: 0s - loss: 2.2531 - mean_absolute_error: 1.0428\n",
            "Epoch 00003: val_loss did not improve from 113.11639\n",
            "4995/4995 [==============================] - 663s 133ms/step - loss: 2.2531 - mean_absolute_error: 1.0428 - val_loss: 3067.7590 - val_mean_absolute_error: 43.4723 - lr: 0.0010\n",
            "Epoch 4/50\n",
            "4995/4995 [==============================] - ETA: 0s - loss: 1.8154 - mean_absolute_error: 0.9358\n",
            "Epoch 00004: val_loss did not improve from 113.11639\n",
            "4995/4995 [==============================] - 662s 132ms/step - loss: 1.8154 - mean_absolute_error: 0.9358 - val_loss: 1080.1207 - val_mean_absolute_error: 24.4411 - lr: 0.0010\n",
            "Epoch 5/50\n",
            "4995/4995 [==============================] - ETA: 0s - loss: 1.4967 - mean_absolute_error: 0.8537\n",
            "Epoch 00005: val_loss improved from 113.11639 to 5.15510, saving model to models/checkpoint_male1name\n",
            "INFO:tensorflow:Assets written to: models/checkpoint_male1name/assets\n"
          ]
        },
        {
          "metadata": {
            "tags": null
          },
          "name": "stderr",
          "output_type": "stream",
          "text": [
            "/usr/local/lib/python3.7/dist-packages/keras/engine/functional.py:1410: CustomMaskWarning: Custom mask layers require a config and must override get_config. When loading, the custom mask layer must be passed to the custom_objects argument.\n",
            "  layer_config = serialize_layer_fn(layer)\n"
          ]
        },
        {
          "metadata": {
            "tags": null
          },
          "name": "stdout",
          "output_type": "stream",
          "text": [
            "\b\b\b\b\b\b\b\b\b\b\b\b\b\b\b\b\b\b\b\b\b\b\b\b\b\b\b\b\b\b\b\b\b\b\b\b\b\b\b\b\b\b\b\b\b\b\b\b\b\b\b\b\b\b\b\b\b\b\b\b\b\b\b\b\b\b\b\b\b\b\b\b\b\b\b\b\b\b\b\b\b\b\b\b\b\b\b\b\b\b\b\b\b\b\b\b\b\r4995/4995 [==============================] - 688s 138ms/step - loss: 1.4967 - mean_absolute_error: 0.8537 - val_loss: 5.1551 - val_mean_absolute_error: 1.6322 - lr: 0.0010\n"
          ]
        },
        {
          "metadata": {
            "tags": null
          },
          "name": "stderr",
          "output_type": "stream",
          "text": [
            "/usr/local/lib/python3.7/dist-packages/keras/saving/saved_model/layer_serialization.py:112: CustomMaskWarning: Custom mask layers require a config and must override get_config. When loading, the custom mask layer must be passed to the custom_objects argument.\n",
            "  return generic_utils.serialize_keras_object(obj)\n"
          ]
        },
        {
          "metadata": {
            "tags": null
          },
          "name": "stdout",
          "output_type": "stream",
          "text": [
            "Epoch 6/50\n",
            "4995/4995 [==============================] - ETA: 0s - loss: 1.2819 - mean_absolute_error: 0.7919\n",
            "Epoch 00006: val_loss did not improve from 5.15510\n",
            "4995/4995 [==============================] - 666s 133ms/step - loss: 1.2819 - mean_absolute_error: 0.7919 - val_loss: 1426.7554 - val_mean_absolute_error: 28.9547 - lr: 0.0010\n",
            "Epoch 7/50\n",
            "4995/4995 [==============================] - ETA: 0s - loss: 1.1000 - mean_absolute_error: 0.7384\n",
            "Epoch 00007: val_loss did not improve from 5.15510\n",
            "4995/4995 [==============================] - 664s 133ms/step - loss: 1.1000 - mean_absolute_error: 0.7384 - val_loss: 759.2838 - val_mean_absolute_error: 20.6417 - lr: 0.0010\n",
            "Epoch 8/50\n",
            "4995/4995 [==============================] - ETA: 0s - loss: 0.9762 - mean_absolute_error: 0.6965\n",
            "Epoch 00008: val_loss did not improve from 5.15510\n",
            "4995/4995 [==============================] - 666s 133ms/step - loss: 0.9762 - mean_absolute_error: 0.6965 - val_loss: 7.4261 - val_mean_absolute_error: 1.7574 - lr: 0.0010\n",
            "Epoch 9/50\n",
            "4995/4995 [==============================] - ETA: 0s - loss: 0.8551 - mean_absolute_error: 0.6529\n",
            "Epoch 00009: val_loss did not improve from 5.15510\n",
            "4995/4995 [==============================] - 666s 133ms/step - loss: 0.8551 - mean_absolute_error: 0.6529 - val_loss: 833.2872 - val_mean_absolute_error: 21.3070 - lr: 0.0010\n",
            "Epoch 10/50\n",
            "4995/4995 [==============================] - ETA: 0s - loss: 0.7815 - mean_absolute_error: 0.6227\n",
            "Epoch 00010: val_loss did not improve from 5.15510\n",
            "4995/4995 [==============================] - 666s 133ms/step - loss: 0.7815 - mean_absolute_error: 0.6227 - val_loss: 10.7599 - val_mean_absolute_error: 2.2472 - lr: 0.0010\n",
            "Epoch 11/50\n",
            "4995/4995 [==============================] - ETA: 0s - loss: 0.3854 - mean_absolute_error: 0.4558\n",
            "Epoch 00011: val_loss improved from 5.15510 to 1.40944, saving model to models/checkpoint_male1name\n",
            "INFO:tensorflow:Assets written to: models/checkpoint_male1name/assets\n"
          ]
        },
        {
          "metadata": {
            "tags": null
          },
          "name": "stderr",
          "output_type": "stream",
          "text": [
            "/usr/local/lib/python3.7/dist-packages/keras/engine/functional.py:1410: CustomMaskWarning: Custom mask layers require a config and must override get_config. When loading, the custom mask layer must be passed to the custom_objects argument.\n",
            "  layer_config = serialize_layer_fn(layer)\n"
          ]
        },
        {
          "metadata": {
            "tags": null
          },
          "name": "stdout",
          "output_type": "stream",
          "text": [
            "\b\b\b\b\b\b\b\b\b\b\b\b\b\b\b\b\b\b\b\b\b\b\b\b\b\b\b\b\b\b\b\b\b\b\b\b\b\b\b\b\b\b\b\b\b\b\b\b\b\b\b\b\b\b\b\b\b\b\b\b\b\b\b\b\b\b\b\b\b\b\b\b\b\b\b\b\b\b\b\b\b\b\b\b\b\b\b\b\b\b\b\b\b\b\b\b\b\r4995/4995 [==============================] - 692s 139ms/step - loss: 0.3854 - mean_absolute_error: 0.4558 - val_loss: 1.4094 - val_mean_absolute_error: 0.8285 - lr: 1.0000e-04\n"
          ]
        },
        {
          "metadata": {
            "tags": null
          },
          "name": "stderr",
          "output_type": "stream",
          "text": [
            "/usr/local/lib/python3.7/dist-packages/keras/saving/saved_model/layer_serialization.py:112: CustomMaskWarning: Custom mask layers require a config and must override get_config. When loading, the custom mask layer must be passed to the custom_objects argument.\n",
            "  return generic_utils.serialize_keras_object(obj)\n"
          ]
        },
        {
          "metadata": {
            "tags": null
          },
          "name": "stdout",
          "output_type": "stream",
          "text": [
            "Epoch 12/50\n",
            "4995/4995 [==============================] - ETA: 0s - loss: 0.3190 - mean_absolute_error: 0.4178\n",
            "Epoch 00012: val_loss improved from 1.40944 to 1.18662, saving model to models/checkpoint_male1name\n",
            "INFO:tensorflow:Assets written to: models/checkpoint_male1name/assets\n"
          ]
        },
        {
          "metadata": {
            "tags": null
          },
          "name": "stderr",
          "output_type": "stream",
          "text": [
            "/usr/local/lib/python3.7/dist-packages/keras/engine/functional.py:1410: CustomMaskWarning: Custom mask layers require a config and must override get_config. When loading, the custom mask layer must be passed to the custom_objects argument.\n",
            "  layer_config = serialize_layer_fn(layer)\n"
          ]
        },
        {
          "metadata": {
            "tags": null
          },
          "name": "stdout",
          "output_type": "stream",
          "text": [
            "\b\b\b\b\b\b\b\b\b\b\b\b\b\b\b\b\b\b\b\b\b\b\b\b\b\b\b\b\b\b\b\b\b\b\b\b\b\b\b\b\b\b\b\b\b\b\b\b\b\b\b\b\b\b\b\b\b\b\b\b\b\b\b\b\b\b\b\b\b\b\b\b\b\b\b\b\b\b\b\b\b\b\b\b\b\b\b\b\b\b\b\b\b\b\b\b\b\r4995/4995 [==============================] - 693s 139ms/step - loss: 0.3190 - mean_absolute_error: 0.4178 - val_loss: 1.1866 - val_mean_absolute_error: 0.7814 - lr: 1.0000e-04\n"
          ]
        },
        {
          "metadata": {
            "tags": null
          },
          "name": "stderr",
          "output_type": "stream",
          "text": [
            "/usr/local/lib/python3.7/dist-packages/keras/saving/saved_model/layer_serialization.py:112: CustomMaskWarning: Custom mask layers require a config and must override get_config. When loading, the custom mask layer must be passed to the custom_objects argument.\n",
            "  return generic_utils.serialize_keras_object(obj)\n"
          ]
        },
        {
          "metadata": {
            "tags": null
          },
          "name": "stdout",
          "output_type": "stream",
          "text": [
            "Epoch 13/50\n",
            "4995/4995 [==============================] - ETA: 0s - loss: 0.2814 - mean_absolute_error: 0.3944\n",
            "Epoch 00013: val_loss improved from 1.18662 to 1.17175, saving model to models/checkpoint_male1name\n",
            "INFO:tensorflow:Assets written to: models/checkpoint_male1name/assets\n"
          ]
        },
        {
          "metadata": {
            "tags": null
          },
          "name": "stderr",
          "output_type": "stream",
          "text": [
            "/usr/local/lib/python3.7/dist-packages/keras/engine/functional.py:1410: CustomMaskWarning: Custom mask layers require a config and must override get_config. When loading, the custom mask layer must be passed to the custom_objects argument.\n",
            "  layer_config = serialize_layer_fn(layer)\n"
          ]
        },
        {
          "metadata": {
            "tags": null
          },
          "name": "stdout",
          "output_type": "stream",
          "text": [
            "\b\b\b\b\b\b\b\b\b\b\b\b\b\b\b\b\b\b\b\b\b\b\b\b\b\b\b\b\b\b\b\b\b\b\b\b\b\b\b\b\b\b\b\b\b\b\b\b\b\b\b\b\b\b\b\b\b\b\b\b\b\b\b\b\b\b\b\b\b\b\b\b\b\b\b\b\b\b\b\b\b\b\b\b\b\b\b\b\b\b\b\b\b\b\b\b\b\r4995/4995 [==============================] - 692s 139ms/step - loss: 0.2814 - mean_absolute_error: 0.3944 - val_loss: 1.1717 - val_mean_absolute_error: 0.7701 - lr: 1.0000e-04\n"
          ]
        },
        {
          "metadata": {
            "tags": null
          },
          "name": "stderr",
          "output_type": "stream",
          "text": [
            "/usr/local/lib/python3.7/dist-packages/keras/saving/saved_model/layer_serialization.py:112: CustomMaskWarning: Custom mask layers require a config and must override get_config. When loading, the custom mask layer must be passed to the custom_objects argument.\n",
            "  return generic_utils.serialize_keras_object(obj)\n"
          ]
        },
        {
          "metadata": {
            "tags": null
          },
          "name": "stdout",
          "output_type": "stream",
          "text": [
            "Epoch 14/50\n",
            "4995/4995 [==============================] - ETA: 0s - loss: 0.2547 - mean_absolute_error: 0.3766\n",
            "Epoch 00014: val_loss did not improve from 1.17175\n",
            "4995/4995 [==============================] - 666s 133ms/step - loss: 0.2547 - mean_absolute_error: 0.3766 - val_loss: 1.2027 - val_mean_absolute_error: 0.7740 - lr: 1.0000e-04\n",
            "Epoch 15/50\n",
            "4995/4995 [==============================] - ETA: 0s - loss: 0.2307 - mean_absolute_error: 0.3596\n",
            "Epoch 00015: val_loss did not improve from 1.17175\n",
            "4995/4995 [==============================] - 666s 133ms/step - loss: 0.2307 - mean_absolute_error: 0.3596 - val_loss: 1.4732 - val_mean_absolute_error: 0.8459 - lr: 1.0000e-04\n",
            "Epoch 16/50\n",
            "4995/4995 [==============================] - ETA: 0s - loss: 0.2081 - mean_absolute_error: 0.3425\n",
            "Epoch 00016: val_loss did not improve from 1.17175\n",
            "4995/4995 [==============================] - 667s 134ms/step - loss: 0.2081 - mean_absolute_error: 0.3425 - val_loss: 1.5678 - val_mean_absolute_error: 0.8734 - lr: 1.0000e-04\n",
            "Epoch 17/50\n",
            "4995/4995 [==============================] - ETA: 0s - loss: 0.1902 - mean_absolute_error: 0.3288\n",
            "Epoch 00017: val_loss did not improve from 1.17175\n",
            "4995/4995 [==============================] - 666s 133ms/step - loss: 0.1902 - mean_absolute_error: 0.3288 - val_loss: 1.2484 - val_mean_absolute_error: 0.7941 - lr: 1.0000e-04\n",
            "Epoch 18/50\n",
            "4995/4995 [==============================] - ETA: 0s - loss: 0.1712 - mean_absolute_error: 0.3137\n",
            "Epoch 00018: val_loss did not improve from 1.17175\n",
            "4995/4995 [==============================] - 667s 134ms/step - loss: 0.1712 - mean_absolute_error: 0.3137 - val_loss: 1.3300 - val_mean_absolute_error: 0.8100 - lr: 1.0000e-04\n",
            "Epoch 19/50\n",
            "4995/4995 [==============================] - ETA: 0s - loss: 0.1394 - mean_absolute_error: 0.2842\n",
            "Epoch 00019: val_loss improved from 1.17175 to 1.16562, saving model to models/checkpoint_male1name\n",
            "INFO:tensorflow:Assets written to: models/checkpoint_male1name/assets\n"
          ]
        },
        {
          "metadata": {
            "tags": null
          },
          "name": "stderr",
          "output_type": "stream",
          "text": [
            "/usr/local/lib/python3.7/dist-packages/keras/engine/functional.py:1410: CustomMaskWarning: Custom mask layers require a config and must override get_config. When loading, the custom mask layer must be passed to the custom_objects argument.\n",
            "  layer_config = serialize_layer_fn(layer)\n"
          ]
        },
        {
          "metadata": {
            "tags": null
          },
          "name": "stdout",
          "output_type": "stream",
          "text": [
            "\b\b\b\b\b\b\b\b\b\b\b\b\b\b\b\b\b\b\b\b\b\b\b\b\b\b\b\b\b\b\b\b\b\b\b\b\b\b\b\b\b\b\b\b\b\b\b\b\b\b\b\b\b\b\b\b\b\b\b\b\b\b\b\b\b\b\b\b\b\b\b\b\b\b\b\b\b\b\b\b\b\b\b\b\b\b\b\b\b\b\b\b\b\b\b\b\b\r4995/4995 [==============================] - 693s 139ms/step - loss: 0.1394 - mean_absolute_error: 0.2842 - val_loss: 1.1656 - val_mean_absolute_error: 0.7692 - lr: 1.0000e-05\n"
          ]
        },
        {
          "metadata": {
            "tags": null
          },
          "name": "stderr",
          "output_type": "stream",
          "text": [
            "/usr/local/lib/python3.7/dist-packages/keras/saving/saved_model/layer_serialization.py:112: CustomMaskWarning: Custom mask layers require a config and must override get_config. When loading, the custom mask layer must be passed to the custom_objects argument.\n",
            "  return generic_utils.serialize_keras_object(obj)\n"
          ]
        },
        {
          "metadata": {
            "tags": null
          },
          "name": "stdout",
          "output_type": "stream",
          "text": [
            "Epoch 20/50\n",
            "4995/4995 [==============================] - ETA: 0s - loss: 0.1350 - mean_absolute_error: 0.2796\n",
            "Epoch 00020: val_loss improved from 1.16562 to 1.13514, saving model to models/checkpoint_male1name\n",
            "INFO:tensorflow:Assets written to: models/checkpoint_male1name/assets\n"
          ]
        },
        {
          "metadata": {
            "tags": null
          },
          "name": "stderr",
          "output_type": "stream",
          "text": [
            "/usr/local/lib/python3.7/dist-packages/keras/engine/functional.py:1410: CustomMaskWarning: Custom mask layers require a config and must override get_config. When loading, the custom mask layer must be passed to the custom_objects argument.\n",
            "  layer_config = serialize_layer_fn(layer)\n"
          ]
        },
        {
          "metadata": {
            "tags": null
          },
          "name": "stdout",
          "output_type": "stream",
          "text": [
            "\b\b\b\b\b\b\b\b\b\b\b\b\b\b\b\b\b\b\b\b\b\b\b\b\b\b\b\b\b\b\b\b\b\b\b\b\b\b\b\b\b\b\b\b\b\b\b\b\b\b\b\b\b\b\b\b\b\b\b\b\b\b\b\b\b\b\b\b\b\b\b\b\b\b\b\b\b\b\b\b\b\b\b\b\b\b\b\b\b\b\b\b\b\b\b\b\b\r4995/4995 [==============================] - 694s 139ms/step - loss: 0.1350 - mean_absolute_error: 0.2796 - val_loss: 1.1351 - val_mean_absolute_error: 0.7637 - lr: 1.0000e-05\n"
          ]
        },
        {
          "metadata": {
            "tags": null
          },
          "name": "stderr",
          "output_type": "stream",
          "text": [
            "/usr/local/lib/python3.7/dist-packages/keras/saving/saved_model/layer_serialization.py:112: CustomMaskWarning: Custom mask layers require a config and must override get_config. When loading, the custom mask layer must be passed to the custom_objects argument.\n",
            "  return generic_utils.serialize_keras_object(obj)\n"
          ]
        },
        {
          "metadata": {
            "tags": null
          },
          "name": "stdout",
          "output_type": "stream",
          "text": [
            "Epoch 21/50\n",
            "4995/4995 [==============================] - ETA: 0s - loss: 0.1319 - mean_absolute_error: 0.2766\n",
            "Epoch 00021: val_loss improved from 1.13514 to 1.13369, saving model to models/checkpoint_male1name\n",
            "INFO:tensorflow:Assets written to: models/checkpoint_male1name/assets\n"
          ]
        },
        {
          "metadata": {
            "tags": null
          },
          "name": "stderr",
          "output_type": "stream",
          "text": [
            "/usr/local/lib/python3.7/dist-packages/keras/engine/functional.py:1410: CustomMaskWarning: Custom mask layers require a config and must override get_config. When loading, the custom mask layer must be passed to the custom_objects argument.\n",
            "  layer_config = serialize_layer_fn(layer)\n"
          ]
        },
        {
          "metadata": {
            "tags": null
          },
          "name": "stdout",
          "output_type": "stream",
          "text": [
            "\b\b\b\b\b\b\b\b\b\b\b\b\b\b\b\b\b\b\b\b\b\b\b\b\b\b\b\b\b\b\b\b\b\b\b\b\b\b\b\b\b\b\b\b\b\b\b\b\b\b\b\b\b\b\b\b\b\b\b\b\b\b\b\b\b\b\b\b\b\b\b\b\b\b\b\b\b\b\b\b\b\b\b\b\b\b\b\b\b\b\b\b\b\b\b\b\b\r4995/4995 [==============================] - 698s 140ms/step - loss: 0.1319 - mean_absolute_error: 0.2766 - val_loss: 1.1337 - val_mean_absolute_error: 0.7634 - lr: 1.0000e-05\n"
          ]
        },
        {
          "metadata": {
            "tags": null
          },
          "name": "stderr",
          "output_type": "stream",
          "text": [
            "/usr/local/lib/python3.7/dist-packages/keras/saving/saved_model/layer_serialization.py:112: CustomMaskWarning: Custom mask layers require a config and must override get_config. When loading, the custom mask layer must be passed to the custom_objects argument.\n",
            "  return generic_utils.serialize_keras_object(obj)\n"
          ]
        },
        {
          "metadata": {
            "tags": null
          },
          "name": "stdout",
          "output_type": "stream",
          "text": [
            "Epoch 22/50\n",
            "4995/4995 [==============================] - ETA: 0s - loss: 0.1308 - mean_absolute_error: 0.2753\n",
            "Epoch 00022: val_loss did not improve from 1.13369\n",
            "4995/4995 [==============================] - 668s 134ms/step - loss: 0.1308 - mean_absolute_error: 0.2753 - val_loss: 1.1395 - val_mean_absolute_error: 0.7646 - lr: 1.0000e-05\n",
            "Epoch 23/50\n",
            "4995/4995 [==============================] - ETA: 0s - loss: 0.1285 - mean_absolute_error: 0.2736\n",
            "Epoch 00023: val_loss improved from 1.13369 to 1.12022, saving model to models/checkpoint_male1name\n",
            "INFO:tensorflow:Assets written to: models/checkpoint_male1name/assets\n"
          ]
        },
        {
          "metadata": {
            "tags": null
          },
          "name": "stderr",
          "output_type": "stream",
          "text": [
            "/usr/local/lib/python3.7/dist-packages/keras/engine/functional.py:1410: CustomMaskWarning: Custom mask layers require a config and must override get_config. When loading, the custom mask layer must be passed to the custom_objects argument.\n",
            "  layer_config = serialize_layer_fn(layer)\n"
          ]
        },
        {
          "metadata": {
            "tags": null
          },
          "name": "stdout",
          "output_type": "stream",
          "text": [
            "\b\b\b\b\b\b\b\b\b\b\b\b\b\b\b\b\b\b\b\b\b\b\b\b\b\b\b\b\b\b\b\b\b\b\b\b\b\b\b\b\b\b\b\b\b\b\b\b\b\b\b\b\b\b\b\b\b\b\b\b\b\b\b\b\b\b\b\b\b\b\b\b\b\b\b\b\b\b\b\b\b\b\b\b\b\b\b\b\b\b\b\b\b\b\b\b\b\r4995/4995 [==============================] - 695s 139ms/step - loss: 0.1285 - mean_absolute_error: 0.2736 - val_loss: 1.1202 - val_mean_absolute_error: 0.7613 - lr: 1.0000e-05\n"
          ]
        },
        {
          "metadata": {
            "tags": null
          },
          "name": "stderr",
          "output_type": "stream",
          "text": [
            "/usr/local/lib/python3.7/dist-packages/keras/saving/saved_model/layer_serialization.py:112: CustomMaskWarning: Custom mask layers require a config and must override get_config. When loading, the custom mask layer must be passed to the custom_objects argument.\n",
            "  return generic_utils.serialize_keras_object(obj)\n"
          ]
        },
        {
          "output_type": "stream",
          "name": "stdout",
          "text": [
            "Epoch 24/50\n",
            "4995/4995 [==============================] - ETA: 0s - loss: 0.1264 - mean_absolute_error: 0.2712\n",
            "Epoch 00024: val_loss did not improve from 1.12022\n",
            "4995/4995 [==============================] - 671s 134ms/step - loss: 0.1264 - mean_absolute_error: 0.2712 - val_loss: 1.1288 - val_mean_absolute_error: 0.7618 - lr: 1.0000e-05\n",
            "Epoch 25/50\n",
            "4995/4995 [==============================] - ETA: 0s - loss: 0.1253 - mean_absolute_error: 0.2702\n",
            "Epoch 00025: val_loss did not improve from 1.12022\n",
            "4995/4995 [==============================] - 668s 134ms/step - loss: 0.1253 - mean_absolute_error: 0.2702 - val_loss: 1.1211 - val_mean_absolute_error: 0.7630 - lr: 1.0000e-05\n",
            "Epoch 26/50\n",
            "4995/4995 [==============================] - ETA: 0s - loss: 0.1224 - mean_absolute_error: 0.2675\n",
            "Epoch 00026: val_loss did not improve from 1.12022\n",
            "4995/4995 [==============================] - 668s 134ms/step - loss: 0.1224 - mean_absolute_error: 0.2675 - val_loss: 1.1439 - val_mean_absolute_error: 0.7643 - lr: 1.0000e-05\n",
            "Epoch 27/50\n",
            "4995/4995 [==============================] - ETA: 0s - loss: 0.1211 - mean_absolute_error: 0.2657\n",
            "Epoch 00027: val_loss did not improve from 1.12022\n",
            "4995/4995 [==============================] - 669s 134ms/step - loss: 0.1211 - mean_absolute_error: 0.2657 - val_loss: 1.1563 - val_mean_absolute_error: 0.7675 - lr: 1.0000e-05\n",
            "Epoch 28/50\n",
            "4995/4995 [==============================] - ETA: 0s - loss: 0.1198 - mean_absolute_error: 0.2644\n",
            "Epoch 00028: val_loss did not improve from 1.12022\n",
            "4995/4995 [==============================] - 665s 133ms/step - loss: 0.1198 - mean_absolute_error: 0.2644 - val_loss: 1.1460 - val_mean_absolute_error: 0.7651 - lr: 1.0000e-05\n",
            "Epoch 29/50\n",
            "4995/4995 [==============================] - ETA: 0s - loss: 0.1181 - mean_absolute_error: 0.2630\n",
            "Epoch 00029: val_loss did not improve from 1.12022\n",
            "4995/4995 [==============================] - 663s 133ms/step - loss: 0.1181 - mean_absolute_error: 0.2630 - val_loss: 1.1551 - val_mean_absolute_error: 0.7670 - lr: 1.0000e-05\n",
            "Epoch 30/50\n",
            "4995/4995 [==============================] - ETA: 0s - loss: 0.1159 - mean_absolute_error: 0.2605\n",
            "Epoch 00030: val_loss did not improve from 1.12022\n",
            "4995/4995 [==============================] - 664s 133ms/step - loss: 0.1159 - mean_absolute_error: 0.2605 - val_loss: 1.2129 - val_mean_absolute_error: 0.7811 - lr: 1.0000e-05\n",
            "Epoch 31/50\n",
            "4995/4995 [==============================] - ETA: 0s - loss: 0.1147 - mean_absolute_error: 0.2591\n",
            "Epoch 00031: val_loss did not improve from 1.12022\n",
            "4995/4995 [==============================] - 664s 133ms/step - loss: 0.1147 - mean_absolute_error: 0.2591 - val_loss: 1.1484 - val_mean_absolute_error: 0.7658 - lr: 1.0000e-05\n",
            "Epoch 32/50\n",
            "4995/4995 [==============================] - ETA: 0s - loss: 0.1128 - mean_absolute_error: 0.2572\n",
            "Epoch 00032: val_loss did not improve from 1.12022\n",
            "4995/4995 [==============================] - 664s 133ms/step - loss: 0.1128 - mean_absolute_error: 0.2572 - val_loss: 1.1330 - val_mean_absolute_error: 0.7674 - lr: 1.0000e-05\n",
            "Epoch 33/50\n",
            "4995/4995 [==============================] - ETA: 0s - loss: 0.1120 - mean_absolute_error: 0.2563\n",
            "Epoch 00033: val_loss did not improve from 1.12022\n",
            "4995/4995 [==============================] - 664s 133ms/step - loss: 0.1120 - mean_absolute_error: 0.2563 - val_loss: 1.1319 - val_mean_absolute_error: 0.7655 - lr: 1.0000e-05\n",
            "Epoch 34/50\n",
            "4995/4995 [==============================] - ETA: 0s - loss: 0.1097 - mean_absolute_error: 0.2540\n",
            "Epoch 00034: val_loss did not improve from 1.12022\n",
            "4995/4995 [==============================] - 664s 133ms/step - loss: 0.1097 - mean_absolute_error: 0.2540 - val_loss: 1.1620 - val_mean_absolute_error: 0.7696 - lr: 1.0000e-05\n",
            "Epoch 35/50\n",
            "4995/4995 [==============================] - ETA: 0s - loss: 0.1080 - mean_absolute_error: 0.2518\n",
            "Epoch 00035: val_loss did not improve from 1.12022\n",
            "4995/4995 [==============================] - 664s 133ms/step - loss: 0.1080 - mean_absolute_error: 0.2518 - val_loss: 1.1348 - val_mean_absolute_error: 0.7642 - lr: 1.0000e-05\n",
            "Epoch 36/50\n",
            "4995/4995 [==============================] - ETA: 0s - loss: 0.1065 - mean_absolute_error: 0.2504\n",
            "Epoch 00036: val_loss did not improve from 1.12022\n",
            "4995/4995 [==============================] - 664s 133ms/step - loss: 0.1065 - mean_absolute_error: 0.2504 - val_loss: 1.1823 - val_mean_absolute_error: 0.7737 - lr: 1.0000e-05\n",
            "Epoch 37/50\n",
            "4995/4995 [==============================] - ETA: 0s - loss: 0.1053 - mean_absolute_error: 0.2490\n",
            "Epoch 00037: val_loss did not improve from 1.12022\n",
            "4995/4995 [==============================] - 664s 133ms/step - loss: 0.1053 - mean_absolute_error: 0.2490 - val_loss: 1.1373 - val_mean_absolute_error: 0.7673 - lr: 1.0000e-05\n",
            "Epoch 38/50\n",
            "4995/4995 [==============================] - ETA: 0s - loss: 0.1039 - mean_absolute_error: 0.2475\n",
            "Epoch 00038: val_loss did not improve from 1.12022\n",
            "4995/4995 [==============================] - 664s 133ms/step - loss: 0.1039 - mean_absolute_error: 0.2475 - val_loss: 1.1577 - val_mean_absolute_error: 0.7674 - lr: 1.0000e-05\n",
            "Epoch 39/50\n",
            "4995/4995 [==============================] - ETA: 0s - loss: 0.1024 - mean_absolute_error: 0.2455\n",
            "Epoch 00039: val_loss did not improve from 1.12022\n",
            "4995/4995 [==============================] - 664s 133ms/step - loss: 0.1024 - mean_absolute_error: 0.2455 - val_loss: 1.1452 - val_mean_absolute_error: 0.7677 - lr: 1.0000e-05\n",
            "Epoch 40/50\n",
            "4995/4995 [==============================] - ETA: 0s - loss: 0.1007 - mean_absolute_error: 0.2438\n",
            "Epoch 00040: val_loss did not improve from 1.12022\n",
            "4995/4995 [==============================] - 664s 133ms/step - loss: 0.1007 - mean_absolute_error: 0.2438 - val_loss: 1.1334 - val_mean_absolute_error: 0.7661 - lr: 1.0000e-05\n",
            "Epoch 41/50\n",
            "4995/4995 [==============================] - ETA: 0s - loss: 0.0992 - mean_absolute_error: 0.2420\n",
            "Epoch 00041: val_loss did not improve from 1.12022\n",
            "4995/4995 [==============================] - 663s 133ms/step - loss: 0.0992 - mean_absolute_error: 0.2420 - val_loss: 1.2187 - val_mean_absolute_error: 0.7835 - lr: 1.0000e-05\n",
            "Epoch 42/50\n",
            "4995/4995 [==============================] - ETA: 0s - loss: 0.0980 - mean_absolute_error: 0.2407\n",
            "Epoch 00042: val_loss did not improve from 1.12022\n",
            "4995/4995 [==============================] - 663s 133ms/step - loss: 0.0980 - mean_absolute_error: 0.2407 - val_loss: 1.1604 - val_mean_absolute_error: 0.7698 - lr: 1.0000e-05\n",
            "Epoch 43/50\n",
            "4995/4995 [==============================] - ETA: 0s - loss: 0.0960 - mean_absolute_error: 0.2381\n",
            "Epoch 00043: val_loss did not improve from 1.12022\n",
            "4995/4995 [==============================] - 662s 133ms/step - loss: 0.0960 - mean_absolute_error: 0.2381 - val_loss: 1.2819 - val_mean_absolute_error: 0.7994 - lr: 1.0000e-05\n",
            "Epoch 00043: early stopping\n"
          ]
        }
      ]
    },
    {
      "cell_type": "code",
      "metadata": {
        "colab": {
          "base_uri": "https://localhost:8080/"
        },
        "id": "4_R0Gf4G8Hzh",
        "outputId": "77904e03-d0cc-4072-8921-9d29609626b1"
      },
      "source": [
        "test_generatormale.reset()\n",
        "predictions=model.predict(test_generatormale,\n",
        "                                    steps=STEP_SIZE_TESTmale,\n",
        "                                    verbose = 1)\n",
        "data = {'T1': testdfmale[str(genderindexmale[0])],\n",
        "        'T2': testdfmale[str(genderindexmale[1])],\n",
        "        'P1': predictions[:,0],\n",
        "        'P2': predictions[:,1]}\n",
        "df = pd.DataFrame(data)\n",
        "\n",
        "df.to_csv('/content/drive/MyDrive/Thesis_sep_2021/test_results_'+male1name+'.csv')"
      ],
      "execution_count": null,
      "outputs": [
        {
          "output_type": "stream",
          "name": "stdout",
          "text": [
            "555/555 [==============================] - 24s 42ms/step\n"
          ]
        }
      ]
    },
    {
      "cell_type": "code",
      "metadata": {
        "colab": {
          "base_uri": "https://localhost:8080/",
          "height": 295
        },
        "id": "XORS3GWXwNU0",
        "outputId": "00e9b780-ee17-48d5-b4ff-c70ed284aae6"
      },
      "source": [
        "%matplotlib inline\n",
        "\n",
        "plt.plot(history.history['loss'])\n",
        "plt.plot(history.history['val_loss'])\n",
        "plt.title('Model accuracy'+male1name)\n",
        "plt.ylabel('Accuracy')\n",
        "plt.xlabel('Epoch')\n",
        "plt.legend(['Train', 'Validation'], loc='upper right')\n",
        "plt.show()"
      ],
      "execution_count": null,
      "outputs": [
        {
          "output_type": "display_data",
          "data": {
            "image/png": "[encoded data removed]",
            "text/plain": [
              "<Figure size 432x288 with 1 Axes>"
            ]
          },
          "metadata": {
            "needs_background": "light"
          }
        }
      ]
    },
    {
      "cell_type": "code",
      "metadata": {
        "id": "ewHoKXpv6qMg"
      },
      "source": [
        "male1=pd.read_csv(\"/content/drive/MyDrive/Thesis_sep_2021/test_results_male1name.csv\")"
      ],
      "execution_count": null,
      "outputs": []
    },
    {
      "cell_type": "code",
      "metadata": {
        "colab": {
          "base_uri": "https://localhost:8080/",
          "height": 297
        },
        "id": "r3Hait8j73E-",
        "outputId": "fc56a168-2b3d-4064-cb91-700746f7d5b1"
      },
      "source": [
        "male1.describe()"
      ],
      "execution_count": null,
      "outputs": [
        {
          "output_type": "execute_result",
          "data": {
            "text/html": [
              "<div>\n",
              "<style scoped>\n",
              "    .dataframe tbody tr th:only-of-type {\n",
              "        vertical-align: middle;\n",
              "    }\n",
              "\n",
              "    .dataframe tbody tr th {\n",
              "        vertical-align: top;\n",
              "    }\n",
              "\n",
              "    .dataframe thead th {\n",
              "        text-align: right;\n",
              "    }\n",
              "</style>\n",
              "<table border=\"1\" class=\"dataframe\">\n",
              "  <thead>\n",
              "    <tr style=\"text-align: right;\">\n",
              "      <th></th>\n",
              "      <th>Unnamed: 0</th>\n",
              "      <th>T1</th>\n",
              "      <th>T2</th>\n",
              "      <th>P1</th>\n",
              "      <th>P2</th>\n",
              "    </tr>\n",
              "  </thead>\n",
              "  <tbody>\n",
              "    <tr>\n",
              "      <th>count</th>\n",
              "      <td>5550.000000</td>\n",
              "      <td>5550.000000</td>\n",
              "      <td>5550.000000</td>\n",
              "      <td>5550.000000</td>\n",
              "      <td>5550.000000</td>\n",
              "    </tr>\n",
              "    <tr>\n",
              "      <th>mean</th>\n",
              "      <td>2774.500000</td>\n",
              "      <td>0.720039</td>\n",
              "      <td>-0.141851</td>\n",
              "      <td>1.013820</td>\n",
              "      <td>-0.237754</td>\n",
              "    </tr>\n",
              "    <tr>\n",
              "      <th>std</th>\n",
              "      <td>1602.291328</td>\n",
              "      <td>7.067562</td>\n",
              "      <td>1.472068</td>\n",
              "      <td>6.689777</td>\n",
              "      <td>1.266367</td>\n",
              "    </tr>\n",
              "    <tr>\n",
              "      <th>min</th>\n",
              "      <td>0.000000</td>\n",
              "      <td>-12.568403</td>\n",
              "      <td>-4.150419</td>\n",
              "      <td>-16.851278</td>\n",
              "      <td>-5.642752</td>\n",
              "    </tr>\n",
              "    <tr>\n",
              "      <th>25%</th>\n",
              "      <td>1387.250000</td>\n",
              "      <td>-4.064155</td>\n",
              "      <td>-1.076542</td>\n",
              "      <td>-3.708450</td>\n",
              "      <td>-1.025818</td>\n",
              "    </tr>\n",
              "    <tr>\n",
              "      <th>50%</th>\n",
              "      <td>2774.500000</td>\n",
              "      <td>-0.340270</td>\n",
              "      <td>-0.193051</td>\n",
              "      <td>0.429940</td>\n",
              "      <td>-0.211420</td>\n",
              "    </tr>\n",
              "    <tr>\n",
              "      <th>75%</th>\n",
              "      <td>4161.750000</td>\n",
              "      <td>5.693209</td>\n",
              "      <td>1.037545</td>\n",
              "      <td>6.396683</td>\n",
              "      <td>0.714622</td>\n",
              "    </tr>\n",
              "    <tr>\n",
              "      <th>max</th>\n",
              "      <td>5549.000000</td>\n",
              "      <td>14.341976</td>\n",
              "      <td>2.383285</td>\n",
              "      <td>16.557968</td>\n",
              "      <td>2.804331</td>\n",
              "    </tr>\n",
              "  </tbody>\n",
              "</table>\n",
              "</div>"
            ],
            "text/plain": [
              "        Unnamed: 0           T1           T2           P1           P2\n",
              "count  5550.000000  5550.000000  5550.000000  5550.000000  5550.000000\n",
              "mean   2774.500000     0.720039    -0.141851     1.013820    -0.237754\n",
              "std    1602.291328     7.067562     1.472068     6.689777     1.266367\n",
              "min       0.000000   -12.568403    -4.150419   -16.851278    -5.642752\n",
              "25%    1387.250000    -4.064155    -1.076542    -3.708450    -1.025818\n",
              "50%    2774.500000    -0.340270    -0.193051     0.429940    -0.211420\n",
              "75%    4161.750000     5.693209     1.037545     6.396683     0.714622\n",
              "max    5549.000000    14.341976     2.383285    16.557968     2.804331"
            ]
          },
          "metadata": {},
          "execution_count": 4
        }
      ]
    },
    {
      "cell_type": "code",
      "metadata": {
        "id": "m-cLX6jo6qWo"
      },
      "source": [
        "y_true2=(79.2/(7.067562))*male1[\"T1\"]+1777.6"
      ],
      "execution_count": null,
      "outputs": []
    },
    {
      "cell_type": "code",
      "metadata": {
        "id": "j6dbLiaU6qbF"
      },
      "source": [
        "y_pred2=(79.2/(7.067562))*male1[\"P1\"]+1777.6"
      ],
      "execution_count": null,
      "outputs": []
    },
    {
      "cell_type": "code",
      "metadata": {
        "colab": {
          "base_uri": "https://localhost:8080/"
        },
        "id": "2phwBRjj6qea",
        "outputId": "5e8124d0-42f1-4b38-ee2a-2cc81a023b00"
      },
      "source": [
        "print(\"MAE of male testing for stature is \", mean_absolute_error(y_true2, y_pred2),\"Millimeters\")"
      ],
      "execution_count": null,
      "outputs": [
        {
          "output_type": "stream",
          "name": "stdout",
          "text": [
            "MAE of male testing for stature is  13.99059603402212 Millimeters\n"
          ]
        }
      ]
    },
    {
      "cell_type": "code",
      "metadata": {
        "colab": {
          "base_uri": "https://localhost:8080/"
        },
        "id": "xOjP8F9D69Ji",
        "outputId": "201b9aee-f23a-439b-b066-e0821f4d7bc4"
      },
      "source": [
        "waist_true2=2*math.pi*male1[\"T2\"]\n",
        "waist_pred2=2*math.pi*male1[\"P2\"]\n",
        "waist_true2.describe()"
      ],
      "execution_count": null,
      "outputs": [
        {
          "output_type": "execute_result",
          "data": {
            "text/plain": [
              "count    5550.000000\n",
              "mean       -0.891277\n",
              "std         9.249273\n",
              "min       -26.077852\n",
              "25%        -6.764113\n",
              "50%        -1.212972\n",
              "75%         6.519087\n",
              "max        14.974621\n",
              "Name: T2, dtype: float64"
            ]
          },
          "metadata": {},
          "execution_count": 8
        }
      ]
    },
    {
      "cell_type": "code",
      "metadata": {
        "colab": {
          "base_uri": "https://localhost:8080/"
        },
        "id": "tUCX6lf969sV",
        "outputId": "ee809077-7f6c-4ec1-829a-c994b978ba5c"
      },
      "source": [
        "w_true2=(124.63/(9.249273))*waist_true2+914.19\n",
        "w_pred2=(124.63/(9.249273))*waist_pred2+914.19\n",
        "print(\"MAE of male testing for waist in males is \", mean_absolute_error(w_true2, w_pred2),\"Millimeters\")"
      ],
      "execution_count": null,
      "outputs": [
        {
          "output_type": "stream",
          "name": "stdout",
          "text": [
            "MAE of male testing for waist in males is  38.654516063232144 Millimeters\n"
          ]
        }
      ]
    }
  ]
}